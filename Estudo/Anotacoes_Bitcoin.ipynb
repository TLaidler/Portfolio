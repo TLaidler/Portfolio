{
 "cells": [
  {
   "cell_type": "markdown",
   "id": "7270edd0-ed2c-46ce-9f45-27e455dd2709",
   "metadata": {},
   "source": [
    "## Anotações Criptomoeads\n",
    "\n",
    "Nas sociedades antigas, a troca direta de mercadorias, conhecida como escambo, era o principal meio de transação.\n",
    "No entanto, esse sistema tinha limitações, como a falta de divisibilidade e a dificuldade em encontrar uma correspondência perfeita nas trocas.\n",
    "\n",
    "Para superar as limitações do escambo, as sociedades começaram a utilizar metais preciosos, como ouro e prata, como forma de moeda.\n",
    "Esses metais eram duráveis, divisíveis e tinham um valor intrínseco.\n",
    "\n",
    "A cunhagem de moedas, surgida na Lídia (atual Turquia) por volta do século VII a.C., foi um marco na história da moeda.\n",
    "Governos passaram a produzir moedas padronizadas, facilitando as transações.\n",
    "\n",
    "Com o tempo, os governos começaram a emitir moeda em forma de papel, lastreada em reservas de metais preciosos.\n",
    "A abolição do padrão ouro no século XX permitiu a criação de moeda fiduciária, que não tem lastro físico.\n",
    "\n",
    "A moeda facilita as trocas, permitindo que as pessoas adquiram bens e serviços de forma mais eficiente do que através do escambo.\n",
    "\n",
    "A moeda fornece uma unidade padrão que facilita a mensuração e a comparação de valores. Muitas moedas têm sido utilizadas como reserva de valor ao longo do tempo, permitindo que as pessoas armazenem riqueza. A moeda atua como um meio de troca aceito universalmente, promovendo a especialização e a eficiência econômica.\n",
    "\n",
    "Com o advento da tecnologia, as transações financeiras foram se tornando cada vez mais digitais.\n",
    "Bancos centrais começaram a emitir moeda digital, e métodos eletrônicos de pagamento se tornaram comuns.\n",
    "\n",
    "- Bitcoin e como funciona:\n",
    "\n",
    "Em 2009, o Bitcoin foi criado por uma pessoa (ou grupo) conhecida como Satoshi Nakamoto.\n",
    "O Bitcoin é uma moeda digital descentralizada, baseada em uma tecnologia chamada blockchain, que permite transações seguras e transparentes.\n",
    "\n",
    "O Bitcoin é descentralizado, o que significa que não é controlado por nenhum governo ou instituição. A tecnologia de blockchain garante a segurança e a integridade das transações, eliminando a necessidade de intermediários. Além disso, o Bitcoin é programado para ter um limite máximo de 21 milhões de unidades, garantindo escassez e potencial valorização ao longo do tempo, similar ao ouro.\n",
    "   "
   ]
  },
  {
   "cell_type": "code",
   "execution_count": null,
   "id": "f3659085-bd1e-47b9-9b6b-b82b958e7422",
   "metadata": {},
   "outputs": [],
   "source": []
  }
 ],
 "metadata": {
  "kernelspec": {
   "display_name": "Python 3 (ipykernel)",
   "language": "python",
   "name": "python3"
  },
  "language_info": {
   "codemirror_mode": {
    "name": "ipython",
    "version": 3
   },
   "file_extension": ".py",
   "mimetype": "text/x-python",
   "name": "python",
   "nbconvert_exporter": "python",
   "pygments_lexer": "ipython3",
   "version": "3.11.7"
  }
 },
 "nbformat": 4,
 "nbformat_minor": 5
}

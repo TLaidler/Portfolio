{
 "cells": [
  {
   "cell_type": "markdown",
   "id": "7270edd0-ed2c-46ce-9f45-27e455dd2709",
   "metadata": {},
   "source": [
    "## Anotações Criptomoedas\n",
    "\n",
    "Nas sociedades antigas, a troca direta de mercadorias, conhecida como escambo, era o principal meio de transação.\n",
    "No entanto, esse sistema tinha limitações, como a falta de divisibilidade e a dificuldade em encontrar uma correspondência perfeita nas trocas.\n",
    "\n",
    "Para superar as limitações do escambo, as sociedades começaram a utilizar metais preciosos, como ouro e prata, como forma de moeda.\n",
    "Esses metais eram duráveis, divisíveis e tinham um valor intrínseco.\n",
    "\n",
    "A cunhagem de moedas, surgida na Lídia (atual Turquia) por volta do século VII a.C., foi um marco na história da moeda.\n",
    "Governos passaram a produzir moedas padronizadas, facilitando as transações.\n",
    "\n",
    "Com o tempo, os governos começaram a emitir moeda em forma de papel, lastreada em reservas de metais preciosos.\n",
    "A abolição do padrão ouro no século XX permitiu a criação de moeda fiduciária, que não tem lastro físico.\n",
    "\n",
    "A moeda facilita as trocas, permitindo que as pessoas adquiram bens e serviços de forma mais eficiente do que através do escambo.\n",
    "\n",
    "A moeda fornece uma unidade padrão que facilita a mensuração e a comparação de valores. Muitas moedas têm sido utilizadas como reserva de valor ao longo do tempo, permitindo que as pessoas armazenem riqueza. A moeda atua como um meio de troca aceito universalmente, promovendo a especialização e a eficiência econômica.\n",
    "\n",
    "Com o advento da tecnologia, as transações financeiras foram se tornando cada vez mais digitais.\n",
    "Bancos centrais começaram a emitir moeda digital, e métodos eletrônicos de pagamento se tornaram comuns.\n",
    "\n",
    "- Bitcoin e como funciona:\n",
    "\n",
    "Em 2009, o Bitcoin foi criado por uma pessoa (ou grupo) conhecida como Satoshi Nakamoto.\n",
    "O Bitcoin é uma moeda digital descentralizada, baseada em uma tecnologia chamada blockchain, que permite transações seguras e transparentes.\n",
    "\n",
    "O Bitcoin é descentralizado, o que significa que não é controlado por nenhum governo ou instituição. A tecnologia de blockchain garante a segurança e a integridade das transações, eliminando a necessidade de intermediários. Além disso, o Bitcoin é programado para ter um limite máximo de 21 milhões de unidades, garantindo escassez e potencial valorização ao longo do tempo, similar ao ouro.\n",
    "   "
   ]
  },
  {
   "cell_type": "markdown",
   "id": "f3659085-bd1e-47b9-9b6b-b82b958e7422",
   "metadata": {},
   "source": [
    "\n",
    "O Bitcoin é um conjunto de conceitos e tecnologias que formam a base de um ecossistema de dinheiro digital. Unidades de moeda chamadas bitcoin são utilizadas para armazenar e transmitir valor entre os participantes na rede Bitcoin. Os usuários do Bitcoin se comunicam entre si usando o protocolo Bitcoin, principalmente via internet, embora outras redes de transporte também possam ser utilizadas. A pilha de protocolos do Bitcoin, disponível como software de código aberto, pode ser executada em uma ampla gama de dispositivos de computação, incluindo laptops e smartphones, tornando a tecnologia facilmente acessível.\n",
    "\n",
    ">Observe como a unidade de moeda é chamada \"bitcoin\" com b minúsculo, e o sistema é chamado \"Bitcoin\" com B maiúsculo.\n",
    "\n",
    "Os usuários podem transferir bitcoin pela rede para realizar praticamente qualquer coisa que possa ser feita com moedas convencionais, incluindo compra e venda de bens, envio de dinheiro para pessoas ou organizações ou concessão de crédito. O Bitcoin pode ser comprado, vendido e trocado por outras moedas em bolsas de moedas especializadas. O Bitcoin é, de certa forma, a forma perfeita de dinheiro para a internet, pois é rápido, seguro e sem fronteiras.\n",
    "\n",
    "O Bitcoin é um protocolo que pode ser acessado por meio de um aplicativo cliente que se comunica com o protocolo. Uma \"carteira de Bitcoin\" é a interface mais comum para o sistema Bitcoin, assim como um navegador da web é a interface mais comum para o protocolo HTTP. Existem muitas implementações e marcas de carteiras de Bitcoin, assim como existem várias marcas de navegadores da web (por exemplo, Chrome, Safari, Firefox e Internet Explorer). E assim como todos temos nossos navegadores favoritos (Mozilla Firefox, Viva!) e aqueles que não gostamos (Internet Explorer, Ugh!), as carteiras de Bitcoin variam em qualidade, desempenho, segurança, privacidade e confiabilidade. Há também uma implementação de referência do protocolo Bitcoin que inclui uma carteira, conhecida como \"Cliente Satoshi\" ou \"Bitcoin Core,\" derivada da implementação original escrita por Satoshi Nakamoto.\n",
    "\n",
    "Ao contrário das moedas tradicionais, o bitcoin é inteiramente virtual. Não há moedas físicas ou mesmo moedas digitais em si. As moedas são implícitas em transações que transferem valor de remetente para destinatário. Os usuários do Bitcoin possuem chaves que permitem provar a propriedade de bitcoin na rede Bitcoin. Com essas chaves, eles podem assinar transações para desbloquear o valor e gastá-lo transferindo-o para um novo proprietário. As chaves são frequentemente armazenadas em uma carteira digital em cada computador ou smartphone do usuário. A posse da chave que pode assinar uma transação é o único requisito para gastar bitcoin, colocando o controle inteiramente nas mãos de cada usuário.\n",
    "\n",
    "- Bitcoin como Sistema Distribuído e Peer-to-Peer\n",
    "\n",
    "O Bitcoin é um sistema distribuído peer-to-peer. Como tal, não há um servidor \"central\" ou ponto de controle. Bitcoins, ou seja, unidades de bitcoin, são criados por meio de um processo chamado \"mineração\", que envolve a competição para encontrar soluções para um problema matemático ao processar transações Bitcoin. Qualquer participante na rede Bitcoin (ou seja, qualquer pessoa usando um dispositivo com o conjunto completo de protocolos Bitcoin) pode operar como um minerador, usando a capacidade de processamento de seu computador para verificar e registrar transações. A cada 10 minutos, em média, um minerador de Bitcoin pode validar as transações dos últimos 10 minutos e é recompensado com novos bitcoins.\n",
    "\n",
    "Essencialmente, a mineração de Bitcoin descentraliza as funções de emissão de moeda e compensação de um banco central e substitui a necessidade de qualquer banco central. O protocolo Bitcoin inclui algoritmos embutidos que regulam a função de mineração em toda a rede. A dificuldade da tarefa de processamento que os mineradores devem realizar é ajustada dinamicamente, de modo que, em média, alguém tenha sucesso a cada 10 minutos, independentemente do número de mineradores (e da quantidade de processamento) competindo a qualquer momento.\n",
    "\n",
    "O protocolo também reduz pela metade a taxa de criação de novos bitcoins a cada 4 anos e limita o número total de bitcoins que serão criados para um total fixo, um pouco abaixo de 21 milhões de moedas. O resultado é que o número de bitcoins em circulação segue de perto uma curva facilmente previsível que se aproxima de 21 milhões até o ano de 2140. Devido à taxa decrescente de emissão de bitcoin, a moeda Bitcoin é deflacionária a longo prazo. Além disso, o bitcoin não pode ser inflacionado \"imprimindo\" novas moedas acima da taxa de emissão esperada.\n",
    "\n",
    "Nos bastidores, o Bitcoin também é o nome do protocolo, de uma rede peer-to-peer e de uma inovação em computação distribuída. A moeda bitcoin é realmente apenas a primeira aplicação desta invenção. O Bitcoin representa a culminação de décadas de pesquisa em criptografia e sistemas distribuídos e inclui quatro inovações-chave reunidas em uma combinação única e poderosa: uma rede peer-to-peer descentralizada (o protocolo Bitcoin), um livro público de transações (o blockchain), um conjunto de regras para validação independente de transações e emissão de moeda (regras de consenso) e um mecanismo para atingir um consenso global descentralizado na blockchain válida (algoritmo de Prova de Trabalho).\n",
    "\n",
    " - O que significa Rede peer-to-peer?\n",
    "\n",
    " Peer-to-peer ou P2P é uma arquitetura de redes de computadores onde cada um dos pontos ou nós da rede funciona tanto como cliente quanto como servidor, permitindo compartilhamentos de serviços e dados sem a necessidade de um servidor central ou hierárquica, mudando um paradigma existente.\n",
    " No entanto, essa é a definição pela ótica da ciência da computação, sendo peer-to-peer, portanto, um tipo de rede distribuída na qual os computadores conectados ao sistema funcionam também como servidores. Já na economia, em especial no universo das criptomoedas, o P2P é um tipo de transação que ocorre diretamente entre os usuários, sem a intermediação de uma terceira parte.\n",
    "\n",
    " Peer-to-peer, na tradução para o português, significa ponto a ponto. Na informática, o termo se refere a um tipo de arquitetura de rede de computadores em que cada participante (ponto) é também um servidor, e ajuda a manter o sistema funcionando.\n",
    "\n",
    "Esse tipo de organização é diferente daquela vista em uma rede de computadores convencional, chamada de cliente/servidor. Nesse modelo tradicional, há apenas um servidor central, pertencente a alguma entidade, provendo determinado serviço aos clientes (nome usado para identificar aqueles que requisitam o serviço do servidor).\n",
    "\n",
    "Exemplos de modelos servidor/cliente são a web, o e-mail e o FTP (sigla em inglês para Protocolo de Transferência de Arquivo). Já dois exemplos de redes peer-to-peer são o Torrent, tecnologia de compartilhamento de arquivos, e o Bitcoin (BTC) e sua blockchain.\n",
    "\n",
    "“Em P2P, quanto mais clientes usam a rede, mais capacidade o sistema tem, pois há mais servidores”, disse Luis C. E. Bona, professor do departamento de Informática da Universidade Federal do Paraná (UFPR). \n",
    "\n",
    "Bona falou, no entanto, que esse tipo de arquitetura tem algumas limitações. “É difícil você impedir numa rede P2P o aparecimento de pessoas querendo subverter o serviço, colocando conteúdos que não são válidos, por exemplo. Se muita gente fizer isso, a maioria dos usuários da rede vai devolver um conteúdo indevido. É complicado filtrar”.\n",
    "\n",
    "Blockchain e peer-to-peer\n",
    "Mas a blockchain, que é um sistema P2P, conseguiu resolver parte dessas limitações com algumas “engenhosidades”, segundo Bona. A principal delas, disse, é o Proof-of-Work (Prova de Trabalho, na tradução para o português), protocolo da criptomoeda que estabelece os passos para o funcionamento da blockchain.\n",
    "\n",
    "“No PoW (sigla em inglês), eu tenho que resolver um desafio criptográfico para participar da rede, e isso, ao mesmo tempo que exige poder computacional, dá segurança para todo o sistema. Se alguém quisesse subverter a rede, teria que ter muito poder computacional para conseguir tal feito, algo que não valeria a pena financeiramente”. \n",
    "\n",
    "O P2P, além de ser uma arquitetura de redes de computadores, também é uma forma de negociação dentro do universo das criptomoedas. Nesse modelo, os usuários negociam entre si BTC, Ethereum (ETH) ou qualquer outra altcoin (nome dado a criptomoedas diferentes do Bitcoin), sem o intermédio de um terceiro, como uma corretora. No P2P, o valor da criptomoeda é negociado diretamente entre as duas partes, geralmente via aplicativos de conversa, sites ou plataformas que reúnem negociantes peer-to-peer. É um processo diferente daquele visto em corretoras de criptoativos, que têm livros de ofertas com preços já previamente determinados."
   ]
  },
  {
   "cell_type": "markdown",
   "id": "34a06a3a",
   "metadata": {},
   "source": [
    "- Evolução das Moedas Digitais Antes do Bitcoin\n",
    "\n",
    "A ascensão de moedas digitais viáveis está intimamente ligada aos avanços na criptografia. Isso não é surpreendente quando se consideram os desafios fundamentais envolvidos em usar bits para representar valor que pode ser trocado por bens e serviços. Três questões básicas para qualquer pessoa que aceite dinheiro digital são:\n",
    "\n",
    ">*Posso confiar que o dinheiro é autêntico e não falsificado?*\n",
    "*Posso confiar que o dinheiro digital só pode ser gasto uma vez (conhecido como o problema do \"gasto duplo\")?*\n",
    "*Posso ter certeza de que ninguém mais pode afirmar que esse dinheiro pertence a eles e não a mim?*\n",
    "\n",
    "Os emissores de dinheiro em papel estão constantemente lutando contra o problema da falsificação, usando papéis e tecnologia de impressão cada vez mais sofisticados. O dinheiro físico aborda facilmente o problema do \"gasto duplo\", pois a mesma nota de papel não pode estar em dois lugares ao mesmo tempo. Claro, o dinheiro convencional também é frequentemente armazenado e transmitido digitalmente. Nessas situações, os problemas de falsificação e \"gasto duplo\" são tratados compensando todas as transações eletrônicas por meio de autoridades centrais que têm uma visão global da moeda em circulação. Para o dinheiro digital, que não pode aproveitar tintas esotéricas ou faixas holográficas, a criptografia fornece a base para confiar na legitimidade da reivindicação de valor de um usuário. Especificamente, assinaturas digitais criptográficas permitem que um usuário assine um ativo digital ou transação, comprovando a propriedade desse ativo. Com a arquitetura apropriada, as assinaturas digitais também podem ser usadas para lidar com o problema do \"gasto duplo\".\n",
    "\n",
    "Quando a criptografia começou a se tornar mais amplamente disponível e compreendida no final dos anos 1980, muitos pesquisadores começaram a tentar usar a criptografia para construir moedas digitais. Esses projetos iniciais de moeda digital emitiam dinheiro digital, geralmente lastreado por uma moeda nacional ou metal precioso, como ouro.\n",
    "\n",
    "Embora essas primeiras moedas digitais tenham funcionado, eram centralizadas e, como resultado, eram facilmente atacadas por governos e hackers. As moedas digitais iniciais usavam uma câmara de compensação centralizada para liquidar todas as transações em intervalos regulares, assim como um sistema bancário tradicional. Infelizmente, na maioria dos casos, essas moedas digitais incipientes foram alvo de governos preocupados e eventualmente foram contestadas até desaparecerem. Algumas falharam em colapsos espetaculares quando a empresa-mãe liquidou abruptamente. Para ser robusta contra intervenções de antagonistas, sejam governos legítimos ou elementos criminosos, uma moeda digital descentralizada era necessária para evitar um único ponto de ataque. O Bitcoin é esse sistema, descentralizado por design e livre de qualquer autoridade central ou ponto de controle que possa ser atacado ou corrompido."
   ]
  },
  {
   "cell_type": "markdown",
   "id": "9c587c68",
   "metadata": {},
   "source": [
    " - Como isso tudo aconteceu?\n",
    "\n",
    " O Bitcoin foi inventado em 2008 com a publicação de um artigo intitulado \"Bitcoin: Um Sistema de Dinheiro Eletrônico Peer-to-Peer\", escrito sob o pseudônimo de Satoshi Nakamoto. Nakamoto combinou várias invenções anteriores, como b-money e HashCash, para criar um sistema de dinheiro eletrônico completamente descentralizado que não depende de uma autoridade central para emissão de moeda, liquidação e validação de transações. A inovação-chave foi o uso de um sistema de computação distribuída (chamado algoritmo \"Prova de Trabalho\") para realizar uma \"eleição\" global a cada 10 minutos, permitindo que a rede descentralizada chegasse a um consenso sobre o estado das transações. Isso resolve elegantemente o problema do \"gasto duplo\", onde uma única unidade de moeda pode ser gasta duas vezes. Anteriormente, o problema do \"gasto duplo\" era uma vulnerabilidade das moedas digitais e era resolvido compensando todas as transações por meio de uma câmara de compensação central.\n",
    "\n",
    "A implementação do algoritmo de Prova de Trabalho (mineração) que fornece segurança e resistência ao Bitcoin aumentou exponencialmente, ultrapassando agora o poder de processamento combinado dos supercomputadores mais potentes do mundo. O valor de mercado total do Bitcoin já ultrapassou em alguns momentos US$1 trilhão, dependendo da taxa de câmbio bitcoin-dólar. A maior transação processada até agora pela rede foi de US$1,1 bilhão de dólares, transmitida instantaneamente e processada por uma taxa de apenas US$0,68.\n",
    "\n",
    "Satoshi Nakamoto se retirou do público em abril de 2011, deixando a responsabilidade pelo desenvolvimento do código e da rede para um grupo próspero de voluntários. A identidade da pessoa ou pessoas por trás do Bitcoin ainda é desconhecida. No entanto, nem Satoshi Nakamoto nem qualquer outra pessoa exerce controle individual sobre o sistema Bitcoin, que opera com base em princípios matemáticos totalmente transparentes, código aberto e consenso entre os participantes."
   ]
  },
  {
   "cell_type": "markdown",
   "id": "e6006aaf",
   "metadata": {},
   "source": [
    "### Usuários com a mão na massa:"
   ]
  },
  {
   "cell_type": "markdown",
   "id": "63d08e45",
   "metadata": {},
   "source": [
    "Para entender completamente o Bitcoin e seus usos, vamos examiná-lo a partir da perspectiva das pessoas que o utilizam. Cada uma das pessoas e suas histórias, conforme listadas aqui, ilustra um ou mais casos de uso específicos. Vamos acompanhá-las ao longo do livro:\n",
    "\n",
    "**Varejo de baixo valor na América do Norte**\n",
    "\n",
    "Alice mora na região da Baía Norte da Califórnia. Ela ouviu falar sobre o Bitcoin com seus amigos ligados à tecnologia e quer começar a usá-lo. Acompanharemos sua história enquanto ela aprende sobre o Bitcoin, adquire alguns e depois gasta parte de seus bitcoins para comprar um café no Café do Bob em Palo Alto. Essa história nos apresentará ao software, às exchanges e às transações básicas do ponto de vista de um consumidor de varejo.\n",
    "\n",
    "**Varejo de alto valor na América do Norte**\n",
    "\n",
    "Carol é dona de uma galeria de arte em São Francisco. Ela vende quadros caros em troca de Bitcoin. Essa história introduzirá os riscos de um ataque de consenso \"51%\" para varejistas de itens de alto valor.\n",
    "\n",
    "**Doações para caridade**\n",
    "\n",
    "Eugenia é diretora de uma instituição de caridade infantil nas Filipinas. Recentemente, ela descobriu o Bitcoin e quer usá-lo para alcançar um novo grupo de doadores estrangeiros e nacionais para angariar fundos para sua instituição de caridade. Ela também está investigando maneiras de usar o Bitcoin para distribuir fundos rapidamente para áreas carentes. Essa história mostrará o uso do Bitcoin para captação de recursos global entre moedas e fronteiras, além do uso de um livro-razão aberto para transparência em organizações beneficentes.\n",
    "\n",
    "**Importação/exportação**\n",
    "\n",
    "Mohammed é um importador de eletrônicos em Dubai. Ele está tentando usar o Bitcoin para comprar eletrônicos dos Estados Unidos e China para importar para os Emirados Árabes Unidos e acelerar o processo de pagamentos de importações. Essa história mostrará como o Bitcoin pode ser usado para grandes pagamentos internacionais entre empresas vinculadas a bens físicos.\n",
    "\n",
    "**Mineração de bitcoin**\n",
    "\n",
    "Jing é um estudante de engenharia da computação em Xangai. Ele construiu uma máquina de \"mineração\" para minerar bitcoin usando suas habilidades de engenharia para complementar sua renda. Essa história examinará a base \"industrial\" do Bitcoin: os equipamentos especializados usados para garantir a rede Bitcoin e emitir nova moeda.\n",
    "\n",
    "Cada uma dessas histórias é baseada em pessoas reais e indústrias reais que atualmente usam o Bitcoin para criar novos mercados, novas indústrias e soluções inovadoras para questões econômicas globais."
   ]
  },
  {
   "cell_type": "markdown",
   "id": "bf75ece2",
   "metadata": {},
   "source": [
    "- Sobre as carteiras:\n",
    "\n",
    "As carteiras Bitcoin podem ser categorizadas da seguinte forma, de acordo com a plataforma:\n",
    "\n",
    "**Carteira para Desktop**\n",
    "\n",
    "Uma carteira para desktop foi o primeiro tipo de carteira Bitcoin criado como uma implementação de referência, e muitos usuários executam carteiras para desktop devido às características, autonomia e controle que oferecem. No entanto, o uso em sistemas operacionais de uso geral, como Windows e Mac OS, apresenta algumas desvantagens de segurança, pois essas plataformas muitas vezes são inseguras e mal configuradas.\n",
    "\n",
    "**Carteira Móvel**\n",
    "\n",
    "Uma carteira móvel é o tipo mais comum de carteira Bitcoin. Funcionando em sistemas operacionais de smartphones, como Apple iOS e Android, essas carteiras frequentemente são uma ótima escolha para novos usuários. Muitas são projetadas para simplicidade e facilidade de uso, mas também existem carteiras móveis totalmente equipadas para usuários avançados.\n",
    "\n",
    "**Carteira Web**\n",
    "\n",
    "Carteiras web são acessadas por meio de um navegador web e armazenam a carteira do usuário em um servidor de propriedade de terceiros. Isso é semelhante ao webmail, pois depende inteiramente de um servidor de terceiros. Alguns desses serviços operam usando código do lado do cliente executado no navegador do usuário, mantendo o controle das chaves Bitcoin nas mãos do usuário. No entanto, a maioria apresenta uma compensação, assumindo o controle das chaves Bitcoin dos usuários em troca de facilidade de uso. Não é aconselhável armazenar grandes quantidades de bitcoin em sistemas de terceiros.\n",
    "\n",
    "**Carteira de Hardware**\n",
    "\n",
    "Carteiras de hardware são dispositivos que operam uma carteira Bitcoin segura e autônoma em hardware de propósito específico. Geralmente, conectam-se a um dispositivo para desktop ou móvel via cabo USB ou comunicação por campo de proximidade (NFC) e são operadas por meio de um navegador web ou software complementar. Ao lidar com todas as operações relacionadas ao Bitcoin no hardware especializado, essas carteiras são consideradas muito seguras e adequadas para armazenar grandes quantidades de bitcoin.\n",
    "\n",
    "Existem outras formas de se categorizar essas carteiras, por grau de autonomia por exemplo, ou como ele interage com a rede Bitcoin. Mas não irei abordar nesse resumo.\n",
    "\n",
    "Ao combinar essas categorizações, muitas carteiras de Bitcoin se enquadram em alguns grupos, sendo os três mais comuns o cliente completo para desktop, a carteira leve para dispositivos móveis e a carteira de terceiros baseada na web. As fronteiras entre diferentes categorias frequentemente se tornam difusas, pois muitas carteiras funcionam em várias plataformas e podem interagir com a rede de diferentes maneiras."
   ]
  },
  {
   "cell_type": "markdown",
   "id": "bba5056d",
   "metadata": {},
   "source": []
  }
 ],
 "metadata": {
  "kernelspec": {
   "display_name": "Python 3 (ipykernel)",
   "language": "python",
   "name": "python3"
  },
  "language_info": {
   "codemirror_mode": {
    "name": "ipython",
    "version": 3
   },
   "file_extension": ".py",
   "mimetype": "text/x-python",
   "name": "python",
   "nbconvert_exporter": "python",
   "pygments_lexer": "ipython3",
   "version": "3.11.7"
  }
 },
 "nbformat": 4,
 "nbformat_minor": 5
}

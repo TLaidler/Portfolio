{
 "cells": [
  {
   "cell_type": "markdown",
   "id": "0a420407-6c0a-46ce-95c0-07b7557bd1ea",
   "metadata": {},
   "source": [
    "## Revisão Python\n",
    "> Resumo dos cursos iniciais"
   ]
  },
  {
   "cell_type": "markdown",
   "id": "0d0d4bb0-55b6-4a69-bc85-70eda27fa985",
   "metadata": {},
   "source": [
    "Versões Python -> Python 2 para de ser atualizado em 2010, enquanto Python 3 começa em 2008 e vem sendo atualizado até os dias de hoje (Python 3.8 é de 2019).\n",
    "\n",
    "Python obedece a regra REPL: Read, Evaluate, Print, Loop.\n",
    "\n",
    "Espaço em branco é importante em Python, ele usa o sistema de identação ao invés de chaves para delimitar as funções e expressões.\n",
    "\n",
    "O foco em python é ser fácil de ser lido e manipulado.\n"
   ]
  },
  {
   "cell_type": "markdown",
   "id": "a1b4bb07-d10e-4ad3-bf43-25b7a9dcbf80",
   "metadata": {},
   "source": [
    "Cuidado, não misturar tab e barra de espaço. Preferência de 4 espaços."
   ]
  },
  {
   "cell_type": "markdown",
   "id": "f0b31c47-d613-47ae-b563-1a5517d0c380",
   "metadata": {},
   "source": [
    "O desenvolvimento da linguagem é manipulada atraves dos PEPs (Python Enhancement Proposals - (Python Enhancement Proposal - Proposta de melhoria na linguagem Python)). PEP8 nos indica a forma mais aceita de se estruturar o código.\n",
    "\n",
    "PEP20 The Zen of Python : os principais aforismos/princípios/axiomas do python. Podemos ver eles da seguinte forma:"
   ]
  },
  {
   "cell_type": "code",
   "execution_count": 36,
   "id": "d0a5faa9-8854-4c7c-a5de-1a3cf4bf2849",
   "metadata": {},
   "outputs": [],
   "source": [
    "import this"
   ]
  },
  {
   "cell_type": "markdown",
   "id": "78029a03-65a5-4e01-8e24-3b6883143afa",
   "metadata": {},
   "source": [
    "Escrever int é especifico em decimal, mas pode ser mudado:"
   ]
  },
  {
   "cell_type": "code",
   "execution_count": 37,
   "id": "c2d7a910-8ab6-4478-b88a-51682ff630bf",
   "metadata": {},
   "outputs": [
    {
     "data": {
      "text/plain": [
       "10"
      ]
     },
     "execution_count": 37,
     "metadata": {},
     "output_type": "execute_result"
    }
   ],
   "source": [
    "10"
   ]
  },
  {
   "cell_type": "code",
   "execution_count": 38,
   "id": "45138ac2-ae90-45ca-9527-5372cbf8ab84",
   "metadata": {},
   "outputs": [
    {
     "data": {
      "text/plain": [
       "2"
      ]
     },
     "execution_count": 38,
     "metadata": {},
     "output_type": "execute_result"
    }
   ],
   "source": [
    "0b10"
   ]
  },
  {
   "cell_type": "code",
   "execution_count": 39,
   "id": "c0b733e8-34ac-4ede-9394-37ea3590d89e",
   "metadata": {},
   "outputs": [
    {
     "data": {
      "text/plain": [
       "8"
      ]
     },
     "execution_count": 39,
     "metadata": {},
     "output_type": "execute_result"
    }
   ],
   "source": [
    "0o10"
   ]
  },
  {
   "cell_type": "code",
   "execution_count": 40,
   "id": "28653f93-f1fc-44b0-ae79-a871813433a1",
   "metadata": {},
   "outputs": [
    {
     "data": {
      "text/plain": [
       "16"
      ]
     },
     "execution_count": 40,
     "metadata": {},
     "output_type": "execute_result"
    }
   ],
   "source": [
    "0x10"
   ]
  },
  {
   "cell_type": "markdown",
   "id": "38cfec1a-8270-4166-87ee-5c9996b1b0f1",
   "metadata": {},
   "source": [
    "O prefixo 0b (ou 0B) indica literalmente um binário. O C++ permite isso desde o C++14. (Ainda não faz parte do padrão C, embora alguns compiladores o permitam como uma extensão.) 0x (ou 0X) é usado para representar literais hexadecimais. (Todas e quaisquer literais inteiros que você possa criar são resumidos no padrão C++ pela produção gramatical.)\n",
    "\n",
    "O 0 pode ser usado para indicar um literal octal. (Curiosamente, o próprio 0 é um literal octal). Além disso, você pode usar a sequência de escape \\ seguida por dígitos para serem lidos em octal: isso se aplica apenas ao definir literais const char[] usando \"\" ou char, ou literais multicarecter usando ''. A notação '\\0' que você frequentemente vê para representar NUL ao trabalhar com strings explora isso."
   ]
  },
  {
   "cell_type": "markdown",
   "id": "fcafac25-7323-46e8-80c5-034ad1577e58",
   "metadata": {},
   "source": [
    "float é a forma que temos de lidar com numeros quebrados.\n",
    "Em Python, funciona em IEEE-754 double-precision with 53-bits of binary precision. Isso significa algo em torno 15~16 digitos significativos em decimal."
   ]
  },
  {
   "cell_type": "markdown",
   "id": "1f94d7ed-ab41-4d84-ab5c-b6fdc9620d0c",
   "metadata": {},
   "source": [
    "É possível também utilizar notação científica:"
   ]
  },
  {
   "cell_type": "code",
   "execution_count": 41,
   "id": "29970b31-fe63-474c-bbe1-9faf71af0724",
   "metadata": {},
   "outputs": [
    {
     "data": {
      "text/plain": [
       "3.123"
      ]
     },
     "execution_count": 41,
     "metadata": {},
     "output_type": "execute_result"
    }
   ],
   "source": [
    "3.123"
   ]
  },
  {
   "cell_type": "code",
   "execution_count": 42,
   "id": "48b5a8b2-dd60-441e-a5e6-c35b6cc811b3",
   "metadata": {},
   "outputs": [
    {
     "data": {
      "text/plain": [
       "300000000.0"
      ]
     },
     "execution_count": 42,
     "metadata": {},
     "output_type": "execute_result"
    }
   ],
   "source": [
    "3e8"
   ]
  },
  {
   "cell_type": "code",
   "execution_count": 43,
   "id": "b9e64723-ce82-4141-8e7f-6b986acfa0b4",
   "metadata": {},
   "outputs": [
    {
     "data": {
      "text/plain": [
       "1.6e-35"
      ]
     },
     "execution_count": 43,
     "metadata": {},
     "output_type": "execute_result"
    }
   ],
   "source": [
    "1.6e-35"
   ]
  },
  {
   "cell_type": "code",
   "execution_count": 44,
   "id": "f44b87b7-add8-4cc9-a099-f94f0555f648",
   "metadata": {},
   "outputs": [
    {
     "data": {
      "text/plain": [
       "0.000145"
      ]
     },
     "execution_count": 44,
     "metadata": {},
     "output_type": "execute_result"
    }
   ],
   "source": [
    "1.45e-4"
   ]
  },
  {
   "cell_type": "code",
   "execution_count": 45,
   "id": "91981390-28e6-4eb8-a4bf-2e29152189ee",
   "metadata": {},
   "outputs": [],
   "source": [
    "None"
   ]
  },
  {
   "cell_type": "code",
   "execution_count": 46,
   "id": "8bb25b74-7d18-41a4-8ce6-8c5e381ee9e1",
   "metadata": {},
   "outputs": [
    {
     "name": "stdout",
     "output_type": "stream",
     "text": [
      "PATH=c:\\Users\\thiago.cunha\\AppData\\Local\\Microsoft\\WindowsApps;c:\\Users\\thiago.cunha\\AppData\\Local\\Packages\\PythonSoftwareFoundation.Python.3.12_qbz5n2kfra8p0\\LocalCache\\local-packages\\Python312\\Scripts;C:\\Windows\\system32;C:\\Windows;C:\\Windows\\System32\\Wbem;C:\\Windows\\System32\\WindowsPowerShell\\v1.0\\;C:\\Windows\\System32\\OpenSSH\\;C:\\Program Files\\Zabbix Agent\\;C:\\Program Files\\dotnet\\;C:\\Program Files\\MiKTeX\\miktex\\bin\\x64\\;C:\\Program Files\\Microsoft SQL Server\\Client SDK\\ODBC\\170\\Tools\\Binn\\;C:\\Program Files\\Microsoft SQL Server\\150\\Tools\\Binn\\;C:\\Users\\thiago.cunha\\AppData\\Local\\Microsoft\\WindowsApps;C:\\Users\\thiago.cunha\\AppData\\Local\\Programs\\Microsoft VS Code\\bin;C:\\Users\\thiago.cunha\\AppData\\Local\\GitHubDesktop\\bin;C:\\Users\\thiago.cunha\\.dotnet\\tools;C:\\Windows\\system32;C:\\Windows;C:\\Windows\\System32\\Wbem;C:\\Windows\\System32\\WindowsPowerShell\\v1.0\\;C:\\Windows\\System32\\OpenSSH\\;C:\\Program Files\\Zabbix Agent\\;C:\\Program Files\\dotnet\\;C:\\Program Files\\MiKTeX\\miktex\\bin\\x64\\;C:\\Program Files\\Microsoft SQL Server\\Client SDK\\ODBC\\170\\Tools\\Binn\\;C:\\Program Files\\Microsoft SQL Server\\150\\Tools\\Binn\\;C:\\Users\\thiago.cunha\\AppData\\Local\\Microsoft\\WindowsApps;C:\\Users\\thiago.cunha\\AppData\\Local\\Programs\\Microsoft VS Code\\bin;C:\\Users\\thiago.cunha\\AppData\\Local\\GitHubDesktop\\bin;C:\\Users\\thiago.cunha\\.dotnet\\tools\n"
     ]
    }
   ],
   "source": [
    "!path"
   ]
  },
  {
   "cell_type": "code",
   "execution_count": 47,
   "id": "1a3275c2-17ee-488e-a44a-e9fb63e22ea3",
   "metadata": {},
   "outputs": [
    {
     "data": {
      "text/plain": [
       "bytes"
      ]
     },
     "execution_count": 47,
     "metadata": {},
     "output_type": "execute_result"
    }
   ],
   "source": [
    "type(b'aaa aaaa  aAAAA')"
   ]
  },
  {
   "cell_type": "code",
   "execution_count": 48,
   "id": "83b1d88f-e439-4bcc-bfdb-113f6046df96",
   "metadata": {},
   "outputs": [
    {
     "data": {
      "text/plain": [
       "b'aaaa'"
      ]
     },
     "execution_count": 48,
     "metadata": {},
     "output_type": "execute_result"
    }
   ],
   "source": [
    "str.encode('aaaa')"
   ]
  },
  {
   "cell_type": "code",
   "execution_count": 49,
   "id": "3936d8ec-4a34-424c-b88d-207d8c29a7f4",
   "metadata": {},
   "outputs": [
    {
     "data": {
      "text/plain": [
       "'aaaa'"
      ]
     },
     "execution_count": 49,
     "metadata": {},
     "output_type": "execute_result"
    }
   ],
   "source": [
    "bytes.decode(b'aaaa')"
   ]
  },
  {
   "cell_type": "code",
   "execution_count": 50,
   "id": "0a3fcb61-864f-48c1-9596-acc3148485fe",
   "metadata": {},
   "outputs": [
    {
     "data": {
      "text/plain": [
       "'__main__'"
      ]
     },
     "execution_count": 50,
     "metadata": {},
     "output_type": "execute_result"
    }
   ],
   "source": [
    "__name__"
   ]
  },
  {
   "cell_type": "code",
   "execution_count": 51,
   "id": "3e3de3f0-c97b-43dd-933a-2ead7ebede92",
   "metadata": {},
   "outputs": [
    {
     "data": {
      "text/plain": [
       "140715594431192"
      ]
     },
     "execution_count": 51,
     "metadata": {},
     "output_type": "execute_result"
    }
   ],
   "source": [
    "a = 10\n",
    "\n",
    "id(a)"
   ]
  },
  {
   "cell_type": "code",
   "execution_count": 52,
   "id": "ed3cd3e9-d49a-4b63-820f-4eafb28b5688",
   "metadata": {},
   "outputs": [
    {
     "data": {
      "text/plain": [
       "2167640679760"
      ]
     },
     "execution_count": 52,
     "metadata": {},
     "output_type": "execute_result"
    }
   ],
   "source": [
    "a = 1000\n",
    "\n",
    "id(a)"
   ]
  },
  {
   "cell_type": "markdown",
   "id": "1396913f-2888-4b37-9a46-9d9301372965",
   "metadata": {},
   "source": [
    "Podemos usar funcao set para manipular dados como se faz em algebra, como união, intereseção, diferença etc. Veja:"
   ]
  },
  {
   "cell_type": "code",
   "execution_count": 53,
   "id": "8b1f12ee-3981-4ed8-b773-a6a885c64966",
   "metadata": {},
   "outputs": [
    {
     "data": {
      "text/plain": [
       "{1, 2, 5, 6, 7}"
      ]
     },
     "execution_count": 53,
     "metadata": {},
     "output_type": "execute_result"
    }
   ],
   "source": [
    "set([1,2,5,6,7])"
   ]
  },
  {
   "cell_type": "code",
   "execution_count": 54,
   "id": "14c839d5-73f5-4ddd-ba58-f1bd49325467",
   "metadata": {},
   "outputs": [
    {
     "data": {
      "text/plain": [
       "{'Seu Carlos'}"
      ]
     },
     "execution_count": 54,
     "metadata": {},
     "output_type": "execute_result"
    }
   ],
   "source": [
    "olhos_azuis = {'Harry', 'Lily', 'Jack','Seu Carlos'}\n",
    "loiros = {'Seu Carlos', 'Taylor', 'Ivete'}\n",
    "olhos_azuis.intersection(loiros)"
   ]
  },
  {
   "cell_type": "code",
   "execution_count": 55,
   "id": "43276ebe-0733-4af1-8743-4b38616ef82f",
   "metadata": {},
   "outputs": [
    {
     "data": {
      "text/plain": [
       "{'Harry', 'Ivete', 'Jack', 'Lily', 'Seu Carlos', 'Taylor'}"
      ]
     },
     "execution_count": 55,
     "metadata": {},
     "output_type": "execute_result"
    }
   ],
   "source": [
    "olhos_azuis.union(loiros)"
   ]
  },
  {
   "cell_type": "code",
   "execution_count": 56,
   "id": "c27247a7-8bb1-4099-8b0e-6c1e6398a601",
   "metadata": {},
   "outputs": [
    {
     "data": {
      "text/plain": [
       "{'Harry', 'Ivete', 'Jack', 'Lily', 'Seu Carlos', 'Taylor'}"
      ]
     },
     "execution_count": 56,
     "metadata": {},
     "output_type": "execute_result"
    }
   ],
   "source": [
    "loiros.union(olhos_azuis)"
   ]
  },
  {
   "cell_type": "code",
   "execution_count": 57,
   "id": "b9f94e97-6557-48d0-afcf-ad310799882f",
   "metadata": {},
   "outputs": [
    {
     "data": {
      "text/plain": [
       "{'Ivete', 'Taylor'}"
      ]
     },
     "execution_count": 57,
     "metadata": {},
     "output_type": "execute_result"
    }
   ],
   "source": [
    "loiros.difference(olhos_azuis)"
   ]
  },
  {
   "cell_type": "code",
   "execution_count": 58,
   "id": "dcb2a950-68c7-4e68-9731-2c6983943af6",
   "metadata": {},
   "outputs": [
    {
     "data": {
      "text/plain": [
       "2"
      ]
     },
     "execution_count": 58,
     "metadata": {},
     "output_type": "execute_result"
    }
   ],
   "source": [
    "def DIGIT_MAP(string):\n",
    "    digit_map = {'um': 1, 'dois': 2, 'três': 3, 'tres': 3,\n",
    "                 'quatro': 4, 'cinco': 5, 'seis': 6,\n",
    "                 'sete': 7, 'oito': 8, 'nove': 9, 'dez': 10}\n",
    "    return digit_map.get(string.lower(), None)\n",
    "\n",
    "DIGIT_MAP('dois')"
   ]
  },
  {
   "cell_type": "code",
   "execution_count": 59,
   "id": "b655392e-12b9-4640-a36a-9826c0d092bc",
   "metadata": {},
   "outputs": [],
   "source": [
    "import msvcrt"
   ]
  },
  {
   "cell_type": "markdown",
   "id": "322c9242-e248-4a2f-bdee-c18f5c8bd4cb",
   "metadata": {},
   "source": [
    "Usar try te permite testar o código em busca de erros.\n",
    "Usarhe excepte permite lidar com esse erro. r.Nesse caso, usar\n",
    "The elhe permite executar o código quando não há nenhum erro.roMas, usar\n",
    "\n",
    "The filhe permite executar o código independente do resultado do try-execpt.locks."
   ]
  },
  {
   "cell_type": "markdown",
   "id": "12583ef9-15aa-4e4d-82e1-3aae261c101a",
   "metadata": {},
   "source": [
    "Comprehensions: syntax concisa que descreve list, set e dic."
   ]
  },
  {
   "cell_type": "code",
   "execution_count": 60,
   "id": "705bd936-e588-4894-a9d7-edf006b8ca69",
   "metadata": {},
   "outputs": [
    {
     "data": {
      "text/plain": [
       "[2, 6, 3, 2]"
      ]
     },
     "execution_count": 60,
     "metadata": {},
     "output_type": "execute_result"
    }
   ],
   "source": [
    "words = \"Ah garoto sei la\".split()\n",
    "[len(word) for word in words] #economiza espaço"
   ]
  },
  {
   "cell_type": "code",
   "execution_count": 61,
   "id": "fe304758-3250-4f55-af8c-2374c7e99b45",
   "metadata": {},
   "outputs": [
    {
     "data": {
      "text/plain": [
       "[]"
      ]
     },
     "execution_count": 61,
     "metadata": {},
     "output_type": "execute_result"
    }
   ],
   "source": [
    "[x for x in range(10) if False]"
   ]
  },
  {
   "cell_type": "markdown",
   "id": "27ff72cd-2e7a-4cf3-8839-e2ff40740a4a",
   "metadata": {},
   "source": [
    "  - Protocolo de iteração:"
   ]
  },
  {
   "cell_type": "markdown",
   "id": "19dbcf89-6eb6-4550-a835-7abcb3f8e316",
   "metadata": {},
   "source": [
    "objetos iterable vs iterator"
   ]
  },
  {
   "cell_type": "markdown",
   "id": "f27cc143-652b-44c0-944f-0fa4f0cf6ab8",
   "metadata": {},
   "source": [
    ">itarable: pode ser passado para 'iter()' para produzir um iterator.\n",
    "\n",
    ">iterator: pode ser passado pro 'next()' para retornar o próximo valor na sequência."
   ]
  },
  {
   "cell_type": "code",
   "execution_count": 62,
   "id": "a8544602-6f3a-445c-aa9b-e29d0fb3a2e5",
   "metadata": {},
   "outputs": [
    {
     "data": {
      "text/plain": [
       "'a'"
      ]
     },
     "execution_count": 62,
     "metadata": {},
     "output_type": "execute_result"
    }
   ],
   "source": [
    "next(iter(['a','b','c']))"
   ]
  },
  {
   "cell_type": "code",
   "execution_count": 63,
   "id": "b24a4e9f-0185-424a-9d06-87861dd26e4c",
   "metadata": {},
   "outputs": [
    {
     "data": {
      "text/plain": [
       "'a'"
      ]
     },
     "execution_count": 63,
     "metadata": {},
     "output_type": "execute_result"
    }
   ],
   "source": [
    "next(iter(['a','b','c']))"
   ]
  },
  {
   "cell_type": "code",
   "execution_count": 64,
   "id": "a6c00671-e164-4676-a01b-8d1c3a8bf9c1",
   "metadata": {},
   "outputs": [
    {
     "data": {
      "text/plain": [
       "'a'"
      ]
     },
     "execution_count": 64,
     "metadata": {},
     "output_type": "execute_result"
    }
   ],
   "source": [
    "iterable = ['a','b','c']\n",
    "iterator = iter(iterable)\n",
    "next(iterator)"
   ]
  },
  {
   "cell_type": "code",
   "execution_count": 65,
   "id": "c8174a1f-7230-4fe4-a961-5927af30dd81",
   "metadata": {},
   "outputs": [
    {
     "data": {
      "text/plain": [
       "'b'"
      ]
     },
     "execution_count": 65,
     "metadata": {},
     "output_type": "execute_result"
    }
   ],
   "source": [
    "next(iterator)"
   ]
  },
  {
   "cell_type": "code",
   "execution_count": 66,
   "id": "7b7e0f0f-8fd8-4a64-86a0-c75204893cd1",
   "metadata": {},
   "outputs": [
    {
     "data": {
      "text/plain": [
       "'c'"
      ]
     },
     "execution_count": 66,
     "metadata": {},
     "output_type": "execute_result"
    }
   ],
   "source": [
    "next(iterator)"
   ]
  },
  {
   "cell_type": "code",
   "execution_count": 67,
   "id": "9a0275e1-c15b-4a7a-852a-18d9acdb21fb",
   "metadata": {},
   "outputs": [
    {
     "ename": "StopIteration",
     "evalue": "",
     "output_type": "error",
     "traceback": [
      "\u001b[1;31m---------------------------------------------------------------------------\u001b[0m",
      "\u001b[1;31mStopIteration\u001b[0m                             Traceback (most recent call last)",
      "Cell \u001b[1;32mIn[67], line 1\u001b[0m\n\u001b[1;32m----> 1\u001b[0m \u001b[38;5;28;43mnext\u001b[39;49m\u001b[43m(\u001b[49m\u001b[43miterator\u001b[49m\u001b[43m)\u001b[49m\n",
      "\u001b[1;31mStopIteration\u001b[0m: "
     ]
    }
   ],
   "source": [
    "next(iterator)"
   ]
  },
  {
   "cell_type": "code",
   "execution_count": 68,
   "id": "9b35fae9-baf6-4208-a152-4cb66493f35f",
   "metadata": {},
   "outputs": [
    {
     "data": {
      "text/plain": [
       "<function __main__.blabla()>"
      ]
     },
     "execution_count": 68,
     "metadata": {},
     "output_type": "execute_result"
    }
   ],
   "source": [
    " def blabla(): #yield -> serve de gerador -> gera o resultado e some. Pode gerar varios valores\n",
    "     yield 1\n",
    "     yield 2\n",
    "     yield 3\n",
    "\n",
    "\n",
    "g = blabla\n",
    "g"
   ]
  },
  {
   "cell_type": "code",
   "execution_count": 69,
   "id": "352e9109-62d5-4517-9a9a-0f1e737ca2fb",
   "metadata": {},
   "outputs": [
    {
     "ename": "TypeError",
     "evalue": "'function' object is not an iterator",
     "output_type": "error",
     "traceback": [
      "\u001b[1;31m---------------------------------------------------------------------------\u001b[0m",
      "\u001b[1;31mTypeError\u001b[0m                                 Traceback (most recent call last)",
      "Cell \u001b[1;32mIn[69], line 1\u001b[0m\n\u001b[1;32m----> 1\u001b[0m \u001b[38;5;28;43mnext\u001b[39;49m\u001b[43m(\u001b[49m\u001b[43mg\u001b[49m\u001b[43m)\u001b[49m\n",
      "\u001b[1;31mTypeError\u001b[0m: 'function' object is not an iterator"
     ]
    }
   ],
   "source": [
    "next(g)"
   ]
  },
  {
   "cell_type": "code",
   "execution_count": 70,
   "id": "5d7ad777-f3df-4e6a-a96f-a1f80d58ced8",
   "metadata": {},
   "outputs": [
    {
     "name": "stdout",
     "output_type": "stream",
     "text": [
      "1\n",
      "2\n",
      "3\n"
     ]
    }
   ],
   "source": [
    "for v in blabla():\n",
    "    print(v)"
   ]
  },
  {
   "cell_type": "code",
   "execution_count": 71,
   "id": "ac6ba72a",
   "metadata": {},
   "outputs": [
    {
     "name": "stdout",
     "output_type": "stream",
     "text": [
      "[1]\n",
      "[3]\n",
      "[5]\n",
      "[7]\n",
      "[9]\n",
      "[11]\n",
      "[13]\n",
      "[15]\n",
      "[17]\n"
     ]
    }
   ],
   "source": [
    "def soma(a,b):\n",
    "    yield a+b #Utilidade do yield\n",
    "\n",
    "\n",
    "for i in range(10):\n",
    "    if i+1>9:\n",
    "        break\n",
    "    else:\n",
    "        print(list(soma(i,i+1)))\n",
    "        "
   ]
  },
  {
   "cell_type": "markdown",
   "id": "1541453c-76dc-43f6-8f1f-82f869b15f48",
   "metadata": {},
   "source": [
    "Usar yield pode salvar performance, alterando o return.\n",
    "Por exemplo:"
   ]
  },
  {
   "cell_type": "code",
   "execution_count": 72,
   "id": "c6d418c0-8b9d-4821-a0fd-e9f6fc6ce4ac",
   "metadata": {},
   "outputs": [
    {
     "name": "stdout",
     "output_type": "stream",
     "text": [
      "do the math with: 100\n",
      "do the math with: 100\n",
      "do the math with: 100\n",
      "do the math with: 100\n",
      "do the math with: 100\n",
      "do the math with: 100\n",
      "do the math with: 100\n",
      "do the math with: 100\n",
      "do the math with: 100\n",
      "do the math with: 100\n"
     ]
    }
   ],
   "source": [
    "#Como ficaria com return \n",
    "def other_math(number):\n",
    "  print('do the math with:', number)\n",
    "  \n",
    "def gen_squares_in_interval(x, y):\n",
    "  for i in range(x, y):\n",
    "    return i*i\n",
    "\n",
    "if __name__ == '__main__':\n",
    "\n",
    "  x, y = (10, 20)\n",
    "  \n",
    "  for _ in range(x, y):\n",
    "    number = gen_squares_in_interval(x, y)\n",
    "    other_math(number)"
   ]
  },
  {
   "cell_type": "code",
   "execution_count": 73,
   "id": "5fbe8a81-ffdd-4e00-aa65-b8c3aab063b8",
   "metadata": {},
   "outputs": [
    {
     "name": "stdout",
     "output_type": "stream",
     "text": [
      "do the math with: [100, 121, 144, 169, 196, 225, 256, 289, 324, 361]\n"
     ]
    }
   ],
   "source": [
    "#Como eu faria pra dar um jeito:\n",
    "\n",
    "def other_math(number):\n",
    "  print('do the math with:', number)\n",
    "  \n",
    "def gen_squares_in_interval(x, y):\n",
    "    l = []\n",
    "    for i in range(x, y):\n",
    "        l.append(i*i)\n",
    "    return l\n",
    "\n",
    "if __name__ == '__main__':\n",
    "    x, y = (10, 20)\n",
    "    number = gen_squares_in_interval(x, y)\n",
    "    other_math(number)"
   ]
  },
  {
   "cell_type": "code",
   "execution_count": 74,
   "id": "d7ed5357-d707-44fa-9945-58fa0b0e301b",
   "metadata": {},
   "outputs": [
    {
     "name": "stdout",
     "output_type": "stream",
     "text": [
      "do the math with: 100\n",
      "do the math with: 121\n",
      "do the math with: 144\n",
      "do the math with: 169\n",
      "do the math with: 196\n",
      "do the math with: 225\n",
      "do the math with: 256\n",
      "do the math with: 289\n",
      "do the math with: 324\n",
      "do the math with: 361\n"
     ]
    }
   ],
   "source": [
    "#Como o uso de yield ajudaria\n",
    "def other_math(number):\n",
    "  print('do the math with:', number)\n",
    "  \n",
    "def gen_squares_in_interval(x, y):\n",
    "  for i in range(x, y):\n",
    "    yield i*i\n",
    "\n",
    "if __name__ == '__main__':\n",
    "\n",
    "  x, y = (10, 20)\n",
    "  \n",
    "  for number in gen_squares_in_interval(x, y):\n",
    "    other_math(number)"
   ]
  },
  {
   "cell_type": "markdown",
   "id": "3a6569a6-b3b4-45cb-8746-dc5dcd06b4ef",
   "metadata": {},
   "source": [
    "perceba o tamanho colossal de utilização da memória"
   ]
  },
  {
   "cell_type": "code",
   "execution_count": 75,
   "id": "451192ff-ac13-4dff-9c8f-bf5180d7532b",
   "metadata": {},
   "outputs": [
    {
     "name": "stdout",
     "output_type": "stream",
     "text": [
      "85176\n",
      "192\n"
     ]
    }
   ],
   "source": [
    "from sys import getsizeof\n",
    "\n",
    "grande = 10**4\n",
    "\n",
    "list_compr = [x for x in range(grande)] #Lista\n",
    "#print(list_compr)\n",
    "print(getsizeof(list_compr))\n",
    "\n",
    "\n",
    "list_gener = (x for x in range(grande)) #Gerador\n",
    "#print(list_gener)\n",
    "print(getsizeof(list_gener))"
   ]
  },
  {
   "cell_type": "markdown",
   "id": "8f1d7f8e-e319-4f7b-852c-6478e987de80",
   "metadata": {},
   "source": [
    "Com numeros cada vez maiores a diferença é maior"
   ]
  },
  {
   "cell_type": "markdown",
   "id": "705578d3-5aaa-4eab-8440-ca6d23cd354d",
   "metadata": {},
   "source": [
    "Geradores são preguiçosos. Os dados não são salvos. Ele gera apenas o necessário quando requisitado, isso permite modelar sequencias infinitas."
   ]
  },
  {
   "cell_type": "markdown",
   "id": "73be1fd2-2ad6-4fc9-a26e-d03d75c4ccf6",
   "metadata": {},
   "source": [
    "O self é uma palavra-chave utilizada no Python para referenciar a própria instância de uma classe. Em outras palavras, o self é utilizado para acessar os atributos e métodos de um objeto em particular.\n",
    "\n",
    "Com a palavra-chave self conseguimos acessar os atributos e métodos de uma classe em Python. Ela é responsável por vincular os atributos com os argumentos enviados para uma função ou método.\n",
    "\n",
    "O python utiliza essa palavra pois não há a sintaxe @ ou this para referenciar os atributos de instância. O self é sempre o primeiro parâmetro de todos os métodos chamados por uma instância de uma classe (ou seja, um objeto)."
   ]
  },
  {
   "cell_type": "code",
   "execution_count": 76,
   "id": "cec589bd-49b6-44a5-a945-d73a06ac4efd",
   "metadata": {},
   "outputs": [
    {
     "name": "stdout",
     "output_type": "stream",
     "text": [
      "Endereço do self=  2167626345952\n",
      "Endereço do objeto da classe teste =  2167626345952\n"
     ]
    }
   ],
   "source": [
    "#O self representa o proprio objeto, veja:\n",
    "\n",
    "class teste:\n",
    "    def __init__(self):\n",
    "        print(\"Endereço do self= \",id(self))\n",
    "\n",
    "obj = teste()\n",
    "print(\"Endereço do objeto da classe teste = \", id(obj))"
   ]
  },
  {
   "cell_type": "code",
   "execution_count": 77,
   "id": "b88d3261-7134-4bcd-8547-b5eb1f3adca9",
   "metadata": {},
   "outputs": [],
   "source": [
    " # Vale a pena fazer o projeto da classe 'Flight' do curso 'Core Python 3: GEtting Started'"
   ]
  },
  {
   "cell_type": "markdown",
   "id": "aae51c2a-e477-4725-a3ab-488abed5b888",
   "metadata": {},
   "source": [
    "Polimorfismo, em Python, é a capacidade que uma subclasse tem de ter métodos com o mesmo nome de sua superclasse, e o programa saber qual método deve ser invocado, especificamente (da super ou sub). Ou seja, o objeto tem a capacidade de assumir diferentes formas (polimorfismo),\n",
    "\n",
    "Existem basicamente dois recursos para se implementar polimorfismo: herança e sobrecarga.\n",
    "\n",
    "ou você utiliza a forma de herança para fazer uma classe receber os métodos de uma já existente, ou vc utiliza a sobrecarga para sobrescrever um já existente."
   ]
  },
  {
   "cell_type": "code",
   "execution_count": 78,
   "id": "a28bda7f-6e10-4763-beec-3ce02932f1e3",
   "metadata": {},
   "outputs": [],
   "source": [
    "class Super:\n",
    " def hello(self):\n",
    "  print(\"Olá, sou a superclasse!\")\n",
    "\n",
    "class Sub (Super):\n",
    " def hello(self):\n",
    "  print(\"Olá, sou a subclasse!\")\n",
    "\n",
    "class Subsub (Sub):\n",
    " def hello(self):\n",
    "  print(\"Olá, sou a subsubclasse!\")"
   ]
  },
  {
   "cell_type": "code",
   "execution_count": 79,
   "id": "0f2fa19d-1e1c-4a19-8e4c-6867de44a417",
   "metadata": {},
   "outputs": [
    {
     "name": "stdout",
     "output_type": "stream",
     "text": [
      "Olá, sou a superclasse!\n"
     ]
    }
   ],
   "source": [
    "b = Super()\n",
    "b.hello()"
   ]
  },
  {
   "cell_type": "code",
   "execution_count": 80,
   "id": "1866d656-4e67-4b9c-b6cb-5030158c0801",
   "metadata": {},
   "outputs": [
    {
     "name": "stdout",
     "output_type": "stream",
     "text": [
      "Olá, sou a subclasse!\n"
     ]
    }
   ],
   "source": [
    "b = Sub()\n",
    "b.hello()"
   ]
  },
  {
   "cell_type": "code",
   "execution_count": 81,
   "id": "e70be64c-fd79-4fce-b794-abe12572400f",
   "metadata": {},
   "outputs": [
    {
     "name": "stdout",
     "output_type": "stream",
     "text": [
      "Olá, sou a subsubclasse!\n"
     ]
    }
   ],
   "source": [
    "b = Subsub()\n",
    "b.hello()"
   ]
  },
  {
   "cell_type": "code",
   "execution_count": 82,
   "id": "1bb8ceb6-8f71-479a-ad25-466709f8158a",
   "metadata": {},
   "outputs": [],
   "source": [
    "#A parte de criar e ler dados em binário poderá ser útil quando formos acelerar os códigos."
   ]
  },
  {
   "cell_type": "markdown",
   "id": "55898169-353f-4b3a-9ff6-c81c73aef180",
   "metadata": {},
   "source": [
    "- pip package management: pip install Nome_Pacote\n",
    "\n",
    "Nesse caso, é importante ressaltar que não se trata dos pacotes comuns (arquivos/projetos com um __init__.py na pasta), mas sim um pacote como distribuição python. Ou seja, pacote versionado contendo pacotes, modulos e outros arquivos. Basicamente, algo que o usuario irá baixar a instalar. Ele ja vem com python>=3.4\n",
    "\n",
    "\n",
    "- Virtual enviroments: Ambientes 'isolados' para instalar os pacotes sem comprometer o pc.\n",
    "\n",
    "Serve para evitar casos em que multiplos projetos entram em conflito com dependencias ou com o sistema. É ideal ter um ambiente próprio para instalar os pacotes que são úteis para aquele projeto específico."
   ]
  },
  {
   "cell_type": "markdown",
   "id": "c0a860ce-0872-4738-9e1d-210e81e4b974",
   "metadata": {},
   "source": [
    "- Funções, instancias chamáveis e objeto anônimo chamável (lambda)."
   ]
  },
  {
   "cell_type": "markdown",
   "id": "a677fe85-9d41-49b2-8654-cdc03a749b19",
   "metadata": {},
   "source": [
    "instâncias chamáveis: as vezes é interessante ter argumentos default no cache pra evitar recálculo e salvar tempo. Nesse sentido, algumas funções dentro de uma classe, por exemplo, podem ser chamadas diretamente ao serem nomeadas _ _ call_ _. Ou seja, permite invocar esses objetos como se fossem funções."
   ]
  },
  {
   "cell_type": "code",
   "execution_count": 83,
   "id": "6ff6a4c0-4b68-4720-85a0-9c01a8f402b0",
   "metadata": {},
   "outputs": [
    {
     "name": "stdout",
     "output_type": "stream",
     "text": [
      "15\n"
     ]
    }
   ],
   "source": [
    "x = lambda a : a + 10 #jeito de evitar criar uma função do zero com def e tal. Só aceita 1 expressão. Não tem como escrever uma docstring.\n",
    "print(x(5))"
   ]
  },
  {
   "cell_type": "code",
   "execution_count": 84,
   "id": "3e865239-7c21-416e-adca-e9bd8ba54f7c",
   "metadata": {},
   "outputs": [
    {
     "name": "stdout",
     "output_type": "stream",
     "text": [
      "30\n"
     ]
    }
   ],
   "source": [
    "x = lambda a, b : a * b\n",
    "print(x(5, 6))"
   ]
  },
  {
   "cell_type": "code",
   "execution_count": 85,
   "id": "6840a3f0-e314-4934-8da5-2a28b43c39e4",
   "metadata": {},
   "outputs": [
    {
     "data": {
      "text/plain": [
       "2"
      ]
     },
     "execution_count": 85,
     "metadata": {},
     "output_type": "execute_result"
    }
   ],
   "source": [
    "a = iter((2,3,4))\n",
    "next(a)"
   ]
  },
  {
   "cell_type": "code",
   "execution_count": 86,
   "id": "4a873aea-2987-4afb-829f-defc3be38049",
   "metadata": {},
   "outputs": [
    {
     "data": {
      "text/plain": [
       "3"
      ]
     },
     "execution_count": 86,
     "metadata": {},
     "output_type": "execute_result"
    }
   ],
   "source": [
    "next(a)"
   ]
  },
  {
   "cell_type": "markdown",
   "id": "c829511d-9a27-416b-9e5c-d054167827bb",
   "metadata": {},
   "source": [
    "*args e **kwargs\n",
    "*Args e **kwargs permitem que você passe um número não especificado de argumentos para uma função.\n",
    "\n",
    "Dessa forma, ao escrever uma função, você não precisa definir quantos argumentos serão passados para sua função.\n",
    "\n",
    "Observação importante: Escrever *args e **kwargs é apenas uma convenção: *args vem do inglês “arguments” (argumntos) e **kwargs vem do inglês “keyword arguments” (argumentos nomeados)."
   ]
  },
  {
   "cell_type": "markdown",
   "id": "ea51007f-d246-4f96-8d7c-2cd0aca95cad",
   "metadata": {},
   "source": [
    "Existe funções locais, função dentro de outra função. No entanto, essa função será recriada sempre que o código for executado denovo.  Esse é o conceito de nested functions."
   ]
  },
  {
   "cell_type": "code",
   "execution_count": 87,
   "id": "2ff4e461-f150-4640-ad9f-d682e1c892b6",
   "metadata": {},
   "outputs": [
    {
     "name": "stdout",
     "output_type": "stream",
     "text": [
      "<function organizar_ultima_letra.<locals>.ultima_letra at 0x000001F8B17CDF80>\n"
     ]
    },
    {
     "data": {
      "text/plain": [
       "['abc', 'def', 'ghi']"
      ]
     },
     "execution_count": 87,
     "metadata": {},
     "output_type": "execute_result"
    }
   ],
   "source": [
    " def organizar_ultima_letra(string):\n",
    "     def ultima_letra(s):\n",
    "         return s[-1]\n",
    "     print(ultima_letra)\n",
    "     return sorted(string, key = ultima_letra)\n",
    "     \n",
    "organizar_ultima_letra(['ghi','def','abc'])"
   ]
  },
  {
   "cell_type": "code",
   "execution_count": 88,
   "id": "1f2a7c1c-69fb-4d11-8a1a-7fededcf94f0",
   "metadata": {},
   "outputs": [
    {
     "name": "stdout",
     "output_type": "stream",
     "text": [
      "<function organizar_ultima_letra.<locals>.ultima_letra at 0x000001F8B17CE0C0>\n"
     ]
    },
    {
     "data": {
      "text/plain": [
       "['abc', 'def', 'ghi']"
      ]
     },
     "execution_count": 88,
     "metadata": {},
     "output_type": "execute_result"
    }
   ],
   "source": [
    "organizar_ultima_letra(['ghi','def','abc'])"
   ]
  },
  {
   "cell_type": "markdown",
   "id": "af632da3-46f7-47ba-a0d1-e53c397a28a5",
   "metadata": {},
   "source": [
    "Perceba que o local de armazenamento da função mudou."
   ]
  },
  {
   "cell_type": "markdown",
   "id": "a0f9c16b-f1a5-4ffe-abbf-ced588a8bef7",
   "metadata": {},
   "source": [
    "- Decorators\n",
    "O conceito de decorator provê uma maneira simples de modificar o comportamento de uma função sem necessariamente alterá-la.\n",
    "É uma função que aceita outra função como argumento e retorne uma função."
   ]
  },
  {
   "cell_type": "markdown",
   "id": "b50fc944-0400-4562-8bcc-d36a3d07ddfc",
   "metadata": {},
   "source": [
    "@my_decorator\n",
    "\n",
    "def my_function():\n",
    "\n",
    "    ..."
   ]
  },
  {
   "cell_type": "markdown",
   "id": "0db6f8d6-6d39-41f3-93a3-3870b53fcdad",
   "metadata": {},
   "source": [
    "É possível também utilizar classes como decorators. Perceba no exemplo abaixo como a classe de contagem 'modifica' a função de print a fim de contabilizar quantos prints houveram."
   ]
  },
  {
   "cell_type": "code",
   "execution_count": 89,
   "id": "007d70a5-5e9e-4883-90f5-debe3a1d3303",
   "metadata": {},
   "outputs": [],
   "source": [
    "class CallCount:\n",
    "    def __init__(self, f):\n",
    "        self.f = f\n",
    "        self.count = 0\n",
    "    def __call__(self, *args, **kwargs):\n",
    "        self.count += 1\n",
    "        return self.f(*args, **kwargs)\n",
    "\n",
    "@CallCount\n",
    "def hello(name):\n",
    "    print(f\"Hello, {name}!\\n\")"
   ]
  },
  {
   "cell_type": "code",
   "execution_count": 90,
   "id": "50c3c304-896c-44ed-9f02-381dfde626c7",
   "metadata": {},
   "outputs": [
    {
     "name": "stdout",
     "output_type": "stream",
     "text": [
      "Hello, Thiago!\n",
      "\n"
     ]
    }
   ],
   "source": [
    "hello(\"Thiago\")"
   ]
  },
  {
   "cell_type": "code",
   "execution_count": 91,
   "id": "fc473797-92d3-4b6e-ab03-1498b2c0e748",
   "metadata": {},
   "outputs": [
    {
     "name": "stdout",
     "output_type": "stream",
     "text": [
      "Hello, Marcelo!\n",
      "\n"
     ]
    }
   ],
   "source": [
    "hello(\"Marcelo\")"
   ]
  },
  {
   "cell_type": "code",
   "execution_count": 92,
   "id": "4960c9fb-fba1-40b9-8809-aea0f23e6a8b",
   "metadata": {},
   "outputs": [
    {
     "name": "stdout",
     "output_type": "stream",
     "text": [
      "Hello, Matheus!\n",
      "\n"
     ]
    }
   ],
   "source": [
    "hello(\"Matheus\")"
   ]
  },
  {
   "cell_type": "code",
   "execution_count": 93,
   "id": "99ed07fb-1484-4b7a-ae5d-c8277bd4e084",
   "metadata": {},
   "outputs": [
    {
     "name": "stdout",
     "output_type": "stream",
     "text": [
      "Hello, Adriana!!!\n",
      "\n"
     ]
    }
   ],
   "source": [
    "hello(\"Adriana!!\")"
   ]
  },
  {
   "cell_type": "code",
   "execution_count": 94,
   "id": "f81756ec-3668-4521-99a1-6953beeafa4a",
   "metadata": {},
   "outputs": [
    {
     "data": {
      "text/plain": [
       "4"
      ]
     },
     "execution_count": 94,
     "metadata": {},
     "output_type": "execute_result"
    }
   ],
   "source": [
    "hello.count"
   ]
  },
  {
   "cell_type": "code",
   "execution_count": 95,
   "id": "64c626a4-e6ca-4866-a782-df402d1f00b2",
   "metadata": {},
   "outputs": [
    {
     "name": "stdout",
     "output_type": "stream",
     "text": [
      "Hello, Daniela!\n",
      "\n"
     ]
    }
   ],
   "source": [
    "hello(\"Daniela\")"
   ]
  },
  {
   "cell_type": "code",
   "execution_count": 96,
   "id": "ec37d630-ccc6-4335-8550-8a8ce9571a22",
   "metadata": {},
   "outputs": [
    {
     "data": {
      "text/plain": [
       "5"
      ]
     },
     "execution_count": 96,
     "metadata": {},
     "output_type": "execute_result"
    }
   ],
   "source": [
    "hello.count"
   ]
  },
  {
   "cell_type": "markdown",
   "id": "e2303f1f-c22b-4ba1-89b6-f00aeb9cf502",
   "metadata": {},
   "source": [
    "É possível utilizar multiplos decorators. A ordem é de baixo (a partir da função) para cima. "
   ]
  },
  {
   "cell_type": "markdown",
   "id": "93d279e2-90be-4050-b44e-c313531a5127",
   "metadata": {},
   "source": [
    "É possível verificar nome e docstring de funções, classes e etc."
   ]
  },
  {
   "cell_type": "code",
   "execution_count": 97,
   "id": "1d1fc1d6-3ac7-4e7b-acbb-8db8f3950124",
   "metadata": {},
   "outputs": [
    {
     "data": {
      "text/plain": [
       "'hello'"
      ]
     },
     "execution_count": 97,
     "metadata": {},
     "output_type": "execute_result"
    }
   ],
   "source": [
    "def hello():\n",
    "    \"\"\"\n",
    "    Printa alguma coisa\n",
    "    \"\"\"\n",
    "    print('Hello')\n",
    "\n",
    "hello.__name__"
   ]
  },
  {
   "cell_type": "code",
   "execution_count": 98,
   "id": "80cf2994-d865-4404-9b7a-4f78cf16de52",
   "metadata": {},
   "outputs": [
    {
     "data": {
      "text/plain": [
       "'\\n    Printa alguma coisa\\n    '"
      ]
     },
     "execution_count": 98,
     "metadata": {},
     "output_type": "execute_result"
    }
   ],
   "source": [
    "hello.__doc__"
   ]
  },
  {
   "cell_type": "markdown",
   "id": "75017399-cc96-44a4-9e77-2c22799cc997",
   "metadata": {},
   "source": [
    "Ao usar um decorator, essas informações podem ser alteradas."
   ]
  },
  {
   "cell_type": "code",
   "execution_count": 99,
   "id": "a3b4e468-2efe-4efc-98bd-b8c183c5d06c",
   "metadata": {},
   "outputs": [
    {
     "name": "stdout",
     "output_type": "stream",
     "text": [
      "Hello\n"
     ]
    }
   ],
   "source": [
    "def noop(f):\n",
    "    def noop_wrapper():\n",
    "        \"\"\" \n",
    "        AAAAAAAA\n",
    "        \"\"\"\n",
    "        return f()\n",
    "    return noop_wrapper\n",
    "\n",
    "@noop\n",
    "def hello():\n",
    "    \"\"\"\n",
    "    Printa alguma coisa\n",
    "    \"\"\"\n",
    "    print('Hello')\n",
    "\n",
    "hello()"
   ]
  },
  {
   "cell_type": "code",
   "execution_count": 100,
   "id": "5558c8d3-d461-4976-b40b-d33fa459a2e0",
   "metadata": {},
   "outputs": [
    {
     "data": {
      "text/plain": [
       "'noop_wrapper'"
      ]
     },
     "execution_count": 100,
     "metadata": {},
     "output_type": "execute_result"
    }
   ],
   "source": [
    "hello.__name__"
   ]
  },
  {
   "cell_type": "code",
   "execution_count": 101,
   "id": "d717b736-24ec-4576-9ec4-df99a7c5df95",
   "metadata": {},
   "outputs": [
    {
     "data": {
      "text/plain": [
       "' \\n        AAAAAAAA\\n        '"
      ]
     },
     "execution_count": 101,
     "metadata": {},
     "output_type": "execute_result"
    }
   ],
   "source": [
    "hello.__doc__"
   ]
  },
  {
   "cell_type": "code",
   "execution_count": 102,
   "id": "dbb981c3-97e0-4310-9c23-4f586cf7437b",
   "metadata": {},
   "outputs": [
    {
     "name": "stdout",
     "output_type": "stream",
     "text": [
      "Hello\n"
     ]
    }
   ],
   "source": [
    "import functools\n",
    "def noop(f):\n",
    "    @functools.wraps(f) #Substitui o fato de fazermos noop_wrapper.__name__ == hello.__name__ \n",
    "    def noop_wrapper():\n",
    "        \"\"\" \n",
    "        AAAAAAAA\n",
    "        \"\"\"\n",
    "        return f()\n",
    "    return noop_wrapper\n",
    "\n",
    "@noop\n",
    "def hello():\n",
    "    \"\"\"\n",
    "    Printa alguma coisa\n",
    "    \"\"\"\n",
    "    print('Hello')\n",
    "\n",
    "hello()"
   ]
  },
  {
   "cell_type": "code",
   "execution_count": 103,
   "id": "c2275bbe-9471-419d-ad6f-4c02bc20d6f7",
   "metadata": {},
   "outputs": [
    {
     "data": {
      "text/plain": [
       "'hello'"
      ]
     },
     "execution_count": 103,
     "metadata": {},
     "output_type": "execute_result"
    }
   ],
   "source": [
    "hello.__name__"
   ]
  },
  {
   "cell_type": "code",
   "execution_count": 104,
   "id": "e0ad6003-945c-4c66-a5f1-430de16780f9",
   "metadata": {},
   "outputs": [
    {
     "data": {
      "text/plain": [
       "'\\n    Printa alguma coisa\\n    '"
      ]
     },
     "execution_count": 104,
     "metadata": {},
     "output_type": "execute_result"
    }
   ],
   "source": [
    "hello.__doc__"
   ]
  },
  {
   "cell_type": "markdown",
   "id": "8ab3e825-4d37-4f67-8ce8-f8505a6c8dcb",
   "metadata": {},
   "source": [
    "- Paradigma Programação Funcional"
   ]
  },
  {
   "cell_type": "markdown",
   "id": "f3846c8c-05d2-422b-8e54-62c8f40c8e63",
   "metadata": {},
   "source": [
    "A programação funcional é um paradigma de programação que se concentra na avaliação de expressões e na aplicação de funções matemáticas. Ela trata a computação como a avaliação de funções e evita o uso de estados mutáveis e dados compartilhados."
   ]
  },
  {
   "cell_type": "markdown",
   "id": "df67d958-b49a-44a0-bfaf-d08f58131147",
   "metadata": {},
   "source": [
    "map() vai aplicar uma função em cada item de uma lista de itens, ou seja, é um for com uma chamada da função para aplicá-la a cada item da sua lista.\n",
    "\n",
    "Ele é basicamente uma estrutura de repetição que vai aplicar uma função para cada item dentro da sua lista. Então ele vai facilitar a utilização dessas funções para que você consiga ser mais eficiente na hora de escrever o seu código."
   ]
  },
  {
   "cell_type": "code",
   "execution_count": 105,
   "id": "82362340-8136-44da-b10c-71c093dab3e6",
   "metadata": {},
   "outputs": [
    {
     "name": "stdout",
     "output_type": "stream",
     "text": [
      "[1100.0, 1650.0000000000002, 1375.0, 2750.0]\n"
     ]
    }
   ],
   "source": [
    "precos = [1000, 1500, 1250, 2500]\n",
    "\n",
    "def adicionar_imposto(preco):\n",
    "\treturn preco * 1.1\n",
    "\n",
    "\n",
    "precos_com_imposto = []\n",
    "for preco in precos:\n",
    "\tprecos_com_imposto.append(adicionar_imposto(preco))\n",
    "\n",
    "print(precos_com_imposto)"
   ]
  },
  {
   "cell_type": "code",
   "execution_count": 106,
   "id": "da1a0d1b-f2f8-4dce-b6ce-24e29356173b",
   "metadata": {},
   "outputs": [
    {
     "name": "stdout",
     "output_type": "stream",
     "text": [
      "<map object at 0x000001F8B0CFDDB0>\n"
     ]
    }
   ],
   "source": [
    "precos_com_imposto2 = map(adicionar_imposto, precos)\n",
    "\n",
    "print(precos_com_imposto2)"
   ]
  },
  {
   "cell_type": "markdown",
   "id": "754ab5ac-5562-4b88-9cc5-4e7a11b3f463",
   "metadata": {},
   "source": [
    "Ela é bem mais simples do que você estava pensando. Vai utilizar o map com a função desejada e a lista em que vai aplicar.\n",
    "\n",
    "Então o map vai pegar cada elemento dessa lista e vai aplicar a função, exatamente como faria com a estrutura de repetição.\n",
    "\n",
    "IMPORTANTE: Isso só vai funcionar para elementos que o map pode percorrer, pois ele pega os elementos e joga eles como argumento da função, então sua função também precisa tem um valor de entrada."
   ]
  },
  {
   "cell_type": "code",
   "execution_count": 107,
   "id": "d1082fb0-4ee3-47b1-9a6b-8340e4254476",
   "metadata": {},
   "outputs": [
    {
     "data": {
      "text/plain": [
       "[1100.0, 1650.0000000000002, 1375.0, 2750.0]"
      ]
     },
     "execution_count": 107,
     "metadata": {},
     "output_type": "execute_result"
    }
   ],
   "source": [
    "list(precos_com_imposto2)"
   ]
  },
  {
   "cell_type": "markdown",
   "id": "84033658-1aa5-4869-894e-6cefebc52025",
   "metadata": {},
   "source": [
    "Essa função map te evita de usar loops para executar a mesma operação em todos os itens de um iterável de entrada (uma lista, um set, uma tupla) para se construir um novo iterável."
   ]
  },
  {
   "cell_type": "markdown",
   "id": "8874bf81-5751-42ab-a387-a2d9d0e50cfe",
   "metadata": {},
   "source": [
    "A função filter do Python serve para filtrar elementos de iteráveis que satisfaçam determinadas condições.\n",
    "\n",
    "Essas condições são calculadas através de uma função que deve retornar True ou False para determinado argumento de entrada."
   ]
  },
  {
   "cell_type": "code",
   "execution_count": 108,
   "id": "a12e2bf9-fe1c-4b42-89aa-692b079ef599",
   "metadata": {},
   "outputs": [
    {
     "data": {
      "text/plain": [
       "[1, 2, 3, 5]"
      ]
     },
     "execution_count": 108,
     "metadata": {},
     "output_type": "execute_result"
    }
   ],
   "source": [
    "list(filter(lambda x: x>0, [1,2,3,-10,5,0,-20]))"
   ]
  },
  {
   "cell_type": "markdown",
   "id": "e4b19a19-7b29-42d4-b01f-452e432475f0",
   "metadata": {},
   "source": [
    "Conceito do static\n",
    "Um método estático dentro de uma classe indica que este método pode ser invocado sem a necessidade de que você tenha uma instância desta classe.\n",
    "Usos do static\n",
    "Em geral, esse modificador é usado pra métodos que criam e retornam instâncias da própria classe, no padrão singleton, mas podem ter outros usos como por exemplo operadores de string, muito comuns em bibliotecas terceirizadas."
   ]
  },
  {
   "cell_type": "code",
   "execution_count": 109,
   "id": "b60a68e2-744b-4a82-ab3e-04961ed74dae",
   "metadata": {},
   "outputs": [],
   "source": [
    "class Teste(object):\n",
    "  def metodoNormal(self):\n",
    "   print(\"Olá sou um método normal\")\n",
    "  \n",
    "  @classmethod\n",
    "  def metodoClass(cls, self): #cls = class -> analogo ao self\n",
    "    print(\"Sou um método de:\")\n",
    "    print(cls)\n",
    "    print(\"Chamado por: \")\n",
    "    print(self)\n",
    "  @staticmethod\n",
    "  def metodoStatic():\n",
    "    print(\"E sou um método estático\")\n",
    "obj = Teste()"
   ]
  },
  {
   "cell_type": "code",
   "execution_count": 110,
   "id": "67587cde-dfc0-4d40-8fba-3f85df9b6d91",
   "metadata": {},
   "outputs": [
    {
     "name": "stdout",
     "output_type": "stream",
     "text": [
      "Olá sou um método normal\n"
     ]
    }
   ],
   "source": [
    "# chamando o método normal\n",
    "obj.metodoNormal()"
   ]
  },
  {
   "cell_type": "code",
   "execution_count": 111,
   "id": "c84085e1-595a-46da-b591-4c53066baefd",
   "metadata": {},
   "outputs": [
    {
     "name": "stdout",
     "output_type": "stream",
     "text": [
      "Sou um método de:\n",
      "<class '__main__.Teste'>\n",
      "Chamado por: \n",
      "<class '__main__.Teste'>\n"
     ]
    }
   ],
   "source": [
    "# chamando método de classe pela Class e pelo Object\n",
    "Teste.metodoClass(Teste)"
   ]
  },
  {
   "cell_type": "code",
   "execution_count": 112,
   "id": "0c6bddd2-0db9-4e3d-b118-91678b95eae9",
   "metadata": {},
   "outputs": [
    {
     "name": "stdout",
     "output_type": "stream",
     "text": [
      "Sou um método de:\n",
      "<class '__main__.Teste'>\n",
      "Chamado por: \n",
      "<__main__.Teste object at 0x000001F8B0CEB4A0>\n"
     ]
    }
   ],
   "source": [
    "obj.metodoClass(obj)"
   ]
  },
  {
   "cell_type": "code",
   "execution_count": 113,
   "id": "90ae9015-e343-4f0a-966f-aabdd66a1e9d",
   "metadata": {},
   "outputs": [
    {
     "name": "stdout",
     "output_type": "stream",
     "text": [
      "E sou um método estático\n"
     ]
    }
   ],
   "source": [
    "# chamando método estático\n",
    "obj.metodoStatic()"
   ]
  },
  {
   "cell_type": "markdown",
   "id": "67f47b22-b36e-4bec-b722-8ce2ee97069b",
   "metadata": {},
   "source": [
    "@classmethod requer acesso ao objeto classe para chamar outros métodos da classe ou um construtor.\n",
    "@staticmethod não precisa de acesso, geralmente é uma implementação detalhe da classe."
   ]
  },
  {
   "cell_type": "markdown",
   "id": "1ffa469b-7d5f-4ef1-8865-b65b179862fd",
   "metadata": {},
   "source": [
    "Encapsulamento em Python:\n",
    "\n",
    "Encapsulamento é um dos pilares da programação orientada a objetos, segundo o qual procuramos esconder de clientes (usuários de uma classe) todas as informação que não são necessárias ao uso da classe.\n",
    "\n",
    "Por exemplo, suponha que precisássemos criar uma classe para armazenar informações de funcionários de uma empresa, como ilustrado no exemplo abaixo."
   ]
  },
  {
   "cell_type": "code",
   "execution_count": 114,
   "id": "714d2f1d",
   "metadata": {},
   "outputs": [],
   "source": [
    "class Funcionario:\n",
    "    def __init__(self, nome, cargo, valor_hora_trabalhada):\n",
    "        self.nome = nome\n",
    "        self.cargo = cargo\n",
    "        self.valor_hora_trabalhada = valor_hora_trabalhada\n",
    "        self.horas_trabalhadas = 0\n",
    "        self.salario = 0\n",
    "\n",
    "    def registra_hora_trabalhada(self):\n",
    "        self.horas_trabalhadas += 1\n",
    "\n",
    "    def calcula_salario(self):\n",
    "        self.salario = self.horas_trabalhadas * self.valor_hora_trabalhada"
   ]
  },
  {
   "cell_type": "markdown",
   "id": "b20b6118",
   "metadata": {},
   "source": [
    "Na classe acima, o salário de um funcionário é calculado com base no valor por hora trabalhada e na quantidade de horas trabalhadas. A classe acima é razoável, mas possui alguns problemas. Informações sigilosas de funcionários, como o salário, são expostas a clientes da classe, o que nem sempre é desejável. Além disso, clientes da classe podem simplesmente alterar o salário final de um funcionário sem utilizar a função calcula salário. Por exemplo, na implementação acima, nada impede que um cliente da classe faça algo como f.salario = 1000000, o que alteraria o salário final do funcionário sem que este seja atrelado ao número de horas trabalhadas. O mesmo problema acontece com a variável horas_trabalhadas.\n",
    "O que desejamos é encapsular (esconder) as informações de salário do funcionário."
   ]
  },
  {
   "cell_type": "markdown",
   "id": "9f828b4e",
   "metadata": {},
   "source": [
    "Em Java e C++ existe a palavra-chave private para indicar que um dado ou método não é visível fora da classe. Em Python, existe uma convenção de que dados ou métodos cujo nome começa com _ (dois _underscores) não deveriam ser acessados fora da classe, como ilustrado no exemplo abaixo."
   ]
  },
  {
   "cell_type": "code",
   "execution_count": 115,
   "id": "cb11c741",
   "metadata": {},
   "outputs": [
    {
     "name": "stdout",
     "output_type": "stream",
     "text": [
      "100000\n"
     ]
    }
   ],
   "source": [
    "class Funcionario:\n",
    "    def __init__(self, nome, cargo, valor_hora_trabalhada):\n",
    "        self.nome = nome\n",
    "        self.cargo = cargo\n",
    "        self.valor_hora_trabalhada = valor_hora_trabalhada\n",
    "        self.__horas_trabalhadas = 0 #\n",
    "        self.__salario = 0 #\n",
    "\n",
    "    def registra_hora_trabalhada(self):\n",
    "        self.horas_trabalhadas += 1\n",
    "\n",
    "    def calcula_salario(self):\n",
    "        self.__salario = self.__horas_trabalhadas * self.valor_hora_trabalhada\n",
    "\n",
    "'''\n",
    "Perceba que apesar de usarmos _ _ para que o dado não seja visível para fora da classe, ainda não consertamos o problema da variável \n",
    "poder ser alterada externamente\n",
    "'''\n",
    "pedro = Funcionario('Pedro', 'Gerente de Vendas', 50)\n",
    "pedro.__salario = 100000\n",
    "print(pedro.__salario)"
   ]
  },
  {
   "cell_type": "markdown",
   "id": "5c481e9b",
   "metadata": {},
   "source": [
    "Como impedir esse tipo de alteração?\n",
    "\n",
    "Python possui outro mecanismo para garantir que certas variáveis de uma classe não sejam alteradas. Esse mecanismo consite do uso do decorador @property, que nos permite restringir acesso a variáveis de uma classe. O exemplo abaixo ilustra o uso desse mecanismo."
   ]
  },
  {
   "cell_type": "code",
   "execution_count": 116,
   "id": "92c327f3",
   "metadata": {},
   "outputs": [
    {
     "ename": "ValueError",
     "evalue": "Impossivel alterar salario diretamente. Use a funcao calcula_salario().",
     "output_type": "error",
     "traceback": [
      "\u001b[1;31m---------------------------------------------------------------------------\u001b[0m",
      "\u001b[1;31mValueError\u001b[0m                                Traceback (most recent call last)",
      "Cell \u001b[1;32mIn[116], line 32\u001b[0m\n\u001b[0;32m     29\u001b[0m         \u001b[38;5;28mself\u001b[39m\u001b[38;5;241m.\u001b[39m__salario \u001b[38;5;241m=\u001b[39m \u001b[38;5;28mself\u001b[39m\u001b[38;5;241m.\u001b[39m__horas_trabalhadas \u001b[38;5;241m*\u001b[39m \u001b[38;5;28mself\u001b[39m\u001b[38;5;241m.\u001b[39mvalor_hora_trabalhada\n\u001b[0;32m     31\u001b[0m pedro \u001b[38;5;241m=\u001b[39m Funcionario(\u001b[38;5;124m'\u001b[39m\u001b[38;5;124mPedro\u001b[39m\u001b[38;5;124m'\u001b[39m, \u001b[38;5;124m'\u001b[39m\u001b[38;5;124mGerente de Vendas\u001b[39m\u001b[38;5;124m'\u001b[39m, \u001b[38;5;241m50\u001b[39m)\n\u001b[1;32m---> 32\u001b[0m \u001b[43mpedro\u001b[49m\u001b[38;5;241;43m.\u001b[39;49m\u001b[43msalario\u001b[49m \u001b[38;5;241m=\u001b[39m \u001b[38;5;241m100000\u001b[39m \n",
      "Cell \u001b[1;32mIn[116], line 19\u001b[0m, in \u001b[0;36mFuncionario.salario\u001b[1;34m(self, novo_salario)\u001b[0m\n\u001b[0;32m     17\u001b[0m \u001b[38;5;129m@salario\u001b[39m\u001b[38;5;241m.\u001b[39msetter\n\u001b[0;32m     18\u001b[0m \u001b[38;5;28;01mdef\u001b[39;00m \u001b[38;5;21msalario\u001b[39m(\u001b[38;5;28mself\u001b[39m, novo_salario): \n\u001b[1;32m---> 19\u001b[0m     \u001b[38;5;28;01mraise\u001b[39;00m \u001b[38;5;167;01mValueError\u001b[39;00m(\u001b[38;5;124m\"\u001b[39m\u001b[38;5;124mImpossivel alterar salario diretamente. Use a funcao calcula_salario().\u001b[39m\u001b[38;5;124m\"\u001b[39m)\n",
      "\u001b[1;31mValueError\u001b[0m: Impossivel alterar salario diretamente. Use a funcao calcula_salario()."
     ]
    }
   ],
   "source": [
    "class Funcionario:\n",
    "    def __init__(self, nome, cargo, valor_hora_trabalhada):\n",
    "        self.nome = nome\n",
    "        self.cargo = cargo\n",
    "        self.valor_hora_trabalhada = valor_hora_trabalhada\n",
    "        self.__salario = 0\n",
    "        self.__horas_trabalhadas = 0\n",
    "\n",
    "    @property\n",
    "    def salario(self): \n",
    "        return self.__salario\n",
    "    \n",
    "    @property\n",
    "    def horas_trabalhadas(self): \n",
    "        return self.__horas_trabalhadas\n",
    "\n",
    "    @salario.setter\n",
    "    def salario(self, novo_salario): \n",
    "        raise ValueError(\"Impossivel alterar salario diretamente. Use a funcao calcula_salario().\")\n",
    "    \n",
    "    @horas_trabalhadas.setter\n",
    "    def horas_trabalhadas(self, novas_horas_trabalhadas): \n",
    "        raise ValueError(\"Impossivel alterar hora trabalhada diretamente. Use a funcao registra_hora_trabalhada().\")\n",
    "\n",
    "    def registra_hora_trabalhada(self):\n",
    "        self.__horas_trabalhadas += 1\n",
    "\n",
    "    def calcula_salario(self):\n",
    "        self.__salario = self.__horas_trabalhadas * self.valor_hora_trabalhada\n",
    "\n",
    "pedro = Funcionario('Pedro', 'Gerente de Vendas', 50)\n",
    "pedro.salario = 100000 "
   ]
  },
  {
   "cell_type": "code",
   "execution_count": 117,
   "id": "7d709855",
   "metadata": {},
   "outputs": [],
   "source": [
    "for i in range(10):\n",
    "    pedro.registra_hora_trabalhada()"
   ]
  },
  {
   "cell_type": "code",
   "execution_count": 118,
   "id": "c9f947cb",
   "metadata": {},
   "outputs": [],
   "source": [
    "pedro.calcula_salario()"
   ]
  },
  {
   "cell_type": "code",
   "execution_count": 119,
   "id": "679d2475",
   "metadata": {},
   "outputs": [
    {
     "data": {
      "text/plain": [
       "500"
      ]
     },
     "execution_count": 119,
     "metadata": {},
     "output_type": "execute_result"
    }
   ],
   "source": [
    "pedro.salario"
   ]
  },
  {
   "cell_type": "code",
   "execution_count": 120,
   "id": "4f7aeae5",
   "metadata": {},
   "outputs": [
    {
     "data": {
      "text/plain": [
       "10"
      ]
     },
     "execution_count": 120,
     "metadata": {},
     "output_type": "execute_result"
    }
   ],
   "source": [
    "pedro.horas_trabalhadas"
   ]
  },
  {
   "cell_type": "markdown",
   "id": "c9c312b7",
   "metadata": {},
   "source": [
    "Representação de objetos como string: repr(obj), str(obj) e format(obj) "
   ]
  },
  {
   "cell_type": "code",
   "execution_count": 121,
   "id": "1777d91d",
   "metadata": {},
   "outputs": [],
   "source": [
    "class Position:\n",
    "\n",
    "    def __init__(self, latitude, longitude):\n",
    "        if not (-90 <= latitude <= +90):\n",
    "            raise ValueError(f\"Latitude {latitude} out of range\")\n",
    "        if not (-180 <= longitude <= +180):\n",
    "            raise ValueError(f\"Longitude {longitude} out of range\")\n",
    "        \n",
    "        self._latitude = latitude\n",
    "        self._longitude = longitude\n",
    "    \n",
    "    @property\n",
    "    def latitude(self):\n",
    "        return self.latitude\n",
    "    \n",
    "    @property\n",
    "    def longitude(self):\n",
    "        return self._longitude"
   ]
  },
  {
   "cell_type": "code",
   "execution_count": 122,
   "id": "5cdb0e28",
   "metadata": {},
   "outputs": [],
   "source": [
    "oslo = Position(60.0, 10.7)"
   ]
  },
  {
   "cell_type": "code",
   "execution_count": 123,
   "id": "f961bdc5",
   "metadata": {},
   "outputs": [
    {
     "data": {
      "text/plain": [
       "'<__main__.Position object at 0x000001F8B0974A70>'"
      ]
     },
     "execution_count": 123,
     "metadata": {},
     "output_type": "execute_result"
    }
   ],
   "source": [
    "repr(oslo)"
   ]
  },
  {
   "cell_type": "code",
   "execution_count": 124,
   "id": "68e892ff",
   "metadata": {},
   "outputs": [],
   "source": [
    "from position import * #usandop arquivo .py que fiz contendo a mesma classe acima\n",
    "\n",
    "rio = Position(20.0, 45.0)"
   ]
  },
  {
   "cell_type": "code",
   "execution_count": 125,
   "id": "211636f0",
   "metadata": {},
   "outputs": [
    {
     "data": {
      "text/plain": [
       "'<position.Position object at 0x000001F8B0975010>'"
      ]
     },
     "execution_count": 125,
     "metadata": {},
     "output_type": "execute_result"
    }
   ],
   "source": [
    "repr(rio) #mostra string com o módulo e tipo do objeto, além do endereço hexadecimal dele na memória."
   ]
  },
  {
   "cell_type": "code",
   "execution_count": 126,
   "id": "dda7edcf",
   "metadata": {},
   "outputs": [
    {
     "data": {
      "text/plain": [
       "'<position.Position object at 0x000001F8B0975010>'"
      ]
     },
     "execution_count": 126,
     "metadata": {},
     "output_type": "execute_result"
    }
   ],
   "source": [
    "str(rio)"
   ]
  },
  {
   "cell_type": "code",
   "execution_count": 127,
   "id": "b572cd0a",
   "metadata": {},
   "outputs": [
    {
     "data": {
      "text/plain": [
       "'<position.Position object at 0x000001F8B0975010>'"
      ]
     },
     "execution_count": 127,
     "metadata": {},
     "output_type": "execute_result"
    }
   ],
   "source": [
    "format(rio)"
   ]
  },
  {
   "cell_type": "markdown",
   "id": "a1a920e6",
   "metadata": {},
   "source": [
    "Parece que todos nos resultam na mesma coisa, mas há editar os diretórios _ _ repr _ _ ; _ _ format_ _; _ _ str _ _ nos possibilitará manipular isso."
   ]
  },
  {
   "cell_type": "code",
   "execution_count": 128,
   "id": "130d96e8",
   "metadata": {},
   "outputs": [
    {
     "data": {
      "text/plain": [
       "['__class__',\n",
       " '__delattr__',\n",
       " '__dir__',\n",
       " '__doc__',\n",
       " '__eq__',\n",
       " '__format__',\n",
       " '__ge__',\n",
       " '__getattribute__',\n",
       " '__getstate__',\n",
       " '__gt__',\n",
       " '__hash__',\n",
       " '__init__',\n",
       " '__init_subclass__',\n",
       " '__le__',\n",
       " '__lt__',\n",
       " '__ne__',\n",
       " '__new__',\n",
       " '__reduce__',\n",
       " '__reduce_ex__',\n",
       " '__repr__',\n",
       " '__setattr__',\n",
       " '__sizeof__',\n",
       " '__str__',\n",
       " '__subclasshook__']"
      ]
     },
     "execution_count": 128,
     "metadata": {},
     "output_type": "execute_result"
    }
   ],
   "source": [
    "dir(object) # repr -> representation"
   ]
  },
  {
   "cell_type": "code",
   "execution_count": 129,
   "id": "da437e2d",
   "metadata": {},
   "outputs": [],
   "source": [
    "class PositionVS: #Alterei o nome para diferenciar do .py\n",
    "\n",
    "    def __init__(self, latitude, longitude, name):\n",
    "        if not (-90 <= latitude <= +90):\n",
    "            raise ValueError(f\"Latitude {latitude} out of range\")\n",
    "        if not (-180 <= longitude <= +180):\n",
    "            raise ValueError(f\"Longitude {longitude} out of range\")\n",
    "        \n",
    "        self._latitude = latitude\n",
    "        self._longitude = longitude\n",
    "        self._name = name\n",
    "    \n",
    "    @property\n",
    "    def latitude(self):\n",
    "        return self._latitude\n",
    "    \n",
    "    @property\n",
    "    def longitude(self):\n",
    "        return self._longitude\n",
    "    \n",
    "    @property\n",
    "    def name(self):\n",
    "        return self._name\n",
    "    \n",
    "    def __repr__(self): #adicionando a mensagem string no nosso representation -> foco nos desenvolvedores para auxiliar debugs\n",
    "        return f\"Position of {self.name} (Lat: {self.latitude}, Long: {self.longitude})\\n\""
   ]
  },
  {
   "cell_type": "code",
   "execution_count": 130,
   "id": "5fdde902",
   "metadata": {},
   "outputs": [],
   "source": [
    "sydney = PositionVS(-33.9, 151.2, 'sydney')"
   ]
  },
  {
   "cell_type": "code",
   "execution_count": 131,
   "id": "8ffb6b48",
   "metadata": {},
   "outputs": [
    {
     "data": {
      "text/plain": [
       "'Position of sydney (Lat: -33.9, Long: 151.2)\\n'"
      ]
     },
     "execution_count": 131,
     "metadata": {},
     "output_type": "execute_result"
    }
   ],
   "source": [
    "repr(sydney)"
   ]
  },
  {
   "cell_type": "code",
   "execution_count": 132,
   "id": "7797bf7d",
   "metadata": {},
   "outputs": [
    {
     "data": {
      "text/plain": [
       "Position of sydney (Lat: -33.9, Long: 151.2)"
      ]
     },
     "execution_count": 132,
     "metadata": {},
     "output_type": "execute_result"
    }
   ],
   "source": [
    "sydney"
   ]
  },
  {
   "cell_type": "markdown",
   "id": "f3696b74",
   "metadata": {},
   "source": [
    "Forma mais 'correta' de adicionar o nome da posição na classe:"
   ]
  },
  {
   "cell_type": "code",
   "execution_count": 133,
   "id": "852e1e62",
   "metadata": {},
   "outputs": [],
   "source": [
    "# Colocando o nome da classe 'Position' no repr\n",
    "class PositionVS: #Alterei o nome para diferenciar do .py\n",
    "\n",
    "    def __init__(self, latitude, longitude):\n",
    "        if not (-90 <= latitude <= +90):\n",
    "            raise ValueError(f\"Latitude {latitude} out of range\")\n",
    "        if not (-180 <= longitude <= +180):\n",
    "            raise ValueError(f\"Longitude {longitude} out of range\")\n",
    "        \n",
    "        self._latitude = latitude\n",
    "        self._longitude = longitude\n",
    "    \n",
    "    @property\n",
    "    def latitude(self):\n",
    "        return self._latitude\n",
    "    \n",
    "    @property\n",
    "    def longitude(self):\n",
    "        return self._longitude\n",
    "    \n",
    "    \n",
    "    def __repr__(self): #adicionando a mensagem string no nosso representation -> foco nos desenvolvedores para auxiliar debugs\n",
    "        return f\"{self.__class__.__name__} (Lat: {self.latitude}, Long: {self.longitude})\\n\""
   ]
  },
  {
   "cell_type": "markdown",
   "id": "81665143",
   "metadata": {},
   "source": [
    "É possivel escrever também type(self)._ _ name_ _"
   ]
  },
  {
   "cell_type": "code",
   "execution_count": 134,
   "id": "3572d591",
   "metadata": {},
   "outputs": [
    {
     "data": {
      "text/plain": [
       "'PositionVS (Lat: -33.9, Long: 151.2)\\n'"
      ]
     },
     "execution_count": 134,
     "metadata": {},
     "output_type": "execute_result"
    }
   ],
   "source": [
    "sydney = PositionVS(-33.9, 151.2)\n",
    "repr(sydney)"
   ]
  },
  {
   "cell_type": "code",
   "execution_count": 135,
   "id": "b40f0c90",
   "metadata": {},
   "outputs": [],
   "source": [
    "#Criando funcao de typename + classes que herdarão as características da classe PositionVS\n",
    "# Colocando o nome da classe 'Position' no repr\n",
    "class PositionVS: #Alterei o nome para diferenciar do .py\n",
    "\n",
    "    def __init__(self, latitude, longitude):\n",
    "        if not (-90 <= latitude <= +90):\n",
    "            raise ValueError(f\"Latitude {latitude} out of range\")\n",
    "        if not (-180 <= longitude <= +180):\n",
    "            raise ValueError(f\"Longitude {longitude} out of range\")\n",
    "        \n",
    "        self._latitude = latitude\n",
    "        self._longitude = longitude\n",
    "    \n",
    "    @property\n",
    "    def latitude(self):\n",
    "        return self._latitude\n",
    "    \n",
    "    @property\n",
    "    def longitude(self):\n",
    "        return self._longitude\n",
    "    \n",
    "    \n",
    "    def __repr__(self): #adicionando a mensagem string no nosso representation -> foco nos desenvolvedores para auxiliar debugs\n",
    "        return f\"{typename(self)} (Lat: {self.latitude}, Long: {self.longitude})\\n\"\n",
    "    \n",
    "\n",
    "class EarthPosition(PositionVS):\n",
    "    pass\n",
    "\n",
    "class MarsPosition(PositionVS):\n",
    "    pass\n",
    "\n",
    "def typename(obj):\n",
    "    return type(obj).__name__"
   ]
  },
  {
   "cell_type": "code",
   "execution_count": 136,
   "id": "694bf5c0",
   "metadata": {},
   "outputs": [
    {
     "data": {
      "text/plain": [
       "EarthPosition (Lat: 19.82, Long: -155.47)"
      ]
     },
     "execution_count": 136,
     "metadata": {},
     "output_type": "execute_result"
    }
   ],
   "source": [
    "mauna_kea = EarthPosition(19.82, -155.47)\n",
    "mauna_kea"
   ]
  },
  {
   "cell_type": "markdown",
   "id": "5d1f3c08",
   "metadata": {},
   "source": [
    "Perceba que o nome da classe printado foi Earth Position e não PositionVS."
   ]
  },
  {
   "cell_type": "code",
   "execution_count": 137,
   "id": "e6b2605f",
   "metadata": {},
   "outputs": [
    {
     "data": {
      "text/plain": [
       "MarsPosition (Lat: 18.65, Long: -133.8)"
      ]
     },
     "execution_count": 137,
     "metadata": {},
     "output_type": "execute_result"
    }
   ],
   "source": [
    "olympus_mons = MarsPosition(18.65, -133.8)\n",
    "olympus_mons"
   ]
  },
  {
   "cell_type": "markdown",
   "id": "b54e4f15",
   "metadata": {},
   "source": [
    "Customizando str(): foco no usuário"
   ]
  },
  {
   "cell_type": "code",
   "execution_count": 138,
   "id": "2ed91dad",
   "metadata": {},
   "outputs": [],
   "source": [
    "#Criando funcao de typename + classes que herdarão as características da classe PositionVS\n",
    "# Colocando o nome da classe 'Position' no repr\n",
    "class PositionVS: #Alterei o nome para diferenciar do .py\n",
    "\n",
    "    def __init__(self, latitude, longitude):\n",
    "        if not (-90 <= latitude <= +90):\n",
    "            raise ValueError(f\"Latitude {latitude} out of range\")\n",
    "        if not (-180 <= longitude <= +180):\n",
    "            raise ValueError(f\"Longitude {longitude} out of range\")\n",
    "        \n",
    "        self._latitude = latitude\n",
    "        self._longitude = longitude\n",
    "    \n",
    "    @property\n",
    "    def latitude(self):\n",
    "        return self._latitude\n",
    "    \n",
    "    @property\n",
    "    def longitude(self):\n",
    "        return self._longitude\n",
    "    \n",
    "    @property\n",
    "    def latitude_hemisphere(self):\n",
    "        return \"N\" if self.latitude >= 0 else \"S\"\n",
    "    \n",
    "    @property\n",
    "    def longitude_hemisphere(self):\n",
    "        return \"E\" if self.longitude >= 0 else \"W\"\n",
    "    \n",
    "    def __repr__(self): #adicionando a mensagem string no nosso representation -> foco nos desenvolvedores para auxiliar debugs\n",
    "        return f\"{typename(self)} (Lat: {self.latitude}, Long: {self.longitude})\"\n",
    "    \n",
    "    def __str__(self):\n",
    "        return (f\"{self.latitude}°{self.latitude_hemisphere} ,\"\n",
    "                f\"{self.longitude}°{self.longitude_hemisphere} \")\n",
    "    \n",
    "\n",
    "class EarthPosition(PositionVS):\n",
    "    pass\n",
    "\n",
    "class MarsPosition(PositionVS):\n",
    "    pass\n",
    "\n",
    "def typename(obj):\n",
    "    return type(obj).__name__"
   ]
  },
  {
   "cell_type": "code",
   "execution_count": 139,
   "id": "a6c72486",
   "metadata": {},
   "outputs": [
    {
     "data": {
      "text/plain": [
       "'-77.5°S ,167°E '"
      ]
     },
     "execution_count": 139,
     "metadata": {},
     "output_type": "execute_result"
    }
   ],
   "source": [
    "mount_erebus = EarthPosition(-77.5,167)\n",
    "str(mount_erebus)"
   ]
  },
  {
   "cell_type": "code",
   "execution_count": 140,
   "id": "0d270bad",
   "metadata": {},
   "outputs": [
    {
     "name": "stdout",
     "output_type": "stream",
     "text": [
      "Mount Erebus is located at  -77.5°S ,167°E \n"
     ]
    }
   ],
   "source": [
    "#Perceba que __str__ tem prioridade no print externo (pro usuario)\n",
    "\n",
    "print(\"Mount Erebus is located at \", mount_erebus)"
   ]
  },
  {
   "cell_type": "markdown",
   "id": "502028c8",
   "metadata": {},
   "source": [
    "Customizando format(): "
   ]
  },
  {
   "cell_type": "code",
   "execution_count": 141,
   "id": "c42d68f4",
   "metadata": {},
   "outputs": [],
   "source": [
    "class PositionVS: #Alterei o nome para diferenciar do .py\n",
    "\n",
    "    def __init__(self, latitude, longitude):\n",
    "        if not (-90 <= latitude <= +90):\n",
    "            raise ValueError(f\"Latitude {latitude} out of range\")\n",
    "        if not (-180 <= longitude <= +180):\n",
    "            raise ValueError(f\"Longitude {longitude} out of range\")\n",
    "        \n",
    "        self._latitude = latitude\n",
    "        self._longitude = longitude\n",
    "    \n",
    "    @property\n",
    "    def latitude(self):\n",
    "        return self._latitude\n",
    "    \n",
    "    @property\n",
    "    def longitude(self):\n",
    "        return self._longitude\n",
    "    \n",
    "    @property\n",
    "    def latitude_hemisphere(self):\n",
    "        return \"N\" if self.latitude >= 0 else \"S\"\n",
    "    \n",
    "    @property\n",
    "    def longitude_hemisphere(self):\n",
    "        return \"E\" if self.longitude >= 0 else \"W\"\n",
    "    \n",
    "    def __repr__(self): #adicionando a mensagem string no nosso representation -> foco nos desenvolvedores para auxiliar debugs\n",
    "        return f\"{typename(self)} (Lat: {self.latitude}, Long: {self.longitude})\"\n",
    "    \n",
    "    def __str__(self):\n",
    "        return (f\"{self.latitude}°{self.latitude_hemisphere} ,\"\n",
    "                f\"{self.longitude}°{self.longitude_hemisphere} \")\n",
    "    \n",
    "    def __format__(self, format_spec):\n",
    "        component_format_spec = \".2f\"\n",
    "        prefix, dot, suffix = format_spec.partition(\".\") #nos permitir alterar .2f direto no format\n",
    "        if dot:\n",
    "            num_decimal_places = int(suffix)\n",
    "            component_format_spec = f\".{num_decimal_places}f\"\n",
    "        latitude = format(abs(self.latitude), component_format_spec)\n",
    "        longitude = format(abs(self.longitude), component_format_spec)\n",
    "        return (f\"{latitude}°{self.latitude_hemisphere} ,\"\n",
    "                f\"{longitude}°{self.longitude_hemisphere} \")\n",
    "\n",
    "class EarthPosition(PositionVS):\n",
    "    pass\n",
    "\n",
    "class MarsPosition(PositionVS):\n",
    "    pass\n",
    "\n",
    "def typename(obj):\n",
    "    return type(obj).__name__"
   ]
  },
  {
   "cell_type": "code",
   "execution_count": 142,
   "id": "777c1e09",
   "metadata": {},
   "outputs": [
    {
     "data": {
      "text/plain": [
       "'EarthPosition (Lat: 32.7324, Long: -70.1324)'"
      ]
     },
     "execution_count": 142,
     "metadata": {},
     "output_type": "execute_result"
    }
   ],
   "source": [
    "acongagua = EarthPosition(32.7324,-70.1324)\n",
    "repr(acongagua)"
   ]
  },
  {
   "cell_type": "code",
   "execution_count": 143,
   "id": "1ac53d0a",
   "metadata": {},
   "outputs": [
    {
     "data": {
      "text/plain": [
       "'32.7324°N ,-70.1324°W '"
      ]
     },
     "execution_count": 143,
     "metadata": {},
     "output_type": "execute_result"
    }
   ],
   "source": [
    "str(acongagua)"
   ]
  },
  {
   "cell_type": "code",
   "execution_count": 144,
   "id": "8a5db4e7",
   "metadata": {},
   "outputs": [
    {
     "data": {
      "text/plain": [
       "'A maior montanha da america do sul é 32.73°N ,70.13°W '"
      ]
     },
     "execution_count": 144,
     "metadata": {},
     "output_type": "execute_result"
    }
   ],
   "source": [
    "f\"A maior montanha da america do sul é {acongagua}\""
   ]
  },
  {
   "cell_type": "code",
   "execution_count": 145,
   "id": "0caa9bfc",
   "metadata": {},
   "outputs": [
    {
     "data": {
      "text/plain": [
       "'33°N ,70°W '"
      ]
     },
     "execution_count": 145,
     "metadata": {},
     "output_type": "execute_result"
    }
   ],
   "source": [
    "format(acongagua, \".0\")"
   ]
  },
  {
   "cell_type": "markdown",
   "id": "db8ca181",
   "metadata": {},
   "source": []
  },
  {
   "cell_type": "code",
   "execution_count": 146,
   "id": "0cc69e3b",
   "metadata": {},
   "outputs": [
    {
     "data": {
      "text/plain": [
       "SortedList([1, 3, 4, 78])"
      ]
     },
     "execution_count": 146,
     "metadata": {},
     "output_type": "execute_result"
    }
   ],
   "source": [
    "class SimpleList:\n",
    "    def __init__(self, items):\n",
    "        self._items = list(items)\n",
    "\n",
    "    def add(self, item):\n",
    "        self._items.append(item)\n",
    "\n",
    "    def __getitem__(self, index):\n",
    "        return self._items[index]\n",
    "    \n",
    "    def sort(self):\n",
    "        self._items.sort()\n",
    "        \n",
    "    def __len__(self):\n",
    "        return len(self._items)\n",
    "    \n",
    "    def __repr__(self):\n",
    "        return f'{type(self).__name__}({self._items!r})'\n",
    "\n",
    "class SortedList(SimpleList):\n",
    "    def __init__(self, items=()):\n",
    "        super().__init__(items)\n",
    "        self.sort()\n",
    "    \n",
    "    def add(self, item):\n",
    "        super().add(item)\n",
    "        self.sort()\n",
    "\n",
    "class IntList(SimpleList):\n",
    "    def __init__(self, items = ()):\n",
    "        for x in items: self._validate(x)\n",
    "        super().__init__(items)\n",
    "    \n",
    "    @staticmethod\n",
    "    def _validate(x):\n",
    "        if not isinstance(x, int):\n",
    "            raise TypeError(\"IntList only supports integer values.\")\n",
    "    \n",
    "    def add(self, item):\n",
    "        self._validate(item)\n",
    "        super().add(item)\n",
    "\n",
    "class SortedIntList(IntList, SortedList):\n",
    "    pass\n",
    "\n",
    "sl = SortedList([4, 3, 78, 1])\n",
    "sl"
   ]
  },
  {
   "cell_type": "code",
   "execution_count": 147,
   "id": "06144e41",
   "metadata": {},
   "outputs": [
    {
     "data": {
      "text/plain": [
       "4"
      ]
     },
     "execution_count": 147,
     "metadata": {},
     "output_type": "execute_result"
    }
   ],
   "source": [
    "len(sl)"
   ]
  },
  {
   "cell_type": "code",
   "execution_count": 148,
   "id": "8c51e914",
   "metadata": {},
   "outputs": [
    {
     "data": {
      "text/plain": [
       "SortedList([1, 3, 4, 55, 78])"
      ]
     },
     "execution_count": 148,
     "metadata": {},
     "output_type": "execute_result"
    }
   ],
   "source": [
    "sl.add(55)\n",
    "sl"
   ]
  },
  {
   "cell_type": "code",
   "execution_count": 149,
   "id": "55213961",
   "metadata": {},
   "outputs": [
    {
     "data": {
      "text/plain": [
       "SortedIntList([3, 23, 42])"
      ]
     },
     "execution_count": 149,
     "metadata": {},
     "output_type": "execute_result"
    }
   ],
   "source": [
    "sil = SortedIntList([42,23,3])\n",
    "sil"
   ]
  },
  {
   "cell_type": "code",
   "execution_count": 150,
   "id": "73bf4724",
   "metadata": {},
   "outputs": [
    {
     "ename": "TypeError",
     "evalue": "IntList only supports integer values.",
     "output_type": "error",
     "traceback": [
      "\u001b[1;31m---------------------------------------------------------------------------\u001b[0m",
      "\u001b[1;31mTypeError\u001b[0m                                 Traceback (most recent call last)",
      "Cell \u001b[1;32mIn[150], line 1\u001b[0m\n\u001b[1;32m----> 1\u001b[0m \u001b[43mSortedIntList\u001b[49m\u001b[43m(\u001b[49m\u001b[43m[\u001b[49m\u001b[38;5;241;43m3\u001b[39;49m\u001b[43m,\u001b[49m\u001b[43m \u001b[49m\u001b[38;5;241;43m2\u001b[39;49m\u001b[43m,\u001b[49m\u001b[43m \u001b[49m\u001b[38;5;124;43m\"\u001b[39;49m\u001b[38;5;124;43m1\u001b[39;49m\u001b[38;5;124;43m\"\u001b[39;49m\u001b[43m]\u001b[49m\u001b[43m)\u001b[49m\n",
      "Cell \u001b[1;32mIn[146], line 31\u001b[0m, in \u001b[0;36mIntList.__init__\u001b[1;34m(self, items)\u001b[0m\n\u001b[0;32m     30\u001b[0m \u001b[38;5;28;01mdef\u001b[39;00m \u001b[38;5;21m__init__\u001b[39m(\u001b[38;5;28mself\u001b[39m, items \u001b[38;5;241m=\u001b[39m ()):\n\u001b[1;32m---> 31\u001b[0m     \u001b[38;5;28;01mfor\u001b[39;00m x \u001b[38;5;129;01min\u001b[39;00m items: \u001b[38;5;28;43mself\u001b[39;49m\u001b[38;5;241;43m.\u001b[39;49m\u001b[43m_validate\u001b[49m\u001b[43m(\u001b[49m\u001b[43mx\u001b[49m\u001b[43m)\u001b[49m\n\u001b[0;32m     32\u001b[0m     \u001b[38;5;28msuper\u001b[39m()\u001b[38;5;241m.\u001b[39m\u001b[38;5;21m__init__\u001b[39m(items)\n",
      "Cell \u001b[1;32mIn[146], line 37\u001b[0m, in \u001b[0;36mIntList._validate\u001b[1;34m(x)\u001b[0m\n\u001b[0;32m     34\u001b[0m \u001b[38;5;129m@staticmethod\u001b[39m\n\u001b[0;32m     35\u001b[0m \u001b[38;5;28;01mdef\u001b[39;00m \u001b[38;5;21m_validate\u001b[39m(x):\n\u001b[0;32m     36\u001b[0m     \u001b[38;5;28;01mif\u001b[39;00m \u001b[38;5;129;01mnot\u001b[39;00m \u001b[38;5;28misinstance\u001b[39m(x, \u001b[38;5;28mint\u001b[39m):\n\u001b[1;32m---> 37\u001b[0m         \u001b[38;5;28;01mraise\u001b[39;00m \u001b[38;5;167;01mTypeError\u001b[39;00m(\u001b[38;5;124m\"\u001b[39m\u001b[38;5;124mIntList only supports integer values.\u001b[39m\u001b[38;5;124m\"\u001b[39m)\n",
      "\u001b[1;31mTypeError\u001b[0m: IntList only supports integer values."
     ]
    }
   ],
   "source": [
    "SortedIntList([3, 2, \"1\"])"
   ]
  },
  {
   "cell_type": "code",
   "execution_count": 151,
   "id": "3e540dcf",
   "metadata": {},
   "outputs": [],
   "source": [
    "sil.add(1)#adicionando novos numeros"
   ]
  },
  {
   "cell_type": "code",
   "execution_count": 152,
   "id": "ce6921bd",
   "metadata": {},
   "outputs": [
    {
     "data": {
      "text/plain": [
       "SortedIntList([1, 3, 23, 42])"
      ]
     },
     "execution_count": 152,
     "metadata": {},
     "output_type": "execute_result"
    }
   ],
   "source": [
    "sil"
   ]
  },
  {
   "cell_type": "code",
   "execution_count": 153,
   "id": "4780194c",
   "metadata": {},
   "outputs": [
    {
     "data": {
      "text/plain": [
       "(__main__.SortedIntList,\n",
       " __main__.IntList,\n",
       " __main__.SortedList,\n",
       " __main__.SimpleList,\n",
       " object)"
      ]
     },
     "execution_count": 153,
     "metadata": {},
     "output_type": "execute_result"
    }
   ],
   "source": [
    "#Method resolution order\n",
    "SortedIntList.__mro__"
   ]
  },
  {
   "cell_type": "code",
   "execution_count": 154,
   "id": "329af059",
   "metadata": {},
   "outputs": [],
   "source": [
    "class Animal:\n",
    "    @classmethod\n",
    "    def description(cls):\n",
    "        return \"An animal\"\n",
    "\n",
    "class Bird(Animal):\n",
    "    @classmethod\n",
    "    def description(cls):\n",
    "        return super().description() + \" with wings\"\n",
    "\n",
    "class Flamingo(Bird):\n",
    "    @classmethod\n",
    "    def description(cls):\n",
    "        print(super())\n",
    "        return super().description() + \" and fabulous pink feathers\""
   ]
  },
  {
   "cell_type": "code",
   "execution_count": 155,
   "id": "a205c2d4",
   "metadata": {},
   "outputs": [
    {
     "data": {
      "text/plain": [
       "<bound method Flamingo.description of <class '__main__.Flamingo'>>"
      ]
     },
     "execution_count": 155,
     "metadata": {},
     "output_type": "execute_result"
    }
   ],
   "source": [
    "Animal.description\n",
    "Bird.description\n",
    "Flamingo.description"
   ]
  },
  {
   "cell_type": "code",
   "execution_count": 156,
   "id": "e9468315",
   "metadata": {},
   "outputs": [
    {
     "name": "stdout",
     "output_type": "stream",
     "text": [
      "<super: <class 'Flamingo'>, <Flamingo object>>\n"
     ]
    },
    {
     "data": {
      "text/plain": [
       "'An animal with wings and fabulous pink feathers'"
      ]
     },
     "execution_count": 156,
     "metadata": {},
     "output_type": "execute_result"
    }
   ],
   "source": [
    "Flamingo.description()"
   ]
  },
  {
   "cell_type": "markdown",
   "id": "5747641d",
   "metadata": {},
   "source": [
    "- Data Classes:"
   ]
  },
  {
   "cell_type": "code",
   "execution_count": 157,
   "id": "0ef03dd7",
   "metadata": {},
   "outputs": [
    {
     "name": "stdout",
     "output_type": "stream",
     "text": [
      "Decorating Location with auto_repr\n",
      "__module__ __main__\n",
      "__init__ <function Location.__init__ at 0x000001F8B18AACA0>\n",
      "name <property object at 0x000001F8B17DF9C0>\n",
      "position <property object at 0x000001F8B17DE390>\n",
      "__str__ <function Location.__str__ at 0x000001F8B18A99E0>\n",
      "__dict__ <attribute '__dict__' of 'Location' objects>\n",
      "__weakref__ <attribute '__weakref__' of 'Location' objects>\n",
      "__doc__ None\n",
      "__init__ parameter names:  ['name', 'position']\n"
     ]
    }
   ],
   "source": [
    "import inspect\n",
    "def auto_repr(cls):\n",
    "    print(f\"Decorating {cls.__name__} with auto_repr\")\n",
    "    members = vars(cls)\n",
    "    for name, member in members.items():\n",
    "        print(name, member)\n",
    "    \n",
    "    if \"__repr__\" in members:\n",
    "        raise TypeError(f\"{cls.__name__} already defines __repr__\")\n",
    "    \n",
    "    if \"__init__\" not in members:\n",
    "        raise TypeError(f\"{cls.__name__} does not override __init__\")\n",
    "    \n",
    "    sig = inspect.signature(cls.__init__)\n",
    "    parameter_names = list(sig.parameters)[1:]\n",
    "    print(\"__init__ parameter names: \", parameter_names)\n",
    "\n",
    "    return cls\n",
    "\n",
    "@auto_repr\n",
    "class Location:\n",
    "\n",
    "    def __init__(self, name, position):\n",
    "        self._name = name\n",
    "        self._position = position\n",
    "    \n",
    "    @property\n",
    "    def name(self):\n",
    "        return self._name\n",
    "    \n",
    "    @property\n",
    "    def position(self):\n",
    "        return self._position\n",
    "    \n",
    "    def __str__(self):\n",
    "        return self.name"
   ]
  },
  {
   "cell_type": "code",
   "execution_count": 158,
   "id": "05a99ca0",
   "metadata": {},
   "outputs": [
    {
     "data": {
      "text/plain": [
       "Location(name='Paris', position=PositionVS (Lat: 48.8, Long: 2.3))"
      ]
     },
     "execution_count": 158,
     "metadata": {},
     "output_type": "execute_result"
    }
   ],
   "source": [
    "#Aplicando modulo de Data Class na mesma classe tratada anteriormente (Location e PositionVS):\n",
    "from dataclasses import dataclass\n",
    "\n",
    "@dataclass(eq=True, frozen=True) #Frozen -> imutável --> traz coerência à classe\n",
    "class Location:\n",
    "    name: str\n",
    "    position: Position\n",
    "\n",
    "    def __post_init__(self):\n",
    "        if self.name == \"\":\n",
    "            raise ValueError(\"Location name cannot be empty!\")\n",
    "\n",
    "paris = Location(\"Paris\", PositionVS(48.8, 2.3))\n",
    "paris\n"
   ]
  },
  {
   "cell_type": "markdown",
   "id": "c9e6ee71",
   "metadata": {},
   "source": [
    "- Decimal module: Controle de calculos, os problemas em se misturar tipos numéricos e a relação entre Decimal e outros tipos."
   ]
  },
  {
   "cell_type": "code",
   "execution_count": 159,
   "id": "d54d3953",
   "metadata": {},
   "outputs": [
    {
     "data": {
      "text/plain": [
       "Context(prec=28, rounding=ROUND_HALF_EVEN, Emin=-999999, Emax=999999, capitals=1, clamp=0, flags=[], traps=[InvalidOperation, DivisionByZero, Overflow])"
      ]
     },
     "execution_count": 159,
     "metadata": {},
     "output_type": "execute_result"
    }
   ],
   "source": [
    "import decimal\n",
    "decimal.getcontext()"
   ]
  },
  {
   "cell_type": "code",
   "execution_count": 160,
   "id": "ffa06391",
   "metadata": {},
   "outputs": [
    {
     "data": {
      "text/plain": [
       "Decimal('0.6')"
      ]
     },
     "execution_count": 160,
     "metadata": {},
     "output_type": "execute_result"
    }
   ],
   "source": [
    "from decimal import Decimal\n",
    "\n",
    "Decimal('0.8') - Decimal('0.2') #usar string garante precisão do decimal"
   ]
  },
  {
   "cell_type": "code",
   "execution_count": 161,
   "id": "d9824bb6",
   "metadata": {},
   "outputs": [
    {
     "data": {
      "text/plain": [
       "Decimal('0.6000000000000000333066907388')"
      ]
     },
     "execution_count": 161,
     "metadata": {},
     "output_type": "execute_result"
    }
   ],
   "source": [
    "Decimal(0.8) - Decimal(0.2) #usar int faz o Decimal ler como float. Perde precisão."
   ]
  },
  {
   "cell_type": "code",
   "execution_count": 162,
   "id": "f4dbaad8",
   "metadata": {},
   "outputs": [
    {
     "data": {
      "text/plain": [
       "[3]"
      ]
     },
     "execution_count": 162,
     "metadata": {},
     "output_type": "execute_result"
    }
   ],
   "source": [
    "list(soma(1,2))"
   ]
  },
  {
   "cell_type": "code",
   "execution_count": 163,
   "id": "87fc225b",
   "metadata": {},
   "outputs": [
    {
     "data": {
      "text/plain": [
       "Fraction(2, 3)"
      ]
     },
     "execution_count": 163,
     "metadata": {},
     "output_type": "execute_result"
    }
   ],
   "source": [
    " from fractions import Fraction #Util para performance\n",
    "\n",
    "two_thirds = Fraction(2,3)\n",
    "two_thirds"
   ]
  },
  {
   "cell_type": "code",
   "execution_count": 164,
   "id": "d63059f2",
   "metadata": {},
   "outputs": [
    {
     "data": {
      "text/plain": [
       "Fraction(1, 2)"
      ]
     },
     "execution_count": 164,
     "metadata": {},
     "output_type": "execute_result"
    }
   ],
   "source": [
    "Fraction(0.5)"
   ]
  },
  {
   "cell_type": "code",
   "execution_count": 165,
   "id": "29158cc4",
   "metadata": {},
   "outputs": [
    {
     "data": {
      "text/plain": [
       "Fraction(3602879701896397, 36028797018963968)"
      ]
     },
     "execution_count": 165,
     "metadata": {},
     "output_type": "execute_result"
    }
   ],
   "source": [
    "Fraction(0.1) "
   ]
  },
  {
   "cell_type": "code",
   "execution_count": 169,
   "id": "014d6af1",
   "metadata": {},
   "outputs": [
    {
     "data": {
      "text/plain": [
       "complex"
      ]
     },
     "execution_count": 169,
     "metadata": {},
     "output_type": "execute_result"
    }
   ],
   "source": [
    "type(2j) #lê j como numero complexo\n",
    "#3 + 4j"
   ]
  },
  {
   "cell_type": "markdown",
   "id": "aace898e",
   "metadata": {},
   "source": [
    "import math n funciona pra numeros complexos, mas para isso existe cmath"
   ]
  },
  {
   "cell_type": "markdown",
   "id": "b9c69c5b",
   "metadata": {},
   "source": [
    "- Datas:"
   ]
  },
  {
   "cell_type": "code",
   "execution_count": 170,
   "id": "2e336f8b",
   "metadata": {},
   "outputs": [
    {
     "data": {
      "text/plain": [
       "datetime.date(2014, 1, 6)"
      ]
     },
     "execution_count": 170,
     "metadata": {},
     "output_type": "execute_result"
    }
   ],
   "source": [
    "import datetime\n",
    "\n",
    "datetime.date(year = 2014, month = 1, day = 6)"
   ]
  },
  {
   "cell_type": "code",
   "execution_count": 171,
   "id": "40bac3f7",
   "metadata": {},
   "outputs": [
    {
     "data": {
      "text/plain": [
       "datetime.date(2024, 1, 15)"
      ]
     },
     "execution_count": 171,
     "metadata": {},
     "output_type": "execute_result"
    }
   ],
   "source": [
    "datetime.date.today()"
   ]
  },
  {
   "cell_type": "code",
   "execution_count": 172,
   "id": "3c20c687",
   "metadata": {},
   "outputs": [
    {
     "data": {
      "text/plain": [
       "'Monday 15 January 2024'"
      ]
     },
     "execution_count": 172,
     "metadata": {},
     "output_type": "execute_result"
    }
   ],
   "source": [
    "d = datetime.date.today()\n",
    "d.strftime('%A %d %B %Y')"
   ]
  },
  {
   "cell_type": "code",
   "execution_count": 173,
   "id": "56804fac",
   "metadata": {},
   "outputs": [
    {
     "data": {
      "text/plain": [
       "datetime.datetime(2024, 1, 15, 11, 10, 30, 286761)"
      ]
     },
     "execution_count": 173,
     "metadata": {},
     "output_type": "execute_result"
    }
   ],
   "source": [
    "from datetime import datetime as Datetime\n",
    "\n",
    "datetime.datetime.today()"
   ]
  },
  {
   "cell_type": "code",
   "execution_count": 175,
   "id": "e08d9652",
   "metadata": {},
   "outputs": [
    {
     "data": {
      "text/plain": [
       "datetime.timedelta(days=3563, seconds=53400)"
      ]
     },
     "execution_count": 175,
     "metadata": {},
     "output_type": "execute_result"
    }
   ],
   "source": [
    "a = datetime.datetime(year = 2014, month = 4, day = 13, hour = 21, minute = 10)\n",
    "b = datetime.datetime(year = 2024, month = 1, day = 15, hour = 12, minute = 00)\n",
    "\n",
    "b - a"
   ]
  },
  {
   "cell_type": "markdown",
   "id": "55818bd7",
   "metadata": {},
   "source": [
    "Montando um iterador do zero:"
   ]
  },
  {
   "cell_type": "code",
   "execution_count": 186,
   "id": "e7979174",
   "metadata": {},
   "outputs": [],
   "source": [
    "class LevelOrderIterator:\n",
    "\n",
    "    def __init__(self, sequence):\n",
    "        self._sequence = sequence\n",
    "        self._index = 0\n",
    "    \n",
    "    def __next__(self):\n",
    "        if self._index >= len(self._sequence):\n",
    "            raise StopIteration\n",
    "        result = self._sequence[self._index]\n",
    "        self._index += 1\n",
    "        return result \n",
    "\n",
    "exp_tree = ['*','+','-','a','b','c','d']\n",
    "iterator = LevelOrderIterator(exp_tree)\n"
   ]
  },
  {
   "cell_type": "code",
   "execution_count": 184,
   "id": "d24179e8",
   "metadata": {},
   "outputs": [
    {
     "ename": "StopIteration",
     "evalue": "",
     "output_type": "error",
     "traceback": [
      "\u001b[1;31m---------------------------------------------------------------------------\u001b[0m",
      "\u001b[1;31mStopIteration\u001b[0m                             Traceback (most recent call last)",
      "Cell \u001b[1;32mIn[184], line 1\u001b[0m\n\u001b[1;32m----> 1\u001b[0m \u001b[38;5;28;43mnext\u001b[39;49m\u001b[43m(\u001b[49m\u001b[43miterator\u001b[49m\u001b[43m)\u001b[49m\n",
      "Cell \u001b[1;32mIn[176], line 9\u001b[0m, in \u001b[0;36mLevelOrderIterator.__next__\u001b[1;34m(self)\u001b[0m\n\u001b[0;32m      7\u001b[0m \u001b[38;5;28;01mdef\u001b[39;00m \u001b[38;5;21m__next__\u001b[39m(\u001b[38;5;28mself\u001b[39m):\n\u001b[0;32m      8\u001b[0m     \u001b[38;5;28;01mif\u001b[39;00m \u001b[38;5;28mself\u001b[39m\u001b[38;5;241m.\u001b[39m_index \u001b[38;5;241m>\u001b[39m\u001b[38;5;241m=\u001b[39m \u001b[38;5;28mlen\u001b[39m(\u001b[38;5;28mself\u001b[39m\u001b[38;5;241m.\u001b[39m_sequence):\n\u001b[1;32m----> 9\u001b[0m         \u001b[38;5;28;01mraise\u001b[39;00m \u001b[38;5;167;01mStopIteration\u001b[39;00m\n\u001b[0;32m     10\u001b[0m     result \u001b[38;5;241m=\u001b[39m \u001b[38;5;28mself\u001b[39m\u001b[38;5;241m.\u001b[39m_sequence[\u001b[38;5;28mself\u001b[39m\u001b[38;5;241m.\u001b[39m_index]\n\u001b[0;32m     11\u001b[0m     \u001b[38;5;28mself\u001b[39m\u001b[38;5;241m.\u001b[39m_index \u001b[38;5;241m+\u001b[39m\u001b[38;5;241m=\u001b[39m \u001b[38;5;241m1\u001b[39m\n",
      "\u001b[1;31mStopIteration\u001b[0m: "
     ]
    }
   ],
   "source": [
    "next(iterator)"
   ]
  },
  {
   "cell_type": "markdown",
   "id": "31112e5f",
   "metadata": {},
   "source": [
    "Convenção para construção de código: (dar uma olhada em test_sorted_frozen_set.py e sorted_frozen_set.py)"
   ]
  },
  {
   "cell_type": "code",
   "execution_count": 199,
   "id": "73d228a6",
   "metadata": {},
   "outputs": [],
   "source": [
    "import unittest\n",
    "from sorted_frozen_set import SortedFrozenSet"
   ]
  },
  {
   "cell_type": "markdown",
   "id": "667ca5f5",
   "metadata": {},
   "source": [
    " - Protocolo Container: testando código com base em in e not in; método especial _ _ contains_ _"
   ]
  },
  {
   "cell_type": "markdown",
   "id": "fda46d07",
   "metadata": {},
   "source": [
    "- Protocolo Sized: "
   ]
  },
  {
   "cell_type": "markdown",
   "id": "10501277",
   "metadata": {},
   "source": [
    "- Protocolo iterador"
   ]
  },
  {
   "cell_type": "markdown",
   "id": "6c3cf279",
   "metadata": {},
   "source": [
    "- Protocolo Sequencial:"
   ]
  },
  {
   "cell_type": "markdown",
   "id": "577bebc1",
   "metadata": {},
   "source": [
    "- Robust Resource and Error Handling"
   ]
  },
  {
   "cell_type": "code",
   "execution_count": 211,
   "id": "4817f17e",
   "metadata": {},
   "outputs": [
    {
     "data": {
      "text/plain": [
       "2.5"
      ]
     },
     "execution_count": 211,
     "metadata": {},
     "output_type": "execute_result"
    }
   ],
   "source": [
    "from median import *\n",
    "\n",
    "median([1, 2, 3, 4])"
   ]
  },
  {
   "cell_type": "code",
   "execution_count": 212,
   "id": "c0fefe7f",
   "metadata": {},
   "outputs": [
    {
     "ename": "IndexError",
     "evalue": "list index out of range",
     "output_type": "error",
     "traceback": [
      "\u001b[1;31m---------------------------------------------------------------------------\u001b[0m",
      "\u001b[1;31mIndexError\u001b[0m                                Traceback (most recent call last)",
      "Cell \u001b[1;32mIn[212], line 1\u001b[0m\n\u001b[1;32m----> 1\u001b[0m \u001b[43mmedian\u001b[49m\u001b[43m(\u001b[49m\u001b[43m[\u001b[49m\u001b[43m]\u001b[49m\u001b[43m)\u001b[49m\n",
      "File \u001b[1;32mc:\\Users\\thiago.cunha\\median.py:6\u001b[0m, in \u001b[0;36mmedian\u001b[1;34m(iterable)\u001b[0m\n\u001b[0;32m      4\u001b[0m \u001b[38;5;28;01mif\u001b[39;00m \u001b[38;5;28mlen\u001b[39m(items)\u001b[38;5;241m%\u001b[39m \u001b[38;5;241m2\u001b[39m \u001b[38;5;241m!=\u001b[39m \u001b[38;5;241m0\u001b[39m:\n\u001b[0;32m      5\u001b[0m     \u001b[38;5;28;01mreturn\u001b[39;00m items[median_index]\n\u001b[1;32m----> 6\u001b[0m \u001b[38;5;28;01mreturn\u001b[39;00m (\u001b[43mitems\u001b[49m\u001b[43m[\u001b[49m\u001b[43mmedian_index\u001b[49m\u001b[43m]\u001b[49m \u001b[38;5;241m+\u001b[39m items[median_index \u001b[38;5;241m+\u001b[39m \u001b[38;5;241m1\u001b[39m]) \u001b[38;5;241m/\u001b[39m \u001b[38;5;241m2\u001b[39m\n",
      "\u001b[1;31mIndexError\u001b[0m: list index out of range"
     ]
    }
   ],
   "source": [
    "median([])"
   ]
  },
  {
   "cell_type": "markdown",
   "id": "aec2426e",
   "metadata": {},
   "source": [
    "Context Managers:"
   ]
  },
  {
   "cell_type": "code",
   "execution_count": 2,
   "id": "06530f2c",
   "metadata": {},
   "outputs": [],
   "source": [
    "class LoggingContextManager:\n",
    "\n",
    "    def __enter__(self):\n",
    "        print('LoggingContextManager.__enter__()')\n",
    "        return \"You're in a with-block!\"\n",
    "    \n",
    "    def __exit__(self, exc_type, exc_val, exc_tb):\n",
    "        print('LoggingContextManager.__exit__({}, {}, {})'.format(\n",
    "            exc_type, exc_val, exc_tb))\n",
    "        return \n"
   ]
  },
  {
   "cell_type": "code",
   "execution_count": 3,
   "id": "d224abfc",
   "metadata": {},
   "outputs": [
    {
     "name": "stdout",
     "output_type": "stream",
     "text": [
      "LoggingContextManager.__enter__()\n",
      "You're in a with-block!\n",
      "LoggingContextManager.__exit__(None, None, None)\n"
     ]
    }
   ],
   "source": [
    "with LoggingContextManager() as x: #forma compacta do python3 de usar try/finally -> ler PEP343 protocolos\n",
    "    print(x)"
   ]
  },
  {
   "cell_type": "code",
   "execution_count": 5,
   "id": "c4148f55",
   "metadata": {},
   "outputs": [],
   "source": [
    "#classe que salve prints em certo contexto -> bom exemplo de context manager. Nesse caso, implementar try-finally talvez afetasse a funcionalidade\n",
    "# em casos de erro. Poderiamos perder os prints passados, por exemplo.\n",
    "\n",
    "from sys import stdout\n",
    "\n",
    "class PrintMock():\n",
    "    def __enter__(self):\n",
    "        self.old_print = stdout.write\n",
    "        self.file = open('log.txt','a')\n",
    "        stdout.write = self.log\n",
    "    \n",
    "    def log(self, arg): #arg = argumento q será printado\n",
    "        self.file.write('{}\\n'.format(arg))\n",
    "    \n",
    "    def __exit__(self, type, value, traceback):\n",
    "        stdout.write = self.old_print #ao sair do programa, volta ao estado inicial\n",
    "    \n",
    "with PrintMock():\n",
    "    print('Olá')\n",
    "    print('Como vc vai?')\n",
    "    print('Testeeee\\n\\nTEsteeee')\n",
    "\n"
   ]
  },
  {
   "cell_type": "code",
   "execution_count": 10,
   "id": "7ddbd794",
   "metadata": {},
   "outputs": [
    {
     "name": "stdout",
     "output_type": "stream",
     "text": [
      "starting transaction 0\n"
     ]
    }
   ],
   "source": [
    "#Exemplo da utilização de multiplos context managers \n",
    "from contextlib import contextmanager\n",
    "\n",
    "class Connection:\n",
    "\n",
    "    def __init__(self):\n",
    "        self.xid = 0\n",
    "    \n",
    "    def _start_transaction(self):\n",
    "        print('starting transaction', self.xid)\n",
    "        rslt = self.xid\n",
    "        self.xid = self.xid + 1 #Implementa um id pra quando começar uma conexão\n",
    "        return rslt\n",
    "    \n",
    "    def _commit_transaction(self, xid):\n",
    "        print('committing transaction', xid)\n",
    "    \n",
    "    def _rollback_transaction(self, xid):\n",
    "        print('rolling back transaction', xid)\n",
    "    \n",
    "\n",
    "class Transaction:\n",
    "\n",
    "    def __init__(self, conn):\n",
    "        self.conn = conn\n",
    "        self.xid = conn._start_transaction()\n",
    "    \n",
    "    def commit(self):\n",
    "        self.conn._commit_transaction(self.xid)\n",
    "    \n",
    "    def rollback(self):\n",
    "        self.conn._rollback_transaction(self.xid)\n",
    "\n",
    "@contextmanager\n",
    "def start_transaction(connection):\n",
    "    tx = Transaction(connection)\n",
    "\n",
    "    try:\n",
    "        yield\n",
    "    except:\n",
    "        tx.rollback()\n",
    "        raise\n",
    "\n",
    "    tx.commit()\n",
    "    \n",
    "\n",
    "conn = Connection()\n",
    "xact = Transaction(conn)\n"
   ]
  },
  {
   "cell_type": "code",
   "execution_count": 7,
   "id": "b4e279e1",
   "metadata": {},
   "outputs": [
    {
     "name": "stdout",
     "output_type": "stream",
     "text": [
      "committing transaction 0\n"
     ]
    }
   ],
   "source": [
    "xact.commit()"
   ]
  },
  {
   "cell_type": "code",
   "execution_count": 11,
   "id": "0e464f41",
   "metadata": {},
   "outputs": [
    {
     "name": "stdout",
     "output_type": "stream",
     "text": [
      "starting transaction 1\n",
      "transaction => 2 4\n",
      "committing transaction 1\n"
     ]
    }
   ],
   "source": [
    "try:\n",
    "    with start_transaction(conn) as tx:\n",
    "        x = 1+1\n",
    "        y = x+2\n",
    "        print(f'transaction => {x} {y}')\n",
    "except ValueError:\n",
    "    assert False\n"
   ]
  },
  {
   "cell_type": "markdown",
   "id": "331f6145",
   "metadata": {},
   "source": [
    " - Concurrency mechanism: threading API, multiprocessing, asyncio..."
   ]
  },
  {
   "cell_type": "markdown",
   "id": "7627d9a4",
   "metadata": {},
   "source": [
    "Moore's Law (motivação) -> aceleração dos processadores (dobram de velocidade a cada 2 anos). \n",
    "estagnação -> necessidade de construção CPU multicore \n",
    "\n",
    "Concurrency -> é a execução de múltiplas sequências de instruções ao mesmo tempo. "
   ]
  },
  {
   "cell_type": "markdown",
   "id": "e0e6db31",
   "metadata": {},
   "source": [
    "Paralelismo -> multicore (cada um tem sua cozinha)\n",
    "Concorrência -> um processador aproveitando a ociosidade de um recurso (um forno cabendo mais pratos)."
   ]
  },
  {
   "cell_type": "markdown",
   "id": "7b150e3b",
   "metadata": {},
   "source": [
    "Basicamente, se sua aplicação Python está executando operações vinculadas à CPU, como processamento de números ou manipulação de texto, opte pelo paralelismo. A simultaneidade não trará muito benefícios nesses cenários. \n",
    "\n",
    ">> Paralelismo -> CPU Bound\n",
    "\n",
    ">>Concorrência -> IO Bound"
   ]
  },
  {
   "cell_type": "markdown",
   "id": "6120ffbf",
   "metadata": {},
   "source": [
    "> Concorrência é sobre LIDAR com várias coisas ao mesmo tempo, enquanto Paralelismo é sobre FAZER várias coisas ao mesmo tempo - Rob Pike"
   ]
  },
  {
   "cell_type": "markdown",
   "id": "27bcea0a",
   "metadata": {},
   "source": [
    "Programação Paralela vs Programação Assincrona"
   ]
  },
  {
   "cell_type": "code",
   "execution_count": 3,
   "id": "69f0c44c",
   "metadata": {},
   "outputs": [
    {
     "name": "stdout",
     "output_type": "stream",
     "text": [
      "doing some work in the thread\n",
      "echo: text\n"
     ]
    }
   ],
   "source": [
    "#Creating threads:\n",
    "\n",
    "import threading\n",
    "\n",
    "def do_some_work(val):\n",
    "    print('doing some work in the thread')\n",
    "    print('echo: {}'.format(val))\n",
    "    return\n",
    "\n",
    "val = 'text'\n",
    "t = threading.Thread(target = do_some_work, args = (val,))\n",
    "t.start()\n",
    "t.join() #suspende a thread até que a outra esteja completa"
   ]
  },
  {
   "cell_type": "markdown",
   "id": "c3658f5f",
   "metadata": {},
   "source": [
    " - Como Threads funcionam"
   ]
  },
  {
   "cell_type": "markdown",
   "id": "c69807b2",
   "metadata": {},
   "source": [
    "No caso do código acima, temos que o Main Thread inicia e fica responsável por rodar o código como um todo (import, def, val = string, etc). A variável t é o inicio da criação do Thread-1, vai dar start e join (a partir do join, a Main Thread fica vinculada ao Thread-1, ou seja, deve estar bloqueada caso suas funções tenham terminado a fim de esperar a Thread-1 acabar de rodar). A Thread-1 fica responsável por rodar a função com o argumento dado (ou seja, aqui ocorrerá os prints). Após isso, Thread-1 finaliza e a Main Thread pode voltar a funcionar."
   ]
  },
  {
   "cell_type": "code",
   "execution_count": 12,
   "id": "99d0c0c4",
   "metadata": {},
   "outputs": [
    {
     "name": "stdout",
     "output_type": "stream",
     "text": [
      "ABC: 1\n",
      "\n",
      "XYZ: 1\n",
      "\n",
      "ABC: 2\n",
      "\n",
      "XYZ: 2\n",
      "\n",
      "XYZ: 3\n",
      "\n",
      "ABC: 3\n",
      "\n",
      "XYZ: 4\n",
      "ABC: 4\n",
      "\n",
      "\n",
      "ABC: 5\n",
      "XYZ: 5\n",
      "\n",
      "\n"
     ]
    },
    {
     "name": "stdout",
     "output_type": "stream",
     "text": [
      "XYZ: 6\n",
      "\n",
      "ABC: 6\n",
      "\n"
     ]
    }
   ],
   "source": [
    "import threading\n",
    "import time\n",
    "\n",
    "done = False\n",
    "\n",
    "def worker(text):\n",
    "    counter = 0\n",
    "    while not done:\n",
    "        time.sleep(1)\n",
    "        counter += 1\n",
    "        print(f\"{text}: {counter}\\n\")\n",
    "\n",
    "threading.Thread(target = worker, daemon = True, args = (\"ABC\",)).start() \n",
    "#daemon -> thread que roda após todos acabarem (background)\n",
    "threading.Thread(target = worker, daemon = True, args = (\"XYZ\",)).start() \n",
    "\n",
    "input(\"Press enter to quit\")\n",
    "done = True"
   ]
  },
  {
   "cell_type": "markdown",
   "id": "db2ca283",
   "metadata": {},
   "source": [
    "> Detalhe de implementação do CPython: No CPython, devido ao Global Interpreter Lock (GIL), apenas uma thread pode executar código Python por vez (embora certas bibliotecas orientadas para desempenho possam superar essa limitação). Se você deseja que sua aplicação faça um uso mais eficiente dos recursos computacionais de máquinas multi-core, é aconselhável utilizar multiprocessing ou concurrent.futures.ProcessPoolExecutor. No entanto, a utilização de threads ainda é apropriada se você deseja executar simultaneamente várias tarefas vinculadas à entrada/saída (I/O-bound).\n",
    "\n",
    ">> Tarefas vinculadas à entrada/saída (I/O-bound) são aquelas que passam uma quantidade significativa de tempo aguardando a conclusão de operações de entrada/saída. Essas operações envolvem interações com recursos externos, como bancos de dados, sistemas de arquivos, requisições de rede e outros."
   ]
  },
  {
   "cell_type": "markdown",
   "id": "b56aa150",
   "metadata": {},
   "source": [
    " - Cuidados com interferências entre Threads:"
   ]
  },
  {
   "cell_type": "markdown",
   "id": "00e4322f",
   "metadata": {},
   "source": [
    "No caso a seguir, temos que cada thread está responsável por um processo diferente e complementar (depositar dinheiro numa conta e retirar dinheiro). O que torna essa interferência problemática é que enquanto a Thread 1 lê o 'balance' da carteira como 0 (e é suspendida logo em seguida), a Thread 2 também segue lendo como 0, e logo depois substrai 50 do 0, deixando o balance = -50 antes de parar. A Thread 1 volta a funcionar logo em seguida, adiciona 100 no balance = 0 (lido antes da Thread 2 funcionar), tornando balance = 100 e saindo. Perceba que a retirada de 50 se perde."
   ]
  },
  {
   "cell_type": "code",
   "execution_count": 5,
   "id": "fc54c55e",
   "metadata": {},
   "outputs": [],
   "source": [
    "class BankAccount:\n",
    "    def __init__(self):\n",
    "        self.bal = 0\n",
    "    \n",
    "    def deposit(self, amt):\n",
    "        balance = self.bal\n",
    "        self.bal = balance + amt\n",
    "    \n",
    "    def withdraw(self, amt):\n",
    "        balance = self.bal\n",
    "        self.bal = balance - amt\n",
    "\n",
    "b = BankAccount()\n",
    "t1 = threading.Thread(target = b.deposit, args = (100,))\n",
    "t2 = threading.Thread(target = b.withdraw, args = (50,))\n",
    "t1.start()\n",
    "t2.start()"
   ]
  },
  {
   "cell_type": "markdown",
   "id": "32df6315",
   "metadata": {},
   "source": [
    " - Evitando esses problemas com Thread Sincronization:"
   ]
  },
  {
   "cell_type": "markdown",
   "id": "d1eb8003",
   "metadata": {},
   "source": [
    "threading.Lock -> uma thread trancada só pode ser destrancada pela própria thread. Uma vez que uma thread é desbloqueada e adquirida por uma outra thread, sua informação não pode ser acessada por uma terceira thread."
   ]
  },
  {
   "cell_type": "code",
   "execution_count": null,
   "id": "6dd20964",
   "metadata": {},
   "outputs": [],
   "source": [
    "lock = threading.Lock()\n",
    "\n",
    "lock.acquire()\n",
    "\n",
    "try: \n",
    "    '''Access shared resource'''\n",
    "finally:\n",
    "    lock.release()\n",
    "\n",
    "#ou\n",
    "    \n",
    "with lock:\n",
    "    '''access shared resource'''\n",
    "\n",
    "#formas de lidar  com Lock:\n",
    "    \n",
    "if lock.acquire(False):\n",
    "    '''lock acquired, do stuff with lock'''\n",
    "else:\n",
    "    '''could not acquire lock, do other stuff'''\n",
    "\n",
    "#Metodo Lock\n",
    "if lock.locked():\n",
    "    '''do other stuff'''\n",
    "else:\n",
    "    '''theres no guarantee that by the time this line runs, the lock is still free'''\n",
    "    lock.acquire()\n",
    "\n",
    "# Uma thread lock só pode ser acessada uma unica vez, mesmo que pra mesma thread. É possível driblar essa limitação com Rlock:\n",
    "\n",
    "lock = threading.Lock()\n",
    "lock.acquire()\n",
    "lock.acquire() #this call will block\n",
    "\n",
    "lock = threading.RLock()\n",
    "lock.acquire()\n",
    "lock.acquire() # this call wont block\n",
    "\n",
    "#semaphore pode permitir threads rodarem ao msm tempo"
   ]
  },
  {
   "cell_type": "markdown",
   "id": "30a99bc6",
   "metadata": {},
   "source": [
    "Este é um dos primitivos de sincronização mais antigos na história da ciência da computação, inventado pelo pioneiro cientista da computação holandês Edsger W. Dijkstra (ele usava os nomes P() e V() em vez de acquire() e release()).\n",
    "\n",
    "Um semáforo (semaphore) gerencia um contador interno que é decrementado a cada chamada de acquire() e incrementado a cada chamada de release(). O contador nunca pode ficar abaixo de zero; quando acquire() percebe que está em zero, ele bloqueia, aguardando até que alguma outra thread chame release().\n",
    "\n",
    "Os semáforos também suportam o protocolo de gerenciamento de contexto.\n",
    "\n",
    ">> class threading.Semaphore(value=1)\n",
    "\n",
    "\n",
    "Esta classe implementa objetos de semáforo. Um semáforo gerencia um contador atômico que representa o número de chamadas de release() menos o número de chamadas de acquire(), mais um valor inicial. O método acquire() bloqueia, se necessário, até que possa retornar sem tornar o contador negativo. Se não for fornecido, o valor padrão é 1.\n",
    "\n",
    "O argumento opcional fornece o valor inicial para o contador interno; o padrão é 1. Se o valor fornecido for menor que 0, uma exceção ValueError é levantada."
   ]
  },
  {
   "cell_type": "code",
   "execution_count": null,
   "id": "71afcdac",
   "metadata": {},
   "outputs": [],
   "source": [
    "semaphore = threading.Semaphore()\n",
    "\n",
    "semaphore.acquire() #decrements the counter\n",
    "'''access the sahred resource'''\n",
    "semaphore.release() #increments the counter"
   ]
  },
  {
   "cell_type": "markdown",
   "id": "fd3a0b11",
   "metadata": {},
   "source": [
    "- threading.Event, Condition \n",
    "\n",
    "- Queue: forma mais simples de ler o código com threads\n",
    ">> put, get, task_done, join"
   ]
  },
  {
   "cell_type": "code",
   "execution_count": null,
   "id": "39f9cf2d",
   "metadata": {},
   "outputs": [],
   "source": [
    "from threading import Thread\n",
    "from queue import Queue\n",
    "\n",
    "def producer(queue):\n",
    "    for i in range(10):\n",
    "        item = make_an_item_available(i)\n",
    "        queue.put(item) #poe os items numa fila\n",
    "\n",
    "def consumer(queue):\n",
    "    while True:\n",
    "        item = queue.get() #retira os items da fila\n",
    "        #do someting with the item\n",
    "        queue.task_done() # mark the item as done\n",
    "    \n",
    "\n",
    "queue = Queue()\n",
    "t1 = Thread(target = producer, args = (queue,))\n",
    "t2 = Thread(target = consumer, args = (queue,))\n",
    "t1.start()\n",
    "t2.start()\n"
   ]
  },
  {
   "cell_type": "code",
   "execution_count": 63,
   "id": "1fa98436",
   "metadata": {},
   "outputs": [
    {
     "name": "stdout",
     "output_type": "stream",
     "text": [
      "Tempo de execução:  1.8715789318084717\n"
     ]
    }
   ],
   "source": [
    "#Projeto do zero aplicando o que foi visto até então:\n",
    "\n",
    "''' Single Thread'''\n",
    "\n",
    "import time\n",
    "\n",
    "COUNT = 50_000_000\n",
    "\n",
    "def countdown(n):\n",
    "    while n>0:\n",
    "        n -= 1\n",
    "\n",
    "start = time.time()\n",
    "countdown(COUNT)\n",
    "end = time.time()\n",
    "\n",
    "print(\"Tempo de execução: \", end-start)"
   ]
  },
  {
   "cell_type": "code",
   "execution_count": 64,
   "id": "00aac98b",
   "metadata": {},
   "outputs": [
    {
     "name": "stdout",
     "output_type": "stream",
     "text": [
      "Tempo de execução:  3.7449915409088135\n"
     ]
    }
   ],
   "source": [
    "#Projeto do zero aplicando o que foi visto até então:\n",
    "\n",
    "''' Multi Thread'''\n",
    "\n",
    "import time\n",
    "from threading import Thread\n",
    "\n",
    "COUNT = 50_000_000\n",
    "\n",
    "def countdown(n):\n",
    "    while n>0:\n",
    "        n -= 1\n",
    "\n",
    "t1 = Thread(target = countdown, args = (COUNT,))\n",
    "t2 = Thread(target = countdown, args = (COUNT,))\n",
    "\n",
    "start = time.time()\n",
    "t1.start()\n",
    "t2.start()\n",
    "t1.join()\n",
    "t2.join()\n",
    "end = time.time()\n",
    "\n",
    "print(\"Tempo de execução: \", end-start)"
   ]
  },
  {
   "cell_type": "markdown",
   "id": "90ac4c9a",
   "metadata": {},
   "source": [
    "Perceba que o tempo de execução aumentou muito. Esse não é o tipo de caso em que paralelismo ajude em algo. O que aconteceu aqui foi que contamos 2 vezes. GIL só deixa utilizar 1 thread por vez, lembre-se disso."
   ]
  },
  {
   "cell_type": "markdown",
   "id": "1c24e6b9",
   "metadata": {},
   "source": [
    "Se você estiver lidando com tarefas intensivas em CPU e desejar tirar vantagem total de multi-threads, uma alternativa seria utilizar processos em vez de threads. O módulo multiprocessing do Python permite que você crie processos separados, cada um com seu próprio interpretador Python e, portanto, não afetado pelo GIL."
   ]
  },
  {
   "cell_type": "code",
   "execution_count": 4,
   "id": "90191cc6",
   "metadata": {},
   "outputs": [
    {
     "data": {
      "text/plain": [
       "array([ 1,  2,  3,  4,  5,  6,  7,  8,  9, 10])"
      ]
     },
     "execution_count": 4,
     "metadata": {},
     "output_type": "execute_result"
    }
   ],
   "source": [
    "import numpy as np\n",
    "np.arange(1,11)"
   ]
  },
  {
   "cell_type": "code",
   "execution_count": 11,
   "id": "42c46f7d",
   "metadata": {},
   "outputs": [
    {
     "name": "stdout",
     "output_type": "stream",
     "text": [
      "Tempo de execução:  0.11049008369445801\n"
     ]
    }
   ],
   "source": [
    "import time\n",
    "from multiprocessing import Process\n",
    "import matplotlib.pyplot as plt\n",
    "import numpy as np\n",
    "\n",
    "num_processes = 2\n",
    "COUNT = COUNT/num_processes  # Dividimos pela metade para cada processo\n",
    "\n",
    "def countdown(n):\n",
    "    while n > 0:\n",
    "        n -= 1\n",
    "\n",
    "def run_countdown(process_id):\n",
    "    start_count = COUNT * process_id\n",
    "    end_count = COUNT * (process_id + 1)\n",
    "    countdown(end_count - start_count)\n",
    "\n",
    "if __name__ == '__main__':\n",
    "    processes = []\n",
    "\n",
    "    start = time.time()\n",
    "\n",
    "    for i in range(num_processes):\n",
    "        process = Process(target=run_countdown, args=(i,))\n",
    "        processes.append(process)\n",
    "        process.start()\n",
    "\n",
    "    for process in processes:\n",
    "        process.join()\n",
    "\n",
    "    end = time.time()\n",
    "\n",
    "    print(\"Tempo de execução: \", end - start)\n"
   ]
  },
  {
   "cell_type": "markdown",
   "id": "43e4989f",
   "metadata": {},
   "source": [
    " - Como diabos funciona Multiprocessing?"
   ]
  },
  {
   "cell_type": "markdown",
   "id": "038892c0",
   "metadata": {},
   "source": [
    "Já que GIL 'trava' cada processo das Threads (e temos um interpretador por processo), então podemos interpretar como tendo um GIL para todo processo em Python. Isso significa que, a primeira vista, poderíamos criar cópias dos processos, cada um deles com seu próprio GIL, e, portanto, podem rodar concomitantemente em diferentes cores. Além dessa otimização e aumento da velocidade, essa forma de dividir processos em cores nos isenta de precisar sincronizar cada processador. Além disso, ao contrário das Threads, esses processos podem ser suspendidos no meio. O lado negativo do multiprocessing acaba sendo na sua maior dependência de memória."
   ]
  },
  {
   "cell_type": "markdown",
   "id": "0c00ee5d",
   "metadata": {},
   "source": [
    " - Criando um novo processo (parecido com que fazíamos com thread):"
   ]
  },
  {
   "cell_type": "code",
   "execution_count": 8,
   "id": "69c6c53e",
   "metadata": {},
   "outputs": [
    {
     "name": "stdout",
     "output_type": "stream",
     "text": [
      "doing work\n",
      "echo: txt\n"
     ]
    }
   ],
   "source": [
    "#Thread:\n",
    "import threading\n",
    "\n",
    "def do_some_work(val):\n",
    "    print(\"doing work\")\n",
    "    print(\"echo: {}\".format(val))\n",
    "    return\n",
    "\n",
    "val = 'txt'\n",
    "t = threading.Thread(target = do_some_work, args = (val,))\n",
    "t.start()\n",
    "t.join()"
   ]
  },
  {
   "cell_type": "code",
   "execution_count": 9,
   "id": "cd4d7231",
   "metadata": {},
   "outputs": [],
   "source": [
    "#multiprocessing\n",
    "\n",
    "#Thread:\n",
    "import multiprocessing\n",
    "\n",
    "def do_some_work(val):\n",
    "    print(\"doing work\")\n",
    "    print(\"echo: {}\".format(val))\n",
    "    return\n",
    "\n",
    "'''certifica de que o processo é criado e interrompido apenas na execução do script e não \n",
    "na importação (levaria erro de runtime)'''\n",
    "if __name__ == '__main__':\n",
    "    val = 'txt'\n",
    "    t = multiprocessing.Process(target = do_some_work, args = (val,))\n",
    "    t.start()\n",
    "    t.join()"
   ]
  },
  {
   "cell_type": "code",
   "execution_count": 1,
   "id": "bea93469",
   "metadata": {},
   "outputs": [],
   "source": [
    "from multiprocessing import Pool\n",
    "import time\n",
    "\n",
    "def multiply(x, y):\n",
    "    return x*y\n",
    "\n",
    "if __name__ == '__main__':\n",
    "    pool = Pool(processes = 4)\n",
    "    result = pool.apply_async(multiply, (7,7)) #evaluate 'multiply(7,7)' asynchronously in a single process\n",
    "    result.get()"
   ]
  },
  {
   "cell_type": "markdown",
   "id": "f848ade7",
   "metadata": {},
   "source": [
    "Quando se trata de processadores, eles não dividem memória uns com os outros (do jeito que funciona em Threads). Para tornar os cores comunicadores, seria necessário possibilitar um processo de escrita do dado na memória e outro processo para ler esses dados. Invés disso, processos devem usar canais de comunicação. Existem duas formas de comunicar cores em Python: Pipe e Queue.\n",
    "\n"
   ]
  },
  {
   "cell_type": "markdown",
   "id": "72dec3bc",
   "metadata": {},
   "source": [
    "- Concorrência Abstrata:"
   ]
  },
  {
   "cell_type": "markdown",
   "id": "e401dfd1",
   "metadata": {},
   "source": [
    "Vamos revisar como funciona Threads e Multiprocessing"
   ]
  },
  {
   "cell_type": "code",
   "execution_count": null,
   "id": "1467e09f",
   "metadata": {},
   "outputs": [],
   "source": [
    "#Uma Thread\n",
    "import threading\n",
    "\n",
    "def sayhello():\n",
    "    print(\"hello from {}\".format(threading.current_thread().name))\n",
    "    return\n",
    "\n",
    "t = threading.Thread(target = sayhello)\n",
    "t.start()\n",
    "t.join()\n",
    "\n",
    "#Multi-threads\n",
    "\n",
    "num_threads = 4\n",
    "threads = []\n",
    "for _ in range(num_threads): #fazer loop com quant threads\n",
    "    t = threading.Thread(target = sayhello)\n",
    "    t.start()\n",
    "    threads.append(t)\n",
    "\n",
    "[t.join() for t in threads]\n",
    "\n",
    "#Multiprocess - 1 core\n",
    "\n",
    "import multiprocessing, os\n",
    "\n",
    "if __name__ == '__main__':\n",
    "    p = multiprocessing.Process(target = sayhello)\n",
    "    p.start()\n",
    "    p.join()\n",
    "\n",
    "#Multiprocess - Multicore\n",
    "\n",
    "num_processes = 4\n",
    "processes = []\n",
    "\n",
    "if __name__ == '__main__':\n",
    "    for _ in range(num_processes):\n",
    "        p = multiprocessing.Process(target = sayhello)\n",
    "        p.start()\n",
    "        processes.append(p)\n",
    "\n",
    "[p.join() for p in processes]\n",
    "\n",
    "\n",
    "#Há formas de lidar com Multi-THreads e multiprocess mais rapidamente:\n",
    "\n",
    "executor = #new threadpool or proce3sspool instance\n",
    "names = ['Tim','Sarah','Robert']\n",
    "results = executor.map(sayhello, names)\n",
    "\n",
    "#Ao invés de:\n",
    "\n",
    "names = ['Tim','Sarah','Robert']\n",
    "threads = []\n",
    "for name in range(names):\n",
    "    t = threading.Thread(target = sayhello, arg=(name,))\n",
    "    t.start()\n",
    "    threads.append(t)\n",
    "\n",
    "[t.join() for t in threads]\n",
    "\n",
    "#map ja cuida de tudo isso."
   ]
  },
  {
   "cell_type": "code",
   "execution_count": 15,
   "id": "5f9b86b0",
   "metadata": {},
   "outputs": [
    {
     "name": "stdout",
     "output_type": "stream",
     "text": [
      "Tempo de execução para 1 processos: 0.09600591659545898 segundos\n",
      "Tempo de execução para 2 processos: 0.0901036262512207 segundos\n",
      "Tempo de execução para 3 processos: 0.11972498893737793 segundos\n",
      "Tempo de execução para 4 processos: 0.13103365898132324 segundos\n",
      "Tempo de execução para 5 processos: 0.15312981605529785 segundos\n",
      "Tempo de execução para 6 processos: 0.14499711990356445 segundos\n",
      "Tempo de execução para 7 processos: 0.17658329010009766 segundos\n",
      "Tempo de execução para 8 processos: 0.17247724533081055 segundos\n",
      "Tempo de execução para 9 processos: 0.20241236686706543 segundos\n",
      "Tempo de execução para 10 processos: 0.23371315002441406 segundos\n",
      "Tempo de execução para 11 processos: 0.38514018058776855 segundos\n",
      "Tempo de execução para 12 processos: 0.2953815460205078 segundos\n",
      "Tempo de execução para 13 processos: 0.30010509490966797 segundos\n",
      "Tempo de execução para 14 processos: 0.3015000820159912 segundos\n",
      "Tempo de execução para 15 processos: 0.3166985511779785 segundos\n",
      "Tempo de execução para 16 processos: 0.33277177810668945 segundos\n",
      "Tempo de execução para 17 processos: 0.34703516960144043 segundos\n",
      "Tempo de execução para 18 processos: 0.3521237373352051 segundos\n",
      "Tempo de execução para 19 processos: 0.41075921058654785 segundos\n",
      "Tempo de execução para 20 processos: 0.41751885414123535 segundos\n",
      "Tempo de execução para 21 processos: 0.5066964626312256 segundos\n",
      "Tempo de execução para 22 processos: 0.5158119201660156 segundos\n",
      "Tempo de execução para 23 processos: 0.5807318687438965 segundos\n",
      "Tempo de execução para 24 processos: 0.5667777061462402 segundos\n",
      "Tempo de execução para 25 processos: 0.6042051315307617 segundos\n",
      "Tempo de execução para 26 processos: 0.6140925884246826 segundos\n",
      "Tempo de execução para 27 processos: 0.6333105564117432 segundos\n",
      "Tempo de execução para 28 processos: 0.6993503570556641 segundos\n",
      "Tempo de execução para 29 processos: 0.6694819927215576 segundos\n"
     ]
    },
    {
     "data": {
      "image/png": "[encoded data removed]",
      "text/plain": [
       "<Figure size 640x480 with 1 Axes>"
      ]
     },
     "metadata": {},
     "output_type": "display_data"
    }
   ],
   "source": [
    "import time\n",
    "from multiprocessing import Process\n",
    "import matplotlib.pyplot as plt\n",
    "\n",
    "COUNT = 50_000_000  # Dividimos pela metade para cada processo\n",
    "num_processes_list = np.arange(1,30)\n",
    "execution_times = []\n",
    "\n",
    "def countdown(n):\n",
    "    while n > 0:\n",
    "        n -= 1\n",
    "\n",
    "def run_countdown(process_id):\n",
    "    start_count = COUNT * process_id\n",
    "    end_count = COUNT * (process_id + 1)\n",
    "    countdown(end_count - start_count)\n",
    "\n",
    "def run_with_processes(num_processes):\n",
    "    processes = []\n",
    "    start = time.time()\n",
    "\n",
    "    for i in range(num_processes):\n",
    "        process = Process(target=run_countdown, args=(i,))\n",
    "        processes.append(process)\n",
    "        process.start()\n",
    "\n",
    "    for process in processes:\n",
    "        process.join()\n",
    "\n",
    "    end = time.time()\n",
    "    return end - start\n",
    "\n",
    "if __name__ == '__main__':\n",
    "    for num_processes in num_processes_list:\n",
    "        execution_time = run_with_processes(num_processes)\n",
    "        execution_times.append(execution_time)\n",
    "        print(f\"Tempo de execução para {num_processes} processos: {execution_time} segundos\")\n",
    "\n",
    "    # Gerar o gráfico\n",
    "    plt.plot(num_processes_list, execution_times, marker='o')\n",
    "    plt.title('Tempo de Execução em Relação ao Número de Processos')\n",
    "    plt.xlabel('Número de Processos')\n",
    "    plt.ylabel('Tempo de Execução (segundos)')\n",
    "    plt.grid(True)\n",
    "    plt.show()\n"
   ]
  },
  {
   "cell_type": "code",
   "execution_count": 20,
   "id": "b226c1fc",
   "metadata": {},
   "outputs": [
    {
     "name": "stdout",
     "output_type": "stream",
     "text": [
      "Tempo de execução:  1.7330172061920166\n"
     ]
    }
   ],
   "source": [
    "import time\n",
    "from multiprocessing import Process, Value, Lock\n",
    "import numpy as np\n",
    "import matplotlib.pyplot as plt\n",
    "\n",
    "''' Single Thread'''\n",
    "\n",
    "COUNT = 50_000_000\n",
    "\n",
    "def countdown(n):\n",
    "    while n>0:\n",
    "        n -= 1\n",
    "\n",
    "start = time.time()\n",
    "countdown(COUNT)\n",
    "end = time.time()\n",
    "\n",
    "print(\"Tempo de execução: \", end-start)\n",
    "\n",
    "'''MultiProcess'''\n",
    "\n",
    "num_processes = np.arange(1,3)\n",
    "COUNT = 50_000_000\n",
    "execution_times = []\n",
    "\n",
    "def countdown(n):\n",
    "    while n > 0:\n",
    "        n -= 1\n",
    "\n",
    "def run_countdown(process_id):\n",
    "    start_count = COUNT/process_id\n",
    "    #end_count = COUNT * (process_id + 1)\n",
    "    countdown(start_count)\n",
    "\n",
    "if __name__ == '__main__':\n",
    "    processes = []\n",
    "\n",
    "    for i in num_processes: #range(1,3) = [1,2]\n",
    "        start = time.time()\n",
    "        process = Process(target=run_countdown, args=(i,))\n",
    "        processes.append(process)\n",
    "        process.start()\n",
    "        process.join()\n",
    "        end = time.time()\n",
    "    #for process in processes:\n",
    "        execution_times.append(end - start)\n",
    "        print(\"Tempo de execução: \", end - start)"
   ]
  },
  {
   "cell_type": "code",
   "execution_count": 40,
   "id": "52401346",
   "metadata": {},
   "outputs": [
    {
     "name": "stdout",
     "output_type": "stream",
     "text": [
      "Tempo de execução 1:  0.010779142379760742\n",
      "Tempo de execução 2:  0.011629104614257812\n",
      "Tempo de execução 3:  0.010001420974731445\n",
      "Tempo de execução 4:  0.008960962295532227\n",
      "Tempo de execução 5:  0.007688283920288086\n",
      "Tempo de execução 6:  0.013107061386108398\n",
      "Tempo de execução 7:  0.011831045150756836\n",
      "Tempo de execução 8:  0.008791923522949219\n",
      "Tempo de execução 9:  0.011957168579101562\n",
      "Tempo de execução 10:  0.012807846069335938\n",
      "Tempo de execução 11:  0.016445636749267578\n",
      "Tempo de execução 12:  0.013087749481201172\n",
      "Tempo de execução 13:  0.02854180335998535\n",
      "Tempo de execução 14:  0.044446706771850586\n",
      "Tempo de execução 15:  0.011094093322753906\n",
      "Tempo de execução 16:  0.011391162872314453\n",
      "Tempo de execução 17:  0.011120080947875977\n",
      "Tempo de execução 18:  0.015727758407592773\n",
      "Tempo de execução 19:  0.0187530517578125\n",
      "Tempo de execução 20:  0.012320280075073242\n",
      "Tempo de execução 21:  0.015741586685180664\n",
      "Tempo de execução 22:  0.017511844635009766\n",
      "Tempo de execução 23:  0.009441375732421875\n",
      "Tempo de execução 24:  0.01463174819946289\n",
      "Tempo de execução 25:  0.018798112869262695\n",
      "Tempo de execução 26:  0.013772726058959961\n",
      "Tempo de execução 27:  0.012614011764526367\n",
      "Tempo de execução 28:  0.013775110244750977\n",
      "Tempo de execução 29:  0.020827531814575195\n",
      "Resultado ótimo:\n",
      "Melhor tempo: 0.007688283920288086\n",
      "Processos: [5]\n"
     ]
    },
    {
     "data": {
      "image/png": "[encoded data removed]",
      "text/plain": [
       "<Figure size 640x480 with 1 Axes>"
      ]
     },
     "metadata": {},
     "output_type": "display_data"
    }
   ],
   "source": [
    "num_processes = np.arange(1,30)\n",
    "COUNT = 50_000_000\n",
    "execution_times = []\n",
    "\n",
    "def countdown(n):\n",
    "    while n > 0: \n",
    "        n -= 1\n",
    "\n",
    "def run_countdown(process_id):\n",
    "    start_count = COUNT/process_id\n",
    "    countdown(start_count)\n",
    "\n",
    "if __name__ == '__main__':\n",
    "    processes = []\n",
    "\n",
    "    for i in num_processes: #range(1,3) = [1,2]\n",
    "        start = time.time()\n",
    "        process = Process(target=run_countdown, args=(i,))\n",
    "        processes.append(process)\n",
    "        process.start()\n",
    "        end = time.time()\n",
    "        execution_times.append(end - start)\n",
    "        print(f\"Tempo de execução {i}:  {end - start}\")\n",
    "        \n",
    "    for process in processes:\n",
    "        process.join()\n",
    "\n",
    "\n",
    "print(f\"Resultado ótimo:\\nMelhor tempo: {np.min(execution_times)}\\nProcessos: {num_processes[np.where(execution_times == np.min(execution_times))]}\")\n",
    " # Gerar o gráfico\n",
    "plt.plot(num_processes, execution_times, marker='o')\n",
    "plt.title('Tempo de Execução em Relação ao Número de Processos')\n",
    "plt.xlabel('Número de Processos')\n",
    "plt.ylabel('Tempo de Execução (segundos)')\n",
    "plt.axhline(np.min(execution_times), color='r', ls='--', lw=2)\n",
    "plt.axvline(num_processes[np.where(execution_times == np.min(execution_times))], color='r', ls='--', lw=2)\n",
    "plt.grid(True)\n",
    "plt.show()"
   ]
  },
  {
   "cell_type": "markdown",
   "id": "bc3e3737",
   "metadata": {},
   "source": [
    "O código está executando mesmo quando você usa mais de 10 processos porque o número de processadores físicos não é uma restrição rígida para a criação de processos no Python usando multiprocessing. O módulo multiprocessing no Python usa uma abstração chamada \"processos filhos\" para criar processos independentes. Cada processo filho é tratado como um processo separado, independente do número de núcleos físicos disponíveis no sistema.\n",
    "\n",
    "No entanto, é importante notar que, embora você possa criar mais de 10 processos, o desempenho real pode ser limitado pela capacidade do seu sistema de gerenciar e alternar entre esses processos. Se você criar mais processos do que núcleos físicos disponíveis, pode haver um aumento na sobrecarga de troca de contexto, o que pode levar a um desempenho mais baixo.\n",
    "\n",
    "O código que você forneceu cria até 30 processos, mas observe que a execução simultânea de muitos processos pode não resultar em um ganho significativo de desempenho, especialmente se o trabalho realizado por cada processo for leve. Isso ocorre porque há um custo associado à criação e gerenciamento de processos.\n",
    "\n",
    "Se você deseja limitar o número de processos à quantidade de núcleos físicos disponíveis, você pode obter o número de núcleos usando os.cpu_count() e ajustar o número de processos conforme necessário."
   ]
  },
  {
   "cell_type": "code",
   "execution_count": 17,
   "id": "7d5c69e3",
   "metadata": {},
   "outputs": [
    {
     "data": {
      "text/plain": [
       "12"
      ]
     },
     "execution_count": 17,
     "metadata": {},
     "output_type": "execute_result"
    }
   ],
   "source": [
    "import os\n",
    "os.cpu_count()"
   ]
  },
  {
   "cell_type": "markdown",
   "id": "f7027637",
   "metadata": {},
   "source": [
    "- Single Threaded Asynchrony:"
   ]
  },
  {
   "cell_type": "markdown",
   "id": "3b4060f5",
   "metadata": {},
   "source": [
    "Uma única thread pode lidar com vários processos diferentes. O interessante disso é que, em casos de IO/, enquanto a thread deve esperar algum outro processo terminar, ele pode aproveitar esse tempo de espera e lidar com outro processo. Isso otimiza o uso de cada thread."
   ]
  },
  {
   "cell_type": "code",
   "execution_count": 19,
   "id": "014b199b",
   "metadata": {},
   "outputs": [
    {
     "ename": "RuntimeError",
     "evalue": "This event loop is already running",
     "output_type": "error",
     "traceback": [
      "\u001b[1;31m---------------------------------------------------------------------------\u001b[0m",
      "\u001b[1;31mRuntimeError\u001b[0m                              Traceback (most recent call last)",
      "Cell \u001b[1;32mIn[19], line 7\u001b[0m\n\u001b[0;32m      4\u001b[0m     \u001b[38;5;28mprint\u001b[39m(\u001b[38;5;124m\"\u001b[39m\u001b[38;5;124mHello\u001b[39m\u001b[38;5;124m\"\u001b[39m)\n\u001b[0;32m      6\u001b[0m loop \u001b[38;5;241m=\u001b[39m asyncio\u001b[38;5;241m.\u001b[39mget_event_loop()\n\u001b[1;32m----> 7\u001b[0m loop\u001b[38;5;241m.\u001b[39mrun_until_complete(say_hello())\n\u001b[0;32m      8\u001b[0m loop\u001b[38;5;241m.\u001b[39mclose()\n",
      "File \u001b[1;32mc:\\Users\\thiago.cunha\\.conda\\envs\\Trabalho\\Lib\\asyncio\\base_events.py:629\u001b[0m, in \u001b[0;36mBaseEventLoop.run_until_complete\u001b[1;34m(self, future)\u001b[0m\n\u001b[0;32m    618\u001b[0m \u001b[38;5;250m\u001b[39m\u001b[38;5;124;03m\"\"\"Run until the Future is done.\u001b[39;00m\n\u001b[0;32m    619\u001b[0m \n\u001b[0;32m    620\u001b[0m \u001b[38;5;124;03mIf the argument is a coroutine, it is wrapped in a Task.\u001b[39;00m\n\u001b[1;32m   (...)\u001b[0m\n\u001b[0;32m    626\u001b[0m \u001b[38;5;124;03mReturn the Future's result, or raise its exception.\u001b[39;00m\n\u001b[0;32m    627\u001b[0m \u001b[38;5;124;03m\"\"\"\u001b[39;00m\n\u001b[0;32m    628\u001b[0m \u001b[38;5;28mself\u001b[39m\u001b[38;5;241m.\u001b[39m_check_closed()\n\u001b[1;32m--> 629\u001b[0m \u001b[38;5;28mself\u001b[39m\u001b[38;5;241m.\u001b[39m_check_running()\n\u001b[0;32m    631\u001b[0m new_task \u001b[38;5;241m=\u001b[39m \u001b[38;5;129;01mnot\u001b[39;00m futures\u001b[38;5;241m.\u001b[39misfuture(future)\n\u001b[0;32m    632\u001b[0m future \u001b[38;5;241m=\u001b[39m tasks\u001b[38;5;241m.\u001b[39mensure_future(future, loop\u001b[38;5;241m=\u001b[39m\u001b[38;5;28mself\u001b[39m)\n",
      "File \u001b[1;32mc:\\Users\\thiago.cunha\\.conda\\envs\\Trabalho\\Lib\\asyncio\\base_events.py:588\u001b[0m, in \u001b[0;36mBaseEventLoop._check_running\u001b[1;34m(self)\u001b[0m\n\u001b[0;32m    586\u001b[0m \u001b[38;5;28;01mdef\u001b[39;00m \u001b[38;5;21m_check_running\u001b[39m(\u001b[38;5;28mself\u001b[39m):\n\u001b[0;32m    587\u001b[0m     \u001b[38;5;28;01mif\u001b[39;00m \u001b[38;5;28mself\u001b[39m\u001b[38;5;241m.\u001b[39mis_running():\n\u001b[1;32m--> 588\u001b[0m         \u001b[38;5;28;01mraise\u001b[39;00m \u001b[38;5;167;01mRuntimeError\u001b[39;00m(\u001b[38;5;124m'\u001b[39m\u001b[38;5;124mThis event loop is already running\u001b[39m\u001b[38;5;124m'\u001b[39m)\n\u001b[0;32m    589\u001b[0m     \u001b[38;5;28;01mif\u001b[39;00m events\u001b[38;5;241m.\u001b[39m_get_running_loop() \u001b[38;5;129;01mis\u001b[39;00m \u001b[38;5;129;01mnot\u001b[39;00m \u001b[38;5;28;01mNone\u001b[39;00m:\n\u001b[0;32m    590\u001b[0m         \u001b[38;5;28;01mraise\u001b[39;00m \u001b[38;5;167;01mRuntimeError\u001b[39;00m(\n\u001b[0;32m    591\u001b[0m             \u001b[38;5;124m'\u001b[39m\u001b[38;5;124mCannot run the event loop while another loop is running\u001b[39m\u001b[38;5;124m'\u001b[39m)\n",
      "\u001b[1;31mRuntimeError\u001b[0m: This event loop is already running"
     ]
    }
   ],
   "source": [
    "import asyncio\n",
    "\n",
    "async def say_hello():\n",
    "    print(\"Hello\")\n",
    "\n",
    "loop = asyncio.get_event_loop()\n",
    "loop.run_until_complete(say_hello())\n",
    "loop.close()"
   ]
  },
  {
   "cell_type": "code",
   "execution_count": 51,
   "id": "b00b8c9c",
   "metadata": {},
   "outputs": [
    {
     "name": "stdout",
     "output_type": "stream",
     "text": [
      "lira Bonus:  75.0\n",
      "joao Bonus:  25.0\n",
      "amanda Bonus:  250.0\n",
      "100.0\n",
      "Finalizou em 3.0016517639160156 segundos\n"
     ]
    }
   ],
   "source": [
    "#Aplicando:\n",
    "import time\n",
    "\n",
    "def calcular_imposto(faturamento):\n",
    "    print(faturamento*0.1)\n",
    "\n",
    "def calcular_bonus_funcionarios(vendas):\n",
    "    for funcionario in vendas:\n",
    "        venda = vendas[funcionario]\n",
    "        print(funcionario, \"Bonus: \", venda*0.05)\n",
    "        time.sleep(1)\n",
    "\n",
    "def fechamento():\n",
    "    vendas = {\n",
    "    \"lira\": 1500,\n",
    "    \"joao\": 500,\n",
    "    \"amanda\": 5000\n",
    "    }\n",
    "    faturamento = 1000\n",
    "    start = time.time()\n",
    "    calcular_bonus_funcionarios(vendas)\n",
    "    calcular_imposto(faturamento)\n",
    "    end = time.time()\n",
    "    print(f\"Finalizou em {end - start} segundos\")\n",
    "\n",
    "fechamento()"
   ]
  },
  {
   "cell_type": "markdown",
   "id": "c369253e",
   "metadata": {},
   "source": [
    "Perceba que o calculo de imposto não dependeonus do funcionario e nem vice-versa. Isso significa que durante o 1 segundo que demora para calcular o bonus (nesse caso, graças ao sleep), poderíamos estar calculando o imposto e ganhando tempo. Esse código foi escrito de forma síncrona, em que cada linha funciona um de cada vez.\n",
    "\n",
    "Agora iremos aplicar programação assíncrona para acelerar esse código:"
   ]
  },
  {
   "cell_type": "code",
   "execution_count": 56,
   "id": "6e3751a0",
   "metadata": {},
   "outputs": [],
   "source": [
    "#Aplicando:\n",
    "import time\n",
    "import asyncio\n",
    "\n",
    "async def calcular_imposto(faturamento):\n",
    "    print(faturamento*0.1)\n",
    "\n",
    "async def calcular_bonus_funcionarios(vendas):\n",
    "    for funcionario in vendas:\n",
    "        venda = vendas[funcionario]\n",
    "        print(funcionario, \"Bonus: \", venda*0.05)\n",
    "        await asyncio.sleep(1)\n",
    "\n",
    "async def fechamento():\n",
    "    vendas = {\n",
    "    \"lira\": 1500,\n",
    "    \"joao\": 500,\n",
    "    \"amanda\": 5000\n",
    "    }\n",
    "    faturamento = 1000\n",
    "    start = time.time()\n",
    "    t1 = asyncio.create_task(calcular_bonus_funcionarios(vendas))\n",
    "    t2 = asyncio.create_task(calcular_imposto(faturamento))\n",
    "    await asyncio.gather(t1, t2)  # Agora usamos gather para aguardar ambas as tarefas\n",
    "    end = time.time()\n",
    "    print(f\"Finalizou em {end - start} segundos\")"
   ]
  },
  {
   "cell_type": "code",
   "execution_count": 58,
   "id": "4c4f9fb0",
   "metadata": {},
   "outputs": [
    {
     "name": "stdout",
     "output_type": "stream",
     "text": [
      "lira Bonus:  75.0\n",
      "100.0\n",
      "joao Bonus:  25.0\n",
      "amanda Bonus:  250.0\n",
      "Finalizou em 3.0291872024536133 segundos\n"
     ]
    },
    {
     "name": "stderr",
     "output_type": "stream",
     "text": [
      "c:\\Users\\thiago.cunha\\.conda\\envs\\Trabalho\\Lib\\site-packages\\pygments\\regexopt.py:78: RuntimeWarning: coroutine 'fechamento' was never awaited\n",
      "  for group in groupby(strings, lambda s: s[0] == first[0])) \\\n",
      "RuntimeWarning: Enable tracemalloc to get the object allocation traceback\n"
     ]
    },
    {
     "ename": "RuntimeError",
     "evalue": "asyncio.run() cannot be called from a running event loop",
     "output_type": "error",
     "traceback": [
      "\u001b[1;31m---------------------------------------------------------------------------\u001b[0m",
      "\u001b[1;31mRuntimeError\u001b[0m                              Traceback (most recent call last)",
      "Cell \u001b[1;32mIn[58], line 2\u001b[0m\n\u001b[0;32m      1\u001b[0m \u001b[38;5;28;01mif\u001b[39;00m \u001b[38;5;18m__name__\u001b[39m \u001b[38;5;241m==\u001b[39m \u001b[38;5;124m'\u001b[39m\u001b[38;5;124m__main__\u001b[39m\u001b[38;5;124m'\u001b[39m:\n\u001b[1;32m----> 2\u001b[0m     asyncio\u001b[38;5;241m.\u001b[39mrun(\u001b[38;5;28;01mawait\u001b[39;00m fechamento())\n",
      "File \u001b[1;32mc:\\Users\\thiago.cunha\\.conda\\envs\\Trabalho\\Lib\\asyncio\\runners.py:186\u001b[0m, in \u001b[0;36mrun\u001b[1;34m(main, debug)\u001b[0m\n\u001b[0;32m    161\u001b[0m \u001b[38;5;250m\u001b[39m\u001b[38;5;124;03m\"\"\"Execute the coroutine and return the result.\u001b[39;00m\n\u001b[0;32m    162\u001b[0m \n\u001b[0;32m    163\u001b[0m \u001b[38;5;124;03mThis function runs the passed coroutine, taking care of\u001b[39;00m\n\u001b[1;32m   (...)\u001b[0m\n\u001b[0;32m    182\u001b[0m \u001b[38;5;124;03m    asyncio.run(main())\u001b[39;00m\n\u001b[0;32m    183\u001b[0m \u001b[38;5;124;03m\"\"\"\u001b[39;00m\n\u001b[0;32m    184\u001b[0m \u001b[38;5;28;01mif\u001b[39;00m events\u001b[38;5;241m.\u001b[39m_get_running_loop() \u001b[38;5;129;01mis\u001b[39;00m \u001b[38;5;129;01mnot\u001b[39;00m \u001b[38;5;28;01mNone\u001b[39;00m:\n\u001b[0;32m    185\u001b[0m     \u001b[38;5;66;03m# fail fast with short traceback\u001b[39;00m\n\u001b[1;32m--> 186\u001b[0m     \u001b[38;5;28;01mraise\u001b[39;00m \u001b[38;5;167;01mRuntimeError\u001b[39;00m(\n\u001b[0;32m    187\u001b[0m         \u001b[38;5;124m\"\u001b[39m\u001b[38;5;124masyncio.run() cannot be called from a running event loop\u001b[39m\u001b[38;5;124m\"\u001b[39m)\n\u001b[0;32m    189\u001b[0m \u001b[38;5;28;01mwith\u001b[39;00m Runner(debug\u001b[38;5;241m=\u001b[39mdebug) \u001b[38;5;28;01mas\u001b[39;00m runner:\n\u001b[0;32m    190\u001b[0m     \u001b[38;5;28;01mreturn\u001b[39;00m runner\u001b[38;5;241m.\u001b[39mrun(main)\n",
      "\u001b[1;31mRuntimeError\u001b[0m: asyncio.run() cannot be called from a running event loop"
     ]
    }
   ],
   "source": [
    "if __name__ == '__main__':\n",
    "    asyncio.run(await fechamento())"
   ]
  },
  {
   "cell_type": "markdown",
   "id": "20147fee",
   "metadata": {},
   "source": [
    ">> Rodar async pelo jupýter notebook pode resultar em alguns erros. Além disso, no caso desse código não há ganho de tempo (mas serve de forma didática)."
   ]
  },
  {
   "cell_type": "code",
   "execution_count": 62,
   "id": "409b034e",
   "metadata": {},
   "outputs": [
    {
     "ename": "RuntimeError",
     "evalue": "asyncio.run() cannot be called from a running event loop",
     "output_type": "error",
     "traceback": [
      "\u001b[1;31m---------------------------------------------------------------------------\u001b[0m",
      "\u001b[1;31mRuntimeError\u001b[0m                              Traceback (most recent call last)",
      "Cell \u001b[1;32mIn[62], line 23\u001b[0m\n\u001b[0;32m     20\u001b[0m     \u001b[38;5;28;01mawait\u001b[39;00m send_data(\u001b[38;5;124m'\u001b[39m\u001b[38;5;124mMario\u001b[39m\u001b[38;5;124m'\u001b[39m)\n\u001b[0;32m     22\u001b[0m \u001b[38;5;28;01mif\u001b[39;00m \u001b[38;5;18m__name__\u001b[39m \u001b[38;5;241m==\u001b[39m \u001b[38;5;124m'\u001b[39m\u001b[38;5;124m__main__\u001b[39m\u001b[38;5;124m'\u001b[39m:\n\u001b[1;32m---> 23\u001b[0m     asyncio\u001b[38;5;241m.\u001b[39mrun(main())\n",
      "File \u001b[1;32mc:\\Users\\thiago.cunha\\.conda\\envs\\Trabalho\\Lib\\asyncio\\runners.py:186\u001b[0m, in \u001b[0;36mrun\u001b[1;34m(main, debug)\u001b[0m\n\u001b[0;32m    161\u001b[0m \u001b[38;5;250m\u001b[39m\u001b[38;5;124;03m\"\"\"Execute the coroutine and return the result.\u001b[39;00m\n\u001b[0;32m    162\u001b[0m \n\u001b[0;32m    163\u001b[0m \u001b[38;5;124;03mThis function runs the passed coroutine, taking care of\u001b[39;00m\n\u001b[1;32m   (...)\u001b[0m\n\u001b[0;32m    182\u001b[0m \u001b[38;5;124;03m    asyncio.run(main())\u001b[39;00m\n\u001b[0;32m    183\u001b[0m \u001b[38;5;124;03m\"\"\"\u001b[39;00m\n\u001b[0;32m    184\u001b[0m \u001b[38;5;28;01mif\u001b[39;00m events\u001b[38;5;241m.\u001b[39m_get_running_loop() \u001b[38;5;129;01mis\u001b[39;00m \u001b[38;5;129;01mnot\u001b[39;00m \u001b[38;5;28;01mNone\u001b[39;00m:\n\u001b[0;32m    185\u001b[0m     \u001b[38;5;66;03m# fail fast with short traceback\u001b[39;00m\n\u001b[1;32m--> 186\u001b[0m     \u001b[38;5;28;01mraise\u001b[39;00m \u001b[38;5;167;01mRuntimeError\u001b[39;00m(\n\u001b[0;32m    187\u001b[0m         \u001b[38;5;124m\"\u001b[39m\u001b[38;5;124masyncio.run() cannot be called from a running event loop\u001b[39m\u001b[38;5;124m\"\u001b[39m)\n\u001b[0;32m    189\u001b[0m \u001b[38;5;28;01mwith\u001b[39;00m Runner(debug\u001b[38;5;241m=\u001b[39mdebug) \u001b[38;5;28;01mas\u001b[39;00m runner:\n\u001b[0;32m    190\u001b[0m     \u001b[38;5;28;01mreturn\u001b[39;00m runner\u001b[38;5;241m.\u001b[39mrun(main)\n",
      "\u001b[1;31mRuntimeError\u001b[0m: asyncio.run() cannot be called from a running event loop"
     ]
    }
   ],
   "source": [
    "import asyncio\n",
    "import api\n",
    "\n",
    "async def fetch_data() -> str:\n",
    "    print('Fetching data...')\n",
    "    await asyncio.sleep(2.5)\n",
    "    print('Data fetched!')\n",
    "\n",
    "    return 'DATA'\n",
    "\n",
    "async def send_data(to: str):\n",
    "    print(f'Sending data to {to}...')\n",
    "    await asyncio.sleep(2)\n",
    "    print(f'Data sent to {to}!')\n",
    "\n",
    "async def main():\n",
    "    data = await api.fetch_data()\n",
    "    print('Data:', data)\n",
    "\n",
    "    await send_data('Mario')\n",
    "\n",
    "if __name__ == '__main__':\n",
    "    asyncio.run(main())\n"
   ]
  },
  {
   "cell_type": "markdown",
   "id": "57526804",
   "metadata": {},
   "source": [
    "- Por que focar em asyncio?:\n",
    "\n",
    "Um dos problemas ao escrever código concorrente (usando os módulos _thread ou threading) é que você sofre o custo de 'troca de contexto da CPU' (já que um núcleo de CPU pode executar apenas uma thread de cada vez), que, embora rápido, não é gratuito.\n",
    "\n",
    "O código multithread também precisa lidar com questões como 'corridas críticas', 'dead/live locks' e 'starvation de recursos' (onde algumas threads são superutilizadas e outras são subutilizadas).\n",
    "\n",
    "Asyncio evita esses problemas, então vamos ver como...\n",
    "\n",
    "- Um resumo rápido sobre asyncio:\n",
    "\n",
    "asyncio é uma biblioteca para escrever código concorrente usando a sintaxe async/await. – docs.python.org/3.8/library/asyncio.html\n",
    "\n",
    "O módulo asyncio fornece APIs (application programming interface, é um conjunto de serviços/funções que foram implementadas em um programa de computador que são disponibilizados para que outros programas/aplicativos possam utiliza-los diretamente de forma simplificada) tanto de alto nível quanto de baixo nível. Desenvolvedores de bibliotecas e frameworks são esperados para usar as APIs de baixo nível, enquanto todos os outros usuários são incentivados a usar as APIs de alto nível.\n",
    "\n",
    "Difere conceitualmente da abordagem mais tradicional de threading ou multiprocessamento para execução de código assíncrono, pois utiliza algo chamado de \"event loop\" para lidar com o agendamento de \"tarefas\" assíncronas em vez de usar threads ou subprocessos mais tradicionais.\n",
    "\n",
    "Importante destacar que asyncio é projetado para resolver problemas de desempenho de I/O em rede, não para operações vinculadas à CPU (onde multiprocessing deve ser usado). Portanto, asyncio não é uma substituição para todos os tipos de execução assíncrona.\n",
    "\n",
    "Asyncio é projetado em torno do conceito de 'multitarefa cooperativa', dando a você controle total sobre quando ocorre uma 'troca de contexto' da CPU (ou seja, a troca de contexto acontece no nível do aplicativo e não no nível do hardware).\n",
    "\n",
    "Ao usar threads, o escalonador do Python é responsável por isso, e seu aplicativo pode sofrer uma troca de contexto a qualquer momento (ou seja, torna-se não determinístico).\n",
    "\n",
    "Isso significa que ao usar threads, você precisará usar algum tipo de mecanismo de 'lock' para evitar que várias threads acessem/mutem a memória compartilhada (o que, de outra forma, tornaria seu programa não seguro para threads)."
   ]
  },
  {
   "cell_type": "markdown",
   "id": "5d11ca3e",
   "metadata": {},
   "source": [
    " - Um breve resumo sobre 'concurrent.futures'\n",
    " \n",
    "O módulo 'concurrent.futures' fornece uma interface de alto nível para executar de forma assíncrona chamáveis. – docs.python.org/3.8/library/concurrent.futures.html\n",
    "\n",
    "O 'concurrent.futures' oferece uma abstração de alto nível para os módulos threading e multiprocessing, razão pela qual não discutiremos esses módulos detalhadamente neste post. Na verdade, o módulo _thread é uma API muito de baixo nível sobre a qual o módulo threading é construído (novamente, essa é a razão pela qual também não abordaremos isso).\n",
    "\n",
    "Agora, já mencionamos que asyncio nos ajuda a evitar o uso de threads, então por que gostaríamos de usar 'concurrent.futures' se ele é apenas uma abstração sobre threads (e multiprocessing)? Bem, porque nem todas as bibliotecas/módulos/APIs suportam o modelo asyncio.\n",
    "\n",
    "Por exemplo, se você usa o boto3 e interage com o AWS S3, então encontrará que essas operações são síncronas. Você pode envolver essas chamadas em código multithread, mas seria melhor usar 'concurrent.futures', pois significa que você se beneficia não apenas de threads tradicionais, mas de um pacote amigável ao asyncio.\n",
    "\n",
    "O módulo 'concurrent.futures' também é projetado para interoperar com o loop de eventos asyncio, facilitando o trabalho com um pool de threads/subprocessos em um aplicativo impulsionado por asyncio.\n",
    "\n",
    "Além disso, você também desejará utilizar 'concurrent.futures' quando precisar de um pool de threads ou um pool de subprocessos, ao mesmo tempo em que utiliza uma API Python limpa e moderna (ao contrário dos módulos de threading ou multiprocessing, mais flexíveis, mas de nível mais baixo)."
   ]
  },
  {
   "cell_type": "markdown",
   "id": "ce732e66",
   "metadata": {},
   "source": [
    "- Laço de Eventos (Event Loop)\n",
    "\n",
    "O elemento central de todas as aplicações asyncio é o 'laço de eventos' (event loop). O laço de eventos é o que programa e executa tarefas assíncronas.\n",
    "O que torna o laço de eventos asyncio tão eficaz é o fato de o Python implementá-lo em torno de geradores. Um gerador permite que uma função seja parcialmente executada, interrompa sua execução em um ponto específico, mantendo uma pilha de objetos e exceções, antes de retomar novamente.\n",
    "\n",
    "Eu escrevi recentemente sobre iteradores, geradores e corrotinas, então se você estiver interessado nesses conceitos, eu o encaminharei para aquele post.\n",
    "\n",
    " - Objetos Aguardáveis (Awaitables)\n",
    " \n",
    "A força motriz por trás do asyncio é a capacidade de agendar 'tarefas' assíncronas. Existem alguns tipos diferentes de objetos em Python que ajudam a suportar isso e, geralmente, são agrupados pelo termo 'aguardável'.\n",
    "Basicamente, algo é considerado aguardável se pode ser usado em uma expressão 'await'.\n",
    "\n",
    "Existem três principais tipos de objetos aguardáveis:\n",
    "\n",
    "Co-rotinas (Coroutines)\n",
    "Tarefas (Tasks)\n",
    "Futuros (Futures)"
   ]
  },
  {
   "cell_type": "markdown",
   "id": "fcacd47e",
   "metadata": {},
   "source": [
    " - Co-rotinas/corrotina\n",
    "\n",
    "Existem dois termos intimamente relacionados usados aqui:\n",
    "uma função corrotina: uma função async def.\n",
    "um objeto corrotina: um objeto retornado ao chamar uma função corrotina.\n",
    "Funções corrotinas baseadas em geradores (por exemplo, aquelas definidas decorando uma função com @asyncio.coroutine) são substituídas pela sintaxe async/await, mas continuarão a ser suportadas até o Python 3.10 - docs.python.org/3.8/library/asyncio-task.html.\n",
    "\n",
    "- Tarefas\n",
    "\n",
    "As tarefas são usadas para agendar corrotinas concorrentemente.\n",
    "Todas as aplicações asyncio normalmente terão (pelo menos) uma única tarefa de entrada principal que será agendada para ser executada imediatamente no laço de eventos. Isso é feito usando a função asyncio.run (veja 'Executando um programa asyncio').\n",
    "\n",
    "Uma função 'coroutine' espera que seja passada para asyncio.run, enquanto internamente o asyncio verifica isso usando a função auxiliar coroutines.iscoroutine. Se não for uma corrotina, então um erro é gerado; caso contrário, a corrotina será passada para loop.run_until_complete.\n",
    "\n",
    "A função run_until_complete espera um 'Future' e usa outra função auxiliar futures.isfuture para verificar o tipo fornecido. Se não for um Future, então a API de baixo nível ensure_future é usada para converter a corrotina em um 'Future'.\n",
    "\n",
    "- Futuros\n",
    "\n",
    "Um 'Future' é um objeto aguardável de baixo nível que representa o resultado eventual de uma operação assíncrona.\n",
    "Para usar uma analogia: é como uma caixa de correio vazia. Em algum momento no futuro, o carteiro chegará e colocará uma carta na caixa de correio.\n",
    "\n",
    "Essa API existe para permitir que código baseado em callbacks seja usado com async/await, enquanto loop.run_in_executor é um exemplo de uma função de API de baixo nível asyncio que retorna um 'Future'."
   ]
  },
  {
   "cell_type": "code",
   "execution_count": 1,
   "id": "523d2d29",
   "metadata": {},
   "outputs": [
    {
     "name": "stdout",
     "output_type": "stream",
     "text": [
      "Foo!\n",
      "Hello World!\n",
      "Rodou em 0.0\n"
     ]
    }
   ],
   "source": [
    "import time\n",
    "\n",
    "def foo():\n",
    "    print(\"Foo!\")\n",
    "\n",
    "def hello_world():\n",
    "    foo()  # waits for `foo()` to complete\n",
    "    print(\"Hello World!\")\n",
    "\n",
    "start = time.time()\n",
    "hello_world()\n",
    "end = time.time()\n",
    "print(f\"Rodou em {end - start}\")"
   ]
  },
  {
   "cell_type": "code",
   "execution_count": 2,
   "id": "0946a767",
   "metadata": {},
   "outputs": [
    {
     "ename": "RuntimeError",
     "evalue": "asyncio.run() cannot be called from a running event loop",
     "output_type": "error",
     "traceback": [
      "\u001b[1;31m---------------------------------------------------------------------------\u001b[0m",
      "\u001b[1;31mRuntimeError\u001b[0m                              Traceback (most recent call last)",
      "Cell \u001b[1;32mIn[2], line 11\u001b[0m\n\u001b[0;32m      8\u001b[0m     \u001b[38;5;28mprint\u001b[39m(\u001b[38;5;124m\"\u001b[39m\u001b[38;5;124mHello World!\u001b[39m\u001b[38;5;124m\"\u001b[39m)\n\u001b[0;32m     10\u001b[0m start \u001b[38;5;241m=\u001b[39m time\u001b[38;5;241m.\u001b[39mtime()\n\u001b[1;32m---> 11\u001b[0m asyncio\u001b[38;5;241m.\u001b[39mrun(hello_world())\n\u001b[0;32m     12\u001b[0m end \u001b[38;5;241m=\u001b[39m time\u001b[38;5;241m.\u001b[39mtime()\n\u001b[0;32m     13\u001b[0m \u001b[38;5;28mprint\u001b[39m(\u001b[38;5;124mf\u001b[39m\u001b[38;5;124m\"\u001b[39m\u001b[38;5;124mRodou em \u001b[39m\u001b[38;5;132;01m{\u001b[39;00mend\u001b[38;5;250m \u001b[39m\u001b[38;5;241m-\u001b[39m\u001b[38;5;250m \u001b[39mstart\u001b[38;5;132;01m}\u001b[39;00m\u001b[38;5;124m\"\u001b[39m)\n",
      "File \u001b[1;32mc:\\Users\\thiago.cunha\\.conda\\envs\\Trabalho\\Lib\\asyncio\\runners.py:186\u001b[0m, in \u001b[0;36mrun\u001b[1;34m(main, debug)\u001b[0m\n\u001b[0;32m    161\u001b[0m \u001b[38;5;250m\u001b[39m\u001b[38;5;124;03m\"\"\"Execute the coroutine and return the result.\u001b[39;00m\n\u001b[0;32m    162\u001b[0m \n\u001b[0;32m    163\u001b[0m \u001b[38;5;124;03mThis function runs the passed coroutine, taking care of\u001b[39;00m\n\u001b[1;32m   (...)\u001b[0m\n\u001b[0;32m    182\u001b[0m \u001b[38;5;124;03m    asyncio.run(main())\u001b[39;00m\n\u001b[0;32m    183\u001b[0m \u001b[38;5;124;03m\"\"\"\u001b[39;00m\n\u001b[0;32m    184\u001b[0m \u001b[38;5;28;01mif\u001b[39;00m events\u001b[38;5;241m.\u001b[39m_get_running_loop() \u001b[38;5;129;01mis\u001b[39;00m \u001b[38;5;129;01mnot\u001b[39;00m \u001b[38;5;28;01mNone\u001b[39;00m:\n\u001b[0;32m    185\u001b[0m     \u001b[38;5;66;03m# fail fast with short traceback\u001b[39;00m\n\u001b[1;32m--> 186\u001b[0m     \u001b[38;5;28;01mraise\u001b[39;00m \u001b[38;5;167;01mRuntimeError\u001b[39;00m(\n\u001b[0;32m    187\u001b[0m         \u001b[38;5;124m\"\u001b[39m\u001b[38;5;124masyncio.run() cannot be called from a running event loop\u001b[39m\u001b[38;5;124m\"\u001b[39m)\n\u001b[0;32m    189\u001b[0m \u001b[38;5;28;01mwith\u001b[39;00m Runner(debug\u001b[38;5;241m=\u001b[39mdebug) \u001b[38;5;28;01mas\u001b[39;00m runner:\n\u001b[0;32m    190\u001b[0m     \u001b[38;5;28;01mreturn\u001b[39;00m runner\u001b[38;5;241m.\u001b[39mrun(main)\n",
      "\u001b[1;31mRuntimeError\u001b[0m: asyncio.run() cannot be called from a running event loop"
     ]
    }
   ],
   "source": [
    "import asyncio\n",
    "\n",
    "async def foo():\n",
    "    print(\"Foo!\")\n",
    "\n",
    "async def hello_world():\n",
    "    await foo()  # waits for `foo()` to complete\n",
    "    print(\"Hello World!\")\n",
    "\n",
    "start = time.time()\n",
    "asyncio.run(hello_world())\n",
    "end = time.time()\n",
    "print(f\"Rodou em {end - start}\")"
   ]
  },
  {
   "cell_type": "code",
   "execution_count": 3,
   "id": "a8501713",
   "metadata": {},
   "outputs": [],
   "source": [
    "f = {'a': SyntaxError, 'b': TypeError,\n",
    "     'c': AttributeError, 'd': ValueError}"
   ]
  },
  {
   "cell_type": "code",
   "execution_count": 4,
   "id": "fe965c4b",
   "metadata": {},
   "outputs": [
    {
     "name": "stdout",
     "output_type": "stream",
     "text": [
      "0 10\n"
     ]
    }
   ],
   "source": [
    "num = 0\n",
    "\n",
    "def firstn(n):\n",
    "    global num\n",
    "    num = 0\n",
    "    while num < n:\n",
    "        yield num\n",
    "        num += 1\n",
    "\n",
    "print(num, sum(firstn(5)))"
   ]
  },
  {
   "cell_type": "code",
   "execution_count": 5,
   "id": "79cc4f63",
   "metadata": {},
   "outputs": [
    {
     "name": "stdout",
     "output_type": "stream",
     "text": [
      "True\n",
      "False\n"
     ]
    }
   ],
   "source": [
    "class NoneType(object):\n",
    "    def __eq__(self, other):\n",
    "        return not other\n",
    "non = NoneType()\n",
    "print(non == None)\n",
    "print(non is None)"
   ]
  },
  {
   "cell_type": "code",
   "execution_count": 6,
   "id": "0c16fae6",
   "metadata": {},
   "outputs": [
    {
     "ename": "TypeError",
     "evalue": "type() takes 1 or 3 arguments",
     "output_type": "error",
     "traceback": [
      "\u001b[1;31m---------------------------------------------------------------------------\u001b[0m",
      "\u001b[1;31mTypeError\u001b[0m                                 Traceback (most recent call last)",
      "Cell \u001b[1;32mIn[6], line 1\u001b[0m\n\u001b[1;32m----> 1\u001b[0m Foo \u001b[38;5;241m=\u001b[39m \u001b[38;5;28mtype\u001b[39m(\u001b[38;5;124m'\u001b[39m\u001b[38;5;124mFoo\u001b[39m\u001b[38;5;124m'\u001b[39m, {\u001b[38;5;124m'\u001b[39m\u001b[38;5;124mbar\u001b[39m\u001b[38;5;124m'\u001b[39m:\u001b[38;5;28;01mTrue\u001b[39;00m})\n",
      "\u001b[1;31mTypeError\u001b[0m: type() takes 1 or 3 arguments"
     ]
    }
   ],
   "source": [
    "Foo = type('Foo', {'bar':True})"
   ]
  },
  {
   "cell_type": "code",
   "execution_count": 8,
   "id": "26549011",
   "metadata": {},
   "outputs": [
    {
     "ename": "TypeError",
     "evalue": "'tuple' object does not support item assignment",
     "output_type": "error",
     "traceback": [
      "\u001b[1;31m---------------------------------------------------------------------------\u001b[0m",
      "\u001b[1;31mTypeError\u001b[0m                                 Traceback (most recent call last)",
      "Cell \u001b[1;32mIn[8], line 2\u001b[0m\n\u001b[0;32m      1\u001b[0m a \u001b[38;5;241m=\u001b[39m (\u001b[38;5;241m5\u001b[39m, \u001b[38;5;241m6\u001b[39m, \u001b[38;5;124m'\u001b[39m\u001b[38;5;124mQue\u001b[39m\u001b[38;5;124m'\u001b[39m)\n\u001b[1;32m----> 2\u001b[0m a[\u001b[38;5;241m1\u001b[39m] \u001b[38;5;241m+\u001b[39m\u001b[38;5;241m=\u001b[39m \u001b[38;5;241m1\u001b[39m\n",
      "\u001b[1;31mTypeError\u001b[0m: 'tuple' object does not support item assignment"
     ]
    }
   ],
   "source": [
    "a = (5, 6, 'Que')\n",
    "a[1] += 1"
   ]
  },
  {
   "cell_type": "code",
   "execution_count": 9,
   "id": "109a5174",
   "metadata": {},
   "outputs": [
    {
     "name": "stdout",
     "output_type": "stream",
     "text": [
      "Ellipsis\n"
     ]
    }
   ],
   "source": [
    "print (type(Ellipsis)())"
   ]
  },
  {
   "cell_type": "code",
   "execution_count": 2,
   "id": "6e5bf4cc",
   "metadata": {},
   "outputs": [
    {
     "name": "stdout",
     "output_type": "stream",
     "text": [
      "False\n"
     ]
    }
   ],
   "source": [
    "class Foo:\n",
    "    def __init__(self, var):\n",
    "        self.var = var\n",
    "\n",
    "    @property\n",
    "    def var(self):\n",
    "        return self.__var\n",
    "\n",
    "    @var.setter\n",
    "    def var(self, var):\n",
    "        if var == 'Bar':\n",
    "            self.__var = True\n",
    "        elif var == 'Baz':\n",
    "            self.__var = False\n",
    "        else:\n",
    "            self.__var = None\n",
    "\n",
    "obj = Foo('Baz')\n",
    "print(obj.var)"
   ]
  },
  {
   "cell_type": "code",
   "execution_count": 5,
   "id": "4684bb27",
   "metadata": {},
   "outputs": [
    {
     "ename": "TypeError",
     "evalue": "Person.fdel() takes 1 positional argument but 2 were given",
     "output_type": "error",
     "traceback": [
      "\u001b[1;31m---------------------------------------------------------------------------\u001b[0m",
      "\u001b[1;31mTypeError\u001b[0m                                 Traceback (most recent call last)",
      "Cell \u001b[1;32mIn[5], line 19\u001b[0m\n\u001b[0;32m     16\u001b[0m     name \u001b[38;5;241m=\u001b[39m \u001b[38;5;28mproperty\u001b[39m(fset, fdel, \u001b[38;5;124m\"\u001b[39m\u001b[38;5;124mProperty.\u001b[39m\u001b[38;5;124m\"\u001b[39m)\n\u001b[0;32m     18\u001b[0m user \u001b[38;5;241m=\u001b[39m Person()\n\u001b[1;32m---> 19\u001b[0m user\u001b[38;5;241m.\u001b[39mname \u001b[38;5;241m=\u001b[39m \u001b[38;5;124m'\u001b[39m\u001b[38;5;124mPython language\u001b[39m\u001b[38;5;124m'\u001b[39m\n\u001b[0;32m     20\u001b[0m user\u001b[38;5;241m.\u001b[39mname\n",
      "\u001b[1;31mTypeError\u001b[0m: Person.fdel() takes 1 positional argument but 2 were given"
     ]
    }
   ],
   "source": [
    "class Person(object):\n",
    "    def init(self):\n",
    "        self._name = ''\n",
    " \n",
    "    def fset(self, value):\n",
    "        print (\"Setting: %s\" % value)\n",
    "        self._name = value.title()\n",
    "    \n",
    "    def fget(self):\n",
    "        print (\"Getting: %s\" %self._name)\n",
    "        return self._name\n",
    "\n",
    "    def fdel(self):\n",
    "        print (\"Deleting: %s\" %self._name)\n",
    "        del self._name\n",
    "    name = property(fset, fdel, \"Property.\")\n",
    " \n",
    "user = Person()\n",
    "user.name = 'Python language'\n",
    "user.name"
   ]
  },
  {
   "cell_type": "code",
   "execution_count": 6,
   "id": "648dd4ed",
   "metadata": {},
   "outputs": [
    {
     "name": "stdout",
     "output_type": "stream",
     "text": [
      "<filter object at 0x00000227B4BFA4A0>\n"
     ]
    }
   ],
   "source": [
    "lst = [10, 20, 41, 99]\n",
    "output = filter(lambda x: x % 2 != 0, lst)\n",
    "print(output)"
   ]
  },
  {
   "cell_type": "code",
   "execution_count": 7,
   "id": "bc73eadc",
   "metadata": {},
   "outputs": [
    {
     "name": "stdout",
     "output_type": "stream",
     "text": [
      "6\n",
      "True\n"
     ]
    }
   ],
   "source": [
    "class FileManager(): \n",
    "    def __init__(self, filename, mode): \n",
    "        self.filename = filename \n",
    "        self.mode = mode \n",
    "        self.file = None\n",
    " \n",
    "    def __enter__(self): \n",
    "        self.file = open(self.filename, self.mode) \n",
    "        return self.file\n",
    " \n",
    "    def __exit__(self, exc_type, exc_value, exc_traceback): \n",
    "        self.file.close() \n",
    " \n",
    "with FileManager('file.txt', 'w') as f: \n",
    "    print(f.write('Flight')) \n",
    " \n",
    "print(f.closed)"
   ]
  },
  {
   "cell_type": "code",
   "execution_count": 8,
   "id": "d141172c",
   "metadata": {},
   "outputs": [
    {
     "data": {
      "text/plain": [
       "True"
      ]
     },
     "execution_count": 8,
     "metadata": {},
     "output_type": "execute_result"
    }
   ],
   "source": [
    "1 <= 10"
   ]
  },
  {
   "cell_type": "code",
   "execution_count": 1,
   "id": "e9663a96",
   "metadata": {},
   "outputs": [
    {
     "data": {
      "text/plain": [
       "count    1001.000000\n",
       "mean       18.698302\n",
       "std        17.700534\n",
       "min         1.000000\n",
       "25%         6.000000\n",
       "50%        14.000000\n",
       "75%        25.000000\n",
       "max       127.000000\n",
       "dtype: float64"
      ]
     },
     "execution_count": 1,
     "metadata": {},
     "output_type": "execute_result"
    }
   ],
   "source": [
    "import numpy as np\n",
    "import pandas as pd\n",
    "import matplotlib.pyplot as plt\n",
    "import random\n",
    "c = np.arange(0.25,100.25,0.25) #Lista de 0 a 100 ao passo 0.25 para termos precisao da % de sucesso\n",
    "def pelo_menos_1_sucesso(tentativas,fracasso):\n",
    "    '''\n",
    "    Dado o n° tentativas e a probabilidade de fracasso, retorna o valor da probabilidade de \n",
    "    pelo menos 1 sucesso em %.\n",
    "    '''\n",
    "    fracasso_total = fracasso**tentativas\n",
    "    return (1-fracasso_total)*100\n",
    "\n",
    "def qts_tentativas(fracasso,tentativas):\n",
    "    '''\n",
    "    Função recebe a probabilidade de fracasso e o numero de tentativas.\n",
    "    Retorna lista com as probabilidades de se ter PELO MENOS 1 sucesso entre 1~quant. tentativas\n",
    "    '''\n",
    "    l=[]\n",
    "    for i in range(tentativas):\n",
    "        l.append(pelo_menos_1_sucesso(i,fracasso))\n",
    "    return l\n",
    "\n",
    "def tentativa_max(lista,n):\n",
    "    '''\n",
    "    Função que recebe lista de probabilidades e a n% minima.\n",
    "    Retorna a tentativa mínima para que se tenha PELO MENOS 1 sucesso com n% de certeza\n",
    "    '''\n",
    "    for i in range(len(lista)):\n",
    "        if lista[i]>n:\n",
    "            return i\n",
    "            break\n",
    "\n",
    "def chance_sucesso(sucesso,jogadores):\n",
    "    \n",
    "    '''\n",
    "    Função que recebe a prob(sucesso) de drop e a quantidade de jogadores simulados.\n",
    "    Retorna uma lista com o numero de elementos equivalente ao da quant de jogadores,\n",
    "    mostrando quantas tentativas foram necessárias para haver o primeiro sucesso. \n",
    "    Considera chance de sucesso padrão de 5%. Recebe a chance de sucesso em DECIMAL.\n",
    "    '''\n",
    "    l=[]\n",
    "    tentativas = 1\n",
    "    while len(l) <= jogadores:\n",
    "        if random.choice(c) <= (sucesso*100): # Se o numero escolhido randomicamente entre 100 for menor ou igual a chance de sucesso em %, resulta em sucesso!\n",
    "            l.append(tentativas)\n",
    "            tentativas = 1\n",
    "        else:\n",
    "            tentativas += 1\n",
    "    return l\n",
    "\n",
    "simulacao_1 = pd.Series(chance_sucesso(0.05,1000)) #5% drop, 1000 jogadores\n",
    "simulacao_1.describe()"
   ]
  },
  {
   "cell_type": "code",
   "execution_count": 2,
   "id": "776d0912",
   "metadata": {},
   "outputs": [
    {
     "data": {
      "image/png": "[encoded data removed]",
      "text/plain": [
       "<Figure size 700x700 with 1 Axes>"
      ]
     },
     "metadata": {},
     "output_type": "display_data"
    }
   ],
   "source": [
    "#A cada 1000 jogadores, quantos conseguirão o drop em quantas tentativas? \n",
    "simulacao_1.hist(color=\"k\", alpha=0.8, bins=20, figsize=[7,7])\n",
    "plt.axvline(simulacao_1.mean()-simulacao_1.std(), color='k', ls='--', lw=2) #Engloba 68% da população\n",
    "plt.axvline(simulacao_1.mean()+simulacao_1.std(), color='k', ls='--', lw=2) #Engloba 68% da população\n",
    "plt.axvline(simulacao_1.mean()+2*simulacao_1.std(), color='r', ls='--', lw=2) #Engloba 95% da população\n",
    "plt.xlabel('N° tentativas')\n",
    "plt.ylabel('Quantidade jogadores')\n",
    "plt.show()"
   ]
  },
  {
   "cell_type": "code",
   "execution_count": 32,
   "id": "30bd9171",
   "metadata": {},
   "outputs": [
    {
     "data": {
      "text/plain": [
       "0       15\n",
       "1       26\n",
       "2       29\n",
       "3       18\n",
       "4        7\n",
       "        ..\n",
       "996     18\n",
       "997     34\n",
       "998     12\n",
       "999      3\n",
       "1000    29\n",
       "Length: 1001, dtype: int64"
      ]
     },
     "execution_count": 32,
     "metadata": {},
     "output_type": "execute_result"
    }
   ],
   "source": [
    "simulacao_1"
   ]
  },
  {
   "cell_type": "code",
   "execution_count": 54,
   "id": "4d8bebab",
   "metadata": {},
   "outputs": [
    {
     "data": {
      "text/html": [
       "<div>\n",
       "<style scoped>\n",
       "    .dataframe tbody tr th:only-of-type {\n",
       "        vertical-align: middle;\n",
       "    }\n",
       "\n",
       "    .dataframe tbody tr th {\n",
       "        vertical-align: top;\n",
       "    }\n",
       "\n",
       "    .dataframe thead th {\n",
       "        text-align: right;\n",
       "    }\n",
       "</style>\n",
       "<table border=\"1\" class=\"dataframe\">\n",
       "  <thead>\n",
       "    <tr style=\"text-align: right;\">\n",
       "      <th></th>\n",
       "      <th>N Tentativas</th>\n",
       "    </tr>\n",
       "    <tr>\n",
       "      <th>Jogadores</th>\n",
       "      <th></th>\n",
       "    </tr>\n",
       "  </thead>\n",
       "  <tbody>\n",
       "    <tr>\n",
       "      <th>0</th>\n",
       "      <td>15</td>\n",
       "    </tr>\n",
       "    <tr>\n",
       "      <th>1</th>\n",
       "      <td>26</td>\n",
       "    </tr>\n",
       "    <tr>\n",
       "      <th>2</th>\n",
       "      <td>29</td>\n",
       "    </tr>\n",
       "    <tr>\n",
       "      <th>3</th>\n",
       "      <td>18</td>\n",
       "    </tr>\n",
       "    <tr>\n",
       "      <th>4</th>\n",
       "      <td>7</td>\n",
       "    </tr>\n",
       "    <tr>\n",
       "      <th>...</th>\n",
       "      <td>...</td>\n",
       "    </tr>\n",
       "    <tr>\n",
       "      <th>996</th>\n",
       "      <td>18</td>\n",
       "    </tr>\n",
       "    <tr>\n",
       "      <th>997</th>\n",
       "      <td>34</td>\n",
       "    </tr>\n",
       "    <tr>\n",
       "      <th>998</th>\n",
       "      <td>12</td>\n",
       "    </tr>\n",
       "    <tr>\n",
       "      <th>999</th>\n",
       "      <td>3</td>\n",
       "    </tr>\n",
       "    <tr>\n",
       "      <th>1000</th>\n",
       "      <td>29</td>\n",
       "    </tr>\n",
       "  </tbody>\n",
       "</table>\n",
       "<p>1001 rows × 1 columns</p>\n",
       "</div>"
      ],
      "text/plain": [
       "           N Tentativas\n",
       "Jogadores              \n",
       "0                    15\n",
       "1                    26\n",
       "2                    29\n",
       "3                    18\n",
       "4                     7\n",
       "...                 ...\n",
       "996                  18\n",
       "997                  34\n",
       "998                  12\n",
       "999                   3\n",
       "1000                 29\n",
       "\n",
       "[1001 rows x 1 columns]"
      ]
     },
     "execution_count": 54,
     "metadata": {},
     "output_type": "execute_result"
    }
   ],
   "source": [
    "df = pd.DataFrame(data=simulacao_1, columns=['N Tentativas'])\n",
    "df.index.name = 'Jogadores'\n",
    "df"
   ]
  },
  {
   "cell_type": "code",
   "execution_count": 64,
   "id": "fe55d21a",
   "metadata": {},
   "outputs": [
    {
     "data": {
      "text/plain": [
       "377"
      ]
     },
     "execution_count": 64,
     "metadata": {},
     "output_type": "execute_result"
    }
   ],
   "source": [
    "(df['N Tentativas']<10).sum() "
   ]
  },
  {
   "cell_type": "code",
   "execution_count": 25,
   "id": "f9db840a",
   "metadata": {},
   "outputs": [
    {
     "data": {
      "image/png": "[encoded data removed]",
      "text/plain": [
       "<Figure size 640x480 with 1 Axes>"
      ]
     },
     "metadata": {},
     "output_type": "display_data"
    },
    {
     "name": "stdout",
     "output_type": "stream",
     "text": [
      "95% da populacao está dentro das 29.352360917382285 tentativas\n"
     ]
    }
   ],
   "source": [
    "n = 10\n",
    "nova_distribuicao = np.array([])\n",
    "\n",
    "for i in range(len(simulacao_1)):\n",
    "    indices = np.random.randint(0, len(simulacao_1), n)\n",
    "    nova_distribuicao = np.append(nova_distribuicao, simulacao_1[indices].mean())\n",
    "\n",
    "plt.hist(nova_distribuicao, color='gray', bins=50)\n",
    "plt.ylabel('PDF',fontsize=15)\n",
    "plt.xlabel('Valor',fontsize=15)\n",
    "plt.yticks(fontsize=15)\n",
    "plt.xticks(fontsize=15)\n",
    "plt.axvline(nova_distribuicao.mean()-nova_distribuicao.std(), color='k', ls='--', lw=2) #Engloba 68% da população\n",
    "plt.axvline(nova_distribuicao.mean()+nova_distribuicao.std(), color='k', ls='--', lw=2) #Engloba 68% da população\n",
    "plt.axvline(nova_distribuicao.mean()+2*nova_distribuicao.std(), color='r', ls='--', lw=2) #Engloba 95% da população\n",
    "plt.show()\n",
    "\n",
    "print(f\"95% da populacao está dentro das {nova_distribuicao.mean()+2*nova_distribuicao.std()} tentativas\")"
   ]
  },
  {
   "cell_type": "code",
   "execution_count": 30,
   "id": "d40993eb",
   "metadata": {},
   "outputs": [
    {
     "data": {
      "image/png": "[encoded data removed]",
      "text/plain": [
       "<Figure size 640x480 with 1 Axes>"
      ]
     },
     "metadata": {},
     "output_type": "display_data"
    },
    {
     "name": "stdout",
     "output_type": "stream",
     "text": [
      "68% da populacao está dentro das 18.66~18.73 tentativas\n",
      "95% da populacao está dentro das 18.63~18.76 tentativas\n",
      "Média: 18.7\n",
      "Desvio: 0.03\n"
     ]
    }
   ],
   "source": [
    "n = 300000\n",
    "nova_distribuicao = np.array([])\n",
    "\n",
    "for i in range(len(simulacao_1)):\n",
    "    indices = np.random.randint(0, len(simulacao_1), n)\n",
    "    nova_distribuicao = np.append(nova_distribuicao, simulacao_1[indices].mean())\n",
    "\n",
    "plt.hist(nova_distribuicao, color='gray', bins=50)\n",
    "plt.ylabel('PDF',fontsize=15)\n",
    "plt.xlabel('Valor',fontsize=15)\n",
    "plt.yticks(fontsize=15)\n",
    "plt.xticks(fontsize=15)\n",
    "plt.axvline(nova_distribuicao.mean(), color='r', ls='--', lw=2) #Mèdia\n",
    "plt.axvline(nova_distribuicao.mean()-nova_distribuicao.std(), color='k', ls='--', lw=2) #Engloba 68% da população\n",
    "plt.axvline(nova_distribuicao.mean()+nova_distribuicao.std(), color='k', ls='--', lw=2) #Engloba 68% da população\n",
    "plt.axvline(nova_distribuicao.mean()+2*nova_distribuicao.std(), color='m', ls='--', lw=2) #Engloba 95% da população\n",
    "plt.axvline(nova_distribuicao.mean()-2*nova_distribuicao.std(), color='m', ls='--', lw=2) #Engloba 95% da população\n",
    "plt.show()\n",
    "\n",
    "print(f\"68% da populacao está dentro das {round(nova_distribuicao.mean()-1*nova_distribuicao.std(),2)}~{round(nova_distribuicao.mean()+1*nova_distribuicao.std(),2)} tentativas\")\n",
    "print(f\"95% da populacao está dentro das {round(nova_distribuicao.mean()-2*nova_distribuicao.std(),2)}~{round(nova_distribuicao.mean()+2*nova_distribuicao.std(),2)} tentativas\")\n",
    "print(f\"Média: {round(nova_distribuicao.mean(),2)}\\nDesvio: {round(nova_distribuicao.std(),2)}\")"
   ]
  },
  {
   "cell_type": "code",
   "execution_count": 11,
   "id": "67feb503",
   "metadata": {},
   "outputs": [
    {
     "data": {
      "image/png": "[encoded data removed]",
      "text/plain": [
       "<Figure size 640x480 with 1 Axes>"
      ]
     },
     "metadata": {},
     "output_type": "display_data"
    },
    {
     "name": "stdout",
     "output_type": "stream",
     "text": [
      "A partir de 14 tentativas, temos probabilidade de sucesso acima de 50%.\n",
      "\n",
      "A partir de 77 tentativas, temos probabilidade próxima dos 100% de sucesso.\n"
     ]
    }
   ],
   "source": [
    "maxx = simulacao_1.max()\n",
    "# Usando o N° max de tentativas visto na simulacao p limitar nosso grafico\n",
    "cinc = tentativa_max(qts_tentativas(0.95,maxx),50) \n",
    "cem = tentativa_max(qts_tentativas(0.95,maxx),98)\n",
    "\n",
    "\n",
    "plt.title('A probabilidade de se dropar montaria(5%) pelo menos uma vez')\n",
    "plt.plot(range(maxx), qts_tentativas(0.95,maxx),'m.') # N° max visto na simulacao\n",
    "plt.xlabel('N° Tentativas')\n",
    "plt.ylabel('probabilidade [%]')\n",
    "#plt.axhline(50, color='y', linestyle='dotted', linewidth=2) # probabilidade que julgo aceitavel\n",
    "plt.axvline(cinc, color='r', linestyle='dotted', linewidth=2) # tentativas para a prob(aceitavel)\n",
    "plt.axvline(cem, color='r', linestyle='dotted', linewidth=2) # tentativas para a prob(suesso) ser quase certa\n",
    "plt.show()\n",
    "print('A partir de '+str(cinc)+' tentativas, temos probabilidade de sucesso acima de 50%.\\n')\n",
    "print('A partir de '+str(cem)+' tentativas, temos probabilidade próxima dos 100% de sucesso.')"
   ]
  },
  {
   "cell_type": "code",
   "execution_count": 12,
   "id": "cc416613",
   "metadata": {},
   "outputs": [
    {
     "data": {
      "text/plain": [
       "count    10001.000000\n",
       "mean        49.218178\n",
       "std         48.531268\n",
       "min          1.000000\n",
       "25%         15.000000\n",
       "50%         35.000000\n",
       "75%         68.000000\n",
       "max        606.000000\n",
       "dtype: float64"
      ]
     },
     "execution_count": 12,
     "metadata": {},
     "output_type": "execute_result"
    }
   ],
   "source": [
    "simulacao_2 = pd.Series(chance_sucesso(0.02,10000)) \n",
    "simulacao_2.describe()"
   ]
  },
  {
   "cell_type": "code",
   "execution_count": 1,
   "id": "51beff7f",
   "metadata": {},
   "outputs": [
    {
     "name": "stdout",
     "output_type": "stream",
     "text": [
      "Sincrono: 5\n"
     ]
    },
    {
     "ename": "RuntimeError",
     "evalue": "Cannot run the event loop while another loop is running",
     "output_type": "error",
     "traceback": [
      "\u001b[1;31m---------------------------------------------------------------------------\u001b[0m",
      "\u001b[1;31mRuntimeError\u001b[0m                              Traceback (most recent call last)",
      "Cell \u001b[1;32mIn[1], line 26\u001b[0m\n\u001b[0;32m     23\u001b[0m \u001b[38;5;66;03m#Event Loop\u001b[39;00m\n\u001b[0;32m     25\u001b[0m event_loop \u001b[38;5;241m=\u001b[39m asyncio\u001b[38;5;241m.\u001b[39mnew_event_loop()\n\u001b[1;32m---> 26\u001b[0m result \u001b[38;5;241m=\u001b[39m event_loop\u001b[38;5;241m.\u001b[39mrun_until_complete(coro) \u001b[38;5;66;03m# é necessário fazer a coroutine rodar completamente\u001b[39;00m\n\u001b[0;32m     27\u001b[0m \u001b[38;5;28mprint\u001b[39m(\u001b[38;5;124mf\u001b[39m\u001b[38;5;124m\"\u001b[39m\u001b[38;5;124mAssincrono: \u001b[39m\u001b[38;5;132;01m{\u001b[39;00mresult\u001b[38;5;132;01m}\u001b[39;00m\u001b[38;5;124m\"\u001b[39m)\n\u001b[0;32m     29\u001b[0m \u001b[38;5;124;03m'''\u001b[39;00m\n\u001b[0;32m     30\u001b[0m \u001b[38;5;124;03mUtilizando inumeras funções juntas e de forma assincrona\u001b[39;00m\n\u001b[0;32m     31\u001b[0m \u001b[38;5;124;03m'''\u001b[39;00m\n",
      "File \u001b[1;32mc:\\Users\\thiago.cunha\\.conda\\envs\\Trabalho\\Lib\\asyncio\\base_events.py:629\u001b[0m, in \u001b[0;36mBaseEventLoop.run_until_complete\u001b[1;34m(self, future)\u001b[0m\n\u001b[0;32m    618\u001b[0m \u001b[38;5;250m\u001b[39m\u001b[38;5;124;03m\"\"\"Run until the Future is done.\u001b[39;00m\n\u001b[0;32m    619\u001b[0m \n\u001b[0;32m    620\u001b[0m \u001b[38;5;124;03mIf the argument is a coroutine, it is wrapped in a Task.\u001b[39;00m\n\u001b[1;32m   (...)\u001b[0m\n\u001b[0;32m    626\u001b[0m \u001b[38;5;124;03mReturn the Future's result, or raise its exception.\u001b[39;00m\n\u001b[0;32m    627\u001b[0m \u001b[38;5;124;03m\"\"\"\u001b[39;00m\n\u001b[0;32m    628\u001b[0m \u001b[38;5;28mself\u001b[39m\u001b[38;5;241m.\u001b[39m_check_closed()\n\u001b[1;32m--> 629\u001b[0m \u001b[38;5;28mself\u001b[39m\u001b[38;5;241m.\u001b[39m_check_running()\n\u001b[0;32m    631\u001b[0m new_task \u001b[38;5;241m=\u001b[39m \u001b[38;5;129;01mnot\u001b[39;00m futures\u001b[38;5;241m.\u001b[39misfuture(future)\n\u001b[0;32m    632\u001b[0m future \u001b[38;5;241m=\u001b[39m tasks\u001b[38;5;241m.\u001b[39mensure_future(future, loop\u001b[38;5;241m=\u001b[39m\u001b[38;5;28mself\u001b[39m)\n",
      "File \u001b[1;32mc:\\Users\\thiago.cunha\\.conda\\envs\\Trabalho\\Lib\\asyncio\\base_events.py:590\u001b[0m, in \u001b[0;36mBaseEventLoop._check_running\u001b[1;34m(self)\u001b[0m\n\u001b[0;32m    588\u001b[0m     \u001b[38;5;28;01mraise\u001b[39;00m \u001b[38;5;167;01mRuntimeError\u001b[39;00m(\u001b[38;5;124m'\u001b[39m\u001b[38;5;124mThis event loop is already running\u001b[39m\u001b[38;5;124m'\u001b[39m)\n\u001b[0;32m    589\u001b[0m \u001b[38;5;28;01mif\u001b[39;00m events\u001b[38;5;241m.\u001b[39m_get_running_loop() \u001b[38;5;129;01mis\u001b[39;00m \u001b[38;5;129;01mnot\u001b[39;00m \u001b[38;5;28;01mNone\u001b[39;00m:\n\u001b[1;32m--> 590\u001b[0m     \u001b[38;5;28;01mraise\u001b[39;00m \u001b[38;5;167;01mRuntimeError\u001b[39;00m(\n\u001b[0;32m    591\u001b[0m         \u001b[38;5;124m'\u001b[39m\u001b[38;5;124mCannot run the event loop while another loop is running\u001b[39m\u001b[38;5;124m'\u001b[39m)\n",
      "\u001b[1;31mRuntimeError\u001b[0m: Cannot run the event loop while another loop is running"
     ]
    }
   ],
   "source": [
    "import aiohttp\n",
    "import asyncio\n",
    "from bs4 import BeautifulSoup\n",
    "import concurrent.futures\n",
    "\n",
    "'''\n",
    "Como funciona e como usar async/await\n",
    "\n",
    "Vamos medir performance\n",
    "'''\n",
    "\n",
    "\n",
    "def sum(a,b):\n",
    "    return a+b\n",
    "\n",
    "result = sum(2,3)\n",
    "print(f\"Sincrono: {result}\")\n",
    "\n",
    "async def soma(a,b):\n",
    "    return float(a+b)  #Nesse caso vai retornar um objeto coroutine\n",
    "\n",
    "coro = soma(2,3)\n",
    "#Event Loop\n",
    "\n",
    "event_loop = asyncio.new_event_loop()\n",
    "result = event_loop.run_until_complete(coro) # é necessário fazer a coroutine rodar completamente\n",
    "print(f\"Assincrono: {result}\")\n",
    "\n",
    "'''\n",
    "Utilizando inumeras funções juntas e de forma assincrona\n",
    "'''\n",
    "\n",
    "async def print_soma(a,b):\n",
    "    \"\"\"Printa a soma feita de forma assincrona\n",
    "\n",
    "    Args:\n",
    "        a (_float_): Numero \n",
    "        b (_float_): Numero\n",
    "    \"\"\"\n",
    "    #a = input(\"Digite o primeiro numero: \")\n",
    "    #b = input(\"Digite o segundo numero: \")\n",
    "    result = await soma(a,b)\n",
    "    print(f\"Funcao Assincrona: {result}\")\n",
    "\n",
    "event_loop = asyncio.new_event_loop()\n",
    "result = event_loop.run_until_complete(print_soma(2,3)) # é necessário fazer a coroutine rodar completamente\n",
    "\n",
    "'''\n",
    "Montar o exemplo do Bob esponja fazendo hamburguer de siri + milkshake\n",
    "'''\n",
    "from time import sleep\n",
    "import time\n",
    "\n",
    "class SyncSpongeBob:\n",
    "    \"\"\"\n",
    "    Classe bob esponja sincrono\n",
    "    \"\"\"\n",
    "    def cook_bread(self):\n",
    "        sleep(3)\n",
    "    \n",
    "    def cook_hamburguer(self):\n",
    "        sleep(10)\n",
    "\n",
    "    def mount_sandwich(self):\n",
    "        sleep(3)\n",
    "\n",
    "    def make_milkshake(self):\n",
    "        sleep(5)\n",
    "\n",
    "    def cook(self):\n",
    "        start = time.time()\n",
    "        self.cook_bread()\n",
    "        self.cook_hamburguer()\n",
    "        self.mount_sandwich()\n",
    "        self.make_milkshake()\n",
    "        end = time.time()\n",
    "        print(f\"Tempo de preparacao (Sincrono): {end - start}\")\n",
    "    \n",
    "sync_spongebob = SyncSpongeBob()\n",
    "sync_spongebob.cook()\n",
    "\n",
    "class AssyncSpongeBob:\n",
    "    \"\"\"\n",
    "    Classe Bob Esponja Assincrona\n",
    "    \"\"\"\n",
    "    async def cook_bread(self):\n",
    "        await asyncio.sleep(3)\n",
    "    \n",
    "    async def cook_hamburguer(self):\n",
    "        await asyncio.sleep(10)\n",
    "\n",
    "    async def mount_sandwich(self):\n",
    "        await asyncio.sleep(3)\n",
    "        print(\"Sandwich mounted\")\n",
    "\n",
    "    async def make_milkshake(self):\n",
    "        await asyncio.sleep(5)\n",
    "\n",
    "    async def cook(self):\n",
    "        \"\"\"\n",
    "        Aqui temos que alterar, pois podemos esperar funções simultaneas. No caso, o Bob Esponja\n",
    "        pode preparar o pão e a carne do hamburguer enquanto faz o milshake.\n",
    "        \"\"\"\n",
    "        start = time.time()\n",
    "        await asyncio.gather( #Fazer pão e carne ao msm tempo q o milshake\n",
    "            self.cook_bread(),\n",
    "            self.cook_hamburguer(),\n",
    "            self.make_milkshake()\n",
    "        )\n",
    "        await self.mount_sandwich()\n",
    "        end = time.time()\n",
    "        print(f\"Tempo de preparacao (Assincrono): {end - start}\")\n",
    "    \n",
    "assync_spongebob = AssyncSpongeBob()\n",
    "asyncio.run(assync_spongebob.cook()) #precisa do loop/ run_until complete. OU usar asyncio.run\n",
    "\n",
    "\n",
    "'''\n",
    "Tem como otimizar ainda mais! Perceba que é possível ao Bob Esponja fazer o milkshake caso hamburguer \n",
    "e pão já estejam prontos. Não é necessário espera-los.\n",
    "'''\n",
    "\n",
    "class AssyncSpongeBob:\n",
    "    \"\"\"\n",
    "    Classe Bob Esponja Assincrona\n",
    "    \"\"\"\n",
    "    async def cook_bread(self):\n",
    "        await asyncio.sleep(3)\n",
    "    \n",
    "    async def cook_hamburguer(self):\n",
    "        await asyncio.sleep(10)\n",
    "\n",
    "    async def mount_sandwich(self):\n",
    "        await asyncio.sleep(3)\n",
    "        print(\"Sandwich mounted\")\n",
    "\n",
    "    async def make_milkshake(self):\n",
    "        await asyncio.sleep(5)\n",
    "    \n",
    "    async def make_sandwich(self):\n",
    "        await asyncio.gather(\n",
    "            self.cook_bread(),\n",
    "            self.cook_hamburguer()\n",
    "        )\n",
    "        event_loop = asyncio.get_running_loop()\n",
    "        event_loop.create_task(self.mount_sandwich()) #Dps que ambas as tarefas estão finalizadas, posso emendar no loop da montagem\n",
    "\n",
    "    async def cook(self):\n",
    "        \"\"\"\n",
    "        Aqui temos que alterar, pois podemos esperar funções simultaneas. No caso, o Bob Esponja\n",
    "        pode preparar o pão e a carne do hamburguer enquanto faz o milshake.\n",
    "        \"\"\"\n",
    "        start = time.time()\n",
    "        await asyncio.gather( #Fazer pão e carne ao msm tempo q o milshake melhorado\n",
    "            self.make_sandwich(),\n",
    "            self.make_milkshake()\n",
    "        )\n",
    "        end = time.time()\n",
    "        print(f\"Tempo de preparacao (Assincrono+): {end - start}\")\n",
    "    \n",
    "assync_spongebob = AssyncSpongeBob()\n",
    "asyncio.run(assync_spongebob.cook()) #precisa do loop/ run_until complete. OU usar asyncio.run\n"
   ]
  },
  {
   "cell_type": "code",
   "execution_count": null,
   "id": "3331ea41",
   "metadata": {},
   "outputs": [],
   "source": []
  }
 ],
 "metadata": {
  "kernelspec": {
   "display_name": "Python 3 (ipykernel)",
   "language": "python",
   "name": "python3"
  },
  "language_info": {
   "codemirror_mode": {
    "name": "ipython",
    "version": 3
   },
   "file_extension": ".py",
   "mimetype": "text/x-python",
   "name": "python",
   "nbconvert_exporter": "python",
   "pygments_lexer": "ipython3",
   "version": "3.11.7"
  }
 },
 "nbformat": 4,
 "nbformat_minor": 5
}

{
 "cells": [
  {
   "cell_type": "markdown",
   "id": "db701525",
   "metadata": {},
   "source": [
    "### Anotações importantes sobre Aprendizado de Máquina, Modelos matemáticos e Finanças Quantitativas\n",
    "\n",
    "- 1) Modelagem Matemática"
   ]
  },
  {
   "cell_type": "markdown",
   "id": "5d222ea2",
   "metadata": {},
   "source": [
    "Baseado nas aulas de Modelagem e Cálculo estocástico do  Professor Claudio Possani\n",
    "\n",
    "Antes de explorarmos modelos complexos de mercado, daremos um passo atrás, e exploraremos a base de qualquer modelagem matemática. O primeiro exemplo será o de Crescimento Populacional, mas iremos explorar outros exemplos. Terminaremos esse capítulo revisando o cálculo estocástico para finanças, e com isso teremos dado um passo importante na direção das Finanças Quant.\n",
    "\n",
    "#### Modelando Crescimento Populacional:\n",
    "\n",
    "\n",
    "N = N(t) = número de indivíduos\n",
    "\n",
    "Podemos supor inicialmente que a variação de N com o passar do tempo é simplesmente\n",
    "\n",
    "$\\frac{N}{t} = $ Nascimentos - Mortes + Migração\n",
    "\n",
    "\n",
    "Uma simplificação grosseira, mas útil no nosso exemplo, é considerar migração = 0 pois podemos contabiliza-lo dentro da variável 'Nascimentos'. Dessa forma conseguimos chegar em:\n",
    "\n",
    "$\\frac{N}{t} = n\\dot N - m\\dot N = (n-m)\\dot N$, com (n-m) representando um coeficiente qualquer, que tenha haver com a relação nascimento/mortes. Uma boa forma de iniciarmos nosso modelo é supormos que $N(t) = N_o \\dot \\exp{(n-m)\\dot t}$ já que sua derivada mantém a nossa intuição inicial (não só $\\frac{N}{t} = N_o \\dot (n-m) \\exp{(n-m)t}$ , mas para n=m $N(t) = N_o$ e diverge para $n>m$ e converge para 0 se $n<m$).\n",
    "\n",
    "Um modelo mais realista deve considerar o limite populacional do espaço em questão (podemos definir $\\rho = n-m$ como o coeficiente de proporcionalidade e $k = $ limite estável).\n",
    "\n"
   ]
  },
  {
   "cell_type": "markdown",
   "id": "09722ed6",
   "metadata": {},
   "source": []
  },
  {
   "cell_type": "markdown",
   "id": "f12b652b",
   "metadata": {},
   "source": [
    "- 2) Aprendizado de Máquina\n",
    "\n",
    "#### Algoritmos e Estrutura de Dados (+tecnologias de dados - Azure/AWS/QueriesSQL/MLOps)\n",
    "Vamos começar ...\n",
    "\n",
    "#### Tópicos de Machine Learning\n",
    "Baseado nos livros: \"Aurélien Géron - Mãos à Obra_ Aprendizado de Máquina com Scikit-Learn & TensorFlow (2019)\", \"(Elements in Quantitative Finance) Marcos M. López de Prado - Machine Learning for Asset Managers-Cambridge University Press (2020)\" e \"Marcos Lopez de Prado - Advances in Financial Machine Learning-Wiley (2018)\"\n",
    "\n"
   ]
  },
  {
   "cell_type": "markdown",
   "id": "bce7fa62",
   "metadata": {},
   "source": [
    "- 3) Finanças Quantitativas:\n",
    "\n",
    "#### Finanças Básicas\n",
    "Baseado nos materiais básicos de CFG, CGA e CFA\n",
    "\n",
    "#### Teoria da Arbitragem\n",
    "livro \"Tomas Björk - Arbitrage Theory in Continuous Time-Oxford University Press, USA (1999)\"\n",
    "\n",
    "#### Análise Quantitativa\n",
    "livro \"Paul Wilmott Introduces Quant Finances\"."
   ]
  },
  {
   "cell_type": "markdown",
   "id": "96cefd85",
   "metadata": {},
   "source": []
  }
 ],
 "metadata": {
  "language_info": {
   "name": "python"
  }
 },
 "nbformat": 4,
 "nbformat_minor": 5
}

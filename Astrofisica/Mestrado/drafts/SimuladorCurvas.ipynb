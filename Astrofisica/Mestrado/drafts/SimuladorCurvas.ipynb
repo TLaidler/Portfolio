{
 "cells": [
  {
   "cell_type": "code",
   "execution_count": 1,
   "metadata": {},
   "outputs": [],
   "source": [
    "import numpy as np\n",
    "import pandas as pd\n",
    "import matplotlib.pylab as pl\n",
    "import matplotlib.pyplot as plt\n",
    "import random \n",
    "import time\n",
    "import scipy.integrate as integrate\n",
    "import pandas as pd "
   ]
  },
  {
   "cell_type": "code",
   "execution_count": 2,
   "metadata": {},
   "outputs": [
    {
     "name": "stdout",
     "output_type": "stream",
     "text": [
      "299792458.06250066\n"
     ]
    }
   ],
   "source": [
    "ua = 149597870\n",
    "ang_km = 1*10**-13\n",
    "ano = 365*24*3600\n",
    "mu0 = 1.256637061 * 10 ** -6 #N A**-2\n",
    "ep0 = 8.854187817 * 10 **(-12) #C**2 N**-1 m**-2\n",
    "c = 1/(mu0*ep0)**(1/2)\n",
    "print (c)"
   ]
  },
  {
   "cell_type": "code",
   "execution_count": 3,
   "metadata": {},
   "outputs": [
    {
     "name": "stdout",
     "output_type": "stream",
     "text": [
      "SORA version: 0.2.1\n"
     ]
    }
   ],
   "source": [
    "sor = input('Você deseja utilizar o SORA? 1 - SIM 2 - NÃO')\n",
    "if sor=='1':\n",
    "   # from sora.body import Body\n",
    "   # from sora import EphemHorizons\n",
    "    from sora import Star\n",
    "    from sora import LightCurve # C:\\Users\\Wellington\\anaconda3\\Lib\\site-packages\\sora\n",
    "else:\n",
    "    print('a')\n",
    "    #inserir funções similares as do SORA"
   ]
  },
  {
   "attachments": {},
   "cell_type": "markdown",
   "metadata": {},
   "source": [
    "# Definindo funções usadas no programa"
   ]
  },
  {
   "cell_type": "code",
   "execution_count": 4,
   "metadata": {},
   "outputs": [],
   "source": [
    "Cn2 = 1 "
   ]
  },
  {
   "cell_type": "code",
   "execution_count": 5,
   "metadata": {},
   "outputs": [],
   "source": [
    "def calculo_magnitude(magnitude_absoluta, distancia): #em UA\n",
    "    magnitude_aparente = magnitude_absoluta + 5*np.log10(distancia*(distancia-1))\n",
    "    return(magnitude_aparente)"
   ]
  },
  {
   "cell_type": "code",
   "execution_count": 52,
   "metadata": {},
   "outputs": [
    {
     "name": "stdout",
     "output_type": "stream",
     "text": [
      "3.6900000000000003e-09\n",
      "3.5834581983999223e-09\n"
     ]
    }
   ],
   "source": [
    "def Fluxo_lambda(magnitude):\n",
    "    Fuxo=(10**(2.5*np.log10(3.44*(10**-12)))+(magnitude))**(1/2.5) #usando equação 20.9 kepler\n",
    "    Fluxo = (3.69*10**-9)*(10**(magnitude))**(-1/2.5)\n",
    "    return (Fluxo) #W/m2\n",
    "# F V=0 3.44 * 10 ** - 8 J /m**2 s**-1 um**-1 === 1000 fotons cm**-2 s**-2 um**-1\n",
    "#FLuxo \n",
    "print(Fluxo_lambda(0)) #W/m²\n",
    "\n",
    "def Flux_lambda_ruido(magnitude):\n",
    "    Fluxo=Fluxo_lambda(magnitude)\n",
    "    tempo = 1\n",
    "    area = 1\n",
    "    cn15=integrate.quad(Cn22,0,np.inf)\n",
    "    ir_saha=19.2*(600*10**-9)**(-7/6)*cn15[1]\n",
    "    E0 = 3.6*10**-9 #W/m²\n",
    "    E = (E0*10**(-0.4*magnitude))/tempo/area #W/cm²\n",
    "    return(np.exp((np.log(E)+np.random.normal(0,ir_saha**(1/2)/area)*tempo)))\n",
    "print(Flux_lambda_ruido(0))"
   ]
  },
  {
   "cell_type": "code",
   "execution_count": 53,
   "metadata": {},
   "outputs": [
    {
     "ename": "NameError",
     "evalue": "name 'ir_saha' is not defined",
     "output_type": "error",
     "traceback": [
      "\u001b[1;31m---------------------------------------------------------------------------\u001b[0m",
      "\u001b[1;31mNameError\u001b[0m                                 Traceback (most recent call last)",
      "Input \u001b[1;32mIn [53]\u001b[0m, in \u001b[0;36m<cell line: 1>\u001b[1;34m()\u001b[0m\n\u001b[1;32m----> 1\u001b[0m \u001b[38;5;28mprint\u001b[39m(\u001b[43mir_saha\u001b[49m)\n",
      "\u001b[1;31mNameError\u001b[0m: name 'ir_saha' is not defined"
     ]
    }
   ],
   "source": [
    "print(ir_saha)"
   ]
  },
  {
   "cell_type": "code",
   "execution_count": 54,
   "metadata": {},
   "outputs": [
    {
     "name": "stdout",
     "output_type": "stream",
     "text": [
      "1021654.5590701991\n",
      "1000000\n"
     ]
    }
   ],
   "source": [
    "def fluxo_fotons(fluxo, lamb):\n",
    "    h = 6.626196*10**-34 #m2kg/s\n",
    "    c = 2.997924562*10**8 #m/s\n",
    "    angstrons_m = 10**(-10) #\n",
    "    fotons=fluxo*(lamb*angstrons_m)/(h*c)\n",
    "    return(fotons)\n",
    "print(fluxo_fotons(Fluxo_lambda(0),5500)/10**4)\n",
    "print(10**6)\n",
    "#fotons /m²/s"
   ]
  },
  {
   "cell_type": "code",
   "execution_count": 55,
   "metadata": {},
   "outputs": [],
   "source": [
    "def diametro_angular(diametro, distancia): #unidades\n",
    "    diametro_ang=(np.arctan(diametro/(distancia*ua)))*(360/(2*np.pi))*3600*1000\n",
    "    return(diametro_ang) #segundo de arco"
   ]
  },
  {
   "cell_type": "code",
   "execution_count": 56,
   "metadata": {},
   "outputs": [],
   "source": [
    "def Escala_placa(pixel, bin, dist_focal): #unidades\n",
    "    escala_placa = 206265*pixel*bin/(1000*dist_focal)\n",
    "    return escala_placa #segundo de arco/pixel"
   ]
  },
  {
   "cell_type": "code",
   "execution_count": 57,
   "metadata": {},
   "outputs": [],
   "source": [
    "def tamanho_angular_corpo(diametro_angular,Escala_placa):\n",
    "    tamanho = diametro_angular/Escala_placa\n",
    "    return tamanho"
   ]
  },
  {
   "cell_type": "code",
   "execution_count": 58,
   "metadata": {},
   "outputs": [
    {
     "name": "stdout",
     "output_type": "stream",
     "text": [
      "18.2514153568502\n"
     ]
    }
   ],
   "source": [
    "ep = Escala_placa(5.86,1,100)\n",
    "da = diametro_angular(6400,40)\n",
    "print(tamanho_angular_corpo(da,ep))"
   ]
  },
  {
   "cell_type": "code",
   "execution_count": 59,
   "metadata": {},
   "outputs": [],
   "source": [
    "#Incerteza de um photon-counting device que segue Estatistica de Poisson é sqrt(N), sendo N o número de fotons contados ToMeasuretheSky p.239\n"
   ]
  },
  {
   "cell_type": "code",
   "execution_count": 60,
   "metadata": {},
   "outputs": [
    {
     "name": "stdout",
     "output_type": "stream",
     "text": [
      "19.636148842226767\n"
     ]
    }
   ],
   "source": [
    "def soma_magnitude(mag1, mag2):\n",
    "    magnitude_total = -2.5*np.log10(10**(-0.4*mag1)+10**(-0.4*mag2))\n",
    "    return(magnitude_total)\n",
    "    #https://www.astro.keele.ac.uk/jkt/pubs/JKTeq-fluxsum.pdf\n",
    "\n",
    "print(soma_magnitude(21,20))\n"
   ]
  },
  {
   "cell_type": "code",
   "execution_count": 61,
   "metadata": {},
   "outputs": [],
   "source": [
    "def fresnel_scale(lamb,dist):\n",
    "    lamb = lamb*(10**-10)*micrometer_km\n",
    "    dlamb = lamb*0.001\n",
    "    dist = dist*ua\n",
    "    fresnel_scale_1 = calc_fresnel(dist, lamb-dlamb/2.0)\n",
    "    fresnel_scale_2 = calc_fresnel(dist, lamb+dlamb/2.0)\n",
    "    fresnel_scale = (fresnel_scale_1 + fresnel_scale_2)/2.0\n",
    "    return fresnel_scale\n",
    "\n",
    "\n",
    "\n",
    "# https://www.youtube.com/watch?v=Bi2JWAHhBNg\n",
    "def calc_fresnel(distance, bandpass):\n",
    "    \"\"\"Calculates the Fresnel scale.\n",
    "\n",
    "    Fresnel Scale = square root of half the multiplication of wavelength and\n",
    "    object distance.\n",
    "\n",
    "    Parameters\n",
    "    ----------\n",
    "    distance : `int`, `float` array\n",
    "        Distances, in km.\n",
    "\n",
    "    bandpass : `int`, `float`, array\n",
    "        Wavelength, in km.\n",
    "\n",
    "    Returns\n",
    "    -------\n",
    "    fresnel_scale : `float`, array\n",
    "        Fresnel scale, in km.\n",
    "    \"\"\"\n",
    "    bandpass = bandpass*ang_km\n",
    "    distance = distance*ua\n",
    "    return np.sqrt(bandpass * distance / 2)\n",
    "\n",
    "\n",
    "def bar_fresnel(X, X01, X02, opacity,distance,bandpass):\n",
    "    \"\"\"Returns the modelled light curve considering fresnel diffraction.\n",
    "\n",
    "    Parameters\n",
    "    ----------\n",
    "    X : array\n",
    "        Array with time values converted in km using the event velocity.\n",
    "\n",
    "    X01 : `int`, `float`\n",
    "        Immersion time converted in km using the event velocity.\n",
    "\n",
    "    X02 `int`, `float`\n",
    "        Emersion time converted in km using the event velocity.\n",
    "\n",
    "    fresnel_scale : `int`, `float`\n",
    "        Fresnel scale, in km.\n",
    "\n",
    "    opacity : `int`, `float`\n",
    "        Opacity. Opaque = 1.0, transparent = 0.0.\n",
    "\n",
    "    Returns\n",
    "    -------\n",
    "    flux_fresnel : array\n",
    "        The light curve with fresnel diffraction.\n",
    "    \"\"\"\n",
    "    import scipy.special as scsp\n",
    "\n",
    "    # Converting from km to units of fresnel scale\n",
    "    fresnel_scale = calc_fresnel(distance,bandpass)\n",
    "    x = X / fresnel_scale\n",
    "    x01 = X01 / fresnel_scale\n",
    "    x02 = X02 / fresnel_scale\n",
    "    # Fresnel diffraction parameters\n",
    "    x1 = x - x01\n",
    "    x2 = x - x02\n",
    "    s1, c1 = scsp.fresnel(x1)\n",
    "    s2, c2 = scsp.fresnel(x2)\n",
    "    cc = c1 - c2\n",
    "    ss = s1 - s2\n",
    "    r_ampli = - (cc + ss) * (opacity / 2.)\n",
    "    i_ampli = (cc - ss) * (opacity / 2.)\n",
    "    # Determining the flux considering fresnel diffraction\n",
    "    flux_fresnel = (1.0 + r_ampli) ** 2 + i_ampli ** 2\n",
    "    return flux_fresnel\n"
   ]
  },
  {
   "cell_type": "code",
   "execution_count": 62,
   "metadata": {},
   "outputs": [
    {
     "ename": "NameError",
     "evalue": "name 'self' is not defined",
     "output_type": "error",
     "traceback": [
      "\u001b[1;31m---------------------------------------------------------------------------\u001b[0m",
      "\u001b[1;31mNameError\u001b[0m                                 Traceback (most recent call last)",
      "Input \u001b[1;32mIn [62]\u001b[0m, in \u001b[0;36m<cell line: 1>\u001b[1;34m()\u001b[0m\n\u001b[1;32m----> 1\u001b[0m \u001b[38;5;28;01mif\u001b[39;00m \u001b[38;5;28;43mself\u001b[39;49m\u001b[38;5;241m.\u001b[39md_star \u001b[38;5;241m>\u001b[39m \u001b[38;5;241m0\u001b[39m:\n\u001b[0;32m      2\u001b[0m \u001b[38;5;66;03m# Computing fresnel diffraction for the case where the star size is not negligenciable\u001b[39;00m\n\u001b[0;32m      3\u001b[0m     resolucao \u001b[38;5;241m=\u001b[39m (\u001b[38;5;28mself\u001b[39m\u001b[38;5;241m.\u001b[39md_star\u001b[38;5;241m/\u001b[39m\u001b[38;5;241m2\u001b[39m)\u001b[38;5;241m/\u001b[39mnpt_star\n\u001b[0;32m      4\u001b[0m     flux_star_1 \u001b[38;5;241m=\u001b[39m np\u001b[38;5;241m.\u001b[39mzeros(\u001b[38;5;28mlen\u001b[39m(time_model))\n",
      "\u001b[1;31mNameError\u001b[0m: name 'self' is not defined"
     ]
    }
   ],
   "source": [
    "if self.d_star > 0:\n",
    "# Computing fresnel diffraction for the case where the star size is not negligenciable\n",
    "    resolucao = (self.d_star/2)/npt_star\n",
    "    flux_star_1 = np.zeros(len(time_model))\n",
    "    flux_star_2 = np.zeros(len(time_model))\n",
    "            # Computing stellar diameter only near the immersion or emersion times\n",
    "    star_diam = (np.absolute(x - x01) < 3*self.d_star) + (np.absolute(x - x02) < 3*self.d_star)\n",
    "    p = np.arange(-npt_star, npt_star)*resolucao\n",
    "    coeff = np.sqrt(np.absolute((self.d_star/2)**2 - p**2))\n",
    "    for ii in np.where(star_diam == True)[0]:\n",
    "        xx = x[ii] + p\n",
    "        flux1 = bar_fresnel(xx, x01, x02, fresnel_scale_1, opacity)\n",
    "        flux2 = bar_fresnel(xx, x01, x02, fresnel_scale_2, opacity)\n",
    "        flux_star_1[ii] = np.sum(coeff*flux1)/coeff.sum()\n",
    "        flux_star_2[ii] = np.sum(coeff*flux2)/coeff.sum()\n",
    "        flux_star[ii] = (flux_star_1[ii] + flux_star_2[ii])/2.\n",
    "flux_inst = np.zeros(len(time_obs))"
   ]
  },
  {
   "cell_type": "code",
   "execution_count": 63,
   "metadata": {},
   "outputs": [],
   "source": [
    "def ka(band):\n",
    "    k=2*np.pi/band\n",
    "    return k"
   ]
  },
  {
   "cell_type": "code",
   "execution_count": 77,
   "metadata": {},
   "outputs": [],
   "source": [
    "#band = 6000 *10**-9\n",
    "\n",
    "#print(k)\n",
    "#L=20000\n",
    "#diam_teles=1.6\n"
   ]
  },
  {
   "cell_type": "code",
   "execution_count": 72,
   "metadata": {},
   "outputs": [],
   "source": [
    "aaf = (1+1.07*(((k*(diam_teles/100))**2)/(4*L))**(7/6))**(-1)"
   ]
  },
  {
   "cell_type": "code",
   "execution_count": 66,
   "metadata": {},
   "outputs": [],
   "source": [
    "#mag_star = 21\n",
    "#mag_obj = 20\n",
    "#queda = (mag_star-mag_obj) + 2.5 * (np.log10(10**((mag_star-mag_obj)/2.5)+1))\n",
    "#ou\n",
    "#queda2 = 2.5*(np.log10(10**(mag_obj-mag_star)/2.5)+1)\n",
    "#print(queda)\n",
    "#print(queda2)\n",
    "\n",
    "#fluxo_estrela = 10**(mag_star/2.5)\n",
    "#fluxo_obj = 10**(mag_obj/2.5)\n",
    "#dif_mag1 = -2.5 * np.log10(fluxo_estrela/fluxo_obj) + 2.5 * np.log10((fluxo_estrela + fluxo_obj) / fluxo_obj)\n",
    "#dif_mag2 = 2.5 * np.log10((fluxo_estrela + fluxo_obj) / fluxo_estrela)\n",
    "#print(dif_mag1)\n",
    "#print(dif_mag2)\n",
    "\t\n",
    "#aux = (mag_star-mag_obj) * 0.4\n",
    "#contraste\n",
    "#contr = 1 / (10**(aux)+1)\n",
    "#soma_mag = mag_star - (2.5*(np.log10(1/contr)))\n",
    "#queda_mag = mag_obj - mag_star\n",
    "#aux = (soma_mag - mag_obj) * 0.4\n",
    "#botton_flux = 10**(aux)\n",
    "#print(soma_mag)\n",
    "#print(queda_mag)\n",
    "#print(aux)\n",
    "#print(botton_flux)"
   ]
  },
  {
   "cell_type": "code",
   "execution_count": 20,
   "metadata": {},
   "outputs": [],
   "source": [
    "#def Fluxo_de_fotons_Observado:\n",
    "#    Fluxo_observado=*integral*fluxo_fotons*transmissao_atmosferica*eficiencia_telescopio*eficiencia_instrumento*eficiencia_filtro*eficiencia_detector*dlambda\n",
    "#    Fluxo_deFotons_observado=Area_telescopio*tempo_integracao*Fluxo_observado"
   ]
  },
  {
   "cell_type": "code",
   "execution_count": 21,
   "metadata": {},
   "outputs": [],
   "source": [
    "#numero de bits da câmera, limita o numero máximo de contagem que a ccd pode obter ...\n",
    "#ADU = 2^numero de bits-1\n",
    "#Ganho X eletrons por ADU resultando na capacidade total de pixels da ccd"
   ]
  },
  {
   "cell_type": "code",
   "execution_count": 22,
   "metadata": {},
   "outputs": [],
   "source": [
    "#ARRUMAR para latitude\n",
    "def posicao_corda(diametro_objeto, latitude):\n",
    "    corda_corpo = diametro_objeto*np.cos(latitude)\n",
    "    inicio = -corda_corpo/2\n",
    "    fim = corda_corpo/2\n",
    "    return(corda_corpo)"
   ]
  },
  {
   "cell_type": "code",
   "execution_count": 23,
   "metadata": {},
   "outputs": [],
   "source": [
    "\n",
    "#ti = 0.1\n",
    "#k = 2*np.pi/(5500*10**-10)\n",
    "#L = 1\n",
    "#area_teles = area_telescopio/10000\n",
    "#f = Fluxo_lambda(0)\n",
    "#var_log_amplitude = 0.124* (k/10) ** (7/6) * (L) ** (11/6) * Cn2 #tyson 2.31 \n",
    "#aaf = (1+1.07*((k*(4*(area_teles)/(np.pi)))/(4*L))**(7/6))**(-1)\n",
    "#var_irradi = aaf * (np.exp(4 * (var_log_amplitude))-1) #2.33\n",
    "#ira = (np.random.normal(0,var_irradi**(1/2)))\n",
    "#print(\"Fluxo\")\n",
    "#print(f)\n",
    "#print(\"var_log\")\n",
    "#print(var_log_amplitude**(1/2))\n",
    "#print(\"var ampli 10\")\n",
    "#print(np.log10(var_log_amplitude))\n",
    "#print(\"var ampli e\")\n",
    "#print(np.log(var_log_amplitude))\n",
    "#print(\"var_irradi\")\n",
    "#print(var_irradi)\n",
    "#print(\"Ira\")\n",
    "#print(ira)\n",
    "#ir = f+(ira)\n",
    "#print(\"ir\")\n",
    "#print(ir)\n",
    "#n_fotons = fluxo_fotons(ir,5500)*area_teles\n",
    "#print(\"n_fotons\")\n",
    "#print(n_fotons)\n",
    "#print(\"fotons\")\n",
    "#print(fluxo_fotons(f,5500)*area_teles)\n",
    "#print((4*10**6)*10**(0/2.5)*10**4)\n",
    "#print(fluxo_fotons(f,6500)*area_teles)"
   ]
  },
  {
   "cell_type": "code",
   "execution_count": 73,
   "metadata": {},
   "outputs": [],
   "source": [
    "def Cnh2(h):\n",
    "    Cn2 = A * np.exp(-h/Ha) + B * np.exp(-h/Hb) + C * (h**(10)) * np.exp(-h/Hc) + D *np.exp((-(h-Hd)**2)/2*d*d)\n",
    "    cn2=Cn2\n",
    "    return cn2\n",
    "def Cn22(h):\n",
    "    Cn2 = A * np.exp(-h/Ha) + B * np.exp(-h/Hb) + C * (h**(10)) * np.exp(-h/Hc) + D *np.exp((-(h-Hd)**2)/2*d*d)\n",
    "    cn2=Cn2*h**(5/6)\n",
    "    return cn2\n",
    "def Cn22h(h):\n",
    "    Cn2h = A * np.exp(-h/Ha) + B * np.exp(-h/Hb) + C * (h**(10)) * np.exp(-h/Hc) + D *np.exp((-(h-Hd)**2)/2*d*d)\n",
    "    cn2h = Cn2h*h**(5/3)\n",
    "    return cn2h"
   ]
  },
  {
   "cell_type": "code",
   "execution_count": 74,
   "metadata": {},
   "outputs": [],
   "source": [
    "#print(var_log_amplitude)\n",
    "##var_log = integrate.quad(Cn22,0,20000)\n",
    "#intensity = 19.2*banda**(-7/6)\n",
    "#print(var_log[0]*intensity)"
   ]
  },
  {
   "cell_type": "code",
   "execution_count": 78,
   "metadata": {},
   "outputs": [],
   "source": [
    "############ FASE OK\n",
    "#f = Fluxo_lambda(18)\n",
    "#banda = 5000\n",
    "#area_telescopio = np.pi*30**2 #CM²\n",
    "#ti = 1\n",
    "#g=fluxo_fotons(f,banda)*area_telescopio\n",
    "#maxim=0\n",
    "\n",
    "def erro_fase(f,var_fase):\n",
    "    factor = 1\n",
    "    #n_fotons = fluxo_fotons(f,banda)*area_telescopio*ti\n",
    "    if f > 20000:\n",
    "        factor= f / 20000\n",
    "        f = 20000\n",
    "        #print(\"Por questão de tempo coomputacional será realizada uma aproximação no número de fótons\")\n",
    "    x = f/2\n",
    "    if f < 1:\n",
    "        factor = 2\n",
    "        f = 1\n",
    "    desv_pad_fase = var_fase**(1/2)\n",
    "    total = 0\n",
    "    \n",
    "\n",
    "    maxim = np.arange(0,x,factor)\n",
    "   # print(maxim)\n",
    "    if maxim ==[0]:\n",
    "        return 0\n",
    "    for i in (maxim):\n",
    "        j1 = (np.sin(np.random.normal(0, desv_pad_fase)))\n",
    "        j2 = (np.sin(np.random.normal(0, desv_pad_fase)))\n",
    "        if j1+j2 > 0.5 or j1+j2 <-0.5:\n",
    "            total += 2\n",
    "        else:\n",
    "            total = total\n",
    "\n",
    "    return total*factor\n",
    "#erro_fase(g,5000)    \n",
    "#print(int(sum(arranjo)))\n",
    "#print(int(np.random.normal(n_fotons, var_fase**(1/2))))\n",
    "#for i in arranjo:\n",
    "#    if arranjo[i] + arranjo [i+1] > 0.5 or arranjo[i] + arranjo[i+1] < -0.5:\n",
    "#        total = total+2\n",
    "#    i = i+2\n",
    "#print(total*factor)\n"
   ]
  },
  {
   "cell_type": "code",
   "execution_count": 79,
   "metadata": {},
   "outputs": [
    {
     "ename": "NameError",
     "evalue": "name 'var_fase' is not defined",
     "output_type": "error",
     "traceback": [
      "\u001b[1;31m---------------------------------------------------------------------------\u001b[0m",
      "\u001b[1;31mNameError\u001b[0m                                 Traceback (most recent call last)",
      "Input \u001b[1;32mIn [79]\u001b[0m, in \u001b[0;36m<cell line: 1>\u001b[1;34m()\u001b[0m\n\u001b[1;32m----> 1\u001b[0m \u001b[43mvar_fase\u001b[49m\n",
      "\u001b[1;31mNameError\u001b[0m: name 'var_fase' is not defined"
     ]
    }
   ],
   "source": [
    "var_fase"
   ]
  },
  {
   "cell_type": "code",
   "execution_count": 80,
   "metadata": {},
   "outputs": [
    {
     "ename": "NameError",
     "evalue": "name 'var_fase' is not defined",
     "output_type": "error",
     "traceback": [
      "\u001b[1;31m---------------------------------------------------------------------------\u001b[0m",
      "\u001b[1;31mNameError\u001b[0m                                 Traceback (most recent call last)",
      "Input \u001b[1;32mIn [80]\u001b[0m, in \u001b[0;36m<cell line: 1>\u001b[1;34m()\u001b[0m\n\u001b[1;32m----> 1\u001b[0m \u001b[38;5;28mprint\u001b[39m(erro_fase(\u001b[38;5;241m10\u001b[39m\u001b[38;5;241m*\u001b[39m\u001b[38;5;241m*\u001b[39m\u001b[38;5;241m-\u001b[39m\u001b[38;5;241m15\u001b[39m,\u001b[43mvar_fase\u001b[49m))\n",
      "\u001b[1;31mNameError\u001b[0m: name 'var_fase' is not defined"
     ]
    }
   ],
   "source": [
    "print(erro_fase(10**-15,var_fase))"
   ]
  },
  {
   "cell_type": "code",
   "execution_count": null,
   "metadata": {},
   "outputs": [],
   "source": []
  },
  {
   "cell_type": "code",
   "execution_count": 81,
   "metadata": {},
   "outputs": [],
   "source": [
    "def contagem_fluxo(tempo_atual, mag_obj, mag_star, area_telescopio\n",
    ", tempo_exposicao, banda, inicio, fim):\n",
    "   # mag_star = mag_star #combinar com mag obj\n",
    "    \n",
    "   #\n",
    "    ti = tempo_exposicao/100\n",
    "    t = 0\n",
    "    fluxo_total = 0\n",
    "    while t < tempo_exposicao:\n",
    "        #verifica posição objeto\n",
    "        posicao = tempo_atual\n",
    "        if posicao >= inicio and posicao <= fim:\n",
    "            magnitude = mag_obj\n",
    "           # print(\"dentro if 1\")\n",
    "        else:\n",
    "            magnitude = soma_magnitude(mag_star,mag_obj)\n",
    "           # print(\"dentro else 1\")\n",
    "        f = Fluxo_lambda(magnitude)\n",
    "       # print(f)\n",
    "        #var_log_amplitude = 0.307* k ** (7/6) * L ** (11/6) * Cn2 #tyson 2.31 \n",
    "        #aaf = (1+1.07*(k*(area_telescopio/(4*np.pi))/(4*L))**(7/6))**(-1)\n",
    "        #var_irradi = aaf * (np.exp(4 * (var_log_amplitude))-1) #2.33\n",
    "        #ira = (np.random.normal(0,var_irradi**(1/2)))*ti\n",
    "        #ir = f+abs(ira)\n",
    "        n_fotons = fluxo_fotons(f,banda)*area_telescopio*ti \n",
    "       # print(n_fotons)\n",
    "      #  photons = np.random.poisson(ruido_termico(270,n_fotons,ti))\n",
    "        #arranjo = list()\n",
    "        #for i in ((np.arange(0,n_fotons,1))):\n",
    "        #    arranjo.append(1)\n",
    "        #p=0\n",
    "        #for i in arranjo:\n",
    "        #    fase = (np.random.normal(0, var_fase**(1/2)))\n",
    "        #    j = ((i/i+np.sin(fase)))    \n",
    "        #    arranjo[p] = j\n",
    "        #    p+=1\n",
    "        f = Flux_lambda_ruido(magnitude,area_telescopio)\n",
    "        #print(f)\n",
    "        #f = Fluxo_lambda(magnitude)\n",
    "        fluxo_total=f\n",
    "        #fluxo_total += np.random.normal(fluxo_fotons(f,banda),var_irradi**(1/2))*area_telescopio*ti #+ fluxo_fotons(f, banda)*ti#*area_telescopio\n",
    "        #fluxo_total = fluxo_total#/2 \n",
    "        \n",
    "        if fluxo_total < 0:\n",
    "            fluxo_total = 0 #abs(fluxo_total)\n",
    "        fluxo_total = fluxo_fotons(fluxo_total,banda)\n",
    "        t += ti\n",
    "        tempo_atual += ti\n",
    "    return(fluxo_total)\n",
    "\n",
    "        #fluxo_total += n_fotons #+ int(sum(arranjo))*ti  #fluxo_fotons(f, banda)*area_telescopio*ti\n",
    "        #t += ti\n",
    "        #tempo_atual += ti\n",
    "       #\n",
    "       #  print(fluxo_total)\n",
    "    #### INSERIR O NUMERO DE FÓTONS E O TEMPO EM UMA TABELA\n",
    "    #return(int(fluxo_total))\n"
   ]
  },
  {
   "cell_type": "code",
   "execution_count": 82,
   "metadata": {},
   "outputs": [],
   "source": [
    "def contagem_fluxo_anel(tempo_atual, mag_obj, mag_star, area_telescopio\n",
    ", tempo_exposicao, banda, inicio, fim, prof_otica, inicio_anel1, fim_anel1\n",
    ",inicio_anel2, fim_anel2):\n",
    "   # mag_star = mag_star #combinar com mag obj\n",
    "    \n",
    "   #\n",
    "    ti = tempo_exposicao/20\n",
    "    t = 0\n",
    "    fluxo_total = 0\n",
    "    while t < tempo_exposicao:\n",
    "        #verifica posição objeto\n",
    "        posicao = tempo_atual\n",
    "        if posicao >= inicio and posicao <= fim:\n",
    "            magnitude = mag_obj\n",
    "        elif posicao >= inicio_anel1 and posicao <= fim_anel1:\n",
    "            magnitude = soma_magnitude((mag_star+mag_star * prof_otica), mag_obj) \n",
    "        elif posicao >= inicio_anel2 and posicao <= fim_anel2:\n",
    "            magnitude = soma_magnitude(mag_obj, (mag_star+mag_star*prof_otica))\n",
    "        else:\n",
    "            magnitude = soma_magnitude(mag_star,mag_obj)\n",
    "        f = Fluxo_lambda(magnitude)\n",
    "        fluxo_total += fluxo_fotons(f, banda)*area_telescopio*ti\n",
    "        t += ti\n",
    "        tempo_atual += ti\n",
    "    return(fluxo_total)"
   ]
  },
  {
   "cell_type": "code",
   "execution_count": 83,
   "metadata": {},
   "outputs": [],
   "source": [
    "def contagem_fluxo_anel_satelite(tempo_atual, mag_obj, mag_star,mag_sat, area_telescopio\n",
    ", tempo_exposicao, banda, inicio, fim, prof_otica, inicio_anel1, fim_anel1\n",
    ",inicio_anel2, fim_anel2,inicio_sat,fim_sat):\n",
    "   # mag_star = mag_star #combinar com mag obj\n",
    "    mag_anel = mag_star-2.5*np.log(np.exp(-prof_otica))\n",
    "   #\n",
    "    ti = tempo_exposicao/100\n",
    "    t = 0\n",
    "    fluxo_total = 0\n",
    "    while t < tempo_exposicao:\n",
    "        #verifica posição objeto\n",
    "        posicao = tempo_atual\n",
    "        if posicao >= inicio and posicao <= fim:\n",
    "            magnitude = soma_magnitude(mag_obj,mag_sat)\n",
    "        elif posicao >= inicio_anel1 and posicao <= fim_anel1:\n",
    "            magnitude1 = soma_magnitude(mag_sat,mag_obj)\n",
    "            magnitude = soma_magnitude((mag_anel), magnitude1) \n",
    "        elif posicao >= inicio_anel2 and posicao <= fim_anel2:\n",
    "            magnitude1 = soma_magnitude(mag_sat,mag_obj)\n",
    "            magnitude = soma_magnitude(magnitude1, mag_anel)\n",
    "        elif posicao >= inicio_sat and posicao <= fim_sat:\n",
    "            magnitude = soma_magnitude(mag_sat, mag_obj) \n",
    "        else:\n",
    "            magnitude1 = soma_magnitude(mag_star,mag_obj)\n",
    "            magnitude = soma_magnitude(magnitude1,mag_sat)\n",
    "        f = Flux_lambda_ruido(magnitude)\n",
    "        #f = Fluxo_lambda(magnitude)\n",
    "        fluxo_total=f\n",
    "         #+ fluxo_fotons(f, banda)*ti\n",
    "        #fluxo_total = fluxo_total#/2 \n",
    "        \n",
    "        if fluxo_total < 0:\n",
    "            fluxo_total = 0 #abs(fluxo_total)\n",
    "        fluxo_total == fluxo_fotons(fluxo_total,banda)*ti*area_telescopio\n",
    "        #fluxo_total += fluxo_total*np.random.normal(fluxo_total,var_irradi**(1/2))\n",
    "        t += ti\n",
    "        tempo_atual += ti\n",
    "    return(fluxo_total)"
   ]
  },
  {
   "cell_type": "code",
   "execution_count": 84,
   "metadata": {},
   "outputs": [],
   "source": [
    "def contagem_fluxo_satelite(tempo_atual, mag_obj, mag_star, mag_sat, area_telescopio\n",
    ", tempo_exposicao, banda, inicio, fim, inicio_sat, fim_sat):\n",
    "   # mag_star = mag_star #combinar com mag obj\n",
    "    \n",
    "   #\n",
    "    ti = tempo_exposicao/20\n",
    "    t = 0\n",
    "    fluxo_total = 0\n",
    "    while t < tempo_exposicao:\n",
    "        #verifica posição objeto\n",
    "        posicao = tempo_atual\n",
    "        if posicao >= inicio and posicao <= fim:\n",
    "            magnitude = soma_magnitude(mag_sat, mag_obj)\n",
    "        elif posicao >= inicio_sat and posicao <= fim_sat:\n",
    "            magnitude = soma_magnitude(mag_sat, mag_obj) \n",
    "        else:\n",
    "            magnitude1 = soma_magnitude(mag_star,mag_obj)\n",
    "            magnitude = soma_magnitude(mag_sat,magnitude1)\n",
    "        f = Fluxo_lambda(magnitude)\n",
    "        fluxo_total += fluxo_fotons(f, banda)*ti*area_telescopio\n",
    "        t += ti\n",
    "        tempo_atual += ti\n",
    "    return(fluxo_total)"
   ]
  },
  {
   "cell_type": "code",
   "execution_count": 85,
   "metadata": {},
   "outputs": [],
   "source": [
    "def contagem_fluxo_ceu(tempo_atual, area_telescopio, tempo_exposicao, banda, inicio, fim):\n",
    "   # mag_star = mag_star #combinar com mag obj\n",
    "    ti = tempo_exposicao/20\n",
    "    t = 0\n",
    "    fluxo_total = 0\n",
    "    while t < tempo_exposicao:\n",
    "        #verifica posição objeto\n",
    "        if banda < 4050 and banda >= 2000: #3700\n",
    "            magnitude = 23.2\n",
    "        if banda >= 4050 and banda < 4950: #4400\n",
    "            magnitude = 23.4\n",
    "        if banda >= 4950 and banda < 5950: #5500\n",
    "            magnitude = 22.7\n",
    "        if banda >= 5950 and banda < 7200: #6400 \n",
    "            magnitude = 22.2\n",
    "        if banda >= 7200 and banda < 10000: #8000\n",
    "            magnitude = 22.2\n",
    "        if banda >= 10000 and banda < 14000: #12000\n",
    "            magnitude = 20.7\n",
    "        if banda >= 14000 and banda < 19000: #16000\n",
    "            magnitude = 20.9\n",
    "        if banda >= 19000 and banda < 25000: #22000\n",
    "            magnitude = 21.3\n",
    "        f = Fluxo_lambda(magnitude)\n",
    "        fluxo_total += fluxo_fotons(f, banda)*area_telescopio*ti\n",
    "        t += ti\n",
    "        tempo_atual += ti\n",
    "    return(fluxo_total)"
   ]
  },
  {
   "cell_type": "code",
   "execution_count": 86,
   "metadata": {},
   "outputs": [],
   "source": [
    "#S/N\n",
    "def signalNoise():\n",
    "    N = 1#numero de fótons coletados\n",
    "    npix = 1 #numero de pixels levados em consideração para o S/N \n",
    "    Ns = 1 #Número de fótons por pixel do fundo de céu\n",
    "    Nd = 1 #Número de eletrons de dark current \n",
    "    Nr = 1 #Número de eletrons por pixel resultante do ruido de leitura\n",
    "    return N\n"
   ]
  },
  {
   "cell_type": "code",
   "execution_count": 87,
   "metadata": {},
   "outputs": [],
   "source": [
    "#cintilação\n",
    "\n",
    "def cintilacao(velocidade_vento_chao, altitude, tempo):\n",
    "   \n",
    "    result,error = integrate.quad(vel_vento, 5000, 20000, args=(altitude, velocidade_vento_chao))\n",
    "    \n",
    "    w=1/15*result\n",
    "    A=np.exp(random.gauss(altitude, tempo))\n",
    "    print(\"O resultado de A é \" + str(A))\n",
    "    cintila = A*(2.2*10**(-53)*(altitude**10)*(w/27)**2*np.exp(-altitude/1000)+1*10**-16*np.exp(-altitude/1500))\n",
    "    return cintila\n",
    "####"
   ]
  },
  {
   "cell_type": "code",
   "execution_count": 372,
   "metadata": {},
   "outputs": [
    {
     "name": "stdout",
     "output_type": "stream",
     "text": [
      "O valor do seeing utilizado será de 2.50 para se adaptar ao modelo de turbulência\n",
      "29427329.65337539\n",
      "1.7213145127485276e-17\n",
      "20000\n",
      "1.1153490078682484e-10\n",
      "(2.288993476305122e-09, 4.513671925174496e-09)\n",
      "(4.958052048568257e-07, 6.268723560209883e-05)\n",
      "2.395996096785095e-17\n",
      "2.5\n",
      "515662.0156177409\n"
     ]
    },
    {
     "name": "stderr",
     "output_type": "stream",
     "text": [
      "c:\\Users\\Wellington\\anaconda3\\lib\\site-packages\\scipy\\integrate\\quadpack.py:465: ComplexWarning: Casting complex values to real discards the imaginary part\n",
      "  return _quadpack._qagie(func,bound,infbounds,args,full_output,epsabs,epsrel,limit)\n",
      "C:\\Users\\Wellington\\AppData\\Local\\Temp\\ipykernel_2820\\2619958994.py:10: RuntimeWarning: overflow encountered in exp\n",
      "  Cn2h = A * np.exp(-h/Ha) + B * np.exp(-h/Hb) + C * (h**(10)) * np.exp(-h/Hc) + D *np.exp((-(h-Hd)**2)/2*d*d)\n",
      "C:\\Users\\Wellington\\AppData\\Local\\Temp\\ipykernel_2820\\713653368.py:91: IntegrationWarning: The occurrence of roundoff error is detected, which prevents \n",
      "  the requested tolerance from being achieved.  The error may be \n",
      "  underestimated.\n",
      "  cn12=integrate.quad(Cn22h,-np.inf,np.inf)\n"
     ]
    }
   ],
   "source": [
    "####seeing 17_08\n",
    "#tabela 3.1 hardy para referencia dos números\n",
    "seeing = 2.5#(1.22*500*10**-9)/0.05\n",
    "h = 4213 \n",
    "L_prop = 20000 #m\n",
    "dist_raios = 10 # distancia entre dois raios paralelos que passam pela atmosfera e geram uma diferença de fase deltafi\n",
    "L=20000\n",
    "if seeing >= 1.88:\n",
    "    seeing = 2.5\n",
    "    print(\"O valor do seeing utilizado será de {:.2f} para se adaptar ao modelo de turbulência\" .format(seeing))\n",
    "    A = 17 * 10 ** -15\n",
    "    Ha = 100\n",
    "    B = 27 * 10 ** -17\n",
    "    Hb = 1500\n",
    "    C = 3.59 * 10 ** -53 \n",
    "    Hc = 1000\n",
    "    D = 0\n",
    "    Hd = 0\n",
    "    r0 = 0.05\n",
    "elif seeing < 1.88 and seeing >= 1.205:\n",
    "    seeing = 1.26\n",
    "    print(\"O valor do seeing utilizado será de {:.2f} para se adaptar ao modelo de turbulência\" .format(seeing))\n",
    "    A = 4.5 * 10 ** -15\n",
    "    Ha = 100\n",
    "    B = 9 * 10 ** -17\n",
    "    Hb = 1500\n",
    "    C = 2 * 10 ** -53 \n",
    "    Hc = 1000\n",
    "    D = 0\n",
    "    Hd = 0\n",
    "    r0 = 0.1\n",
    "elif seeing < 1.205 and seeing >= 0.995:\n",
    "    seeing = 1.15\n",
    "    print(\"O valor do seeing utilizado será de {:.2f} para se adaptar ao modelo de turbulência\" .format(seeing))\n",
    "    A = 0\n",
    "    Ha = 1\n",
    "    B = 27 * 10 ** -17\n",
    "    Hb = 1500\n",
    "    C = 5.94 * 10 ** -53 \n",
    "    Hc = 1000\n",
    "    D = 0\n",
    "    Hd = 0\n",
    "    r0 = 0.11\n",
    "elif seeing < 0.995 and seeing >= 0.685:\n",
    "    seeing = 0.84\n",
    "    print(\"O valor do seeing utilizado será de {:.2f} para se adaptar ao modelo de turbulência\" .format(seeing))\n",
    "    A = 2 * 10 ** -15\n",
    "    Ha = 100\n",
    "    B = 7 * 10 ** -17\n",
    "    Hb = 1500\n",
    "    C = 1.54 * 10 ** -53 \n",
    "    Hc = 1000\n",
    "    D = 0\n",
    "    Hd = 0\n",
    "    r0 = 0.15\n",
    "elif seeing < 0.685 and seeing >= 0.445:\n",
    "    seeing = 0.53\n",
    "    print(\"O valor do seeing utilizado será de {:.2f} para se adaptar ao modelo de turbulência\" .format(seeing))\n",
    "    A = 0\n",
    "    Ha = 1\n",
    "    B = 1 * 10 ** -17\n",
    "    Hb = 3000\n",
    "    C = 1.63 * 10 ** -53 \n",
    "    Hc = 1000\n",
    "    D = 1\n",
    "    Hd = 6500\n",
    "    r0 = 0.24\n",
    "elif seeing < 0.445:\n",
    "    seeing = 0.36\n",
    "    print(\"O valor do seeing utilizado será de {:.2f} para se adaptar ao modelo de turbulência\" .format(seeing))\n",
    "    A = 0\n",
    "    Ha = 1\n",
    "    B = 1 * 10 ** -17\n",
    "    Hb = 3000\n",
    "    C = 1.63 * 10 ** -53 \n",
    "    Hc = 1000\n",
    "    D = 0\n",
    "    Hd = 0\n",
    "    r0 = 0.34\n",
    "else:\n",
    "    print(\"erro\")\n",
    "\n",
    "#k = 2 * np.pi / (0.55 * 10 **-6)\n",
    "\n",
    "#deltafi = k*d*deltaN(d) #deltaN é a variação no indice de refração\n",
    "d = ((np.pi**2)/(np.pi*np.pi*Cn2*L))**(3/5) # espessura da camada de ar responsável pelos efeitos\n",
    "print(d)\n",
    "Cn2 = A * np.exp(-h/Ha) + B * np.exp(-h/Hb) + C * (h**(10)) * np.exp(-h/Hc) + D *np.exp((-(h-Hd)**2)/2*dist_raios*dist_raios)\n",
    "cn10 = integrate.quad(Cnh2,-np.inf,np.inf)\n",
    "cn11=integrate.quad(Cn22,0,np.inf)\n",
    "cn12=integrate.quad(Cn22h,-np.inf,np.inf)\n",
    "#L=(cn12[0]/cn10[0])**(3/5)*100 #5.137 saha\n",
    "print(Cn2)\n",
    "print(L)\n",
    "\n",
    "print(cn11[0])\n",
    "print(cn10)\n",
    "print(cn12)\n",
    "#valido para l0<dist_raios<L0\n",
    "k=ka(band)\n",
    "D0 = 1.46 * k ** 2 * Cn2 * L * dist_raios **(5/3)\n",
    "print(D0)\n",
    "s2 = seeing *180*60*60/np.pi\n",
    "print(seeing)\n",
    "print(s2)"
   ]
  },
  {
   "cell_type": "code",
   "execution_count": 373,
   "metadata": {},
   "outputs": [
    {
     "data": {
      "text/plain": [
       "<function __main__.Cn22(h)>"
      ]
     },
     "execution_count": 373,
     "metadata": {},
     "output_type": "execute_result"
    }
   ],
   "source": [
    "Cn22"
   ]
  },
  {
   "cell_type": "code",
   "execution_count": 374,
   "metadata": {},
   "outputs": [],
   "source": [
    "# contar fotons em área equivalente ao telescopio, aplicar a variancia de fase em cada fóton e com base \n",
    "#nisso fazer dois fótons interagirem e assim incluir o ruído"
   ]
  },
  {
   "cell_type": "code",
   "execution_count": 375,
   "metadata": {},
   "outputs": [
    {
     "name": "stdout",
     "output_type": "stream",
     "text": [
      "621972.9037041129\n"
     ]
    }
   ],
   "source": [
    "#diam_teles = 1.6 #m\n",
    "#k = 2 * np.pi/ (600*10**-9) #/m\n",
    "\n",
    "var_fase = 0.134 * (diam_teles/r0) ** (5/3) #2.62 tyson\n",
    "#var_log_amplitude = 0.124* (k ** (7/6)) * (L_prop ** (11/6) )* Cn2 #2.31 tyson\n",
    "\n",
    "# a is an aperture-averaging factor\n",
    "a = (1 + 1.07 * ((k * (diam_teles**2))/(4 * L_prop))**(7/6))**-1\n",
    "#print(a)\n",
    "\n",
    "#print(var_fase)\n",
    "#print(\"log_amp \" + str(var_log_amplitude))\n",
    "\n",
    "cn15=integrate.quad(Cn22,0,np.inf)\n",
    "ir_saha=((19.2*band*(10**-9))**(-7/6))*cn15[0]\n",
    "#print(\"variancia log intensidade \" + str(ir_saha**(1/2))) #Saha 5.139\n",
    "\n",
    "var_irradi = a * (np.exp(4 * (ir_saha))-1)\n",
    "print(var_fase)\n",
    "\n",
    "#print(cn15)\n"
   ]
  },
  {
   "cell_type": "code",
   "execution_count": 376,
   "metadata": {},
   "outputs": [
    {
     "data": {
      "text/plain": [
       "0"
      ]
     },
     "execution_count": 376,
     "metadata": {},
     "output_type": "execute_result"
    }
   ],
   "source": [
    "erro_fase(1*10**-15,var_fase)"
   ]
  },
  {
   "cell_type": "code",
   "execution_count": 377,
   "metadata": {},
   "outputs": [
    {
     "name": "stdout",
     "output_type": "stream",
     "text": [
      "6200\n",
      "300\n",
      "a amplitudo vale 1.1387209495971674e-07\n",
      "4.224439039134849e-06\n",
      "-15.985176073553896\n",
      "1.1421581393150509e-07\n",
      "A amplitude ficou: 1.1421581393150509e-07\n",
      "A irradiancia é: 1.5351519055112095e-24\n",
      "o valor da intensidade variada é de 5.7712602745666776e-24\n",
      "o valor da variancia da irradiancia e -21930.051721961278\n",
      "o valor da variancia da irradiancia e 15482.83336191227\n",
      "inf\n"
     ]
    },
    {
     "name": "stderr",
     "output_type": "stream",
     "text": [
      "C:\\Users\\Wellington\\AppData\\Local\\Temp\\ipykernel_2820\\1292063781.py:31: RuntimeWarning: overflow encountered in exp\n",
      "  print(np.exp((np.log(E)+np.random.normal(0,ir_saha**(1/2)/np.pi*(diam_teles/2)**2)*tempexp)))\n"
     ]
    }
   ],
   "source": [
    "\n",
    "hp=6.62*10**-34 #m²kg/s\n",
    "#mag_star = 14.83\n",
    "#print(np.random.normal(0,var_fase**(1/2))) #DIVIDIR POR PI E VERIFICAR SE OCORRE INTERFERENCIA DESTRUTIVA OU CONSTRUTIVA\n",
    "#print(np.random.normal(0,var_log_amplitude**(1/2)))\n",
    "#tempexp = 0.44 #s\n",
    "#compri_onda = 600*10**-9 #m\n",
    "print(band)\n",
    "print(tempexp)\n",
    "ampli = (2*hp/(((band*10**-9)**2) * ep0 * tempexp))**(1/2)\n",
    "print(\"a amplitudo vale \" + str(ampli))\n",
    "print(ir_saha)\n",
    "amp = np.random.normal(np.log(ampli),ir_saha**(1/2))#var_log_amplitude**(1/2))\n",
    "print(amp)\n",
    "print(np.exp(amp))\n",
    "\n",
    "print(\"A amplitude ficou: \"+ str(np.exp(amp)))\n",
    "#intesit = ((c*ep0*(np.exp(ampli))**2)/2)/10000/tempo\n",
    "intesity = ((c*ep0*(np.exp(amp))**2)/2)/tempexp/10000 #W/cm²\n",
    "E0 = 3.6*10**-9 #W/m²\n",
    "E = (E0*10**(-0.4*mag_star))/tempexp/(np.pi*(diam_teles/2)**2) #W/cm²\n",
    "#E2=(hp*c/compri_onda)/tempo/(np.pi*(diam_teles/2)**2) #W/cm²\n",
    "print(\"A irradiancia é: \" + str (E))\n",
    "#print(\"A irradiancia 2 é: \" + str (E2))\n",
    "#print(\"o valor da intensidade é de \" + str(intesit))\n",
    "print(\"o valor da intensidade variada é de \" + str(intesity))\n",
    "ira = np.random.normal(0,(var_irradi**(1/2))/np.pi*(diam_teles/2)**2)\n",
    "print(\"o valor da variancia da irradiancia e \" + str (ira*tempexp))\n",
    "irad = np.random.normal(0,(var_irradi**(1/2))/np.pi*(diam_teles/2)**2)\n",
    "print(\"o valor da variancia da irradiancia e \" + str (irad*tempexp))\n",
    "\n",
    "print(np.exp((np.log(E)+np.random.normal(0,ir_saha**(1/2)/np.pi*(diam_teles/2)**2)*tempexp)))\n"
   ]
  },
  {
   "cell_type": "code",
   "execution_count": 378,
   "metadata": {},
   "outputs": [
    {
     "name": "stdout",
     "output_type": "stream",
     "text": [
      "512\n"
     ]
    }
   ],
   "source": [
    "def ruido_termico(Temperatura, numero_pixel, tempo_exp):\n",
    "    Eg = 1.1557 - (7.021 * 10 **(-4)*Temperatura**2/(1108+Temperatura))\n",
    "    Tx = 5.86*(10**9)*(Temperatura**(2/8))*np.exp(-(Eg)/(2*(1.23*10**-4)*Temperatura)) # k = 1.23*10**-4 obtido em testes para seguir a relação da literatura\n",
    "    sig_dark = (Tx*numero_pixel*tempo_exp)**(1/2)\n",
    "    return sig_dark\n",
    "print(np.random.poisson(ruido_termico(300,10,4)))"
   ]
  },
  {
   "cell_type": "code",
   "execution_count": 379,
   "metadata": {},
   "outputs": [
    {
     "name": "stdout",
     "output_type": "stream",
     "text": [
      "-2.351479897009445\n"
     ]
    }
   ],
   "source": [
    "def ruido_leitura(ruido):\n",
    "    rui_leit=np.random.normal(0,ruido)\n",
    "    return rui_leit\n",
    "print(ruido_leitura(2.5))"
   ]
  },
  {
   "attachments": {},
   "cell_type": "markdown",
   "metadata": {},
   "source": [
    "Definindo dados"
   ]
  },
  {
   "cell_type": "code",
   "execution_count": 595,
   "metadata": {},
   "outputs": [
    {
     "name": "stdout",
     "output_type": "stream",
     "text": [
      "955.0\n",
      "1045.0\n",
      "1149.8333333333333\n",
      "1150.1666666666667\n",
      "1674.2\n",
      "2325.8\n"
     ]
    }
   ],
   "source": [
    "flua = []\n",
    "vel = 30 #[30,31,32]\n",
    "tmini = 0\n",
    "temp = tmini\n",
    "tmaxi = 4000\n",
    "mag_star = 19 #magnitudes_estrelas = [12,19,21]\n",
    "mag_obj = 20 #[19 20 25]\n",
    "distancia = 300 #[240, 300, 520]\n",
    "magi_sat = -1.25 #Triton -1.25 Miranda 3.49\n",
    "mag_sat = calculo_magnitude(magi_sat, distancia)\n",
    "#mag_sat = 25.1\n",
    "diametro_sat = 2700 #Triton 2700 Miranda 500\n",
    "distancia_sat = 60000 #Triton 60000 Miranda 250000\n",
    "diametro_estrela = 1.33 #[0.98, 7.84]\n",
    "diam_teles = 500 # cm\n",
    "foco = 1.8 #F\n",
    "ep = 0.7 #arcsec?\n",
    "#ep = Escala_placa(13,1,16000)\n",
    "bina = 1\n",
    "gain = 0.8\n",
    "readout_noise = 2.5\n",
    "temperatura = 215\n",
    "\n",
    "area_telescopio = np.pi*(diam_teles)**2 #cm²\n",
    "tempexp = 0.01 #[300, 100, 50, 10, 1]\n",
    "band = 6200 #[5000, 5500, 6000, 6500, 7000]\n",
    "diametro_corpo = 19548 #km [18432, 19548, 20665]\n",
    "centro_ocultacao =  2000 #Triton 2800 miranda 50\n",
    "inicio = centro_ocultacao - diametro_corpo/vel/2\n",
    "fim = centro_ocultacao + diametro_corpo/vel/2\n",
    "cyc = tempexp+0.001#tempexp + 0.01\n",
    "times = np.arange(tmini, tmaxi, cyc)\n",
    "Xs = np.arange(tmini*vel,tmaxi*vel,cyc*vel)\n",
    "X01 = inicio*vel\n",
    "X02 = fim*vel\n",
    "#https://arxiv.org/ftp/arxiv/papers/1805/1805.08963.pdf#:~:text=Uranus%20rings%20are%20dense%2C%20made,range%20between%200.1%20and%201.\n",
    "#https://arxiv.org/pdf/1906.11728.pdf\n",
    "prof_otica = 0.1 #10-4 a 0.1 (netuno) (0.003 Lassell ring), 0.1 a 1 Urano  [0.0001, 0.003, 0.1, 0.5, 1]\n",
    "diametro_anel = 51000 #[40900, 53200, 51000, 42000, 37800]\n",
    "espessura_anel = 10 #[2000, 100, 20, 2, 3500]\n",
    "inicio_anel1 = centro_ocultacao - diametro_anel/vel/2 - espessura_anel/vel/2\n",
    "fim_anel1 = centro_ocultacao - diametro_anel/vel/2 + espessura_anel/vel/2\n",
    "#inicio_anel2 = centro_ocultacao + diametro_anel/vel/2 - espessura_anel/vel/2\n",
    "#fim_anel2 = centro_ocultacao + diametro_anel/vel/2 + espessura_anel/vel/2\n",
    "X01_an = inicio_anel1*vel\n",
    "X02_an = fim_anel1*vel\n",
    "#X03_an = inicio_anel2*vel\n",
    "#X04_an = fim_anel2*vel\n",
    "inicio_sat = centro_ocultacao - distancia_sat/vel/2 - diametro_sat/vel/2\n",
    "fim_sat = centro_ocultacao - distancia_sat/vel/2 + diametro_sat/vel/2\n",
    "X01_sat = inicio_sat*vel\n",
    "X02_sat = fim_sat*vel\n",
    "print(inicio_sat)\n",
    "print(fim_sat)\n",
    "print(inicio_anel1)\n",
    "print(fim_anel1)\n",
    "print(inicio)\n",
    "print(fim)\n",
    "\n",
    "#prof_otica = \n",
    "#print(prof_otica)\n",
    "#prof_otica = -np.log(1-prof_otica)\n",
    "#print(prof_otica)\n",
    "#print(soma_magnitude(mag_obj, (mag_star+mag_star*prof_otica)))\n",
    "#print(mag_obj)\n",
    "#print(mag_star)\n",
    "#print(soma_magnitude(mag_star,mag_obj))\n",
    "prof_otica2 = 0.1 #10-4 a 0.1 (netuno) (0.003 Lassell ring), 0.1 a 1 Urano  [0.0001, 0.003, 0.1, 0.5, 1]\n",
    "diametro_anel2 = 51000\n",
    "espessura_anel2 =20\n",
    "inicio_anel2 = centro_ocultacao + diametro_anel2/vel/2 - espessura_anel2/vel/2\n",
    "fim_anel2 = centro_ocultacao + diametro_anel2/vel/2 + espessura_anel2/vel/2\n",
    "\n",
    "prof_otica3 = 0.0000026\n",
    "diametro_anel3 = 799000.8\n",
    "espessura_anel3 = 76.4\n",
    "inicio_anel3 = centro_ocultacao - diametro_anel3/vel/2 - espessura_anel3/vel/2\n",
    "fim_anel3 = centro_ocultacao - diametro_anel3/vel/2 + espessura_anel3/vel/2\n",
    "\n",
    "prof_otica4 = 0.0000353\n",
    "diametro_anel4 = 824600.22\n",
    "espessura_anel4 = 5.3\n",
    "inicio_anel4 = centro_ocultacao + diametro_anel4/vel/2 - espessura_anel4/vel/2\n",
    "fim_anel4 = centro_ocultacao + diametro_anel4/vel/2 + espessura_anel4/vel/2\n",
    "\n",
    "X03_an = inicio_anel2*vel\n",
    "X04_an = fim_anel2*vel\n",
    "X05_an = inicio_anel3*vel\n",
    "X06_an = fim_anel3*vel\n",
    "X07_an = inicio_anel4*vel\n",
    "X08_an = fim_anel4*vel"
   ]
  },
  {
   "cell_type": "code",
   "execution_count": 596,
   "metadata": {},
   "outputs": [],
   "source": [
    "def contagem_fluxo_anel2(tempo_atual, mag_obj, mag_star, area_telescopio\n",
    ", tempo_exposicao, banda, inicio, fim, prof_otica,prof_otica2, prof_otica3,prof_otica4, inicio_anel1, fim_anel1\n",
    ",inicio_anel2, fim_anel2,inicio_anel3, fim_anel3\n",
    ",inicio_anel4, fim_anel4):\n",
    "   # mag_star = mag_star #combinar com mag obj\n",
    "    mag_anel = mag_star-2.5*np.log(np.exp(-prof_otica))\n",
    "    mag_anel2 = mag_star-2.5*np.log(np.exp(-prof_otica2))\n",
    "    mag_anel3 = mag_star-2.5*np.log(np.exp(-prof_otica3))\n",
    "    mag_anel4 = mag_star-2.5*np.log(np.exp(-prof_otica4))\n",
    "   #\n",
    "    ti = tempo_exposicao/100\n",
    "    t = 0\n",
    "    fluxo_total = 0\n",
    "    while t < tempo_exposicao:\n",
    "        #verifica posição objeto\n",
    "        posicao = tempo_atual\n",
    "        if posicao >= inicio and posicao <= fim:\n",
    "            magnitude = mag_obj\n",
    "        elif posicao >= inicio_anel1 and posicao <= fim_anel1:\n",
    "            magnitude1 = mag_obj\n",
    "\n",
    "            magnitude = soma_magnitude((mag_anel), magnitude1) \n",
    "        elif posicao >= inicio_anel2 and posicao <= fim_anel2:\n",
    "            magnitude1 = mag_obj\n",
    "            magnitude = soma_magnitude((mag_anel2), magnitude1) \n",
    "        elif posicao >= inicio_anel3 and posicao <= fim_anel3:\n",
    "            magnitude1 = mag_obj\n",
    "            magnitude = soma_magnitude((mag_anel3), magnitude1)  \n",
    "        elif posicao >= inicio_anel4 and posicao <= fim_anel4:\n",
    "            magnitude1 = mag_obj\n",
    "            magnitude = soma_magnitude((mag_anel4), magnitude1) \n",
    "        else:\n",
    "            magnitude = soma_magnitude(mag_star,mag_obj)\n",
    "            \n",
    "        f = Flux_lambda_ruido(magnitude)\n",
    "        #f = Fluxo_lambda(magnitude)\n",
    "        fluxo_total=f\n",
    "         #+ fluxo_fotons(f, banda)*ti\n",
    "        #fluxo_total = fluxo_total#/2 \n",
    "        \n",
    "        if fluxo_total < 0:\n",
    "            fluxo_total = 0 #abs(fluxo_total)\n",
    "        fluxo_total == fluxo_fotons(fluxo_total,banda)*ti*area_telescopio\n",
    "        fluxo_total += fluxo_total*np.random.normal(fluxo_total,var_irradi**(1/2))*5\n",
    "        t += ti\n",
    "        tempo_atual += ti\n",
    "    return(fluxo_total)"
   ]
  },
  {
   "cell_type": "code",
   "execution_count": 597,
   "metadata": {},
   "outputs": [
    {
     "name": "stdout",
     "output_type": "stream",
     "text": [
      "[0.000000e+00 1.100000e-02 2.200000e-02 ... 3.999974e+03 3.999985e+03\n",
      " 3.999996e+03]\n"
     ]
    }
   ],
   "source": [
    "print(times)"
   ]
  },
  {
   "cell_type": "code",
   "execution_count": 598,
   "metadata": {},
   "outputs": [
    {
     "data": {
      "text/plain": [
       "3.729960041340926"
      ]
     },
     "execution_count": 598,
     "metadata": {},
     "output_type": "execute_result"
    }
   ],
   "source": [
    "calc_fresnel(distancia,band)"
   ]
  },
  {
   "cell_type": "code",
   "execution_count": 599,
   "metadata": {},
   "outputs": [
    {
     "data": {
      "text/plain": [
       "Text(0.5, 0, 'Tempo [segundos]')"
      ]
     },
     "execution_count": 599,
     "metadata": {},
     "output_type": "execute_result"
    },
    {
     "data": {
      "image/png": "[encoded data removed]",
      "text/plain": [
       "<Figure size 432x288 with 1 Axes>"
      ]
     },
     "metadata": {
      "needs_background": "light"
     },
     "output_type": "display_data"
    }
   ],
   "source": [
    "Fres_sat=bar_fresnel(Xs,X01_sat,X02_sat,1,distancia,band)\n",
    "\n",
    "plt.plot(times,Fres_sat, 'o-',color='black',linewidth= 0.7,markersize=2.3)\n",
    "plt.ylabel(\"Fluxo \")\n",
    "plt.xlabel('Tempo [segundos]')"
   ]
  },
  {
   "cell_type": "code",
   "execution_count": 600,
   "metadata": {},
   "outputs": [
    {
     "data": {
      "text/plain": [
       "Text(0.5, 0, 'Tempo [segundos]')"
      ]
     },
     "execution_count": 600,
     "metadata": {},
     "output_type": "execute_result"
    },
    {
     "data": {
      "image/png": "[encoded data removed]",
      "text/plain": [
       "<Figure size 432x288 with 1 Axes>"
      ]
     },
     "metadata": {
      "needs_background": "light"
     },
     "output_type": "display_data"
    }
   ],
   "source": [
    "Fres_an1=bar_fresnel(Xs,X01_an,X02_an,prof_otica,distancia,band)\n",
    "plt.plot(times,Fres_an1, 'o-',color='black',linewidth= 0.7,markersize=2.3)\n",
    "plt.ylabel(\"Fluxo \")\n",
    "plt.xlabel('Tempo [segundos]')"
   ]
  },
  {
   "cell_type": "code",
   "execution_count": 601,
   "metadata": {},
   "outputs": [
    {
     "data": {
      "text/plain": [
       "Text(0.5, 0, 'Tempo [segundos]')"
      ]
     },
     "execution_count": 601,
     "metadata": {},
     "output_type": "execute_result"
    },
    {
     "data": {
      "image/png": "[encoded data removed]",
      "text/plain": [
       "<Figure size 432x288 with 1 Axes>"
      ]
     },
     "metadata": {
      "needs_background": "light"
     },
     "output_type": "display_data"
    }
   ],
   "source": [
    "Fres_an2=bar_fresnel(Xs,X03_an,X04_an,prof_otica2,distancia,band)\n",
    "plt.plot(times,Fres_an2, 'o-',color='black',linewidth= 0.7,markersize=2.3)\n",
    "plt.ylabel(\"Fluxo \")\n",
    "plt.xlabel('Tempo [segundos]')"
   ]
  },
  {
   "cell_type": "code",
   "execution_count": 602,
   "metadata": {},
   "outputs": [
    {
     "data": {
      "text/plain": [
       "Text(0.5, 0, 'Tempo [segundos]')"
      ]
     },
     "execution_count": 602,
     "metadata": {},
     "output_type": "execute_result"
    },
    {
     "data": {
      "image/png": "[encoded data removed]",
      "text/plain": [
       "<Figure size 432x288 with 1 Axes>"
      ]
     },
     "metadata": {
      "needs_background": "light"
     },
     "output_type": "display_data"
    }
   ],
   "source": [
    "Fres_an3=bar_fresnel(Xs,X05_an,X06_an,prof_otica3,distancia,band)\n",
    "plt.plot(times,Fres_an1, 'o-',color='black',linewidth= 0.7,markersize=2.3)\n",
    "plt.ylabel(\"Fluxo \")\n",
    "plt.xlabel('Tempo [segundos]')"
   ]
  },
  {
   "cell_type": "code",
   "execution_count": 603,
   "metadata": {},
   "outputs": [
    {
     "data": {
      "text/plain": [
       "Text(0.5, 0, 'Tempo [segundos]')"
      ]
     },
     "execution_count": 603,
     "metadata": {},
     "output_type": "execute_result"
    },
    {
     "data": {
      "image/png": "[encoded data removed]",
      "text/plain": [
       "<Figure size 432x288 with 1 Axes>"
      ]
     },
     "metadata": {
      "needs_background": "light"
     },
     "output_type": "display_data"
    }
   ],
   "source": [
    "Fres_an4=bar_fresnel(Xs,X07_an,X08_an,prof_otica4,distancia,band)\n",
    "plt.plot(times,Fres_an1, 'o-',color='black',linewidth= 0.7,markersize=2.3)\n",
    "plt.ylabel(\"Fluxo \")\n",
    "plt.xlabel('Tempo [segundos]')"
   ]
  },
  {
   "cell_type": "code",
   "execution_count": 604,
   "metadata": {},
   "outputs": [
    {
     "data": {
      "text/plain": [
       "Text(0.5, 0, 'Tempo [segundos]')"
      ]
     },
     "execution_count": 604,
     "metadata": {},
     "output_type": "execute_result"
    },
    {
     "data": {
      "image/png": "[encoded data removed]",
      "text/plain": [
       "<Figure size 432x288 with 1 Axes>"
      ]
     },
     "metadata": {
      "needs_background": "light"
     },
     "output_type": "display_data"
    }
   ],
   "source": [
    "Fres=bar_fresnel(Xs,X01,X02,1,distancia,band)\n",
    "plt.plot(times,Fres, 'o-',color='black',linewidth= 0.7,markersize=2.3)\n",
    "plt.ylabel(\"Fluxo \")\n",
    "plt.xlabel('Tempo [segundos]')\n"
   ]
  },
  {
   "cell_type": "code",
   "execution_count": 605,
   "metadata": {},
   "outputs": [
    {
     "data": {
      "text/plain": [
       "Text(0.5, 1.0, 'Simulação com Difração de Fresnel')"
      ]
     },
     "execution_count": 605,
     "metadata": {},
     "output_type": "execute_result"
    },
    {
     "data": {
      "image/png": "[encoded data removed]",
      "text/plain": [
       "<Figure size 432x288 with 1 Axes>"
      ]
     },
     "metadata": {
      "needs_background": "light"
     },
     "output_type": "display_data"
    }
   ],
   "source": [
    "Fres_tot = (Fres*Fres_sat*Fres_an1*Fres_an2*Fres_an3*Fres_an4)\n",
    "plt.plot(times,Fres_tot, 'o-',color='black',linewidth= 0.7,markersize=2.3)\n",
    "plt.ylabel(\"Fluxo \")\n",
    "plt.xlabel('Tempo [segundos]')\n",
    "plt.title(\"Simulação com Difração de Fresnel\")"
   ]
  },
  {
   "cell_type": "code",
   "execution_count": 606,
   "metadata": {},
   "outputs": [
    {
     "name": "stdout",
     "output_type": "stream",
     "text": [
      "9.154357111978134e-17\n"
     ]
    }
   ],
   "source": [
    "print(fluxo_instant)"
   ]
  },
  {
   "cell_type": "code",
   "execution_count": null,
   "metadata": {},
   "outputs": [],
   "source": [
    "tempo_a =  tmini\n",
    "#if fluxo_instante > 20000:\n",
    "#        print(\"Por questão de tempo computacional foi realizada uma aproximação no número de fótons\")\n",
    "while tempo_a < tmaxi:\n",
    "    fluxo_instante = contagem_fluxo_anel2(tempo_a,mag_obj,mag_star, area_telescopio, \n",
    "                                                  tempexp, band, inicio, fim, prof_otica, prof_otica2, prof_otica3, prof_otica4, inicio_anel1, \n",
    "                                                  fim_anel1, inicio_anel2, fim_anel2, inicio_anel3, fim_anel3, inicio_anel4, fim_anel4)\n",
    "    #ceu = random.gauss(1,0.03)*contagem_fluxo_ceu(tempo_a, area_telescopio, tempexp,band, inicio, fim) \n",
    "    #print(fluxo_instante)\n",
    "    ####ARRUMAR NO RUIDO TERMICO QUE É COM NUMERO DE PIXEL NÃO COM O FLUXO\n",
    "    fluxo_instant = fluxo_instante#+(np.random.normal(0,ruido_termico(temperatura,fluxo_instante,tempexp)))#np.random.normal(fluxo_instante, 0.3)#var_fase**(1/2))#ceu+random.gauss(1, 0.03)*fluxo_instante\n",
    "   # print(fluxo_instante)\n",
    "    fluxo_instant = fluxo_instante #+ erro_fase(fluxo_instante,var_fase)\n",
    "    #fluxo_instant = abs(fluxo_instant)\n",
    "    flua.append(fluxo_instant)\n",
    "    tempo_a += cyc\n",
    "print (flua)\n",
    "\n"
   ]
  },
  {
   "cell_type": "code",
   "execution_count": 588,
   "metadata": {},
   "outputs": [
    {
     "data": {
      "text/plain": [
       "Text(0.5, 1.0, 'Simulação P9')"
      ]
     },
     "execution_count": 588,
     "metadata": {},
     "output_type": "execute_result"
    },
    {
     "data": {
      "image/png": "[encoded data removed]",
      "text/plain": [
       "<Figure size 432x288 with 1 Axes>"
      ]
     },
     "metadata": {
      "needs_background": "light"
     },
     "output_type": "display_data"
    }
   ],
   "source": [
    "plt.plot(times,flua, 'o-',color='black',linewidth= 0.7,markersize=2.3)\n",
    "plt.ylabel(\"Fluxo Normalizado\")\n",
    "plt.xlabel('Tempo [segundos]')\n",
    "plt.title(\"Simulação P9\")"
   ]
  },
  {
   "cell_type": "code",
   "execution_count": 589,
   "metadata": {},
   "outputs": [],
   "source": [
    "##########NORMALIZAÇÃO\n",
    "i=0\n",
    "med=np.median(flua[0:40])\n",
    "for i in range(len(flua)):\n",
    "    flua[i]=flua[i]/med\n",
    "    i=i+1"
   ]
  },
  {
   "cell_type": "code",
   "execution_count": 590,
   "metadata": {},
   "outputs": [],
   "source": [
    "\n",
    "Flua_fres=[i for i in range(len(flua))]\n"
   ]
  },
  {
   "cell_type": "code",
   "execution_count": 591,
   "metadata": {},
   "outputs": [
    {
     "name": "stdout",
     "output_type": "stream",
     "text": [
      "[1.039037523116437, 1.0694391578396476, 1.030512833555354, 1.0807509878875414, 1.1850251822903624, 0.8093721612062742, 0.9613738099002819, 1.3448897333741492, 1.1251582597177618, 0.723394907390569, 0.9277898233433256, 0.7054794855742751, 1.513937227693194, 0.5901164994980693, 1.1220063866237546, 0.7842933625242382, 1.1488784722286618, 0.7960362970024919, 0.8773992238367629, 1.0905838056189296, 1.0229891026252829, 1.4061894557271988, 0.7508270664116184, 1.1026725596049363, 1.05773464037883, 1.1257295452087497, 0.9770108973747172, 1.4625410642117, 0.7663897309927433, 1.180307797703984, 1.636819956920774, 1.1730584477113797, 0.9307084275042142, 0.32977458740665694, 0.29572002126387614, 0.3284285664950965, 0.21656994258729587, 0.2640065713357664, 0.35707814538227134, 0.2154364297500724, 0.2746838740037746, 0.2869723466616959, 0.34496563283845716, 0.3927124269703352, 0.20931002121128092, 0.29622869937072593, 0.5230226905759774, 1.1644879087366087, 1.210258990148141, 1.1463454887475364, 1.655120306668225, 0.9146665082449774, 1.1665460556598735, 0.6908983713370049, 1.0760817123716613, 1.260811483813885, 0.8119596441965304, 0.7306141354031441, 1.1563742612485517, 1.285711457054464, 1.022476301792789, 1.0645372304777798, 1.1044165821837502, 1.0800191627994373, 1.4741372877421826, 1.3510272911678955, 0.7919592129604398, 1.0562420409260658, 1.0775214836216145, 0.86708131471564, 0.9616432766168158, 0.8184996029320567, 1.3082442396986138, 1.2351153682998541, 1.5366099102409785, 0.7895512715076014, 0.7959968791809654, 1.1777107110927238, 0.991653014521879, 0.7347942806732354]\n",
      "[1.019537628200593, 1.0346880195338843, 1.0152538932789918, 1.040317488729439, 1.0924407489000614, 0.9046864255965943, 0.98059964797401, 1.1724794016112319, 1.0626458218950807, 0.8617542490067005, 0.9638874459903926, 0.8526159617352822, 1.2569783865707573, 0.7951617072949251, 1.0608743657528867, 0.8922974746927927, 1.0747730430600337, 0.8979529681101341, 0.9392451857217815, 1.0487770406988413, 0.5114950091035291, 1.1999028389049022, 0.875445375736063, 0.936820187615922, 1.0289443466052972, 1.0629080119637844, 0.9885512401429324, 1.2312932242874723, 0.8830958132602159, 1.0901835270025657, 1.318497985036557, 1.0862737448602742, 0.9655183055372902, 0.6660857700438085, 0.1478605722227431, 0.1642143356488442, 0.10828498615849677, 0.13200329471575012, 0.17853908290766174, 0.10771822766836602, 0.13734195158617507, 0.14348618809213665, 0.17248283000221115, 0.19635622623900142, 0.10465502802765442, 0.14811440120529934, 0.2615118957669825, 1.0815337782435082, 1.105228028432966, 1.0733393428424534, 1.3276769818875973, 0.9574451675893226, 1.0832614325043735, 0.8453738786117603, 1.037984433647512, 1.1304917595280446, 0.9060551909028092, 0.759541221127722, 1.0780696856092515, 1.1428272205873513, 1.0112419093969447, 1.0322600469119287, 1.0521691222061262, 1.040028762039615, 1.2370992147300628, 1.1754595494782132, 0.8959453455190662, 1.0281453115990318, 1.0387729578327223, 0.9335351058996952, 0.980799236070381, 0.9092490974753895, 1.1540897291401506, 1.1175278191961326, 1.2682644134851246, 0.8948161328838451, 0.8979965116791702, 1.0888834911546632, 0.995834016106578, 0.8673930606640126]\n"
     ]
    }
   ],
   "source": [
    "i=0\n",
    "while i < len(flua):\n",
    "    if flua[i] == 1:\n",
    "        Flua_fres[i]=flua[i]*Fres_tot[i]\n",
    "    else:\n",
    "        Flua_fres[i]=(flua[i]+Fres_tot[i])/2\n",
    "    i+=1\n",
    "print(flua)\n",
    "print(Flua_fres)"
   ]
  },
  {
   "cell_type": "code",
   "execution_count": 592,
   "metadata": {},
   "outputs": [],
   "source": [
    "##########NORMALIZAÇÃO\n",
    "j=0\n",
    "med=(np.median(Flua_fres))\n",
    "Flua_fresn=[]\n",
    "for j in range(len(Flua_fres)):\n",
    "    Flua_fresn.append(Flua_fres[j]/med)\n",
    "    j=j+1\n"
   ]
  },
  {
   "cell_type": "code",
   "execution_count": null,
   "metadata": {},
   "outputs": [
    {
     "data": {
      "text/plain": [
       "Text(0.5, 1.0, 'Simulação com Difração de Fresnel')"
      ]
     },
     "execution_count": 593,
     "metadata": {},
     "output_type": "execute_result"
    },
    {
     "data": {
      "image/png": "[encoded data removed]",
      "text/plain": [
       "<Figure size 432x288 with 1 Axes>"
      ]
     },
     "metadata": {
      "needs_background": "light"
     },
     "output_type": "display_data"
    }
   ],
   "source": [
    "plt.plot(times,Flua_fres, 'o-',color='black',linewidth= 0.7,markersize=2.3)\n",
    "plt.ylabel(\"Fluxo Normalizado\")\n",
    "plt.xlabel('Tempo [segundos]')\n",
    "plt.title(\"Simulação com Difração de Fresnel\")#\"{:.1f}s_{:.1f}ms_{:.0f}Mm_{:.0f}UA_{:.0f}_{:.0f}_{:.0f}_{:.1f}m_{:.0f}\".format(\n",
    "        #tempexp,vel,diametro_corpo/1000, distancia, diametro_estrela, mag_star,band, diam_teles/1000,mag_obj))\n",
    "#plt.savefig(\"teste\")\n",
    "    #\"mSt{:.0f}_{:.1f}s_{:.0f}Mm_Rg_{:.2f}_{:.0f}km_sa_Mir_T_{:.1f}m\".format(\n",
    "    #mag_star,tempexp,diametro_corpo/1000, prof_otica, espessura_anel, diam_teles/1000))\n",
    "#\n",
    "# plt.savefig(\"imags/_{:.1f}s_{:.1f}ms_{:.0f}Mm_{:.0f}UA_{:.0f}_{:.0f}_{:.0f}_{:.1f}m_{:.0f}_sat{:.0f}_{:.0f}_anel_{:.0f}_{:.0f}_{:.4f}.png\".format\n",
    "#    (tempexp, vel, diametro_corpo/1000, distancia, diametro_estrela, mag_star, band, (diam_teles/1000), mag_obj, diametro_sat, distancia_sat, diametro_anel, espessura_anel,prof_otica),dpi = 300)    \n",
    "                                                     \n",
    "                                \n",
    "    #\"magStar{:.1f}_{:.1f}s_{:.0f}Mm_Ring_{:.2f}_{:.0f}km_sat_Miranda_Tel_{:.1f}m.png\".format(\n",
    "    #mag_star,tempexp,diametro_corpo/1000, prof_otica, espessura_anel, diam_teles/1000)\n",
    "    #        ,dpi = 300)                \n"
   ]
  },
  {
   "cell_type": "code",
   "execution_count": null,
   "metadata": {},
   "outputs": [
    {
     "data": {
      "image/png": "[encoded data removed]",
      "text/plain": [
       "<Figure size 1440x432 with 1 Axes>"
      ]
     },
     "metadata": {
      "needs_background": "light"
     },
     "output_type": "display_data"
    }
   ],
   "source": [
    "plt.figure(figsize=(20,6))\n",
    "plt.plot(times,Flua_fresn, 'o-',color='black',linewidth= 0.7,markersize=1)\n",
    "plt.ylabel(\"Fluxo Normalizado\")\n",
    "plt.xlabel('Tempo [segundos]')\n",
    "plt.title(\"Simulação P9 seeing 2.5\")#\"{:.1f}s_{:.1f}ms_{:.0f}Mm_{:.0f}UA_{:.0f}_{:.0f}_{:.0f}_{:.1f}m_{:.0f}\".format(\n",
    "        #tempexp,vel,diametro_corpo/1000, distancia, diametro_estrela, mag_star,band, diam_teles/1000,mag_obj))\n",
    "#plt.savefig(\"teste\")\n",
    "    #\"mSt{:.0f}_{:.1f}s_{:.0f}Mm_Rg_{:.2f}_{:.0f}km_sa_Mir_T_{:.1f}m\".format(\n",
    "    #mag_star,tempexp,diametro_corpo/1000, prof_otica, espessura_anel, diam_teles/1000))\n",
    "#\n",
    "plt.savefig(\"imags/2.5_0.01.png\" ) \n",
    "                                                     \n",
    "    #\"magStar{:.1f}_{:.1f}s_{:.0f}Mm_Ring_{:.2f}_{:.0f}km_sat_Miranda_Tel_{:.1f}m.png\".format(\n",
    "    #mag_star,tempexp,diametro_corpo/1000, prof_otica, espessura_anel, diam_teles/1000)\n",
    "    #        ,dpi = 300)                \n"
   ]
  },
  {
   "cell_type": "code",
   "execution_count": null,
   "metadata": {},
   "outputs": [],
   "source": []
  },
  {
   "cell_type": "markdown",
   "metadata": {},
   "source": []
  },
  {
   "cell_type": "code",
   "execution_count": null,
   "metadata": {},
   "outputs": [],
   "source": []
  },
  {
   "cell_type": "code",
   "execution_count": 755,
   "metadata": {},
   "outputs": [
    {
     "data": {
      "text/plain": [
       "Text(0.5, 1.0, 'Simulação com ruído da variação da fase')"
      ]
     },
     "execution_count": 755,
     "metadata": {},
     "output_type": "execute_result"
    },
    {
     "data": {
      "image/png": "[encoded data removed]",
      "text/plain": [
       "<Figure size 432x288 with 1 Axes>"
      ]
     },
     "metadata": {
      "needs_background": "light"
     },
     "output_type": "display_data"
    }
   ],
   "source": [
    "plt.plot(times,flua, 'o-',color='black',linewidth= 0.7,markersize=2.3)\n",
    "plt.ylabel(\"Fluxo Normalizado\")\n",
    "plt.xlabel('Tempo [segundos]')\n",
    "plt.title(\"Simulação com ruído da variação da fase\")"
   ]
  },
  {
   "cell_type": "code",
   "execution_count": 524,
   "metadata": {},
   "outputs": [
    {
     "name": "stdout",
     "output_type": "stream",
     "text": [
      "0.010233813031059287\n"
     ]
    }
   ],
   "source": [
    "rui_term = np.random.normal(0,ruido_termico(200,4,tempexp))\n",
    "print(rui_term)"
   ]
  },
  {
   "cell_type": "code",
   "execution_count": 424,
   "metadata": {},
   "outputs": [
    {
     "ename": "TypeError",
     "evalue": "Flux_lambda_ruido() takes 1 positional argument but 2 were given",
     "output_type": "error",
     "traceback": [
      "\u001b[1;31m---------------------------------------------------------------------------\u001b[0m",
      "\u001b[1;31mTypeError\u001b[0m                                 Traceback (most recent call last)",
      "Input \u001b[1;32mIn [424]\u001b[0m, in \u001b[0;36m<cell line: 2>\u001b[1;34m()\u001b[0m\n\u001b[0;32m      1\u001b[0m tempo_a \u001b[38;5;241m=\u001b[39m  tmini\n\u001b[0;32m      2\u001b[0m \u001b[38;5;28;01mwhile\u001b[39;00m tempo_a \u001b[38;5;241m<\u001b[39m tmaxi:\n\u001b[1;32m----> 3\u001b[0m     fluxo_instante \u001b[38;5;241m=\u001b[39m \u001b[43mcontagem_fluxo\u001b[49m\u001b[43m(\u001b[49m\u001b[43mtempo_a\u001b[49m\u001b[43m,\u001b[49m\u001b[43m \u001b[49m\u001b[43mmag_obj\u001b[49m\u001b[43m,\u001b[49m\u001b[43m \u001b[49m\u001b[43mmag_star\u001b[49m\u001b[43m,\u001b[49m\u001b[43m \u001b[49m\u001b[43marea_telescopio\u001b[49m\u001b[43m,\u001b[49m\u001b[43m \u001b[49m\n\u001b[0;32m      4\u001b[0m \u001b[43m                                    \u001b[49m\u001b[43mtempexp\u001b[49m\u001b[43m,\u001b[49m\u001b[43m \u001b[49m\u001b[43mband\u001b[49m\u001b[43m,\u001b[49m\u001b[43m \u001b[49m\u001b[43minicio\u001b[49m\u001b[43m,\u001b[49m\u001b[43m \u001b[49m\u001b[43mfim\u001b[49m\u001b[43m \u001b[49m\n\u001b[0;32m      5\u001b[0m \u001b[43m                                                 \u001b[49m\u001b[43m)\u001b[49m\n\u001b[0;32m      6\u001b[0m     \u001b[38;5;66;03m#ruido\u001b[39;00m\n\u001b[0;32m      7\u001b[0m     \u001b[38;5;66;03m#ceu = random.gauss(1,0.03)*contagem_fluxo_ceu(tempo_a, area_telescopio, tempexp,band, inicio, fim)\u001b[39;00m\n\u001b[0;32m      8\u001b[0m     T\u001b[38;5;241m=\u001b[39m\u001b[38;5;241m273\u001b[39m\n",
      "Input \u001b[1;32mIn [54]\u001b[0m, in \u001b[0;36mcontagem_fluxo\u001b[1;34m(tempo_atual, mag_obj, mag_star, area_telescopio, tempo_exposicao, banda, inicio, fim)\u001b[0m\n\u001b[0;32m     25\u001b[0m   n_fotons \u001b[38;5;241m=\u001b[39m fluxo_fotons(f,banda)\u001b[38;5;241m*\u001b[39marea_telescopio\u001b[38;5;241m*\u001b[39mti \n\u001b[0;32m     26\u001b[0m  \u001b[38;5;66;03m# print(n_fotons)\u001b[39;00m\n\u001b[0;32m     27\u001b[0m \u001b[38;5;66;03m#  photons = np.random.poisson(ruido_termico(270,n_fotons,ti))\u001b[39;00m\n\u001b[0;32m     28\u001b[0m   \u001b[38;5;66;03m#arranjo = list()\u001b[39;00m\n\u001b[1;32m   (...)\u001b[0m\n\u001b[0;32m     35\u001b[0m   \u001b[38;5;66;03m#    arranjo[p] = j\u001b[39;00m\n\u001b[0;32m     36\u001b[0m   \u001b[38;5;66;03m#    p+=1\u001b[39;00m\n\u001b[1;32m---> 37\u001b[0m   f \u001b[38;5;241m=\u001b[39m \u001b[43mFlux_lambda_ruido\u001b[49m\u001b[43m(\u001b[49m\u001b[43mmagnitude\u001b[49m\u001b[43m,\u001b[49m\u001b[43marea_telescopio\u001b[49m\u001b[43m)\u001b[49m\n\u001b[0;32m     38\u001b[0m   \u001b[38;5;66;03m#print(f)\u001b[39;00m\n\u001b[0;32m     39\u001b[0m   \u001b[38;5;66;03m#f = Fluxo_lambda(magnitude)\u001b[39;00m\n\u001b[0;32m     40\u001b[0m   fluxo_total\u001b[38;5;241m=\u001b[39mf\n",
      "\u001b[1;31mTypeError\u001b[0m: Flux_lambda_ruido() takes 1 positional argument but 2 were given"
     ]
    }
   ],
   "source": [
    "tempo_a =  tmini\n",
    "while tempo_a < tmaxi:\n",
    "    fluxo_instante = contagem_fluxo(tempo_a, mag_obj, mag_star, area_telescopio, \n",
    "                                    tempexp, band, inicio, fim \n",
    "                                                 )\n",
    "    #ruido\n",
    "    #ceu = random.gauss(1,0.03)*contagem_fluxo_ceu(tempo_a, area_telescopio, tempexp,band, inicio, fim)\n",
    "    T=273\n",
    "    rui_term = np.random.normal(0,ruido_termico(T,4,tempexp))\n",
    "\n",
    "    fluxo_instant = fluxo_instante + rui_term   \n",
    "    flua.append(fluxo_instant)\n",
    "    tempo_a += cyc\n",
    "    print(rui_term)\n",
    "print (flua)"
   ]
  },
  {
   "cell_type": "code",
   "execution_count": 63,
   "metadata": {},
   "outputs": [
    {
     "ename": "ValueError",
     "evalue": "time and flux must have the same length",
     "output_type": "error",
     "traceback": [
      "\u001b[1;31m---------------------------------------------------------------------------\u001b[0m",
      "\u001b[1;31mValueError\u001b[0m                                Traceback (most recent call last)",
      "Input \u001b[1;32mIn [63]\u001b[0m, in \u001b[0;36m<cell line: 1>\u001b[1;34m()\u001b[0m\n\u001b[1;32m----> 1\u001b[0m lc \u001b[38;5;241m=\u001b[39m \u001b[43mLightCurve\u001b[49m\u001b[43m(\u001b[49m\u001b[43mname\u001b[49m\u001b[43m \u001b[49m\u001b[38;5;241;43m=\u001b[39;49m\u001b[43m \u001b[49m\u001b[38;5;124;43m'\u001b[39;49m\u001b[38;5;124;43mPlanet 9 simulation + \u001b[39;49m\u001b[38;5;124;43m'\u001b[39;49m\u001b[43m,\u001b[49m\n\u001b[0;32m      2\u001b[0m \u001b[43mtref\u001b[49m\u001b[43m \u001b[49m\u001b[38;5;241;43m=\u001b[39;49m\u001b[43m \u001b[49m\u001b[38;5;124;43m'\u001b[39;49m\u001b[38;5;124;43m2022-08-22 00:00:02\u001b[39;49m\u001b[38;5;124;43m'\u001b[39;49m\u001b[43m,\u001b[49m\n\u001b[0;32m      3\u001b[0m \u001b[43mflux\u001b[49m\u001b[43m \u001b[49m\u001b[38;5;241;43m=\u001b[39;49m\u001b[43m \u001b[49m\u001b[43mnp\u001b[49m\u001b[38;5;241;43m.\u001b[39;49m\u001b[43marray\u001b[49m\u001b[43m(\u001b[49m\u001b[43mflua\u001b[49m\u001b[43m)\u001b[49m\u001b[43m,\u001b[49m\n\u001b[0;32m      4\u001b[0m \u001b[43mtime\u001b[49m\u001b[43m \u001b[49m\u001b[38;5;241;43m=\u001b[39;49m\u001b[43m \u001b[49m\u001b[43mtimes\u001b[49m\u001b[43m,\u001b[49m\n\u001b[0;32m      5\u001b[0m \u001b[43mcentral_bandpass\u001b[49m\u001b[43m \u001b[49m\u001b[38;5;241;43m=\u001b[39;49m\u001b[43m \u001b[49m\u001b[43mband\u001b[49m\u001b[43m,\u001b[49m\n\u001b[0;32m      6\u001b[0m \u001b[43mexptime\u001b[49m\u001b[43m \u001b[49m\u001b[38;5;241;43m=\u001b[39;49m\u001b[43m \u001b[49m\u001b[43mcyc\u001b[49m\u001b[43m,\u001b[49m\n\u001b[0;32m      7\u001b[0m \u001b[43mvel\u001b[49m\u001b[43m \u001b[49m\u001b[38;5;241;43m=\u001b[39;49m\u001b[43m \u001b[49m\u001b[43mvel\u001b[49m\u001b[43m,\u001b[49m\u001b[43m \u001b[49m\n\u001b[0;32m      8\u001b[0m \u001b[43mdist\u001b[49m\u001b[43m \u001b[49m\u001b[38;5;241;43m=\u001b[39;49m\u001b[43m \u001b[49m\u001b[43mdistancia\u001b[49m\u001b[43m,\u001b[49m\n\u001b[0;32m      9\u001b[0m \u001b[43md_star\u001b[49m\u001b[43m \u001b[49m\u001b[38;5;241;43m=\u001b[39;49m\u001b[43m \u001b[49m\u001b[43mdiametro_estrela\u001b[49m\n\u001b[0;32m     10\u001b[0m \u001b[43m    \u001b[49m\u001b[43m)\u001b[49m\n\u001b[0;32m     11\u001b[0m lc\u001b[38;5;241m.\u001b[39mplot_lc()\n",
      "File \u001b[1;32mc:\\Users\\Wellington\\anaconda3\\lib\\site-packages\\sora\\config\\decorators.py:15\u001b[0m, in \u001b[0;36mdeprecated_alias.<locals>.deco.<locals>.wrapper\u001b[1;34m(*args, **kwargs)\u001b[0m\n\u001b[0;32m     12\u001b[0m \u001b[38;5;129m@functools\u001b[39m\u001b[38;5;241m.\u001b[39mwraps(f)\n\u001b[0;32m     13\u001b[0m \u001b[38;5;28;01mdef\u001b[39;00m \u001b[38;5;21mwrapper\u001b[39m(\u001b[38;5;241m*\u001b[39margs, \u001b[38;5;241m*\u001b[39m\u001b[38;5;241m*\u001b[39mkwargs):\n\u001b[0;32m     14\u001b[0m     rename_kwargs(f\u001b[38;5;241m.\u001b[39m\u001b[38;5;18m__name__\u001b[39m, kwargs, aliases)\n\u001b[1;32m---> 15\u001b[0m     \u001b[38;5;28;01mreturn\u001b[39;00m f(\u001b[38;5;241m*\u001b[39margs, \u001b[38;5;241m*\u001b[39m\u001b[38;5;241m*\u001b[39mkwargs)\n",
      "File \u001b[1;32mc:\\Users\\Wellington\\anaconda3\\lib\\site-packages\\sora\\lightcurve\\core.py:165\u001b[0m, in \u001b[0;36mLightCurve.__init__\u001b[1;34m(self, name, **kwargs)\u001b[0m\n\u001b[0;32m    163\u001b[0m     input_done \u001b[38;5;241m=\u001b[39m \u001b[38;5;28;01mTrue\u001b[39;00m\n\u001b[0;32m    164\u001b[0m \u001b[38;5;28;01mif\u001b[39;00m \u001b[38;5;124m'\u001b[39m\u001b[38;5;124mflux\u001b[39m\u001b[38;5;124m'\u001b[39m \u001b[38;5;129;01min\u001b[39;00m kwargs \u001b[38;5;129;01mor\u001b[39;00m \u001b[38;5;124m'\u001b[39m\u001b[38;5;124mfile\u001b[39m\u001b[38;5;124m'\u001b[39m \u001b[38;5;129;01min\u001b[39;00m kwargs:\n\u001b[1;32m--> 165\u001b[0m     \u001b[38;5;28mself\u001b[39m\u001b[38;5;241m.\u001b[39mset_flux(\u001b[38;5;241m*\u001b[39m\u001b[38;5;241m*\u001b[39mkwargs)\n\u001b[0;32m    166\u001b[0m     input_done \u001b[38;5;241m=\u001b[39m \u001b[38;5;28;01mTrue\u001b[39;00m\n\u001b[0;32m    167\u001b[0m \u001b[38;5;28;01mif\u001b[39;00m \u001b[38;5;129;01mnot\u001b[39;00m input_done:\n",
      "File \u001b[1;32mc:\\Users\\Wellington\\anaconda3\\lib\\site-packages\\sora\\lightcurve\\core.py:389\u001b[0m, in \u001b[0;36mLightCurve.set_flux\u001b[1;34m(self, **kwargs)\u001b[0m\n\u001b[0;32m    387\u001b[0m time \u001b[38;5;241m=\u001b[39m kwargs[\u001b[38;5;124m'\u001b[39m\u001b[38;5;124mtime\u001b[39m\u001b[38;5;124m'\u001b[39m]\n\u001b[0;32m    388\u001b[0m \u001b[38;5;28;01mif\u001b[39;00m \u001b[38;5;28mlen\u001b[39m(\u001b[38;5;28mself\u001b[39m\u001b[38;5;241m.\u001b[39mflux) \u001b[38;5;241m!=\u001b[39m \u001b[38;5;28mlen\u001b[39m(time):\n\u001b[1;32m--> 389\u001b[0m     \u001b[38;5;28;01mraise\u001b[39;00m \u001b[38;5;167;01mValueError\u001b[39;00m(\u001b[38;5;124m'\u001b[39m\u001b[38;5;124mtime and flux must have the same length\u001b[39m\u001b[38;5;124m'\u001b[39m)\n\u001b[0;32m    390\u001b[0m \u001b[38;5;28;01mif\u001b[39;00m \u001b[38;5;124m'\u001b[39m\u001b[38;5;124mdflux\u001b[39m\u001b[38;5;124m'\u001b[39m \u001b[38;5;129;01min\u001b[39;00m kwargs:\n\u001b[0;32m    391\u001b[0m     \u001b[38;5;28mself\u001b[39m\u001b[38;5;241m.\u001b[39mdflux \u001b[38;5;241m=\u001b[39m kwargs[\u001b[38;5;124m'\u001b[39m\u001b[38;5;124mdflux\u001b[39m\u001b[38;5;124m'\u001b[39m]\n",
      "\u001b[1;31mValueError\u001b[0m: time and flux must have the same length"
     ]
    }
   ],
   "source": [
    "lc = LightCurve(name = 'Planet 9 simulation + ',\n",
    "tref = '2022-08-22 00:00:02',\n",
    "flux = np.array(flua),\n",
    "time = times,\n",
    "central_bandpass = band,\n",
    "exptime = cyc,\n",
    "vel = vel, \n",
    "dist = distancia,\n",
    "d_star = diametro_estrela\n",
    "    )\n",
    "lc.plot_lc()"
   ]
  },
  {
   "cell_type": "code",
   "execution_count": 64,
   "metadata": {},
   "outputs": [
    {
     "ename": "NameError",
     "evalue": "name 'lc' is not defined",
     "output_type": "error",
     "traceback": [
      "\u001b[1;31m---------------------------------------------------------------------------\u001b[0m",
      "\u001b[1;31mNameError\u001b[0m                                 Traceback (most recent call last)",
      "Input \u001b[1;32mIn [64]\u001b[0m, in \u001b[0;36m<cell line: 1>\u001b[1;34m()\u001b[0m\n\u001b[1;32m----> 1\u001b[0m \u001b[43mlc\u001b[49m\u001b[38;5;241m.\u001b[39mnormalize()\n\u001b[0;32m      2\u001b[0m lc\u001b[38;5;241m.\u001b[39mplot_lc()\n",
      "\u001b[1;31mNameError\u001b[0m: name 'lc' is not defined"
     ]
    }
   ],
   "source": [
    "lc.normalize()\n",
    "lc.plot_lc()"
   ]
  },
  {
   "cell_type": "code",
   "execution_count": null,
   "metadata": {},
   "outputs": [
    {
     "name": "stderr",
     "output_type": "stream",
     "text": [
      "c:\\Users\\Wellington\\anaconda3\\lib\\site-packages\\numpy\\core\\_methods.py:262: RuntimeWarning: Degrees of freedom <= 0 for slice\n",
      "  ret = _var(a, axis=axis, dtype=dtype, out=out, ddof=ddof,\n",
      "c:\\Users\\Wellington\\anaconda3\\lib\\site-packages\\numpy\\core\\_methods.py:254: RuntimeWarning: invalid value encountered in double_scalars\n",
      "  ret = ret.dtype.type(ret / rcount)\n"
     ]
    },
    {
     "data": {
      "image/png": "[encoded data removed]",
      "text/plain": [
       "<Figure size 432x288 with 1 Axes>"
      ]
     },
     "metadata": {
      "needs_background": "light"
     },
     "output_type": "display_data"
    }
   ],
   "source": [
    "pre=lc.occ_detect(\n",
    "    n_detections=3,\n",
    "                  plot=True)"
   ]
  },
  {
   "cell_type": "code",
   "execution_count": null,
   "metadata": {},
   "outputs": [],
   "source": [
    "pre['occ_mask']\n",
    "diam_star = diametro_estrela\n"
   ]
  },
  {
   "cell_type": "code",
   "execution_count": null,
   "metadata": {},
   "outputs": [
    {
     "data": {
      "image/png": "[encoded data removed]",
      "text/plain": [
       "<Figure size 432x288 with 1 Axes>"
      ]
     },
     "metadata": {
      "needs_background": "light"
     },
     "output_type": "display_data"
    }
   ],
   "source": [
    "lc1=lc.occ_model(immersion_time=pre['immersion_time'][0]-50, \n",
    "             emersion_time=pre['emersion_time'][0]+50, \n",
    "             opacity=1, mask= [False, False, False, False, False, False, False, False, False,\n",
    "        False, False, False, True, True, False, True,  True,  True,\n",
    "        False, False, False, False, False, False, False, False, False])\n",
    "lc1=lc.plot_lc()\n",
    "lc1"
   ]
  },
  {
   "cell_type": "code",
   "execution_count": null,
   "metadata": {},
   "outputs": [
    {
     "data": {
      "image/png": "[encoded data removed]",
      "text/plain": [
       "<Figure size 432x288 with 1 Axes>"
      ]
     },
     "metadata": {
      "needs_background": "light"
     },
     "output_type": "display_data"
    }
   ],
   "source": [
    "lc.occ_model(immersion_time=pre['immersion_time'][2]+50,\n",
    "             emersion_time=pre['emersion_time'][2]+50,\n",
    "             opacity=1, mask= pre['occ_mask'][2],flux_min=0.8)\n",
    "lc.plot_lc()"
   ]
  },
  {
   "cell_type": "code",
   "execution_count": null,
   "metadata": {},
   "outputs": [],
   "source": [
    "temp = tmini"
   ]
  },
  {
   "cell_type": "code",
   "execution_count": null,
   "metadata": {},
   "outputs": [],
   "source": [
    "with open('simulation.txt', 'w') as output:\n",
    "    for flux in flua:\n",
    "        round(temp,3)\n",
    "        output.write(str(temp) +' , ')\n",
    "        output.write(str(flux) + '\\n')\n",
    "        temp = temp + cyc\n",
    "        "
   ]
  },
  {
   "cell_type": "code",
   "execution_count": null,
   "metadata": {},
   "outputs": [
    {
     "data": {
      "image/png": "[encoded data removed]",
      "text/plain": [
       "<Figure size 432x288 with 1 Axes>"
      ]
     },
     "metadata": {
      "needs_background": "light"
     },
     "output_type": "display_data"
    }
   ],
   "source": [
    "lc.plot_lc()\n",
    "plt.ylabel(\"Relative Flux\")\n",
    "plt.xlabel('Time [seconds]')\n",
    "plt.suptitle(\"{:.1f}s_{:.1f}ms_{:.0f}Mm_{:.0f}UA_{:.0f}_{:.0f}_{:.0f}_{:.1f}m_{:.0f}\".format(\n",
    "            tempexp,vel,diametro_corpo/1000, distancia, diam_star, mag_star,band, diam_teles/1000,mag_obj))\n",
    "plt.savefig(\"21_04_08h/_{:.1f}s_{:.1f}ms_{:.0f}Mm_{:.0f}UA_{:.0f}_{:.0f}_{:.0f}_{:.1f}m_{:.0f}_sat{:.0f}_{:.0f}_anel_{:.0f}_{:.0f}_{:.4f}.png\".format\n",
    "        (tempexp, vel, diametro_corpo/1000, distancia, diam_star, mag_star, band, (diam_teles/1000), mag_obj, diametro_sat, distancia_sat, diametro_anel,\n",
    "        espessura_anel,prof_otica),dpi = 300)    "
   ]
  },
  {
   "cell_type": "code",
   "execution_count": null,
   "metadata": {},
   "outputs": [],
   "source": [
    "df.at[a,'Diametro']=pd.Series(diametro_corpo)\n",
    "df.at[a, 'Distancia']  = pd.Series(distancia)\n",
    "df.at[a, 'Velocidade']  = pd.Series(vel)\n",
    "df.at[a, 'Magnitude']  = pd.Series(mag_obj)\n",
    "df.at[a, 'Duração']  = pd.Series(fim-inicio)\n",
    "df.at[a, 'Tempo predito']  = pd.Series(cyc)\n",
    "df.at[a, 'Tempo exposição']  = pd.Series(float(tempexp))#lc.lambda_0)) \n",
    "df.at[a, 'Tempo ciclo']  = pd.Series(float(cyc))\n",
    "df.at[a, 'Largura de banda']  = pd.Series(band)\n",
    "df.at[a, 'Diametro estrela'] = pd.Series(diametro_estrela) \n",
    "df.at[a, 'Magnitude estrela'] = pd.Series(float(mag_star))\n",
    "df.at[a, 'Escala de Fresnel'] = pd.Series(float(lc.fresnel_scale))\n",
    "df.at[a, 'Telescopio'] = pd.Series(float(diam_teles))\n",
    "a=a+1\n"
   ]
  },
  {
   "cell_type": "code",
   "execution_count": null,
   "metadata": {},
   "outputs": [
    {
     "data": {
      "text/html": [
       "<div>\n",
       "<style scoped>\n",
       "    .dataframe tbody tr th:only-of-type {\n",
       "        vertical-align: middle;\n",
       "    }\n",
       "\n",
       "    .dataframe tbody tr th {\n",
       "        vertical-align: top;\n",
       "    }\n",
       "\n",
       "    .dataframe thead th {\n",
       "        text-align: right;\n",
       "    }\n",
       "</style>\n",
       "<table border=\"1\" class=\"dataframe\">\n",
       "  <thead>\n",
       "    <tr style=\"text-align: right;\">\n",
       "      <th></th>\n",
       "      <th>Diametro</th>\n",
       "      <th>Distancia</th>\n",
       "      <th>Velocidade</th>\n",
       "      <th>Magnitude</th>\n",
       "      <th>Duração</th>\n",
       "      <th>Tempo predito</th>\n",
       "      <th>Tempo exposição</th>\n",
       "      <th>Tempo ciclo</th>\n",
       "      <th>Largura de banda</th>\n",
       "      <th>Diametro estrela</th>\n",
       "      <th>Magnitude estrela</th>\n",
       "      <th>Escala de Fresnel</th>\n",
       "      <th>Telescopio</th>\n",
       "    </tr>\n",
       "  </thead>\n",
       "  <tbody>\n",
       "  </tbody>\n",
       "</table>\n",
       "</div>"
      ],
      "text/plain": [
       "Empty DataFrame\n",
       "Columns: [Diametro, Distancia, Velocidade, Magnitude, Duração, Tempo predito, Tempo exposição, Tempo ciclo, Largura de banda, Diametro estrela, Magnitude estrela, Escala de Fresnel, Telescopio]\n",
       "Index: []"
      ]
     },
     "execution_count": 238,
     "metadata": {},
     "output_type": "execute_result"
    }
   ],
   "source": [
    "df"
   ]
  },
  {
   "cell_type": "code",
   "execution_count": null,
   "metadata": {},
   "outputs": [
    {
     "name": "stderr",
     "output_type": "stream",
     "text": [
      "C:\\Users\\Wellington\\AppData\\Local\\Temp\\ipykernel_18960\\834110658.py:20: FutureWarning: The default dtype for empty Series will be 'object' instead of 'float64' in a future version. Specify a dtype explicitly to silence this warning.\n",
      "  new_row = pd.Series()\n"
     ]
    }
   ],
   "source": [
    "#Fresnel_Scale = []\n",
    "tempos_imersao = []\n",
    "tempos_emersao = []\n",
    "data = { \n",
    "        'P9 Diameter': [],\n",
    "        'P9 Distance': [],#distancias,\n",
    "        'Velocity': [],#velocidades,\n",
    "        'Magnitude': [],#magnitudes,\n",
    "        'Occultation duration': [],#duracoes,\n",
    "        'Botton flux': [],#tempos_predicao,\n",
    "        'Exposure time': [],#tempos_exposicao,\n",
    "        'Cycle time': [],#tempos_ciclo,\n",
    "        'Bandpass': [],#bandas,\n",
    "        'Star size': [],\n",
    "        'Star Magnitude': [],\n",
    "        'Fresnel Scale': [],\n",
    "        'Telescope size': []\n",
    "}\n",
    "df = pd.DataFrame(data)\n",
    "new_row = pd.Series()\n",
    "a=0"
   ]
  },
  {
   "cell_type": "code",
   "execution_count": null,
   "metadata": {},
   "outputs": [
    {
     "data": {
      "text/plain": [
       "<Figure size 432x288 with 0 Axes>"
      ]
     },
     "metadata": {},
     "output_type": "display_data"
    }
   ],
   "source": [
    "j=0\n",
    "a=0\n",
    "a1=[1]\n",
    "tab_fluxos = []\n",
    "#ok\n",
    "tempos_exp = [ 0.1]  #300, 100, 10, 1\n",
    "\n",
    "#ok\n",
    "diam_satel = [2700, 500]#Triton 2700 Miranda 500\n",
    "#distancias_sat = [60000, 250000]#Triton 60000 Miranda 250000\n",
    "\n",
    "#ok\n",
    "profundidades = [0.003, 0.1, 0.5, 1]\n",
    "diametros_anel = [53200, 51000, 42000, 37800]\n",
    "espessuras = [100, 20, 2, 2000]\n",
    "\n",
    "#magnitudes = [19, 20, 25]\n",
    "#diametros = [18432, 19548, 20665]\n",
    "#ok\n",
    "distancias = [240, 300, 520]\n",
    "#ok\n",
    "velocidades =[30,31,32]\n",
    "\n",
    "#ok\n",
    "diametros_estrelas = [0.98, 7.84]\n",
    "#ok\n",
    "magnitudes_estrelas = [12,19,21]\n",
    "\n",
    "#ok\n",
    "bandas =[ 5500, 6500, 7000]\n",
    "\n",
    "#ok\n",
    "telescopios = [500, 1000]\n",
    "\n",
    "\n",
    "\n",
    "flua = []\n",
    "tmini = 0.1\n",
    "tmaxi = 8000\n",
    "for i in tempos_exp: #varia cada tempo de ciclo\n",
    "    tempexp = i \n",
    "    for j in velocidades : # varia cada velocidade\n",
    "        vel = j \n",
    "        for l in distancias:\n",
    "            distancia = l\n",
    "            if distancia == 240:\n",
    "                diametro_corpo = 20665\n",
    "                mag_obj = -4.79 + 5*np.log10(distancia*(distancia-1))\n",
    "            elif distancia == 300:\n",
    "                diametro_corpo = 19548\n",
    "                mag_obj = -3.76 + 5*np.log10(distancia*(distancia-1))\n",
    "            elif distancia == 520:\n",
    "                diametro_corpo = 18432\n",
    "                mag_obj = -2.16 + 5*np.log10(distancia*(distancia-1))\n",
    "            for k in diam_satel: #varia o diametro do satelite\n",
    "                diametro_sat = k\n",
    "                if diametro_sat == 2700:\n",
    "                    magi_sat = -1.25 #aplica a magnitude absoluta pro satélite\n",
    "                    mag_sat=calculo_magnitude(magi_sat, distancia)\n",
    "                    distancia_sat= 60000\n",
    "                    centro_ocultacao = 5000\n",
    "                elif diametro_sat == 500:\n",
    "                    magi_sat = 3.49\n",
    "                    mag_sat=calculo_magnitude(magi_sat, distancia)\n",
    "                    distancia_sat = 250000 \n",
    "                    centro_ocultacao = 5000\n",
    "                \n",
    "                   \n",
    "                        #EQUAÇÃO PARA MAGNITUDE CONFORME TAMANHO E DISTANCIA\n",
    "                 #       magn_sat = mag_sat + 5*np.log10(dist_esti*(dist_esti-1)) #https://astronomy.stackexchange.com/questions/48314/calculating-the-luminosity-of-a-comet\n",
    "                  #      if m == 20665:\n",
    "                   #         mag_obj = -4.79 + 5*np.log10(dist_esti*(dist_esti-1))\n",
    "                    #    elif m == 19548:\n",
    "                     #       mag_obj = -3.76 + 5*np.log10(dist_esti*(dist_esti-1))\n",
    "                      #  elif m == 18432:\n",
    "                       #     mag_obj = -2.16 + 5*np.log10(dist_esti*(dist_esti-1))\n",
    "                for n in diametros_estrelas: #varia o diâmetro da estrela\n",
    "                                #VER A INFLUENCIA DO DIAMETRO NA OCULTAÇÃO -> na queda de magnitude?\n",
    "                            diam_star=n \n",
    "                            for o in magnitudes_estrelas:\n",
    "                                mag_star = o\n",
    "                            #    for p in a1: #centro_ocultacao = 5000 #Triton 2800 miranda 5000     varia o tempo de predicao?\n",
    "                                    \n",
    "                                          #gera uma curva de luz falsa pra calcular a queda de magnitude\n",
    "                                for q in bandas:\n",
    "                                        band = q\n",
    "                                        for r in telescopios:\n",
    "                                            diam_teles = r\n",
    "                                            for s in profundidades:\n",
    "                                                prof_otica = s\n",
    "                                                for t in a1:\n",
    "                                                    for u in espessuras:\n",
    "                                                        espessura_anel = u\n",
    "                                                        for v in diametros_anel:\n",
    "                                                             diametro_anel = v\n",
    "\n",
    "                                                        inicio = centro_ocultacao - diametro_corpo/vel/2\n",
    "                                                        fim = centro_ocultacao + diametro_corpo/vel/2\n",
    "                                                        cyc = tempexp + 0.01\n",
    "                                                        times = np.arange(tmini, tmaxi, cyc)\n",
    "                                                        area_telescopio = np.pi*(diam_teles)**2 #cm²\n",
    "                                                        #https://arxiv.org/ftp/arxiv/papers/1805/1805.08963.pdf#:~:text=Uranus%20rings%20are%20dense%2C%20made,range%20between%200.1%20and%201.\n",
    "                                                        #https://arxiv.org/pdf/1906.11728.pdf\n",
    "                                                        \n",
    "                                                        inicio_anel1 = centro_ocultacao - diametro_anel/vel/2 - espessura_anel/vel/2\n",
    "                                                        fim_anel1 = centro_ocultacao - diametro_anel/vel/2 + espessura_anel/vel/2\n",
    "                                                        inicio_anel2 = centro_ocultacao + diametro_anel/vel/2 - espessura_anel/vel/2\n",
    "                                                        fim_anel2 = centro_ocultacao + diametro_anel/vel/2 + espessura_anel/vel/2\n",
    "\n",
    "                                                        inicio_sat = centro_ocultacao - distancia_sat/vel/2 - diametro_sat/vel/2\n",
    "                                                        fim_sat = centro_ocultacao - distancia_sat/vel/2 + diametro_sat/vel/2\n",
    "                                                        tempo_a =  tmini\n",
    "                                                        while tempo_a < tmaxi:\n",
    "                                                            fluxo_instante = contagem_fluxo_anel_satelite(tempo_a, mag_obj, mag_star\n",
    "                                                                                                            , mag_sat\n",
    "                                                                                                            , area_telescopio, tempexp, band, inicio, fim \n",
    "                                                                                                            , prof_otica,inicio_anel1, fim_anel1, inicio_anel2, fim_anel2\n",
    "                                                                                                            , inicio_sat, fim_sat)\n",
    "                                                                #ruido\n",
    "                                                            ceu = random.gauss(1,0.03)*contagem_fluxo_ceu(tempo_a, area_telescopio, tempexp, band, inicio, fim)\n",
    "                                                                \n",
    "                                                            fluxo_instant = ceu+random.gauss(1, 0.03)*fluxo_instante\n",
    "                                                            flua.append(fluxo_instant)\n",
    "                                                            tempo_a += cyc\n",
    "                                                        \n",
    "                                                        lc = LightCurve(name = 'Planet 9 simulation + ',\n",
    "                                                        tref = '2022-08-22 00:00:02',\n",
    "                                                        flux = np.array(flua),\n",
    "                                                        time = times,\n",
    "                                                        central_bandpass = band,\n",
    "                                                        exptime = tempexp,\n",
    "                                                        vel = vel, \n",
    "                                                        dist = distancia,\n",
    "                                                        d_star = diam_star\n",
    "                                                        )\n",
    "                                                        lc.plot_lc()\n",
    "                                                        plt.plot(times,flua, 'o-',color='black',linewidth= 0.7,markersize=2.3)\n",
    "                                                        plt.ylabel(\"Photon Flux\")\n",
    "                                                        plt.xlabel('Time [seconds]')\n",
    "                                                        plt.title(\"{:.1f}s_{:.1f}ms_{:.0f}Mm_{:.0f}UA_{:.0f}_{:.0f}_{:.0f}_{:.1f}m_{:.0f}\".format(\n",
    "                                                            tempexp,vel,diametro_corpo/1000, distancia, diam_star, mag_star,band, diam_teles/1000,mag_obj))\n",
    "                                                        plt.savefig(\"21_04_08h/_{:.1f}s_{:.1f}ms_{:.0f}Mm_{:.0f}UA_{:.0f}_{:.0f}_{:.0f}_{:.1f}m_{:.0f}_sat{:.0f}_{:.0f}_anel_{:.0f}_{:.0f}_{:.4f}.png\".format\n",
    "                                                            (tempexp, vel, diametro_corpo/1000, distancia, diam_star, mag_star, band, (diam_teles/1000), mag_obj, diametro_sat, distancia_sat, diametro_anel,\n",
    "                                                              espessura_anel,prof_otica),dpi = 300)    \n",
    "                                                        plt.clf()\n",
    "                                                        df.loc[a]=new_row\n",
    "\n",
    "                                                        df.at[a,'P9 Diameter']=pd.Series(diametro_corpo)\n",
    "                                                        df.at[a, 'P9 Distance']  = pd.Series(distancia)\n",
    "                                                        df.at[a, 'Velocity']  = pd.Series(vel)\n",
    "                                                        df.at[a, 'Magnitude']  = pd.Series(mag_obj)\n",
    "                                                        df.at[a, 'Occultation duration']  = pd.Series(fim-inicio)\n",
    "                                                        df.at[a, 'Botton flux']  = pd.Series(float(min(flua)))\n",
    "                                                        df.at[a, 'Exposure time']  = pd.Series(float(tempexp))#lc.lambda_0)) \n",
    "                                                        df.at[a, 'Cycle time']  = pd.Series(float(cyc))\n",
    "                                                        df.at[a, 'Bandpass']  = pd.Series(band)\n",
    "                                                        df.at[a, 'Star size'] = pd.Series(diam_star) \n",
    "                                                        df.at[a, 'Star Magnitude'] = pd.Series(float(mag_star))\n",
    "                                                        df.at[a, 'Fresnel Scale'] = pd.Series(float(lc.fresnel_scale))\n",
    "                                                        df.at[a, 'Telescope size'] = pd.Series(float(diam_teles))\n",
    "                                                        a=a+1\n",
    "                                                        flua =[]\n",
    "                                                    "
   ]
  },
  {
   "cell_type": "code",
   "execution_count": null,
   "metadata": {},
   "outputs": [
    {
     "name": "stderr",
     "output_type": "stream",
     "text": [
      "C:\\Users\\Wellington\\AppData\\Local\\Temp\\ipykernel_18960\\3300026229.py:6: MatplotlibDeprecationWarning: savefig() got unexpected keyword argument \"figsize\" which is no longer supported as of 3.3 and will become an error in 3.6\n",
      "  plt.savefig(\"21_04_08h/heat_map\", dpi=500,figsize = (30,6))\n"
     ]
    },
    {
     "data": {
      "image/png": "[encoded data removed]",
      "text/plain": [
       "<Figure size 432x288 with 2 Axes>"
      ]
     },
     "metadata": {
      "needs_background": "light"
     },
     "output_type": "display_data"
    }
   ],
   "source": [
    "import seaborn as sn\n",
    "data = df\n",
    "correlation = data.corr()\n",
    "plot = sn.heatmap(correlation, annot = False, fmt=\".1f\",  linewidths=.1)\n",
    "plot#testar a função de calculo de magnitude pro corpo\n",
    "plt.savefig(\"21_04_08h/heat_map\", dpi=500,figsize = (30,6))"
   ]
  },
  {
   "cell_type": "code",
   "execution_count": null,
   "metadata": {},
   "outputs": [
    {
     "data": {
      "text/html": [
       "<div>\n",
       "<style scoped>\n",
       "    .dataframe tbody tr th:only-of-type {\n",
       "        vertical-align: middle;\n",
       "    }\n",
       "\n",
       "    .dataframe tbody tr th {\n",
       "        vertical-align: top;\n",
       "    }\n",
       "\n",
       "    .dataframe thead th {\n",
       "        text-align: right;\n",
       "    }\n",
       "</style>\n",
       "<table border=\"1\" class=\"dataframe\">\n",
       "  <thead>\n",
       "    <tr style=\"text-align: right;\">\n",
       "      <th></th>\n",
       "      <th>P9 Diameter</th>\n",
       "      <th>P9 Distance</th>\n",
       "      <th>Velocity</th>\n",
       "      <th>Magnitude</th>\n",
       "      <th>Occultation duration</th>\n",
       "      <th>Botton flux</th>\n",
       "      <th>Exposure time</th>\n",
       "      <th>Cycle time</th>\n",
       "      <th>Bandpass</th>\n",
       "      <th>Star size</th>\n",
       "      <th>Star Magnitude</th>\n",
       "      <th>Fresnel Scale</th>\n",
       "      <th>Telescope size</th>\n",
       "    </tr>\n",
       "  </thead>\n",
       "  <tbody>\n",
       "    <tr>\n",
       "      <th>0</th>\n",
       "      <td>20665.0</td>\n",
       "      <td>240.0</td>\n",
       "      <td>30.0</td>\n",
       "      <td>19.003046</td>\n",
       "      <td>688.833333</td>\n",
       "      <td>1.434267e+08</td>\n",
       "      <td>300.0</td>\n",
       "      <td>300.01</td>\n",
       "      <td>5500.0</td>\n",
       "      <td>0.98</td>\n",
       "      <td>12.0</td>\n",
       "      <td>314.220615</td>\n",
       "      <td>500.0</td>\n",
       "    </tr>\n",
       "    <tr>\n",
       "      <th>1</th>\n",
       "      <td>20665.0</td>\n",
       "      <td>240.0</td>\n",
       "      <td>30.0</td>\n",
       "      <td>19.003046</td>\n",
       "      <td>688.833333</td>\n",
       "      <td>1.470775e+08</td>\n",
       "      <td>300.0</td>\n",
       "      <td>300.01</td>\n",
       "      <td>5500.0</td>\n",
       "      <td>0.98</td>\n",
       "      <td>12.0</td>\n",
       "      <td>314.220615</td>\n",
       "      <td>500.0</td>\n",
       "    </tr>\n",
       "    <tr>\n",
       "      <th>2</th>\n",
       "      <td>20665.0</td>\n",
       "      <td>240.0</td>\n",
       "      <td>30.0</td>\n",
       "      <td>19.003046</td>\n",
       "      <td>688.833333</td>\n",
       "      <td>1.527740e+08</td>\n",
       "      <td>300.0</td>\n",
       "      <td>300.01</td>\n",
       "      <td>5500.0</td>\n",
       "      <td>0.98</td>\n",
       "      <td>12.0</td>\n",
       "      <td>314.220615</td>\n",
       "      <td>500.0</td>\n",
       "    </tr>\n",
       "    <tr>\n",
       "      <th>3</th>\n",
       "      <td>20665.0</td>\n",
       "      <td>240.0</td>\n",
       "      <td>30.0</td>\n",
       "      <td>19.003046</td>\n",
       "      <td>688.833333</td>\n",
       "      <td>1.468868e+08</td>\n",
       "      <td>300.0</td>\n",
       "      <td>300.01</td>\n",
       "      <td>5500.0</td>\n",
       "      <td>0.98</td>\n",
       "      <td>12.0</td>\n",
       "      <td>314.220615</td>\n",
       "      <td>500.0</td>\n",
       "    </tr>\n",
       "    <tr>\n",
       "      <th>4</th>\n",
       "      <td>20665.0</td>\n",
       "      <td>240.0</td>\n",
       "      <td>30.0</td>\n",
       "      <td>19.003046</td>\n",
       "      <td>688.833333</td>\n",
       "      <td>1.457374e+08</td>\n",
       "      <td>300.0</td>\n",
       "      <td>300.01</td>\n",
       "      <td>5500.0</td>\n",
       "      <td>0.98</td>\n",
       "      <td>12.0</td>\n",
       "      <td>314.220615</td>\n",
       "      <td>500.0</td>\n",
       "    </tr>\n",
       "    <tr>\n",
       "      <th>...</th>\n",
       "      <td>...</td>\n",
       "      <td>...</td>\n",
       "      <td>...</td>\n",
       "      <td>...</td>\n",
       "      <td>...</td>\n",
       "      <td>...</td>\n",
       "      <td>...</td>\n",
       "      <td>...</td>\n",
       "      <td>...</td>\n",
       "      <td>...</td>\n",
       "      <td>...</td>\n",
       "      <td>...</td>\n",
       "      <td>...</td>\n",
       "    </tr>\n",
       "    <tr>\n",
       "      <th>41467</th>\n",
       "      <td>18432.0</td>\n",
       "      <td>520.0</td>\n",
       "      <td>32.0</td>\n",
       "      <td>24.995854</td>\n",
       "      <td>576.000000</td>\n",
       "      <td>6.882638e+05</td>\n",
       "      <td>1.0</td>\n",
       "      <td>1.01</td>\n",
       "      <td>7000.0</td>\n",
       "      <td>7.84</td>\n",
       "      <td>21.0</td>\n",
       "      <td>521.793182</td>\n",
       "      <td>1000.0</td>\n",
       "    </tr>\n",
       "    <tr>\n",
       "      <th>41468</th>\n",
       "      <td>18432.0</td>\n",
       "      <td>520.0</td>\n",
       "      <td>32.0</td>\n",
       "      <td>24.995854</td>\n",
       "      <td>576.000000</td>\n",
       "      <td>6.842159e+05</td>\n",
       "      <td>1.0</td>\n",
       "      <td>1.01</td>\n",
       "      <td>7000.0</td>\n",
       "      <td>7.84</td>\n",
       "      <td>21.0</td>\n",
       "      <td>521.793182</td>\n",
       "      <td>1000.0</td>\n",
       "    </tr>\n",
       "    <tr>\n",
       "      <th>41469</th>\n",
       "      <td>18432.0</td>\n",
       "      <td>520.0</td>\n",
       "      <td>32.0</td>\n",
       "      <td>24.995854</td>\n",
       "      <td>576.000000</td>\n",
       "      <td>6.926814e+05</td>\n",
       "      <td>1.0</td>\n",
       "      <td>1.01</td>\n",
       "      <td>7000.0</td>\n",
       "      <td>7.84</td>\n",
       "      <td>21.0</td>\n",
       "      <td>521.793182</td>\n",
       "      <td>1000.0</td>\n",
       "    </tr>\n",
       "    <tr>\n",
       "      <th>41470</th>\n",
       "      <td>18432.0</td>\n",
       "      <td>520.0</td>\n",
       "      <td>32.0</td>\n",
       "      <td>24.995854</td>\n",
       "      <td>576.000000</td>\n",
       "      <td>6.691547e+05</td>\n",
       "      <td>1.0</td>\n",
       "      <td>1.01</td>\n",
       "      <td>7000.0</td>\n",
       "      <td>7.84</td>\n",
       "      <td>21.0</td>\n",
       "      <td>521.793182</td>\n",
       "      <td>1000.0</td>\n",
       "    </tr>\n",
       "    <tr>\n",
       "      <th>41471</th>\n",
       "      <td>18432.0</td>\n",
       "      <td>520.0</td>\n",
       "      <td>32.0</td>\n",
       "      <td>24.995854</td>\n",
       "      <td>576.000000</td>\n",
       "      <td>6.816597e+05</td>\n",
       "      <td>1.0</td>\n",
       "      <td>1.01</td>\n",
       "      <td>7000.0</td>\n",
       "      <td>7.84</td>\n",
       "      <td>21.0</td>\n",
       "      <td>521.793182</td>\n",
       "      <td>1000.0</td>\n",
       "    </tr>\n",
       "  </tbody>\n",
       "</table>\n",
       "<p>41472 rows × 13 columns</p>\n",
       "</div>"
      ],
      "text/plain": [
       "       P9 Diameter  P9 Distance  Velocity  Magnitude  Occultation duration  \\\n",
       "0          20665.0        240.0      30.0  19.003046            688.833333   \n",
       "1          20665.0        240.0      30.0  19.003046            688.833333   \n",
       "2          20665.0        240.0      30.0  19.003046            688.833333   \n",
       "3          20665.0        240.0      30.0  19.003046            688.833333   \n",
       "4          20665.0        240.0      30.0  19.003046            688.833333   \n",
       "...            ...          ...       ...        ...                   ...   \n",
       "41467      18432.0        520.0      32.0  24.995854            576.000000   \n",
       "41468      18432.0        520.0      32.0  24.995854            576.000000   \n",
       "41469      18432.0        520.0      32.0  24.995854            576.000000   \n",
       "41470      18432.0        520.0      32.0  24.995854            576.000000   \n",
       "41471      18432.0        520.0      32.0  24.995854            576.000000   \n",
       "\n",
       "        Botton flux  Exposure time  Cycle time  Bandpass  Star size  \\\n",
       "0      1.434267e+08          300.0      300.01    5500.0       0.98   \n",
       "1      1.470775e+08          300.0      300.01    5500.0       0.98   \n",
       "2      1.527740e+08          300.0      300.01    5500.0       0.98   \n",
       "3      1.468868e+08          300.0      300.01    5500.0       0.98   \n",
       "4      1.457374e+08          300.0      300.01    5500.0       0.98   \n",
       "...             ...            ...         ...       ...        ...   \n",
       "41467  6.882638e+05            1.0        1.01    7000.0       7.84   \n",
       "41468  6.842159e+05            1.0        1.01    7000.0       7.84   \n",
       "41469  6.926814e+05            1.0        1.01    7000.0       7.84   \n",
       "41470  6.691547e+05            1.0        1.01    7000.0       7.84   \n",
       "41471  6.816597e+05            1.0        1.01    7000.0       7.84   \n",
       "\n",
       "       Star Magnitude  Fresnel Scale  Telescope size  \n",
       "0                12.0     314.220615           500.0  \n",
       "1                12.0     314.220615           500.0  \n",
       "2                12.0     314.220615           500.0  \n",
       "3                12.0     314.220615           500.0  \n",
       "4                12.0     314.220615           500.0  \n",
       "...               ...            ...             ...  \n",
       "41467            21.0     521.793182          1000.0  \n",
       "41468            21.0     521.793182          1000.0  \n",
       "41469            21.0     521.793182          1000.0  \n",
       "41470            21.0     521.793182          1000.0  \n",
       "41471            21.0     521.793182          1000.0  \n",
       "\n",
       "[41472 rows x 13 columns]"
      ]
     },
     "execution_count": 27,
     "metadata": {},
     "output_type": "execute_result"
    }
   ],
   "source": [
    "df"
   ]
  },
  {
   "attachments": {},
   "cell_type": "markdown",
   "metadata": {},
   "source": [
    "# Inserindo os dados do Objeto ocultador"
   ]
  },
  {
   "cell_type": "code",
   "execution_count": null,
   "metadata": {},
   "outputs": [],
   "source": [
    "#AJUSTAR PARA ELIMINAR VALORES IGUAIS DAS TABELAS\n",
    "\n",
    "corpos = input('Quantos corpos deseja simular? (digite um número inteiro)')\n",
    "#def mod():\n",
    "#gerando listas para cada variavel\n",
    "#diametros = []\n",
    "#distancias = []\n",
    "#velocidades = []\n",
    "#magnitudes = []\n",
    "#diametros_angulares = []\n",
    "#duracoes = []\n",
    "#objetos = []\n",
    "j=0\n",
    "while j < int(corpos): #para cada simulação entrada das informações\n",
    "    j = j + 1\n",
    "    diam_esti = float(input(\"Digite o diâmetro esperado para o \" + str(j) + \" corpo, em km: \"))\n",
    "    dist_esti = float(input(\"Digite a distância esperada para o \" + str(j) + \" corpo, em UA: \"))\n",
    "    vel = float(input('Digite a velocidade que ocorrerá a ' + str(j) + ' ocultação: '))\n",
    "    magn = float(input('Digite a magnitude esperada pelo ' + str(j) + ' corpo: '))\n",
    "    d_ang = diametro_angular(diam_esti, dist_esti)\n",
    "#    d_ang = (np.arctan(diam_esti/(dist_esti*ua)))*(360/(2*np.pi))*3600*1000\n",
    "    duracao = diam_esti/vel\n",
    "    nome = input('Digite o nome do ' + str(j) + 'º corpo que será realizada a ocultação: ')\n",
    "    #modificar = input(\"Você deseja modificar os valores do corpo? 1-Sim 2-Não\")\n",
    "    obj = Body(name = nome, database=None,  spkid = 1, diameter = diam_esti)\n",
    "    #adicionando cada variavel em uma tabela\n",
    "    #diametros.append(diam_esti)\n",
    "    #distancias.append(dist_esti)\n",
    "    #velocidades.append(vel)\n",
    "    #magnitudes.append(magn)\n",
    "    #diametros_angulares.append(d_ang)\n",
    "    #duracoes.append(duracao)\n",
    "    #objetos.append(obj)\n",
    "\n",
    "\n",
    "sat = input(\"Deseja simular um satélite em conjunto? 1 - Sim, 2 - Não\")\n",
    "#anel = input(\"Deseja simular um anel em conjunto? 1- Sim, 2-Não\")\n",
    "\n",
    "# verificar no horizon a existencia do corpo\n",
    "    #try :\n",
    "    #    eph_hor = EphemHorizons(name=nome)\n",
    "    #    obj = Body(name = nome, ephem = eph_hor)\n",
    "    #    if modificar == '1':\n",
    "    #        diam_esti = obj.diameter\n",
    "    #        magn = obj.apparent_magnitude\n",
    "    #    pass    \n",
    "        # caso queira modificar os valores tabelados\n",
    "    #except ValueError (\"Object was not located on satdb or sbdb\"):\n",
    "    #mod()\n",
    "        #obj = Body(name = nome)\n",
    "\n",
    "\n",
    "    #adicionar se quer anel ou satélite... tamanhos, densidades, etc."
   ]
  },
  {
   "attachments": {},
   "cell_type": "markdown",
   "metadata": {},
   "source": [
    "# Inicializando os dados do anel"
   ]
  },
  {
   "cell_type": "code",
   "execution_count": null,
   "metadata": {},
   "outputs": [],
   "source": [
    "#diam_anel = \n",
    "#excentricidade_anel =\n",
    "#densidade_anel = \n",
    "#largura_anel = \n",
    "#albedo_anel = \n",
    "#optical_depth =\n",
    "\n",
    "# p’ = 1 – I/I_0 \n",
    "# opacidade aparente: fração de queda de flux da estrela (p’=0 transparente, p’=1 opaco);\n",
    "# onde I_0 fluxo total e I fluxo no evento.\n",
    "\n",
    "# tau'= -ln (1- p') \n",
    "# profundidade óptica aparente"
   ]
  },
  {
   "attachments": {},
   "cell_type": "markdown",
   "metadata": {},
   "source": [
    "# Inicializando os dados do satélite"
   ]
  },
  {
   "cell_type": "code",
   "execution_count": null,
   "metadata": {},
   "outputs": [],
   "source": [
    "if sat == \"1\":\n",
    "    satelites = input('Quantos satelites deseja simular? ')\n",
    "    j=0\n",
    "    #diam_satel =[]\n",
    "   # mag_satel = []\n",
    "    #magabs_satel = []\n",
    "    #dist_satel = []\n",
    "    while j < int(satelites):\n",
    "        j = j + 1\n",
    "        diam_sat = float(input(\"Digite o diametro esperado para o \" + str(j) + \" satelite: \") )\n",
    "        mag_sat = float( input(\"Digite a magnitude absoluta do \" + str(j) + \" satélite: \") )\n",
    "        dist_sat = float( input(\"Digite a distancia estimada entre o \" + str(j) + \" satélite e o corpo principal(distancia entre centros): \") )\n",
    "       # diam_satel.append(diam_sat)\n",
    "       # magabs_satel.append(mag_sat)\n",
    "      #  dist_satel.append(dist_sat)\n",
    "\n",
    "else:\n",
    "    satelites = 0\n",
    "    diam_sat = 0\n",
    "    dist_sat = 0\n",
    "    mag_sat = 0"
   ]
  },
  {
   "attachments": {},
   "cell_type": "markdown",
   "metadata": {},
   "source": [
    "# Inserido os dados da ocultação"
   ]
  },
  {
   "cell_type": "code",
   "execution_count": null,
   "metadata": {},
   "outputs": [],
   "source": [
    "time_times = input('Quantos tempos diferentes deseja utilizar? ')\n",
    "j = 0\n",
    "#tempos_predicao = []\n",
    "#tempos_exposicao = []\n",
    "#tempos_ciclo = []\n",
    "#bandas = []\n",
    "while j < int(time_times):\n",
    "    j = j + 1\n",
    "    timepred = float(input('Digite o tempo previsto para o centro da ocultação do corpo principal, em segundos: '))\n",
    "    d_tel = float(input('Digite o diâmetro do telescopio, em metros: '))\n",
    "    area_tel = (np.pi*d_tel**2)/4\n",
    "    #d_foc_tel = float(input('Digite a distância focal do telescopio, em metros: '))\n",
    "    #iradi = float(input('Insira a abertura fotométrica [raio/pixel]: '))\n",
    "    #camera = input('Digite qual a câmera que está sendo utilizada: ')\n",
    "    #mag do fundo de ceu/arcsec -> transforma pra contagem (se for necessário)\n",
    "    #ccdpix = float(input(\"Insira o tamanho de pixel do CCd [um]: \"))\n",
    "    #fwhm = float(input(\"Insira a largura meia altura (FWHM) [arcsec]: \"))\n",
    "    #photconst = float(input('Insira o número de fótons que será captado: '))\n",
    "    tempexp = float(input(\"Digite o tempo de exposição, em segundos: \"))\n",
    "    tempcyc = float(input('Digite o tempo de ciclo que será usado, em segundos: '))\n",
    "    band = float(input('Digite a banda que será realizada a observação, em micrometros: '))\n",
    "   # tempos_predicao.append(timepred)\n",
    "   # tempos_exposicao.append(tempexp)\n",
    "   # tempos_ciclo.append(tempcyc)\n",
    "   # bandas.append(band)\n",
    "#eq\n",
    "\n",
    "#pixasec = ccdpix/1000/(1000*d_foc_tel)*360/(2*np.pi)*3600\n",
    "#pixarea = pixasec*pixasec\n",
    "\n",
    "#fwhm = fwhm / pixasec"
   ]
  },
  {
   "attachments": {},
   "cell_type": "markdown",
   "metadata": {},
   "source": [
    "# Inicializando a tabela de dados"
   ]
  },
  {
   "cell_type": "code",
   "execution_count": null,
   "metadata": {},
   "outputs": [],
   "source": [
    "#Fazer uma tabela para cada ocultação com dados para poder utilizar em outro local pra redução e análise dos dados\n"
   ]
  },
  {
   "cell_type": "code",
   "execution_count": null,
   "metadata": {},
   "outputs": [],
   "source": [
    "#estrelas = []\n",
    "#diametros_estrelas = []\n",
    "#magnitudes_estrelas = []\n",
    "#quedas_magnitude_corpo = []\n",
    "#quedas_magnitude_satelite = []\n",
    "#Fresnel_Scale = []\n",
    "#tempos_imersao = []\n",
    "#tempos_emersao = []\n",
    "#data = { 'Diametro': [],#diametros,\n",
    "#        'Distancia': [],#distancias,\n",
    "#        'Velocidade': [],#velocidades,\n",
    "#        'Magnitude': [],#magnitudes,\n",
    "#        'Diametro angulare': [],#diametros_angulares,\n",
    "#        'Duração': [],#duracoes,\n",
    "#        'Objeto': [],#objetos,\n",
    "#        'Diametro satélite': [],#diam_satel,\n",
    "#        'Magnitude satélite': [],#mag_satel,\n",
    "#        'Distancia satélite': [],#dist_satel,\n",
    "#        'Tempo predito': [],#tempos_predicao,\n",
    "#        'Tempo exposição': [],#tempos_exposicao,\n",
    "#        'Tempo ciclo': [],#tempos_ciclo,\n",
    "#        'Largura de banda': [],#bandas,\n",
    "#        'Estrela': estrelas, \n",
    "#        'Diametro estrela': diametros_estrelas,\n",
    "#        'Magnitude estrela': magnitudes_estrelas,\n",
    "#        'Queda de magnitude corpo': quedas_magnitude_corpo,\n",
    "#        'Queda de magnitude satelite':quedas_magnitude_satelite,\n",
    "#        'Escala de Fresnel': Fresnel_Scale,\n",
    "#        'Tempo de imersão': tempos_imersao,\n",
    "#        'Tempo de Emersão': tempos_emersao\n",
    "#}\n",
    "#df = pd.DataFrame(data)\n",
    "#new_row = pd.Series()\n",
    "flu = [] #gera uma lista para o fluxo\n",
    "\n",
    "tmini = float(input('Digite o instante que começa a observação, em segundos: '))\n",
    "tmaxi = float(input('Digite o instante que se encerra a observação, em segundos: '))\n",
    "linhas = tmaxi-tmini"
   ]
  },
  {
   "attachments": {},
   "cell_type": "markdown",
   "metadata": {},
   "source": [
    "# Adicionando a estrela da ocultação"
   ]
  },
  {
   "cell_type": "code",
   "execution_count": null,
   "metadata": {},
   "outputs": [
    {
     "ename": "ValueError",
     "evalue": "invalid literal for int() with base 10: ''",
     "output_type": "error",
     "traceback": [
      "\u001b[1;31m---------------------------------------------------------------------------\u001b[0m",
      "\u001b[1;31mValueError\u001b[0m                                Traceback (most recent call last)",
      "\u001b[1;32mc:\\Users\\Wellington\\Documents\\Mestrado\\Projeto\\cbdo\\Untitled-1.ipynb Cell 15\u001b[0m in \u001b[0;36m<cell line: 3>\u001b[1;34m()\u001b[0m\n\u001b[0;32m      <a href='vscode-notebook-cell:/c%3A/Users/Wellington/Documents/Mestrado/Projeto/cbdo/Untitled-1.ipynb#X21sZmlsZQ%3D%3D?line=0'>1</a>\u001b[0m j \u001b[39m=\u001b[39m \u001b[39minput\u001b[39m(\u001b[39m\"\u001b[39m\u001b[39mDigite o númmero de estrelas que deseja simular a ocultação: \u001b[39m\u001b[39m\"\u001b[39m)\n\u001b[0;32m      <a href='vscode-notebook-cell:/c%3A/Users/Wellington/Documents/Mestrado/Projeto/cbdo/Untitled-1.ipynb#X21sZmlsZQ%3D%3D?line=1'>2</a>\u001b[0m k \u001b[39m=\u001b[39m \u001b[39m0\u001b[39m\n\u001b[1;32m----> <a href='vscode-notebook-cell:/c%3A/Users/Wellington/Documents/Mestrado/Projeto/cbdo/Untitled-1.ipynb#X21sZmlsZQ%3D%3D?line=2'>3</a>\u001b[0m \u001b[39mwhile\u001b[39;00m k \u001b[39m<\u001b[39m \u001b[39mint\u001b[39;49m(j):\n\u001b[0;32m      <a href='vscode-notebook-cell:/c%3A/Users/Wellington/Documents/Mestrado/Projeto/cbdo/Untitled-1.ipynb#X21sZmlsZQ%3D%3D?line=3'>4</a>\u001b[0m     k \u001b[39m=\u001b[39m k \u001b[39m+\u001b[39m \u001b[39m1\u001b[39m\n\u001b[0;32m      <a href='vscode-notebook-cell:/c%3A/Users/Wellington/Documents/Mestrado/Projeto/cbdo/Untitled-1.ipynb#X21sZmlsZQ%3D%3D?line=4'>5</a>\u001b[0m     ra \u001b[39m=\u001b[39m \u001b[39mstr\u001b[39m(\u001b[39minput\u001b[39m(\u001b[39m'\u001b[39m\u001b[39mDigite RA da \u001b[39m\u001b[39m'\u001b[39m \u001b[39m+\u001b[39m \u001b[39mstr\u001b[39m(k) \u001b[39m+\u001b[39m\u001b[39m'\u001b[39m\u001b[39m estrela a ser ocultada: \u001b[39m\u001b[39m'\u001b[39m))\n",
      "\u001b[1;31mValueError\u001b[0m: invalid literal for int() with base 10: ''"
     ]
    }
   ],
   "source": [
    "\n",
    "j = input(\"Digite o númmero de estrelas que deseja simular a ocultação: \")\n",
    "k = 0\n",
    "while k < int(j):\n",
    "    k = k + 1\n",
    "    ra = str(input('Digite RA da ' + str(k) +' estrela a ser ocultada: '))\n",
    "    dec = str(input('Digite DEC da ' + str(k) +' estrela a ser ocultada: '))\n",
    "    cord = ra +\" \" + dec\n",
    "    estr = Star(coord = cord)\n",
    "    diam_star_k = estr.apparent_diameter(distance = dist_esti, mode='kervella').value\n",
    "    print('O diâmetro da estrela é de: ' + str(diam_star_k) + \"km, de acordo com Kervella\")\n",
    "    diam_star_v = estr.apparent_diameter(distance = dist_esti, mode='van_belle').value\n",
    "    print('O diâmetro da estrela é de: ' + str(diam_star_v) + \"km, de acordo com Van Belle\")\n",
    "    time.sleep(0.5)\n",
    "    while True:\n",
    "        e = input('Qual modo voce deseja utilizar? Digite 1 para Kervella e 2 para Van Belle')\n",
    "        if e =='1':\n",
    "            diam_star = diam_star_k\n",
    "            break\n",
    "        elif e == '2':\n",
    "            diam_star = diam_star_v\n",
    "            break\n",
    "        else:\n",
    "            ('Numero incorreto, digite novamente.')\n",
    "#    estrelas.append(estr) \n",
    "#    diametros_estrelas.append(diam_star)\n",
    "    \n",
    "#print(cord)"
   ]
  },
  {
   "attachments": {},
   "cell_type": "markdown",
   "metadata": {},
   "source": [
    "## Inicializando a curva de luz com os dados já fornecidos"
   ]
  },
  {
   "cell_type": "code",
   "execution_count": null,
   "metadata": {},
   "outputs": [],
   "source": [
    "#a0 = [0,0,0]\n",
    "#tim = [0,0,0]\n",
    "#lc= LightCurve(name=str(nome),\n",
    " #               tref = '2022-01-01 00:00:00',\n",
    "  #              flux = np.array(a0),\n",
    "   #             time = np.array(tim), \n",
    "    #            exptime = float(tempexp),\n",
    "     #           vel = float(vel), \n",
    "      #          dist = float(dist_esti), \n",
    "       #         d_star = float(diam_star),\n",
    "        #        central_bandpass = band\n",
    "         #       )\n",
    "                \n",
    "#lc.calc_magnitude_drop(mag_star=float(estr.mag['G']), mag_obj = magn)\n",
    "\n",
    "#inicio = timepred - duracao/2\n",
    "#fim = timepred + duracao/2\n",
    "#x = lc.bottom_flux\n",
    "#lc.calc_magnitude_drop(mag_star=float(estr.mag['G']), mag_obj = mag_sat)\n",
    "#y = lc.bottom_flux\n",
    "#inicio_sat = timepred - dist_sat/vel - (diam_sat/2)/vel\n",
    "#fim_sat = timepred - dist_sat/vel + (diam_sat/2)/vel"
   ]
  },
  {
   "attachments": {},
   "cell_type": "markdown",
   "metadata": {},
   "source": [
    "# Função que gera o ruido do sistema"
   ]
  },
  {
   "cell_type": "code",
   "execution_count": null,
   "metadata": {},
   "outputs": [
    {
     "data": {
      "text/plain": [
       "1"
      ]
     },
     "execution_count": 17,
     "metadata": {},
     "output_type": "execute_result"
    }
   ],
   "source": [
    "#verifica quantas ocultações serão simuladas\n",
    "if int(corpos) == 0:\n",
    "    corpos = 1\n",
    "if int(satelites) == 0:\n",
    "    satelites =1\n",
    "if int(time_times) == 0:    \n",
    "    time_times = 1\n",
    "fluxos = int(corpos)*int(satelites)*int(time_times)\n",
    "#len(time_times)\n",
    "fluxos\n"
   ]
  },
  {
   "cell_type": "code",
   "execution_count": null,
   "metadata": {},
   "outputs": [],
   "source": [
    "#Equação do S/R dissertação ribas pagina 40 equação 3.4\n",
    "#S/R = Co **(1/2) / sqrt(1/g + n/Co * sigfundo**2  * (1+1/p))\n",
    "#Co é a contagem do objeto\n",
    "#g é o ganho\n",
    "#n é o numero de pixels sobre a abertura\n",
    "# p é o fundo (outrora de céu) estimado por um anel em torno do alvo que nos dá o grau de variancia estimado para cada pixel sobre o objeto 1/p\n",
    "#sigfundo é a soma de B**2 com a média das contagens do fundo por pixel \"fmed\" e ainda uma contribuição espúria de objetos fracos de fundo na linha de visada e**2"
   ]
  },
  {
   "cell_type": "code",
   "execution_count": null,
   "metadata": {},
   "outputs": [],
   "source": [
    "#def fluxo(tmin, tmax, cyc):\n",
    "#    flu.clear() #limpa a lista\n",
    "#    inicio_sat = timepred - dist_sat/vel - (diam_sat/2)/vel\n",
    "#    fim_sat = timepred - dist_sat/vel + (diam_sat/2)/vel\n",
    "#    inicio = timepred - duracao/2\n",
    "#    fim = timepred + duracao/2\n",
    "#    for t in np.arange(tmin, tmax, cyc): #gerando dados com ruido\n",
    "#        if t < inicio_sat or t > fim:\n",
    "#            flux = random.gauss(1, 0.03) #flux_star #media, desvio padrão\n",
    "#        elif t > inicio_sat and t < fim_sat:\n",
    "#            flux =  random.gauss(y, 0.03) \n",
    "#        elif t == inicio_sat or t == fim_sat:\n",
    "#            flux = random.gauss(0.5, 0.03)\n",
    "#        elif t > fim_sat and t < inicio:\n",
    "#            flux = random.gauss(1, 0.03)\n",
    "#        elif t > inicio and t < fim:\n",
    "#            flux =  random.gauss(x, 0.03) \n",
    "#        elif t == inicio or t == fim:\n",
    "#            flux = random.gauss(0.5,0.03)\n",
    "#        flu.append(flux) #adiciona o fluxo gerado na lista\n",
    "#    return(flu)\n",
    "#a = fluxo(tmini, tmaxi, tempcyc)"
   ]
  },
  {
   "attachments": {},
   "cell_type": "markdown",
   "metadata": {},
   "source": [
    "# Iniciando a simulação da ocultação"
   ]
  },
  {
   "cell_type": "code",
   "execution_count": null,
   "metadata": {},
   "outputs": [],
   "source": [
    "#  C:\\Users\\Wellington\\anaconda3\\Lib\\site-packages\\sora\\star"
   ]
  },
  {
   "cell_type": "code",
   "execution_count": null,
   "metadata": {},
   "outputs": [
    {
     "ename": "NameError",
     "evalue": "name 'tempcyc' is not defined",
     "output_type": "error",
     "traceback": [
      "\u001b[1;31m---------------------------------------------------------------------------\u001b[0m",
      "\u001b[1;31mNameError\u001b[0m                                 Traceback (most recent call last)",
      "\u001b[1;32mc:\\Users\\Wellington\\Documents\\Mestrado\\Projeto\\cbdo\\Untitled-1.ipynb Cell 24\u001b[0m in \u001b[0;36m<cell line: 2>\u001b[1;34m()\u001b[0m\n\u001b[0;32m      <a href='vscode-notebook-cell:/c%3A/Users/Wellington/Documents/Mestrado/Projeto/cbdo/Untitled-1.ipynb#X32sZmlsZQ%3D%3D?line=0'>1</a>\u001b[0m t \u001b[39m=\u001b[39m \u001b[39m0\u001b[39m\n\u001b[1;32m----> <a href='vscode-notebook-cell:/c%3A/Users/Wellington/Documents/Mestrado/Projeto/cbdo/Untitled-1.ipynb#X32sZmlsZQ%3D%3D?line=1'>2</a>\u001b[0m cyc \u001b[39m=\u001b[39m tempcyc\u001b[39m#tempos_ciclo[0]\u001b[39;00m\n\u001b[0;32m      <a href='vscode-notebook-cell:/c%3A/Users/Wellington/Documents/Mestrado/Projeto/cbdo/Untitled-1.ipynb#X32sZmlsZQ%3D%3D?line=2'>3</a>\u001b[0m vel \u001b[39m=\u001b[39m vel\u001b[39m#velocidades[0]\u001b[39;00m\n\u001b[0;32m      <a href='vscode-notebook-cell:/c%3A/Users/Wellington/Documents/Mestrado/Projeto/cbdo/Untitled-1.ipynb#X32sZmlsZQ%3D%3D?line=3'>4</a>\u001b[0m diam_sat \u001b[39m=\u001b[39m diam_sat\u001b[39m#diam_satel[0]\u001b[39;00m\n",
      "\u001b[1;31mNameError\u001b[0m: name 'tempcyc' is not defined"
     ]
    }
   ],
   "source": [
    "t = 0\n",
    "cyc = tempcyc#tempos_ciclo[0]\n",
    "vel = vel#velocidades[0]\n",
    "diam_sat = diam_sat#diam_satel[0]\n",
    "mag_sat = mag_sat #absoluta\n",
    "dist_sat = dist_sat#dist_satel[0]\n",
    "diam_esti = diam_esti#diametros[0]\n",
    "duracao = diam_esti/vel\n",
    "dist_esti = dist_esti #distancias[0]\n",
    "magn_sat = calculo_magnitude(dist_esti,mag_sat)\n",
    "#magn_sat = mag_sat + 5*np.log10(dist_esti*(dist_esti-1))\n",
    "mag_obj = calculo_magnitude(dist_esti,magn)\n",
    "#mag_obj = -4.79 + 5*np.log10(dist_esti*(dist_esti-1))\n",
    "diam_star = diam_star #diametros_estrelas[0]\n",
    "timepred = 15000\n",
    "times = np.arange(tmini, tmaxi, cyc) #lista com os instantes de inicio e fim da observação\n",
    "a0 = [0,0,0]\n",
    "tim = [0,0,0]\n",
    "lc= LightCurve(name=str(nome),\n",
    "    tref = '2022-01-01 00:00:00',\n",
    "    flux = np.array(a0),\n",
    "    time = np.array(tim), \n",
    "    exptime = float(cyc),\n",
    "    vel = float(vel), \n",
    "    dist = float(dist_esti), \n",
    "    d_star = float(diam_star),\n",
    "    central_bandpass = band\n",
    "    )\n",
    "magni_obj = -2.5*np.log10(10**(-0.4*mag_obj)+10**(-0.4*magn_sat))                    \n",
    "lc.calc_magnitude_drop(mag_star=float(estr.mag['G']), mag_obj = magni_obj)\n",
    "\n",
    "inicio = timepred - duracao/2\n",
    "fim = timepred + duracao/2\n",
    "x = lc.bottom_flux\n",
    "magni_sat = -2.5*np.log10(10**(-0.4*mag_obj) + 10**(-0.4*magn_sat))\n",
    "lc.calc_magnitude_drop(mag_star=float(estr.mag['G']), mag_obj = magni_sat)\n",
    "y = lc.bottom_flux #https://www.astro.keele.ac.uk/jkt/pubs/JKTeq-fluxsum.pdf\n",
    "                                \n",
    "\n",
    "\n",
    "inicio_sat = timepred - dist_sat/vel - (diam_sat/2)/vel\n",
    "fim_sat = timepred - dist_sat/vel + (diam_sat/2)/vel\n",
    "#gera o fluxo para as variaveis utilizadas\n",
    "def fluxo(tmin, tmax, cyc):\n",
    "    flu.clear() #limpa a lista\n",
    "    #inicio_sat = timepred - dist_sat/vel - (diam_sat/2)/vel\n",
    "    #fim_sat = timepred - dist_sat/vel + (diam_sat/2)/vel\n",
    "    #inicio = timepred - duracao/2\n",
    "    #fim = timepred + duracao/2\n",
    "    for t in np.arange(tmin, tmax, cyc): #gerando dados com ruido\n",
    "        if t < inicio_sat or t > fim:\n",
    "            flux = random.gauss(1, 0.03) #flux_star #media, desvio padrão\n",
    "        elif t > inicio_sat and t < fim_sat:\n",
    "            flux =  random.gauss(y, 0.03) #ajustar o valor minimmo do fluxo para a soma da magnitude dos corpos\n",
    "        elif t == inicio_sat or t == fim_sat:\n",
    "            flux = random.gauss(0.5, 0.03)\n",
    "        elif t > fim_sat and t < inicio:\n",
    "            flux = random.gauss(1, 0.03)\n",
    "        elif t > inicio and t < fim:\n",
    "            flux =  random.gauss(x, 0.03) \n",
    "        elif t == inicio or t == fim:\n",
    "            flux = random.gauss(0.5,0.03)\n",
    "        flu.append(flux) #adiciona o fluxo gerado na lista\n",
    "    return(flu)\n",
    "if True:\n",
    "    #gera a curva de luz do corpo\n",
    "\n",
    "        \n",
    "    a = fluxo(tmini, tmaxi, cyc)\n",
    "    # tab_fluxos.append(a)    \n",
    "    lc = LightCurve(name = 'Planet 9 simulation + ' + str(t),\n",
    "    tref = '2022-08-22 00:00:02',\n",
    "    flux = np.array(flua),\n",
    "    time = times,\n",
    "    central_bandpass = band,\n",
    "    exptime = cyc,\n",
    "    vel = vel, \n",
    "    dist = dist_esti,\n",
    "    d_star = diam_star\n",
    "    )\n",
    "lc.plot_lc()\n",
    "pl.title(\"P9{:.0f};{:.0f}UA;{:.1f};DS{:.2f}km;exp{:.1f}s;M_Sat{:.2f};{:.2f}km\".format(diam_esti, \n",
    "dist_esti,\n",
    "mag_obj,\n",
    "diam_star,  \n",
    "cyc,\n",
    "magn_sat,\n",
    "diam_sat)) \n",
    "#salva a curva de luz\n",
    "pl.savefig('Figs/{}_P9_{:.0f}_{}UA_{:.1f}_DS{:.2f}km_exp{:.1f}s_M_Sat{:.2f}_{:.2f}km.png'.format(t,\n",
    "diam_esti, \n",
    "dist_esti,\n",
    "mag_obj,\n",
    "diam_star,  \n",
    "cyc,\n",
    "magn_sat,\n",
    "diam_sat, dpi=800))\n",
    "pl.clf()\n",
    "#df.loc[t]=new_row\n",
    "#df.at[t,'Diametro']=pd.Series(diam_esti)\n",
    "#df.at[t, 'Distancia']  = pd.Series(dist_esti)\n",
    "#df.at[t, 'Diametro angulare']  = pd.Series(d_ang)\n",
    "#df.at[t, 'Velocidade']  = pd.Series(vel)\n",
    "#df.at[t,'Magnitude estrela']=pd.Series(estr.mag.get('G'))\n",
    "#df.at[t, 'Magnitude']  = pd.Series(magn)\n",
    "#df.at[t, 'Diametro estrela']  = pd.Series(p)\n",
    "#df.at[t, 'Queda de magnitude corpo']  = pd.Series(x)\n",
    "#df.at[t, 'Tempo ciclo']  = pd.Series(cyc)\n",
    "#df.at[t, 'Largura de banda']  = pd.Series(float(lc.lambda_0)) \n",
    "#df.at[t, 'Escala de Fresnel']  = pd.Series(float(lc.fresnel_scale))\n",
    "#df.at[t, 'Duração']  = pd.Series(duracao)\n",
    "#df.at[t, 'Queda de magnitude satelite']\n",
    "t=t+1"
   ]
  },
  {
   "cell_type": "code",
   "execution_count": null,
   "metadata": {},
   "outputs": [],
   "source": [
    "#j=0\n",
    "#t=0\n",
    "#a1=[1]\n",
    "#tab_fluxos = []\n",
    "#for i in tempos_ciclo: #varia cada tempo de ciclo\n",
    "#    cyc = i \n",
    "#    for k in a1 : # varia cada velocidade\n",
    "#        vel = 31 ############\n",
    "#        for l in diam_satel: #varia o diametro do satelite\n",
    "#            diam_sat = l\n",
    "#            if diam_sat == 2700:\n",
    "#                mag_sat = -1.25 #aplica a magnitude absoluta pro satélite\n",
    "#            elif diam_sat == 1200:\n",
    "#                mag_sat = 1.74\n",
    "#            elif diam_sat == 500:\n",
    "#                mag_sat = 3.49\n",
    "#            elif diam_sat == 200:\n",
    "#                mag_sat = 7.16\n",
    "#            for m in dist_satel: #varia a distancia do satelite\n",
    "#                dist_sat = m \n",
    "#                for n in diametros: #varia o diametro do corpo principal\n",
    "#                    diam_esti = n\n",
    "#                    duracao = diam_esti/vel \n",
    "#                    for r in distancias: #varia as distancias do corpo principal com o Sol\n",
    "#                        dist_esti = r\n",
    "#                        #EQUAÇÃO PARA MAGNITUDE CONFORME TAMANHO E DISTANCIA\n",
    "#                        magn_sat = mag_sat + 5*np.log10(dist_esti*(dist_esti-1)) #https://astronomy.stackexchange.com/questions/48314/calculating-the-luminosity-of-a-comet\n",
    "#                        if n == 20665:\n",
    "#                            mag_obj = -4.79 + 5*np.log10(dist_esti*(dist_esti-1))\n",
    "#                        elif n == 19548:\n",
    "#                            mag_obj = -3.76 + 5*np.log10(dist_esti*(dist_esti-1))\n",
    "#                        elif n == 18432:\n",
    "#                            mag_obj = -2.16 + 5*np.log10(dist_esti*(dist_esti-1))\n",
    "#                        for p in diametros_estrelas: #varia o diâmetro da estrela\n",
    "#                                #VER A INFLUENCIA DO DIAMETRO NA OCULTAÇÃO -> na queda de magnitude?\n",
    "#                            diam_star=p \n",
    "#                            for o in a1: #varia o tempo de predicao?\n",
    "#                                #gera uma curva de luz falsa pra calcular a queda de magnitude\n",
    "#                                timepred = 15000\n",
    "#                                times = np.arange(tmini, tmaxi, cyc) #lista com os instantes de inicio e fim da observação\n",
    "#                                a0 = [0,0,0]\n",
    "#                                tim = [0,0,0]\n",
    "#                                lc= LightCurve(name=str(nome),\n",
    "#                                                tref = '2022-01-01 00:00:00',\n",
    "#                                                flux = np.array(a0),\n",
    "#                                                time = np.array(tim), \n",
    "#                                                exptime = float(cyc),\n",
    "#                                                vel = float(vel), \n",
    "#                                                dist = float(dist_esti), \n",
    "#                                                d_star = float(diam_star),\n",
    "#                                                central_bandpass = band\n",
    "#                                                )\n",
    "#                                magni_obj = -2.5*np.log10(10**(-0.4*mag_obj)+10**(-0.4*magn_sat))                    \n",
    "#                                lc.calc_magnitude_drop(mag_star=float(estr.mag['G']), mag_obj = magni_obj)\n",
    "\n",
    "#                                inicio = timepred - duracao/2\n",
    "#                                fim = timepred + duracao/2\n",
    "#                                x = lc.bottom_flux\n",
    "#                                magni_sat = -2.5*np.log10(10**(-0.4*mag_obj)+10**(-0.4*magn_sat))\n",
    "#                                lc.calc_magnitude_drop(mag_star=float(estr.mag['G']), mag_obj = magni_sat)\n",
    "#                                y = lc.bottom_flux #https://www.astro.keele.ac.uk/jkt/pubs/JKTeq-fluxsum.pdf\n",
    "#                                \n",
    "\n",
    "\n",
    "#                                inicio_sat = timepred - dist_sat/vel - (diam_sat/2)/vel\n",
    "#                                fim_sat = timepred - dist_sat/vel + (diam_sat/2)/vel\n",
    "#                                #gera o fluxo para as variaveis utilizadas\n",
    "#                                def fluxo(tmin, tmax, cyc):\n",
    "#                                    flu.clear() #limpa a lista\n",
    "#                                        #inicio_sat = timepred - dist_sat/vel - (diam_sat/2)/vel\n",
    "#                                        #fim_sat = timepred - dist_sat/vel + (diam_sat/2)/vel\n",
    "#                                        #inicio = timepred - duracao/2\n",
    "#                                        #fim = timepred + duracao/2\n",
    "#                                    for t in np.arange(tmin, tmax, cyc): #gerando dados com ruido\n",
    "#                                        if t < inicio_sat or t > fim:\n",
    "#                                            flux = random.gauss(1, 0.03) #flux_star #media, desvio padrão\n",
    "#                                        elif t > inicio_sat and t < fim_sat:\n",
    "#                                            flux =  random.gauss(y, 0.03) #ajustar o valor minimmo do fluxo para a soma da magnitude dos corpos\n",
    "#                                        elif t == inicio_sat or t == fim_sat:\n",
    "#                                            flux = random.gauss(0.5, 0.03)\n",
    "#                                        elif t > fim_sat and t < inicio:\n",
    "#                                            flux = random.gauss(1, 0.03)\n",
    "#                                        elif t > inicio and t < fim:\n",
    "#                                            flux =  random.gauss(x, 0.03) \n",
    "#                                        elif t == inicio or t == fim:\n",
    "#                                            flux = random.gauss(0.5,0.03)\n",
    "#                                        flu.append(flux) #adiciona o fluxo gerado na lista\n",
    "#                                    return(flu)\n",
    "#                                if True:\n",
    "#                                    #gera a curva de luz do corpo\n",
    "#                                    a = fluxo(tmini, tmaxi, cyc)\n",
    "#                                       # tab_fluxos.append(a)    \n",
    "#                                    lc = LightCurve(name = 'Planet 9 simulation + ' + str(t),\n",
    "#                                    tref = '2022-08-22 00:00:02',\n",
    "#                                    flux = np.array(a),\n",
    "#                                    time = times,\n",
    "#                                    central_bandpass = band,\n",
    "#                                    exptime = cyc,\n",
    "#                                    vel = vel, \n",
    "#                                    dist = dist_esti,\n",
    "#                                    d_star = diam_star\n",
    "#                                    )\n",
    "\n",
    "\n",
    "#                                    lc.plot_lc()\n",
    "#                                    pl.title(\"P9{:.0f};{:.0f}UA;{:.1f};DS{:.2f}km;exp{:.1f}s;M_Sat{:.2f};{:.2f}km\".format(diam_esti, \n",
    "#                                    dist_esti,\n",
    "#                                    mag_obj,\n",
    "#                                    diam_star,  \n",
    "#                                    cyc,\n",
    "#                                    magn_sat,\n",
    "#                                    diam_sat)) \n",
    "#                                    #salva a curva de luz\n",
    "#                                    pl.savefig('Figs/{}_P9_{:.0f}_{}UA_{:.1f}_DS{:.2f}km_exp{:.1f}s_M_Sat{:.2f}_{:.2f}km.png'.format(t,\n",
    "#                                    diam_esti, \n",
    "#                                    dist_esti,\n",
    "#                                    mag_obj,\n",
    "#                                    diam_star,  \n",
    "#                                    cyc,\n",
    "#                                    magn_sat,\n",
    "#                                    diam_sat, dpi=800))\n",
    "#                                    pl.clf()\n",
    "\n",
    "#                                    df.loc[t]=new_row\n",
    "#                                    df.at[t,'Diametro']=pd.Series(diam_esti)\n",
    "#                                    df.at[t, 'Distancia']  = pd.Series(dist_esti)\n",
    "#                                    df.at[t, 'Diametro angulare']  = pd.Series(d_ang)\n",
    "#                                    df.at[t, 'Velocidade']  = pd.Series(vel)\n",
    "#                                    df.at[t,'Magnitude estrela']=pd.Series(estr.mag.get('G'))\n",
    "#                                    df.at[t, 'Magnitude']  = pd.Series(magn)\n",
    "#                                    df.at[t, 'Diametro estrela']  = pd.Series(p)\n",
    "#                                    df.at[t, 'Queda de magnitude corpo']  = pd.Series(x)\n",
    "#                                    df.at[t, 'Tempo ciclo']  = pd.Series(cyc)\n",
    "#                                    df.at[t, 'Largura de banda']  = pd.Series(float(lc.lambda_0)) \n",
    "#                                    df.at[t, 'Escala de Fresnel']  = pd.Series(float(lc.fresnel_scale))\n",
    "#                                    df.at[t, 'Duração']  = pd.Series(duracao)\n",
    "#                                    df.at[t, 'Queda de magnitude satelite']\n",
    "#                                    t=t+1\n",
    "#                                    #df.at[i, 'Immersion_time'] = pd.Series(float(immersion_time))\n",
    "#                                    #df.at[i, 'Emersion_time'] = pd.Series(float(emersion_time))\n",
    "                                              "
   ]
  },
  {
   "cell_type": "code",
   "execution_count": null,
   "metadata": {},
   "outputs": [
    {
     "data": {
      "image/png": "[encoded data removed]",
      "text/plain": [
       "<Figure size 432x288 with 1 Axes>"
      ]
     },
     "metadata": {
      "needs_background": "light"
     },
     "output_type": "display_data"
    }
   ],
   "source": [
    "\n",
    "\n",
    "#lc.normalize(flux_min=0, plot=False)\n",
    "#preliminary = lc.occ_detect(plot=False)\n",
    "#immersion_time = preliminary.get('immersion_time')\n",
    "#emersion_time = preliminary.get('emersion_time')\n",
    "#lc.occ_model(immersion_time=immersion_time, emersion_time=emersion_time,opacity =1,\n",
    "#flux_min = x, flux_max = 1, mask = preliminary.get('occ_mask') )\n",
    "lc.plot_lc()"
   ]
  },
  {
   "cell_type": "code",
   "execution_count": null,
   "metadata": {},
   "outputs": [],
   "source": []
  }
 ],
 "metadata": {
  "kernelspec": {
   "display_name": "base",
   "language": "python",
   "name": "python3"
  },
  "language_info": {
   "codemirror_mode": {
    "name": "ipython",
    "version": 3
   },
   "file_extension": ".py",
   "mimetype": "text/x-python",
   "name": "python",
   "nbconvert_exporter": "python",
   "pygments_lexer": "ipython3",
   "version": "3.9.12"
  },
  "orig_nbformat": 4
 },
 "nbformat": 4,
 "nbformat_minor": 2
}

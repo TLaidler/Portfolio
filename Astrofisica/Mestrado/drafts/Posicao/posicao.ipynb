{
 "cells": [
  {
   "cell_type": "markdown",
   "metadata": {},
   "source": [
    "### Trabalho Final - Astronomia de Posição\n",
    "##### Thiago Laidler Vidal Cunha      2024/1"
   ]
  },
  {
   "cell_type": "code",
   "execution_count": 1,
   "metadata": {},
   "outputs": [],
   "source": [
    "#Abrir na pasta\n",
    "#!pip install ./NOVAS_Py-3.1.1"
   ]
  },
  {
   "cell_type": "code",
   "execution_count": 1,
   "metadata": {},
   "outputs": [
    {
     "ename": "ModuleNotFoundError",
     "evalue": "No module named 'pysofa2'",
     "output_type": "error",
     "traceback": [
      "\u001b[1;31m---------------------------------------------------------------------------\u001b[0m",
      "\u001b[1;31mModuleNotFoundError\u001b[0m                       Traceback (most recent call last)",
      "Cell \u001b[1;32mIn[1], line 23\u001b[0m\n\u001b[0;32m     19\u001b[0m \u001b[38;5;28;01mimport\u001b[39;00m \u001b[38;5;21;01mscipy\u001b[39;00m\n\u001b[0;32m     21\u001b[0m \u001b[38;5;28;01mfrom\u001b[39;00m \u001b[38;5;21;01mastropy\u001b[39;00m\u001b[38;5;21;01m.\u001b[39;00m\u001b[38;5;21;01mtable\u001b[39;00m \u001b[38;5;28;01mimport\u001b[39;00m Table, Column, join\n\u001b[1;32m---> 23\u001b[0m \u001b[38;5;28;01mimport\u001b[39;00m \u001b[38;5;21;01mpysofa2\u001b[39;00m\n\u001b[0;32m     25\u001b[0m \u001b[38;5;28;01mimport\u001b[39;00m \u001b[38;5;21;01merfa\u001b[39;00m\n\u001b[0;32m     27\u001b[0m \u001b[38;5;66;03m# importando o spiceypy como sp pra failitar a nossa vida\u001b[39;00m\n",
      "\u001b[1;31mModuleNotFoundError\u001b[0m: No module named 'pysofa2'"
     ]
    }
   ],
   "source": [
    "#import pymangle\n",
    "\n",
    "from astropy.io import ascii\n",
    "\n",
    "\n",
    "from astropy import units as u\n",
    "from astropy.coordinates import SkyCoord\n",
    "import numpy as np\n",
    "import matplotlib.pyplot as plt\n",
    "\n",
    "from astropy.io import ascii\n",
    "\n",
    "from astropy.cosmology import Planck18 as cosmo\n",
    "\n",
    "import numpy as np\n",
    "from astropy.io import fits\n",
    "import pandas as pd\n",
    "\n",
    "import scipy\n",
    "\n",
    "from astropy.table import Table, Column, join\n",
    "\n",
    "import pysofa2\n",
    "\n",
    "import erfa\n",
    "\n",
    "# importando o spiceypy como sp pra failitar a nossa vida\n",
    "import spiceypy as sp\n",
    "import zipfile\n",
    "# Baixando os arquivos necessarios\n",
    "with zipfile.ZipFile('NOVAS_Py-3.1.1.zip','r') as novas:\n",
    "  novas.extractall()\n",
    "\n",
    "import novas.compat\n",
    "from novas.compat import novaslib\n",
    "import os\n"
   ]
  },
  {
   "cell_type": "code",
   "execution_count": 3,
   "metadata": {},
   "outputs": [
    {
     "name": "stderr",
     "output_type": "stream",
     "text": [
      "'wget' n�o � reconhecido como um comando interno\n",
      "ou externo, um programa oper�vel ou um arquivo em lotes.\n",
      "'wget' n�o � reconhecido como um comando interno\n",
      "ou externo, um programa oper�vel ou um arquivo em lotes.\n",
      "'wget' n�o � reconhecido como um comando interno\n",
      "ou externo, um programa oper�vel ou um arquivo em lotes.\n",
      "'wget' n�o � reconhecido como um comando interno\n",
      "ou externo, um programa oper�vel ou um arquivo em lotes.\n",
      "'wget' n�o � reconhecido como um comando interno\n",
      "ou externo, um programa oper�vel ou um arquivo em lotes.\n"
     ]
    }
   ],
   "source": [
    "!wget https://naif.jpl.nasa.gov/pub/naif/generic_kernels/lsk/naif0012.tls #Arquivo de kernel de segundos intercalares (leapseconds)\n",
    "!wget https://naif.jpl.nasa.gov/pub/naif/generic_kernels/spk/planets/de440.bsp #naif0012.tls de440.bsp (Arquivo de kernel SPICE para efemérides planetárias)\n",
    "!wget https://naif.jpl.nasa.gov/pub/naif/generic_kernels/spk/planets/a_old_versions/de405.bsp #de405.bsp\n",
    "!wget https://ascl.net/assets/codes/NOVAS/NOVAS_Py-3.1.1.zip #NOVAS para Python\n",
    "!wget https://naif.jpl.nasa.gov/pub/naif/utilities/PC_Linux_64bit/commnt # baixando o commnt"
   ]
  },
  {
   "cell_type": "code",
   "execution_count": 2,
   "metadata": {},
   "outputs": [
    {
     "name": "stdout",
     "output_type": "stream",
     "text": [
      "Collecting pysofa2\n",
      "  Using cached pysofa2-23.10.11.2.tar.gz (367 kB)\n",
      "  Installing build dependencies: started\n",
      "  Installing build dependencies: finished with status 'done'\n",
      "  Getting requirements to build wheel: started\n",
      "  Getting requirements to build wheel: finished with status 'done'\n",
      "  Installing backend dependencies: started\n",
      "  Installing backend dependencies: finished with status 'done'\n",
      "  Preparing metadata (pyproject.toml): started\n",
      "  Preparing metadata (pyproject.toml): finished with status 'error'\n"
     ]
    },
    {
     "name": "stderr",
     "output_type": "stream",
     "text": [
      "  error: subprocess-exited-with-error\n",
      "  \n",
      "  × Preparing metadata (pyproject.toml) did not run successfully.\n",
      "  │ exit code: 1\n",
      "  ╰─> [44 lines of output]\n",
      "      pysofa2: Failed to import, skipping\n",
      "      -- Building for: NMake Makefiles\n",
      "      CMake Error at CMakeLists.txt:2 (project):\n",
      "        Running\n",
      "      \n",
      "         'nmake' '-?'\n",
      "      \n",
      "        failed with:\n",
      "      \n",
      "         no such file or directory\n",
      "      \n",
      "      \n",
      "      CMake Error: CMAKE_C_COMPILER not set, after EnableLanguage\n",
      "      CMake Error: CMAKE_CXX_COMPILER not set, after EnableLanguage\n",
      "      -- Configuring incomplete, errors occurred!\n",
      "      Traceback (most recent call last):\n",
      "        File \"C:\\Users\\thiag\\anaconda3\\envs\\Trabalho\\Lib\\site-packages\\pip\\_vendor\\pyproject_hooks\\_in_process\\_in_process.py\", line 353, in <module>\n",
      "          main()\n",
      "        File \"C:\\Users\\thiag\\anaconda3\\envs\\Trabalho\\Lib\\site-packages\\pip\\_vendor\\pyproject_hooks\\_in_process\\_in_process.py\", line 335, in main\n",
      "          json_out['return_val'] = hook(**hook_input['kwargs'])\n",
      "                                   ^^^^^^^^^^^^^^^^^^^^^^^^^^^^\n",
      "        File \"C:\\Users\\thiag\\anaconda3\\envs\\Trabalho\\Lib\\site-packages\\pip\\_vendor\\pyproject_hooks\\_in_process\\_in_process.py\", line 152, in prepare_metadata_for_build_wheel\n",
      "          whl_basename = backend.build_wheel(metadata_directory, config_settings)\n",
      "                         ^^^^^^^^^^^^^^^^^^^^^^^^^^^^^^^^^^^^^^^^^^^^^^^^^^^^^^^^\n",
      "        File \"C:\\Users\\thiag\\AppData\\Local\\Temp\\pip-build-env-ke4tq03t\\overlay\\Lib\\site-packages\\py_build_cmake\\build.py\", line 67, in build_wheel\n",
      "          whl_name = self.build_wheel_in_dir(wheel_directory, tmp_build_dir,\n",
      "                     ^^^^^^^^^^^^^^^^^^^^^^^^^^^^^^^^^^^^^^^^^^^^^^^^^^^^^^^\n",
      "        File \"C:\\Users\\thiag\\AppData\\Local\\Temp\\pip-build-env-ke4tq03t\\overlay\\Lib\\site-packages\\py_build_cmake\\build.py\", line 248, in build_wheel_in_dir\n",
      "          self.do_native_cross_cmake_build(paths, cfg, pkg_info)\n",
      "        File \"C:\\Users\\thiag\\AppData\\Local\\Temp\\pip-build-env-ke4tq03t\\overlay\\Lib\\site-packages\\py_build_cmake\\build.py\", line 333, in do_native_cross_cmake_build\n",
      "          self.run_cmake(paths.source_dir, paths.staging_dir, cmake_cfg,\n",
      "        File \"C:\\Users\\thiag\\AppData\\Local\\Temp\\pip-build-env-ke4tq03t\\overlay\\Lib\\site-packages\\py_build_cmake\\build.py\", line 510, in run_cmake\n",
      "          cmaker.configure()\n",
      "        File \"C:\\Users\\thiag\\AppData\\Local\\Temp\\pip-build-env-ke4tq03t\\overlay\\Lib\\site-packages\\py_build_cmake\\cmake.py\", line 154, in configure\n",
      "          self.run(cmd, cwd=cwd, check=True, env=env)\n",
      "        File \"C:\\Users\\thiag\\AppData\\Local\\Temp\\pip-build-env-ke4tq03t\\overlay\\Lib\\site-packages\\py_build_cmake\\cmake.py\", line 68, in run\n",
      "          return self.runner.run(*args, **kwargs)\n",
      "                 ^^^^^^^^^^^^^^^^^^^^^^^^^^^^^^^^\n",
      "        File \"C:\\Users\\thiag\\AppData\\Local\\Temp\\pip-build-env-ke4tq03t\\overlay\\Lib\\site-packages\\py_build_cmake\\cmd_runner.py\", line 25, in run\n",
      "          return sp_run(*args, **kwargs)\n",
      "                 ^^^^^^^^^^^^^^^^^^^^^^^\n",
      "        File \"C:\\Users\\thiag\\anaconda3\\envs\\Trabalho\\Lib\\subprocess.py\", line 571, in run\n",
      "          raise CalledProcessError(retcode, process.args,\n",
      "      subprocess.CalledProcessError: Command '['cmake', '-S', 'C:\\\\Users\\\\thiag\\\\AppData\\\\Local\\\\Temp\\\\pip-install-vzr0ptj7\\\\pysofa2_1cd70a272fe24a9198dce70e6575711f', '-B', 'C:\\\\Users\\\\thiag\\\\AppData\\\\Local\\\\Temp\\\\pip-install-vzr0ptj7\\\\pysofa2_1cd70a272fe24a9198dce70e6575711f\\\\.py-build-cmake_cache\\\\cp312-cp312-win_amd64', '-D', 'PY_BUILD_CMAKE_PACKAGE_VERSION:STRING=23.10.11.2', '-D', 'PY_BUILD_CMAKE_PACKAGE_NAME:STRING=pysofa2', '-D', 'PY_BUILD_CMAKE_MODULE_NAME:STRING=pysofa2', '-D', 'Python3_EXECUTABLE:FILEPATH=C:\\\\Users\\\\thiag\\\\anaconda3\\\\envs\\\\Trabalho\\\\python.exe', '-D', 'Python3_ROOT_DIR:PATH=C:\\\\Users\\\\thiag\\\\anaconda3\\\\envs\\\\Trabalho', '-D', 'Python3_FIND_REGISTRY=NEVER', '-D', 'Python3_FIND_STRATEGY=LOCATION', '-D', 'CMAKE_BUILD_TYPE:STRING=RelWithDebInfo']' returned non-zero exit status 1.\n",
      "      [end of output]\n",
      "  \n",
      "  note: This error originates from a subprocess, and is likely not a problem with pip.\n",
      "error: metadata-generation-failed\n",
      "\n",
      "× Encountered error while generating package metadata.\n",
      "╰─> See above for output.\n",
      "\n",
      "note: This is an issue with the package mentioned above, not pip.\n",
      "hint: See above for details.\n"
     ]
    }
   ],
   "source": [
    "!pip install pysofa2"
   ]
  },
  {
   "cell_type": "code",
   "execution_count": null,
   "metadata": {},
   "outputs": [],
   "source": []
  }
 ],
 "metadata": {
  "kernelspec": {
   "display_name": "Trabalho",
   "language": "python",
   "name": "python3"
  },
  "language_info": {
   "codemirror_mode": {
    "name": "ipython",
    "version": 3
   },
   "file_extension": ".py",
   "mimetype": "text/x-python",
   "name": "python",
   "nbconvert_exporter": "python",
   "pygments_lexer": "ipython3",
   "version": "3.12.3"
  }
 },
 "nbformat": 4,
 "nbformat_minor": 2
}

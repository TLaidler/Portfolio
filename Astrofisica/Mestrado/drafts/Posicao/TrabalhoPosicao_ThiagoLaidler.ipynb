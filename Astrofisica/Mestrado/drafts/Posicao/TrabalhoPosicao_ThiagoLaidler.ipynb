{
  "cells": [
    {
      "cell_type": "markdown",
      "metadata": {
        "id": "hN5AFf0sljEO"
      },
      "source": [
        "## Trabalho Final - Astronomia de posição\n",
        "\n",
        "### Thiago Laidler Vidal Cunha\n",
        "2024/1"
      ]
    },
    {
      "cell_type": "markdown",
      "metadata": {
        "id": "2K6AlJum-W4X"
      },
      "source": [
        " - O presente trabalho tem o objetivo de programar o cálculo da posição de um corpo celeste no céu com todas as correções necessárias. Nosso objetivo foi o de aproximar os resultados o máximo possível das efemérides retornadas pelo JPL. Nesse caso, utilizamos Eris como corpo exemplo."
      ]
    },
    {
      "cell_type": "markdown",
      "metadata": {
        "id": "EvxJZrTcBOov"
      },
      "source": [
        "Drive com Eris:\n",
        "\n",
        "https://drive.google.com/drive/folders/1oDKUBtn3KVEEUTbQeL7PoYuC-sOvBIRq?usp=sharing"
      ]
    },
    {
      "cell_type": "code",
      "execution_count": 1,
      "metadata": {
        "id": "ZXNEOhD487WM"
      },
      "outputs": [],
      "source": [
        "path_eris = 'Eris.bsp' #'/content/drive/MyDrive/Astronomia_de_posição/Eris.bsp'"
      ]
    },
    {
      "cell_type": "markdown",
      "metadata": {
        "id": "lwYBmVSBABkX"
      },
      "source": [
        "##### > A função a seguir (rad_to_hours_convert) converte um ângulo medido em radianos para uma representação em horas, minutos e segundos (útil para RA)."
      ]
    },
    {
      "cell_type": "code",
      "execution_count": 3,
      "metadata": {
        "colab": {
          "base_uri": "https://localhost:8080/"
        },
        "id": "QWrnx-k_dY-R",
        "outputId": "87fd4e2c-871a-41b7-e332-02d4f1a0979f"
      },
      "outputs": [
        {
          "name": "stdout",
          "output_type": "stream",
          "text": [
            "14:40:26.29124160388514\n"
          ]
        }
      ],
      "source": [
        "def rad_to_hours_convert(angle):\n",
        "  hours_angle = ((angle*180/np.pi)/15)\n",
        "  rest_h = hours_angle - int(hours_angle)#((angle*180/np.pi))//15\n",
        "  minutes_angle = rest_h*60\n",
        "  seconds_angle = (minutes_angle - int(minutes_angle))*60\n",
        "  print(f\"{int(hours_angle)}:{(int(minutes_angle))}:{(seconds_angle)}\") #Imprime as horas, minutos e segundos convertidos em um formato de string\n",
        "\n",
        "rad_to_hours_convert(0.7000436538411695+np.pi) #Precisa ainda considerar o angulo como sendo -180° do calculado -> diferença de 12hrs."
      ]
    },
    {
      "cell_type": "markdown",
      "metadata": {
        "id": "B-bXeFQuAQxQ"
      },
      "source": [
        "- A função terra calcula os vetores de posição e velocidade de um observador terrestre em relação ao geocentro (centro da Terra) utilizando coordenadas retangulares equatoriais (se trata de uma conversão direta de uma das subrotinas do código em fortran para o python).\n"
      ]
    },
    {
      "cell_type": "code",
      "execution_count": 5,
      "metadata": {
        "colab": {
          "base_uri": "https://localhost:8080/"
        },
        "id": "B6yUxyfs8QoU",
        "outputId": "ca974932-d951-40de-a15d-07916f26dd47"
      },
      "outputs": [
        {
          "name": "stdout",
          "output_type": "stream",
          "text": [
            "Position vector (AU): [2.65956229e-05 0.00000000e+00 3.32114513e-05]\n",
            "Velocity vector (AU/day): [-0.          0.00016756  0.        ]\n"
          ]
        }
      ],
      "source": [
        "## Convertendo as sub-rotinas para python:\n",
        "\n",
        "def terra(glon, glat, ht, st):   #glon: Longitude do observador em graus.\n",
        "                                 #glat: Latitude geodésica do observador em graus.\n",
        "                                 #ht: Altura do observador em metros.\n",
        "                                 #st: Tempo sideral aparente local no meridiano de referência em horas.\n",
        "    \"\"\"\n",
        "    Compute the position and velocity vectors of a terrestrial observer with respect to the geocenter.\n",
        "\n",
        "    Parameters:\n",
        "    glon : float\n",
        "        Longitude of observer with respect to reference meridian (East +) in degrees.\n",
        "    glat : float\n",
        "        Geodetic latitude (North +) of observer in degrees.\n",
        "    ht : float\n",
        "        Height of observer in meters.\n",
        "    st : float\n",
        "        Local apparent sidereal time at reference meridian in hours.\n",
        "\n",
        "    Returns:\n",
        "    pos : numpy array\n",
        "        Position vector of observer with respect to geocenter, equatorial rectangular coordinates,\n",
        "        referred to true equator and equinox of date, components in AU.\n",
        "    vel : numpy array\n",
        "        Velocity vector of observer with respect to geocenter, equatorial rectangular coordinates,\n",
        "        referred to true equator and equinox of date, components in AU/day.\n",
        "    \"\"\"\n",
        "\n",
        "    # Declaração de Constantes\n",
        "    PI = 3.14159265358979324\n",
        "    SECCON = 180.0 * 3600.0 / PI #Constante de conversão de segundos de arco para radianos\n",
        "\n",
        "\n",
        "    ERAD = 6378.137  # Raio equatorial da Terra em quilômetros.\n",
        "    F = 1.0 / 298.25642 #298.257223563  # Fator de achatamento do elipsoide terrestre\n",
        "    OMEGA = 7.2921150e-5  # Velocidade angular da Terra em radianos por segundo.\n",
        "    AUKM = 1.49597870700e8  # Unidade astronômica em quilômetros\n",
        "\n",
        "\n",
        "    DF2 = (1.0 - F)**2  #Fator de achatamento ao quadrado.\n",
        "    PHI = glat * 3600.0 / SECCON  #Latitude em radianos.\n",
        "    SINPHI = math.sin(PHI) #Seno e cosseno da latitude.\n",
        "    COSPHI = math.cos(PHI)\n",
        "    C = 1.0 / math.sqrt(COSPHI**2 + DF2 * SINPHI**2)  #Fatores de correção para a curvatura da Terra.\n",
        "    S = DF2 * C     #Fatores de correção para a curvatura da Terra.\n",
        "    ACH = ERAD * C + ht / 1000.0  #Raio equatorial e polar corrigidos pela altura do observador\n",
        "    ASH = ERAD * S + ht / 1000.0\n",
        "\n",
        "\n",
        "    STLOCL = (st * 54000.0 + glon * 3600.0) / SECCON  #Calcula o tempo sideral local em radianos\n",
        "    SINST = math.sin(STLOCL) #Calcula o seno (SINST) e o cosseno (COSST) do tempo sideral local.\n",
        "    COSST = math.cos(STLOCL)\n",
        "\n",
        "#Cálculo do vetor de posição (Calcula as componentes do vetor de posição em coordenadas retangulares equatoriais)\n",
        "\n",
        "    pos = np.zeros(3)\n",
        "    pos[0] = ACH * COSPHI * COSST\n",
        "    pos[1] = ACH * COSPHI * SINST\n",
        "    pos[2] = ASH * SINPHI\n",
        "\n",
        "# Cálculo do vetor de velocidade (Calcula as componentes do vetor de velocidade em coordenadas retangulares equatoriais.)\n",
        "\n",
        "    vel = np.zeros(3)\n",
        "    vel[0] = -OMEGA * ACH * COSPHI * SINST\n",
        "    vel[1] = OMEGA * ACH * COSPHI * COSST\n",
        "    vel[2] = 0.0\n",
        "\n",
        "# Converter os vetores de posição e velocidade de quilômetros para unidades astronômicas (AU) e AU por dia.\n",
        "    pos = pos / AUKM\n",
        "    vel = vel / AUKM * 86400.0\n",
        "\n",
        "    return pos, vel\n",
        "\n",
        "# Exemplo\n",
        "glon = 0.0   # Longitude in degrees\n",
        "glat = 51.5  # Latitude in degrees\n",
        "ht = 0.0     # Height in meters\n",
        "st = 0.0     # Sidereal time in hours\n",
        "\n",
        "pos, vel = terra(glon, glat, ht, st)\n",
        "print(\"Position vector (AU):\", pos)\n",
        "print(\"Velocity vector (AU/day):\", vel)"
      ]
    },
    {
      "cell_type": "markdown",
      "metadata": {
        "id": "GjQQioejAxKw"
      },
      "source": [
        "- Normalização do ângulo (também uma conversão direta de uma das subrotinas):"
      ]
    },
    {
      "cell_type": "code",
      "execution_count": 6,
      "metadata": {
        "colab": {
          "base_uri": "https://localhost:8080/"
        },
        "id": "rMn0v1Jnn_0j",
        "outputId": "345b2847-cf37-4383-b0b8-493436f7e073"
      },
      "outputs": [
        {
          "name": "stdout",
          "output_type": "stream",
          "text": [
            "Normalized angle: 5.283185307179586\n"
          ]
        }
      ],
      "source": [
        "def sla_DRANRM(angle):\n",
        "  \"\"\"Normalização para ângulo ficar entre 0~2pi\"\"\"\n",
        "    D2PI = 6.283185307179586476925286766559  # 2 * pi\n",
        "\n",
        "    result = angle % D2PI\n",
        "    if result < 0.0:\n",
        "        result += D2PI\n",
        "\n",
        "    return result\n",
        "\n",
        "# Exemplo\n",
        "angle = -1.0\n",
        "normalized_angle = sla_DRANRM(angle)\n",
        "print(\"Normalized angle:\", normalized_angle)"
      ]
    },
    {
      "cell_type": "markdown",
      "metadata": {
        "id": "5LjaCAvnBVXA"
      },
      "source": [
        "- Converter um vetor tridimensional em coordenadas cartesianas para coordenadas esféricas"
      ]
    },
    {
      "cell_type": "code",
      "execution_count": 7,
      "metadata": {
        "colab": {
          "base_uri": "https://localhost:8080/"
        },
        "id": "T_0_D8OU8W6f",
        "outputId": "4b9b253c-61c8-47f3-a65d-0b9493eb28be"
      },
      "outputs": [
        {
          "name": "stdout",
          "output_type": "stream",
          "text": [
            "Longitude (A): 0.7853981633974483\n",
            "Latitude (B): 0.6154797086703873\n"
          ]
        }
      ],
      "source": [
        "def sla_DCC2S(v):\n",
        "    x = v[0]\n",
        "    y = v[1]\n",
        "    z = v[2]\n",
        "    r = math.sqrt(x * x + y * y)\n",
        "\n",
        "    if r == 0.0:\n",
        "        a = 0.0\n",
        "    else:\n",
        "        a = math.atan2(y, x)\n",
        "\n",
        "    if z == 0.0:\n",
        "        b = 0.0\n",
        "    else:\n",
        "        b = math.atan2(z, r)\n",
        "\n",
        "    return a, b\n",
        "\n",
        "# Exemplo\n",
        "v = [1, 1, 1]\n",
        "a, b = sla_DCC2S(v)\n",
        "print(\"Longitude (A):\", a)\n",
        "print(\"Latitude (B):\", b)\n",
        "\n",
        "# Retorna a longitude(A) e a latitude (B)."
      ]
    },
    {
      "cell_type": "code",
      "execution_count": 8,
      "metadata": {
        "id": "Ng7iZQEHqosY"
      },
      "outputs": [],
      "source": [
        "from math import modf, floor\n",
        "\n",
        "def sla_DD2TF(ndp, days):\n",
        "    '''\n",
        "    Função sla_DD2TF: Esta função converte um valor em dias para horas, minutos, segundos e fração com uma precisão especificada. Ele primeiro calcula o número total de segundos e então decompõe esses segundos em horas, minutos e segundos, considerando a fração de segundos.\n",
        "    Função sla_DR2TF: Esta função converte um ângulo em radianos para \"turns\" (voltas completas, onde 1 volta = 2*pi radianos) e então chama sla_DD2TF para converter esses turns em horas, minutos, segundos e fração.\n",
        "    '''\n",
        "    sign = '+' if days >= 0 else '-'\n",
        "    days = abs(days)\n",
        "\n",
        "    total_seconds = days * 86400  # 1 day = 86400 seconds (Converte o valor de dias para segundos multiplicando por 86400 (o número de segundos em um dia).)\n",
        "    fraction, total_seconds = modf(total_seconds)\n",
        "    total_seconds = int(total_seconds)\n",
        "\n",
        "    hours = total_seconds // 3600\n",
        "    total_seconds %= 3600\n",
        "    minutes = total_seconds // 60\n",
        "    seconds = total_seconds % 60\n",
        "\n",
        "    # Adjust the fraction part\n",
        "    fraction_seconds = round(fraction * 10**ndp)\n",
        "\n",
        "    ihmsf = [hours, minutes, seconds, fraction_seconds]\n",
        "\n",
        "    return sign, ihmsf\n"
      ]
    },
    {
      "cell_type": "code",
      "execution_count": 9,
      "metadata": {
        "colab": {
          "base_uri": "https://localhost:8080/"
        },
        "id": "lQE_BaHwq1a4",
        "outputId": "213fbb90-33ce-4374-8dc4-8af53da2ed94"
      },
      "outputs": [
        {
          "name": "stdout",
          "output_type": "stream",
          "text": [
            "Sign: +\n",
            "IHMSF: [3, 49, 10, 99]\n"
          ]
        }
      ],
      "source": [
        "def sla_DR2TF(ndp, angle):\n",
        "    T2R = 6.283185307179586476925287  # 2 * pi\n",
        "\n",
        "    # Convert radians to turns\n",
        "    turns = angle / T2R\n",
        "\n",
        "    # Call the auxiliary function\n",
        "    sign, ihmsf = sla_DD2TF(ndp, turns)\n",
        "\n",
        "    return sign, ihmsf\n",
        "\n",
        "# Exemplo de uso:\n",
        "ndp = 2\n",
        "angle = 1.0  # em radianos\n",
        "sign, ihmsf = sla_DR2TF(ndp, angle)\n",
        "print(\"Sign:\", sign)\n",
        "print(\"IHMSF:\", ihmsf)\n"
      ]
    },
    {
      "cell_type": "markdown",
      "metadata": {
        "id": "U33QiDIEBe7f"
      },
      "source": [
        "- A seguir está um script que desenolvi no intuito de facilitar a busca pelas efemérides sem a necessidade de abrir o site do JPL. Embora possa ajudar, o programa presente não utiliza esse script para buscar a efeméride. Pode ser utilizado e testes futuros."
      ]
    },
    {
      "cell_type": "code",
      "execution_count": 10,
      "metadata": {
        "id": "GPL_Pjcnw-8Q"
      },
      "outputs": [],
      "source": [
        "#importação das bibliotecas\n",
        "\n",
        "from astroquery.jplhorizons import Horizons\n",
        "import matplotlib.pyplot as plt\n",
        "import datetime as dt\n",
        "from dateutil.relativedelta import relativedelta\n",
        "from pytz import UTC as utc\n",
        "\n",
        "class Efemeride:\n",
        "    '''\n",
        "    Classe para buscar efeméride direto do JPL de maneira fácil e rápida\n",
        "    '''\n",
        "    def __init__(self, name, start, end, step='d'):\n",
        "        self.name = name  #nome do objeto celestre\n",
        "        self.start = start #data de inicio do período para o qual se deseja obter as efemérides\n",
        "        self.end = end  #data do fim do éríodo\n",
        "        self.step = step\n",
        "\n",
        "    def datetime_to_epochs_days(self, dt, days=1):\n",
        "        \"\"\"\n",
        "        Converte um objeto datetime em epochs compatíveis com o Astroquery.\n",
        "\n",
        "        Parâmetros:\n",
        "            dt (datetime): O objeto datetime a ser convertido.\n",
        "\n",
        "        Retorna:\n",
        "            epochs (dict): Um dicionário contendo as informações de epochs no formato\n",
        "                           adequado para o Astroquery.\n",
        "        \"\"\"\n",
        "        start = dt.strftime('%Y-%m-%d %H:%M:%S')\n",
        "\n",
        "        end = (dt + relativedelta(days=days)).strftime('%Y-%m-%d %H:%M:%S')\n",
        "\n",
        "        epochs = {'start': start, 'stop': end, 'step': '1' + self.step}\n",
        "\n",
        "        return epochs\n",
        "#obtenção das Efemérides\n",
        "\n",
        "    def get_ephemerides_by_astropy(self, epoch=None):\n",
        "        if epoch is None:\n",
        "            obj = Horizons(id=self.name)\n",
        "            eph = obj.ephemerides()\n",
        "        else:\n",
        "            obj = Horizons(id=self.name, epochs=epoch)\n",
        "            eph = obj.ephemerides()\n",
        "        return eph\n",
        "\n",
        "# Obtém e retorna as efemérides como um \"DataFrame\"\n",
        "    def fetch_ephemerides_dataframe(self):\n",
        "        start = self.start.strftime('%Y-%m-%d %H:%M:%S')\n",
        "        end = self.end.strftime('%Y-%m-%d %H:%M:%S')\n",
        "        epochs = {'start': start, 'stop': end, 'step': '1' + self.step}\n",
        "        eph = self.get_ephemerides_by_astropy(epoch=epochs)\n",
        "        print(f\"\\nEfemérides de {self.name} para até {self.end.year} anos:\")\n",
        "        return eph\n",
        "\n",
        "#Plotagem do RA e DEC (Obtém as efemérides e plota a evolução de RA e DEC ao longo do tempo usando \"matplotlib\")\n",
        "    def plotar_RA_e_DEC_JPL(self):\n",
        "        start = self.start.strftime('%Y-%m-%d %H:%M:%S')\n",
        "        end = self.end.strftime('%Y-%m-%d %H:%M:%S')\n",
        "        epochs = {'start': start, 'stop': end, 'step': '1' + self.step}\n",
        "        eph = self.get_ephemerides_by_astropy(epoch=epochs)\n",
        "        print(f\"\\nEfemérides de {self.name} para até {self.end.year} anos:\")\n",
        "\n",
        "        # Plot\n",
        "        plt.figure(figsize=(12, 6))\n",
        "        plt.subplot(211)\n",
        "        plt.title(f\"Evolução de RA com o tempo ({self.name})\")\n",
        "        plt.plot(eph['datetime_str'], eph['RA'], label='RA')\n",
        "        plt.xlabel('Tempo')\n",
        "        plt.ylabel('RA')\n",
        "        plt.legend()\n",
        "\n",
        "        plt.subplot(212)\n",
        "        plt.title(f\"Evolução de DEC com o tempo ({self.name})\")\n",
        "        plt.plot(eph['datetime_str'], eph['DEC'], label='DEC')\n",
        "        plt.xlabel('Tempo')\n",
        "        plt.ylabel('DEC')\n",
        "        plt.legend()\n",
        "\n",
        "        plt.tight_layout()\n",
        "        plt.show()\n"
      ]
    },
    {
      "cell_type": "code",
      "execution_count": 11,
      "metadata": {
        "id": "Prhd14u2w_2H"
      },
      "outputs": [],
      "source": [
        "#Exemplo:\n",
        "efem = Efemeride(name='Eris (system barycenter)', start = dt.datetime(2010, 1, 12, 20, 13, 36, 455, tzinfo=utc), end = dt.datetime(2015, 1, 1, 1, 0, tzinfo=utc), step = 'd')"
      ]
    },
    {
      "cell_type": "code",
      "execution_count": 12,
      "metadata": {
        "colab": {
          "base_uri": "https://localhost:8080/",
          "height": 1000
        },
        "collapsed": true,
        "id": "oeXjyFXGxWZ4",
        "outputId": "29772872-21ab-450e-d9c6-3a3dd40cbab0"
      },
      "outputs": [
        {
          "name": "stdout",
          "output_type": "stream",
          "text": [
            "\n",
            "Efemérides de Eris (system barycenter) para até 2015 anos:\n"
          ]
        },
        {
          "data": {
            "text/html": [
              "<div><i>Table masked=True length=1815</i>\n",
              "<table id=\"table139730424687360\" class=\"table-striped table-bordered table-condensed\">\n",
              "<thead><tr><th>targetname</th><th>datetime_str</th><th>datetime_jd</th><th>solar_presence</th><th>lunar_presence</th><th>RA</th><th>DEC</th><th>RA_app</th><th>DEC_app</th><th>RA_rate</th><th>DEC_rate</th><th>AZ</th><th>EL</th><th>AZ_rate</th><th>EL_rate</th><th>sat_X</th><th>sat_Y</th><th>sat_PANG</th><th>siderealtime</th><th>airmass</th><th>magextinct</th><th>V</th><th>surfbright</th><th>illumination</th><th>illum_defect</th><th>sat_sep</th><th>sat_vis</th><th>ang_width</th><th>PDObsLon</th><th>PDObsLat</th><th>PDSunLon</th><th>PDSunLat</th><th>SubSol_ang</th><th>SubSol_dist</th><th>NPole_ang</th><th>NPole_dist</th><th>EclLon</th><th>EclLat</th><th>r</th><th>r_rate</th><th>delta</th><th>delta_rate</th><th>lighttime</th><th>vel_sun</th><th>vel_obs</th><th>elong</th><th>elongFlag</th><th>alpha</th><th>lunar_elong</th><th>lunar_illum</th><th>sat_alpha</th><th>sunTargetPA</th><th>velocityPA</th><th>OrbPlaneAng</th><th>constellation</th><th>TDB-UT</th><th>ObsEclLon</th><th>ObsEclLat</th><th>NPole_RA</th><th>NPole_DEC</th><th>GlxLon</th><th>GlxLat</th><th>solartime</th><th>earth_lighttime</th><th>RA_3sigma</th><th>DEC_3sigma</th><th>SMAA_3sigma</th><th>SMIA_3sigma</th><th>Theta_3sigma</th><th>Area_3sigma</th><th>RSS_3sigma</th><th>r_3sigma</th><th>r_rate_3sigma</th><th>SBand_3sigma</th><th>XBand_3sigma</th><th>DoppDelay_3sigma</th><th>true_anom</th><th>hour_angle</th><th>alpha_true</th><th>PABLon</th><th>PABLat</th></tr></thead>\n",
              "<thead><tr><th>---</th><th>---</th><th>d</th><th>---</th><th>---</th><th>deg</th><th>deg</th><th>deg</th><th>deg</th><th>arcsec / h</th><th>arcsec / h</th><th>deg</th><th>deg</th><th>arcsec / min</th><th>arcsec / min</th><th>arcsec</th><th>arcsec</th><th>deg</th><th>h</th><th>---</th><th>mag</th><th>mag</th><th>mag / arcsec2</th><th>%</th><th>arcsec</th><th>arcsec</th><th>---</th><th>arcsec</th><th>deg</th><th>deg</th><th>deg</th><th>deg</th><th>deg</th><th>arcsec</th><th>deg</th><th>arcsec</th><th>deg</th><th>deg</th><th>AU</th><th>km / s</th><th>AU</th><th>km / s</th><th>min</th><th>km / s</th><th>km / s</th><th>deg</th><th>---</th><th>deg</th><th>deg</th><th>%</th><th>deg</th><th>deg</th><th>deg</th><th>deg</th><th>---</th><th>s</th><th>deg</th><th>deg</th><th>deg</th><th>deg</th><th>deg</th><th>deg</th><th>h</th><th>min</th><th>arcsec</th><th>arcsec</th><th>arcsec</th><th>arcsec</th><th>deg</th><th>arcsec2</th><th>arcsec</th><th>km</th><th>km / s</th><th>Hz</th><th>Hz</th><th>s</th><th>deg</th><th>h</th><th>deg</th><th>deg</th><th>deg</th></tr></thead>\n",
              "<thead><tr><th>str32</th><th>str20</th><th>float64</th><th>str1</th><th>str1</th><th>float64</th><th>float64</th><th>float64</th><th>float64</th><th>float64</th><th>float64</th><th>int64</th><th>int64</th><th>int64</th><th>int64</th><th>float64</th><th>float64</th><th>float64</th><th>int64</th><th>int64</th><th>int64</th><th>float64</th><th>int64</th><th>float64</th><th>int64</th><th>float64</th><th>str1</th><th>int64</th><th>int64</th><th>int64</th><th>int64</th><th>int64</th><th>float64</th><th>float64</th><th>int64</th><th>int64</th><th>float64</th><th>float64</th><th>float64</th><th>float64</th><th>float64</th><th>float64</th><th>float64</th><th>float64</th><th>float64</th><th>float64</th><th>str2</th><th>float64</th><th>float64</th><th>float64</th><th>float64</th><th>float64</th><th>float64</th><th>float64</th><th>str3</th><th>float64</th><th>float64</th><th>float64</th><th>int64</th><th>int64</th><th>float64</th><th>float64</th><th>int64</th><th>float64</th><th>int64</th><th>int64</th><th>int64</th><th>int64</th><th>int64</th><th>int64</th><th>int64</th><th>int64</th><th>int64</th><th>int64</th><th>int64</th><th>int64</th><th>float64</th><th>int64</th><th>float64</th><th>float64</th><th>float64</th></tr></thead>\n",
              "<tr><td>Eris (system barycenter) (201361</td><td>2010-Jan-12 20:13:36</td><td>2455209.342777778</td><td></td><td></td><td>24.30282</td><td>-4.57526</td><td>24.4342</td><td>-4.52368</td><td>-0.04907</td><td>0.461029</td><td>--</td><td>--</td><td>--</td><td>--</td><td>301722.825</td><td>61322.849</td><td>94.251</td><td>--</td><td>999</td><td>--</td><td>18.753</td><td>--</td><td>99.99742</td><td>--</td><td>318408.0</td><td>*</td><td>--</td><td>--</td><td>--</td><td>--</td><td>--</td><td>248.39</td><td>0.0</td><td>--</td><td>--</td><td>21.3758</td><td>-13.6757</td><td>96.67498268108</td><td>-0.2645115</td><td>96.6967441725815</td><td>29.1403098</td><td>804.20229872</td><td>2.3040055</td><td>30.5077373</td><td>88.4467</td><td>/T</td><td>0.5825</td><td>113.9</td><td>5.4654</td><td>90.9708</td><td>68.474</td><td>206.042</td><td>-0.39532</td><td>Cet</td><td>66.18425</td><td>20.9210617</td><td>-13.673386</td><td>--</td><td>--</td><td>150.771595</td><td>-64.944442</td><td>--</td><td>0.0</td><td>--</td><td>--</td><td>--</td><td>--</td><td>--</td><td>--</td><td>--</td><td>--</td><td>--</td><td>--</td><td>--</td><td>--</td><td>188.7404</td><td>--</td><td>0.5824</td><td>21.0758</td><td>-13.6745</td></tr>\n",
              "<tr><td>Eris (system barycenter) (201361</td><td>2010-Jan-13 20:13:36</td><td>2455210.342777778</td><td></td><td></td><td>24.30258</td><td>-4.57215</td><td>24.43393</td><td>-4.52058</td><td>-0.02364</td><td>0.470833</td><td>--</td><td>--</td><td>--</td><td>--</td><td>298455.903</td><td>60720.43</td><td>93.861</td><td>--</td><td>999</td><td>--</td><td>18.754</td><td>--</td><td>99.99742</td><td>--</td><td>314846.4</td><td>*</td><td>--</td><td>--</td><td>--</td><td>--</td><td>--</td><td>248.63</td><td>0.0</td><td>--</td><td>--</td><td>21.3764</td><td>-13.6752</td><td>96.67482991761</td><td>-0.2645466</td><td>96.7135694707348</td><td>29.1225855</td><td>804.34223046</td><td>2.3040215</td><td>30.5366017</td><td>87.4573</td><td>/T</td><td>0.5823</td><td>102.6</td><td>1.9244</td><td>91.9604</td><td>68.715</td><td>206.043</td><td>-0.3969</td><td>Cet</td><td>66.184279</td><td>20.9219901</td><td>-13.6704122</td><td>--</td><td>--</td><td>150.767848</td><td>-64.941794</td><td>--</td><td>0.0</td><td>--</td><td>--</td><td>--</td><td>--</td><td>--</td><td>--</td><td>--</td><td>--</td><td>--</td><td>--</td><td>--</td><td>--</td><td>188.7416</td><td>--</td><td>0.5821</td><td>21.0765</td><td>-13.6727</td></tr>\n",
              "<tr><td>Eris (system barycenter) (201361</td><td>2010-Jan-14 20:13:36</td><td>2455211.342777778</td><td></td><td></td><td>24.3025</td><td>-4.56898</td><td>24.43382</td><td>-4.51742</td><td>0.001794</td><td>0.480511</td><td>--</td><td>--</td><td>--</td><td>--</td><td>295201.134</td><td>60093.5</td><td>93.48</td><td>--</td><td>999</td><td>--</td><td>18.754</td><td>--</td><td>99.99742</td><td>--</td><td>311285.9</td><td>*</td><td>--</td><td>--</td><td>--</td><td>--</td><td>--</td><td>248.87</td><td>0.0</td><td>--</td><td>--</td><td>21.377</td><td>-13.6747</td><td>96.67467713387</td><td>-0.2645817</td><td>96.7303817541009</td><td>29.0952417</td><td>804.48205396</td><td>2.3040375</td><td>30.5647907</td><td>86.4683</td><td>/T</td><td>0.5819</td><td>91.2</td><td>0.1876</td><td>92.9498</td><td>68.956</td><td>206.043</td><td>-0.39836</td><td>Cet</td><td>66.184308</td><td>20.9230998</td><td>-13.6674409</td><td>--</td><td>--</td><td>150.764401</td><td>-64.939015</td><td>--</td><td>0.0</td><td>--</td><td>--</td><td>--</td><td>--</td><td>--</td><td>--</td><td>--</td><td>--</td><td>--</td><td>--</td><td>--</td><td>--</td><td>188.7429</td><td>--</td><td>0.5816</td><td>21.0774</td><td>-13.671</td></tr>\n",
              "<tr><td>Eris (system barycenter) (201361</td><td>2010-Jan-15 20:13:36</td><td>2455212.342777778</td><td></td><td></td><td>24.3026</td><td>-4.56575</td><td>24.43388</td><td>-4.51419</td><td>0.027233</td><td>0.490057</td><td>--</td><td>--</td><td>--</td><td>--</td><td>291957.965</td><td>59442.36</td><td>93.107</td><td>--</td><td>999</td><td>--</td><td>18.754</td><td>--</td><td>99.99743</td><td>--</td><td>307726.6</td><td>*</td><td>--</td><td>--</td><td>--</td><td>--</td><td>--</td><td>249.12</td><td>0.0</td><td>--</td><td>--</td><td>21.3776</td><td>-13.6742</td><td>96.67452432983</td><td>-0.2646168</td><td>96.7471754706271</td><td>29.0582945</td><td>804.62172304</td><td>2.3040535</td><td>30.592289</td><td>85.4796</td><td>/T</td><td>0.5813</td><td>80.0</td><td>0.2715</td><td>93.9391</td><td>69.198</td><td>206.043</td><td>-0.39969</td><td>Cet</td><td>66.184337</td><td>20.9243871</td><td>-13.6644729</td><td>--</td><td>--</td><td>150.761254</td><td>-64.936107</td><td>--</td><td>0.0</td><td>--</td><td>--</td><td>--</td><td>--</td><td>--</td><td>--</td><td>--</td><td>--</td><td>--</td><td>--</td><td>--</td><td>--</td><td>188.7442</td><td>--</td><td>0.5809</td><td>21.0784</td><td>-13.6692</td></tr>\n",
              "<tr><td>Eris (system barycenter) (201361</td><td>2010-Jan-16 20:13:36</td><td>2455213.342777778</td><td></td><td></td><td>24.30287</td><td>-4.56245</td><td>24.4341</td><td>-4.51091</td><td>0.052659</td><td>0.499467</td><td>--</td><td>--</td><td>--</td><td>--</td><td>288725.846</td><td>58767.323</td><td>92.742</td><td>--</td><td>999</td><td>--</td><td>18.755</td><td>--</td><td>99.99744</td><td>--</td><td>304168.6</td><td>*</td><td>--</td><td>--</td><td>--</td><td>--</td><td>--</td><td>249.36</td><td>0.0</td><td>--</td><td>--</td><td>21.3782</td><td>-13.6736</td><td>96.67437150548</td><td>-0.264652</td><td>96.7639450832803</td><td>29.0117797</td><td>804.76119166</td><td>2.3040696</td><td>30.6190926</td><td>84.4913</td><td>/T</td><td>0.5806</td><td>68.9</td><td>2.141</td><td>94.9282</td><td>69.44</td><td>206.043</td><td>-0.4009</td><td>Cet</td><td>66.184366</td><td>20.9258499</td><td>-13.6615089</td><td>--</td><td>--</td><td>150.75841</td><td>-64.93307</td><td>--</td><td>0.0</td><td>--</td><td>--</td><td>--</td><td>--</td><td>--</td><td>--</td><td>--</td><td>--</td><td>--</td><td>--</td><td>--</td><td>--</td><td>188.7455</td><td>--</td><td>0.58</td><td>21.0794</td><td>-13.6675</td></tr>\n",
              "<tr><td>Eris (system barycenter) (201361</td><td>2010-Jan-17 20:13:36</td><td>2455214.342777778</td><td></td><td></td><td>24.3033</td><td>-4.55909</td><td>24.43447</td><td>-4.50756</td><td>0.07806</td><td>0.508737</td><td>--</td><td>--</td><td>--</td><td>--</td><td>285504.223</td><td>58068.709</td><td>92.386</td><td>--</td><td>999</td><td>--</td><td>18.755</td><td>--</td><td>99.99745</td><td>--</td><td>300612.0</td><td>*</td><td>--</td><td>--</td><td>--</td><td>--</td><td>--</td><td>249.6</td><td>0.0</td><td>--</td><td>--</td><td>21.3788</td><td>-13.6731</td><td>96.67421866077</td><td>-0.2646872</td><td>96.7806850810408</td><td>28.9557512</td><td>804.90041397</td><td>2.3040857</td><td>30.6452087</td><td>83.5033</td><td>/T</td><td>0.5797</td><td>57.8</td><td>5.7147</td><td>95.917</td><td>69.683</td><td>206.043</td><td>-0.40198</td><td>Cet</td><td>66.184395</td><td>20.9274872</td><td>-13.6585499</td><td>--</td><td>--</td><td>150.755867</td><td>-64.929905</td><td>--</td><td>0.0</td><td>--</td><td>--</td><td>--</td><td>--</td><td>--</td><td>--</td><td>--</td><td>--</td><td>--</td><td>--</td><td>--</td><td>--</td><td>188.7468</td><td>--</td><td>0.579</td><td>21.0806</td><td>-13.6658</td></tr>\n",
              "<tr><td>Eris (system barycenter) (201361</td><td>2010-Jan-18 20:13:36</td><td>2455215.342777778</td><td></td><td></td><td>24.30391</td><td>-4.55566</td><td>24.43501</td><td>-4.50416</td><td>0.103424</td><td>0.517863</td><td>--</td><td>--</td><td>--</td><td>--</td><td>282292.541</td><td>57346.852</td><td>92.039</td><td>--</td><td>999</td><td>--</td><td>18.755</td><td>--</td><td>99.99746</td><td>--</td><td>297057.1</td><td>*</td><td>--</td><td>--</td><td>--</td><td>--</td><td>--</td><td>249.84</td><td>0.0</td><td>--</td><td>--</td><td>21.3794</td><td>-13.6726</td><td>96.67406579569</td><td>-0.2647225</td><td>96.7973899888485</td><td>28.8902793</td><td>805.03934445</td><td>2.3041018</td><td>30.6706532</td><td>82.5159</td><td>/T</td><td>0.5786</td><td>47.1</td><td>10.8728</td><td>96.9056</td><td>69.926</td><td>206.043</td><td>-0.40294</td><td>Cet</td><td>66.184423</td><td>20.9293001</td><td>-13.6555965</td><td>--</td><td>--</td><td>150.753628</td><td>-64.926613</td><td>--</td><td>0.0</td><td>--</td><td>--</td><td>--</td><td>--</td><td>--</td><td>--</td><td>--</td><td>--</td><td>--</td><td>--</td><td>--</td><td>--</td><td>188.748</td><td>--</td><td>0.5779</td><td>21.0818</td><td>-13.664</td></tr>\n",
              "<tr><td>Eris (system barycenter) (201361</td><td>2010-Jan-19 20:13:36</td><td>2455216.342777778</td><td></td><td></td><td>24.30468</td><td>-4.55218</td><td>24.43571</td><td>-4.5007</td><td>0.128737</td><td>0.526842</td><td>--</td><td>--</td><td>--</td><td>--</td><td>279090.247</td><td>56602.092</td><td>91.701</td><td>--</td><td>999</td><td>--</td><td>18.755</td><td>--</td><td>99.99747</td><td>--</td><td>293503.9</td><td>*</td><td>--</td><td>--</td><td>--</td><td>--</td><td>--</td><td>250.09</td><td>0.0</td><td>--</td><td>--</td><td>21.38</td><td>-13.6721</td><td>96.67391291019</td><td>-0.2647578</td><td>96.8140543765016</td><td>28.8154489</td><td>805.17793794</td><td>2.3041179</td><td>30.6954502</td><td>81.5289</td><td>/T</td><td>0.5773</td><td>36.7</td><td>17.4642</td><td>97.8938</td><td>70.171</td><td>206.043</td><td>-0.40377</td><td>Cet</td><td>66.184451</td><td>20.9312906</td><td>-13.6526497</td><td>--</td><td>--</td><td>150.751692</td><td>-64.923196</td><td>--</td><td>0.0</td><td>--</td><td>--</td><td>--</td><td>--</td><td>--</td><td>--</td><td>--</td><td>--</td><td>--</td><td>--</td><td>--</td><td>--</td><td>188.7493</td><td>--</td><td>0.5765</td><td>21.0832</td><td>-13.6623</td></tr>\n",
              "<tr><td>Eris (system barycenter) (201361</td><td>2010-Jan-20 20:13:36</td><td>2455217.342777778</td><td></td><td></td><td>24.30563</td><td>-4.54864</td><td>24.43657</td><td>-4.49719</td><td>0.153988</td><td>0.535671</td><td>--</td><td>--</td><td>--</td><td>--</td><td>275896.785</td><td>55834.782</td><td>91.372</td><td>--</td><td>999</td><td>--</td><td>18.756</td><td>--</td><td>99.99748</td><td>--</td><td>289952.5</td><td>*</td><td>--</td><td>--</td><td>--</td><td>--</td><td>--</td><td>250.33</td><td>0.0</td><td>--</td><td>--</td><td>21.3806</td><td>-13.6715</td><td>96.67376000425</td><td>-0.2647931</td><td>96.830672866812</td><td>28.7313586</td><td>805.31614971</td><td>2.3041341</td><td>30.7196315</td><td>80.5424</td><td>/T</td><td>0.5759</td><td>27.3</td><td>25.3116</td><td>98.8817</td><td>70.417</td><td>206.043</td><td>-0.40448</td><td>Cet</td><td>66.18448</td><td>20.933462</td><td>-13.6497101</td><td>--</td><td>--</td><td>150.750059</td><td>-64.919654</td><td>--</td><td>0.0</td><td>--</td><td>--</td><td>--</td><td>--</td><td>--</td><td>--</td><td>--</td><td>--</td><td>--</td><td>--</td><td>--</td><td>--</td><td>188.7506</td><td>--</td><td>0.575</td><td>21.0846</td><td>-13.6606</td></tr>\n",
              "<tr><td>...</td><td>...</td><td>...</td><td>...</td><td>...</td><td>...</td><td>...</td><td>...</td><td>...</td><td>...</td><td>...</td><td>...</td><td>...</td><td>...</td><td>...</td><td>...</td><td>...</td><td>...</td><td>...</td><td>...</td><td>...</td><td>...</td><td>...</td><td>...</td><td>...</td><td>...</td><td>...</td><td>...</td><td>...</td><td>...</td><td>...</td><td>...</td><td>...</td><td>...</td><td>...</td><td>...</td><td>...</td><td>...</td><td>...</td><td>...</td><td>...</td><td>...</td><td>...</td><td>...</td><td>...</td><td>...</td><td>...</td><td>...</td><td>...</td><td>...</td><td>...</td><td>...</td><td>...</td><td>...</td><td>...</td><td>...</td><td>...</td><td>...</td><td>...</td><td>...</td><td>...</td><td>...</td><td>...</td><td>...</td><td>...</td><td>...</td><td>...</td><td>...</td><td>...</td><td>...</td><td>...</td><td>...</td><td>...</td><td>...</td><td>...</td><td>...</td><td>...</td><td>...</td><td>...</td><td>...</td><td>...</td></tr>\n",
              "<tr><td>Eris (system barycenter) (201361</td><td>2014-Dec-22 20:13:36</td><td>2457014.342777778</td><td></td><td></td><td>24.97986</td><td>-3.33363</td><td>25.17311</td><td>-3.25913</td><td>-0.5892</td><td>0.199404</td><td>--</td><td>--</td><td>--</td><td>--</td><td>377195.376</td><td>72620.626</td><td>103.275</td><td>--</td><td>999</td><td>--</td><td>18.727</td><td>--</td><td>99.99772</td><td>--</td><td>398372.6</td><td>*</td><td>--</td><td>--</td><td>--</td><td>--</td><td>--</td><td>243.33</td><td>0.0</td><td>--</td><td>--</td><td>22.453</td><td>-12.7233</td><td>96.36396998283</td><td>-0.325053</td><td>96.0126287897776</td><td>27.2351801</td><td>798.51268458</td><td>2.3070204</td><td>29.7740718</td><td>110.6591</td><td>/T</td><td>0.545</td><td>101.6</td><td>1.0189</td><td>68.7959</td><td>63.404</td><td>205.84</td><td>-0.33193</td><td>Cet</td><td>67.183672</td><td>22.1069939</td><td>-12.770929</td><td>--</td><td>--</td><td>150.991932</td><td>-63.532424</td><td>--</td><td>0.0</td><td>--</td><td>--</td><td>--</td><td>--</td><td>--</td><td>--</td><td>--</td><td>--</td><td>--</td><td>--</td><td>--</td><td>--</td><td>190.5421</td><td>--</td><td>0.547</td><td>22.1734</td><td>-12.7473</td></tr>\n",
              "<tr><td>Eris (system barycenter) (201361</td><td>2014-Dec-23 20:13:36</td><td>2457015.342777778</td><td></td><td></td><td>24.97601</td><td>-3.33226</td><td>25.16923</td><td>-3.25778</td><td>-0.56584</td><td>0.210826</td><td>--</td><td>--</td><td>--</td><td>--</td><td>373545.332</td><td>72586.456</td><td>102.743</td><td>--</td><td>999</td><td>--</td><td>18.728</td><td>--</td><td>99.99769</td><td>--</td><td>394797.2</td><td>*</td><td>--</td><td>--</td><td>--</td><td>--</td><td>--</td><td>243.58</td><td>0.0</td><td>--</td><td>--</td><td>22.4536</td><td>-12.7228</td><td>96.36378226098</td><td>-0.3250708</td><td>96.0284118806891</td><td>27.4186703</td><td>798.64394854</td><td>2.307018</td><td>29.8031805</td><td>109.6659</td><td>/T</td><td>0.5486</td><td>87.4</td><td>4.5238</td><td>69.7856</td><td>63.661</td><td>205.84</td><td>-0.33599</td><td>Cet</td><td>67.1837</td><td>22.1038174</td><td>-12.7682448</td><td>--</td><td>--</td><td>150.982669</td><td>-63.532874</td><td>--</td><td>0.0</td><td>--</td><td>--</td><td>--</td><td>--</td><td>--</td><td>--</td><td>--</td><td>--</td><td>--</td><td>--</td><td>--</td><td>--</td><td>190.5425</td><td>--</td><td>0.5504</td><td>22.1721</td><td>-12.7456</td></tr>\n",
              "<tr><td>Eris (system barycenter) (201361</td><td>2014-Dec-24 20:13:36</td><td>2457016.342777778</td><td></td><td></td><td>24.97231</td><td>-3.33082</td><td>25.1655</td><td>-3.25635</td><td>-0.5423</td><td>0.222202</td><td>--</td><td>--</td><td>--</td><td>--</td><td>369917.62</td><td>72524.34</td><td>102.216</td><td>--</td><td>999</td><td>--</td><td>18.728</td><td>--</td><td>99.99766</td><td>--</td><td>391220.8</td><td>*</td><td>--</td><td>--</td><td>--</td><td>--</td><td>--</td><td>243.84</td><td>0.0</td><td>--</td><td>--</td><td>22.4542</td><td>-12.7222</td><td>96.36359452891</td><td>-0.3250887</td><td>96.0442982181853</td><td>27.5927037</td><td>798.77607118</td><td>2.3070156</td><td>29.8316291</td><td>108.6724</td><td>/T</td><td>0.5519</td><td>73.1</td><td>10.6015</td><td>70.7756</td><td>63.914</td><td>205.839</td><td>-0.33994</td><td>Cet</td><td>67.183729</td><td>22.1008068</td><td>-12.7655472</td><td>--</td><td>--</td><td>150.973651</td><td>-63.53319</td><td>--</td><td>0.0</td><td>--</td><td>--</td><td>--</td><td>--</td><td>--</td><td>--</td><td>--</td><td>--</td><td>--</td><td>--</td><td>--</td><td>--</td><td>190.543</td><td>--</td><td>0.5537</td><td>22.1709</td><td>-12.744</td></tr>\n",
              "<tr><td>Eris (system barycenter) (201361</td><td>2014-Dec-25 20:13:36</td><td>2457017.342777778</td><td></td><td></td><td>24.96876</td><td>-3.32931</td><td>25.16191</td><td>-3.25485</td><td>-0.51859</td><td>0.233525</td><td>--</td><td>--</td><td>--</td><td>--</td><td>366312.07</td><td>72434.287</td><td>101.694</td><td>--</td><td>999</td><td>--</td><td>18.729</td><td>--</td><td>99.99764</td><td>--</td><td>387643.5</td><td>*</td><td>--</td><td>--</td><td>--</td><td>--</td><td>--</td><td>244.09</td><td>0.0</td><td>--</td><td>--</td><td>22.4548</td><td>-12.7217</td><td>96.36340678661</td><td>-0.3251067</td><td>96.0602823305856</td><td>27.7572586</td><td>798.90900699</td><td>2.3070131</td><td>29.8594915</td><td>107.6787</td><td>/T</td><td>0.5552</td><td>58.9</td><td>18.8692</td><td>71.7661</td><td>64.165</td><td>205.839</td><td>-0.34379</td><td>Cet</td><td>67.183757</td><td>22.09796</td><td>-12.762837</td><td>--</td><td>--</td><td>150.96488</td><td>-63.533369</td><td>--</td><td>0.0</td><td>--</td><td>--</td><td>--</td><td>--</td><td>--</td><td>--</td><td>--</td><td>--</td><td>--</td><td>--</td><td>--</td><td>--</td><td>190.5434</td><td>--</td><td>0.5569</td><td>22.1698</td><td>-12.7424</td></tr>\n",
              "<tr><td>Eris (system barycenter) (201361</td><td>2014-Dec-26 20:13:36</td><td>2457018.342777778</td><td></td><td></td><td>24.96538</td><td>-3.32772</td><td>25.15847</td><td>-3.25328</td><td>-0.49472</td><td>0.244791</td><td>--</td><td>--</td><td>--</td><td>--</td><td>362728.464</td><td>72316.325</td><td>101.178</td><td>--</td><td>999</td><td>--</td><td>18.73</td><td>--</td><td>99.99761</td><td>--</td><td>384065.5</td><td>*</td><td>--</td><td>--</td><td>--</td><td>--</td><td>--</td><td>244.34</td><td>0.0</td><td>--</td><td>--</td><td>22.4554</td><td>-12.7212</td><td>96.36321903405</td><td>-0.3251246</td><td>96.0763587544994</td><td>27.9123831</td><td>799.04271053</td><td>2.3070107</td><td>29.8868873</td><td>106.6849</td><td>/T</td><td>0.5582</td><td>44.9</td><td>28.7735</td><td>72.7569</td><td>64.412</td><td>205.838</td><td>-0.34752</td><td>Cet</td><td>67.183786</td><td>22.0952792</td><td>-12.760115</td><td>--</td><td>--</td><td>150.956361</td><td>-63.533414</td><td>--</td><td>0.0</td><td>--</td><td>--</td><td>--</td><td>--</td><td>--</td><td>--</td><td>--</td><td>--</td><td>--</td><td>--</td><td>--</td><td>--</td><td>190.5438</td><td>--</td><td>0.5598</td><td>22.1688</td><td>-12.7408</td></tr>\n",
              "<tr><td>Eris (system barycenter) (201361</td><td>2014-Dec-27 20:13:36</td><td>2457019.342777778</td><td></td><td></td><td>24.96215</td><td>-3.32605</td><td>25.15519</td><td>-3.25164</td><td>-0.47072</td><td>0.255994</td><td>--</td><td>--</td><td>--</td><td>--</td><td>359166.538</td><td>72170.502</td><td>100.668</td><td>--</td><td>999</td><td>--</td><td>18.73</td><td>--</td><td>99.99759</td><td>--</td><td>380487.0</td><td>*</td><td>--</td><td>--</td><td>--</td><td>--</td><td>--</td><td>244.59</td><td>0.0</td><td>--</td><td>--</td><td>22.456</td><td>-12.7207</td><td>96.36303127119</td><td>-0.3251427</td><td>96.0925220704458</td><td>28.0581778</td><td>799.17713673</td><td>2.3070083</td><td>29.9139627</td><td>105.6908</td><td>/T</td><td>0.5611</td><td>31.5</td><td>39.6743</td><td>73.748</td><td>64.657</td><td>205.837</td><td>-0.35115</td><td>Cet</td><td>67.183815</td><td>22.0927698</td><td>-12.7573818</td><td>--</td><td>--</td><td>150.948094</td><td>-63.533323</td><td>--</td><td>0.0</td><td>--</td><td>--</td><td>--</td><td>--</td><td>--</td><td>--</td><td>--</td><td>--</td><td>--</td><td>--</td><td>--</td><td>--</td><td>190.5443</td><td>--</td><td>0.5626</td><td>22.1679</td><td>-12.7392</td></tr>\n",
              "<tr><td>Eris (system barycenter) (201361</td><td>2014-Dec-28 20:13:36</td><td>2457020.342777778</td><td></td><td></td><td>24.95909</td><td>-3.32431</td><td>25.15206</td><td>-3.24993</td><td>-0.4466</td><td>0.267132</td><td>--</td><td>--</td><td>--</td><td>--</td><td>355625.975</td><td>71996.892</td><td>100.164</td><td>--</td><td>999</td><td>--</td><td>18.731</td><td>--</td><td>99.99757</td><td>--</td><td>376908.2</td><td>*</td><td>--</td><td>--</td><td>--</td><td>--</td><td>--</td><td>244.83</td><td>0.0</td><td>--</td><td>--</td><td>22.4566</td><td>-12.7201</td><td>96.36284349799</td><td>-0.3251607</td><td>96.1087669266872</td><td>28.194773</td><td>799.31224108</td><td>2.3070059</td><td>29.9408714</td><td>104.6967</td><td>/T</td><td>0.5639</td><td>19.4</td><td>50.9233</td><td>74.7394</td><td>64.9</td><td>205.837</td><td>-0.35466</td><td>Cet</td><td>67.183843</td><td>22.0904391</td><td>-12.7546382</td><td>--</td><td>--</td><td>150.940083</td><td>-63.533097</td><td>--</td><td>0.0</td><td>--</td><td>--</td><td>--</td><td>--</td><td>--</td><td>--</td><td>--</td><td>--</td><td>--</td><td>--</td><td>--</td><td>--</td><td>190.5447</td><td>--</td><td>0.5653</td><td>22.167</td><td>-12.7375</td></tr>\n",
              "<tr><td>Eris (system barycenter) (201361</td><td>2014-Dec-29 20:13:36</td><td>2457021.342777778</td><td></td><td></td><td>24.95619</td><td>-3.32249</td><td>25.14909</td><td>-3.24815</td><td>-0.42237</td><td>0.278203</td><td>--</td><td>--</td><td>--</td><td>--</td><td>352106.411</td><td>71795.587</td><td>99.666</td><td>--</td><td>999</td><td>--</td><td>18.732</td><td>--</td><td>99.99755</td><td>--</td><td>373329.0</td><td>*</td><td>--</td><td>--</td><td>--</td><td>--</td><td>--</td><td>245.07</td><td>0.0</td><td>--</td><td>--</td><td>22.4572</td><td>-12.7196</td><td>96.36265571444</td><td>-0.3251788</td><td>96.1250880506917</td><td>28.3223096</td><td>799.44797973</td><td>2.3070034</td><td>29.9677592</td><td>103.7025</td><td>/T</td><td>0.5664</td><td>12.2</td><td>61.9193</td><td>75.7311</td><td>65.14</td><td>205.836</td><td>-0.35806</td><td>Cet</td><td>67.183872</td><td>22.0882937</td><td>-12.7518849</td><td>--</td><td>--</td><td>150.93233</td><td>-63.532736</td><td>--</td><td>0.0</td><td>--</td><td>--</td><td>--</td><td>--</td><td>--</td><td>--</td><td>--</td><td>--</td><td>--</td><td>--</td><td>--</td><td>--</td><td>190.5452</td><td>--</td><td>0.5677</td><td>22.1663</td><td>-12.7359</td></tr>\n",
              "<tr><td>Eris (system barycenter) (201361</td><td>2014-Dec-30 20:13:36</td><td>2457022.342777778</td><td></td><td></td><td>24.95345</td><td>-3.3206</td><td>25.14629</td><td>-3.24629</td><td>-0.39804</td><td>0.289205</td><td>--</td><td>--</td><td>--</td><td>--</td><td>348607.44</td><td>71566.695</td><td>99.174</td><td>--</td><td>999</td><td>--</td><td>18.732</td><td>--</td><td>99.99753</td><td>--</td><td>369749.7</td><td>*</td><td>--</td><td>--</td><td>--</td><td>--</td><td>--</td><td>245.31</td><td>0.0</td><td>--</td><td>--</td><td>22.4578</td><td>-12.7191</td><td>96.3624679205</td><td>-0.325197</td><td>96.1414802504107</td><td>28.4409234</td><td>799.5843095</td><td>2.307001</td><td>29.9947551</td><td>102.7083</td><td>/T</td><td>0.5688</td><td>17.1</td><td>72.1384</td><td>76.7229</td><td>65.378</td><td>205.835</td><td>-0.36135</td><td>Cet</td><td>67.1839</td><td>22.0863388</td><td>-12.7491226</td><td>--</td><td>--</td><td>150.924837</td><td>-63.532239</td><td>--</td><td>0.0</td><td>--</td><td>--</td><td>--</td><td>--</td><td>--</td><td>--</td><td>--</td><td>--</td><td>--</td><td>--</td><td>--</td><td>--</td><td>190.5456</td><td>--</td><td>0.57</td><td>22.1656</td><td>-12.7342</td></tr>\n",
              "<tr><td>Eris (system barycenter) (201361</td><td>2014-Dec-31 20:13:36</td><td>2457023.342777778</td><td></td><td></td><td>24.95087</td><td>-3.31864</td><td>25.14367</td><td>-3.24435</td><td>-0.3736</td><td>0.300137</td><td>--</td><td>--</td><td>--</td><td>--</td><td>345128.618</td><td>71310.338</td><td>98.688</td><td>--</td><td>999</td><td>--</td><td>18.733</td><td>--</td><td>99.99751</td><td>--</td><td>366170.4</td><td>*</td><td>--</td><td>--</td><td>--</td><td>--</td><td>--</td><td>245.55</td><td>0.0</td><td>--</td><td>--</td><td>22.4584</td><td>-12.7185</td><td>96.36228011614</td><td>-0.3252152</td><td>96.1579384084265</td><td>28.5507358</td><td>799.72118783</td><td>2.3069985</td><td>30.0219656</td><td>101.714</td><td>/T</td><td>0.571</td><td>28.0</td><td>81.1463</td><td>77.715</td><td>65.614</td><td>205.835</td><td>-0.36452</td><td>Cet</td><td>67.183929</td><td>22.0845768</td><td>-12.746352</td><td>--</td><td>--</td><td>150.917605</td><td>-63.531608</td><td>--</td><td>0.0</td><td>--</td><td>--</td><td>--</td><td>--</td><td>--</td><td>--</td><td>--</td><td>--</td><td>--</td><td>--</td><td>--</td><td>--</td><td>190.5461</td><td>--</td><td>0.5722</td><td>22.1651</td><td>-12.7326</td></tr>\n",
              "</table></div>"
            ],
            "text/plain": [
              "<Table masked=True length=1815>\n",
              "           targetname                datetime_str     ...  PABLon  PABLat \n",
              "              ---                        ---          ...   deg     deg   \n",
              "             str32                      str20         ... float64 float64 \n",
              "-------------------------------- -------------------- ... ------- --------\n",
              "Eris (system barycenter) (201361 2010-Jan-12 20:13:36 ... 21.0758 -13.6745\n",
              "Eris (system barycenter) (201361 2010-Jan-13 20:13:36 ... 21.0765 -13.6727\n",
              "Eris (system barycenter) (201361 2010-Jan-14 20:13:36 ... 21.0774  -13.671\n",
              "Eris (system barycenter) (201361 2010-Jan-15 20:13:36 ... 21.0784 -13.6692\n",
              "Eris (system barycenter) (201361 2010-Jan-16 20:13:36 ... 21.0794 -13.6675\n",
              "Eris (system barycenter) (201361 2010-Jan-17 20:13:36 ... 21.0806 -13.6658\n",
              "Eris (system barycenter) (201361 2010-Jan-18 20:13:36 ... 21.0818  -13.664\n",
              "Eris (system barycenter) (201361 2010-Jan-19 20:13:36 ... 21.0832 -13.6623\n",
              "Eris (system barycenter) (201361 2010-Jan-20 20:13:36 ... 21.0846 -13.6606\n",
              "                             ...                  ... ...     ...      ...\n",
              "Eris (system barycenter) (201361 2014-Dec-22 20:13:36 ... 22.1734 -12.7473\n",
              "Eris (system barycenter) (201361 2014-Dec-23 20:13:36 ... 22.1721 -12.7456\n",
              "Eris (system barycenter) (201361 2014-Dec-24 20:13:36 ... 22.1709  -12.744\n",
              "Eris (system barycenter) (201361 2014-Dec-25 20:13:36 ... 22.1698 -12.7424\n",
              "Eris (system barycenter) (201361 2014-Dec-26 20:13:36 ... 22.1688 -12.7408\n",
              "Eris (system barycenter) (201361 2014-Dec-27 20:13:36 ... 22.1679 -12.7392\n",
              "Eris (system barycenter) (201361 2014-Dec-28 20:13:36 ...  22.167 -12.7375\n",
              "Eris (system barycenter) (201361 2014-Dec-29 20:13:36 ... 22.1663 -12.7359\n",
              "Eris (system barycenter) (201361 2014-Dec-30 20:13:36 ... 22.1656 -12.7342\n",
              "Eris (system barycenter) (201361 2014-Dec-31 20:13:36 ... 22.1651 -12.7326"
            ]
          },
          "execution_count": 12,
          "metadata": {},
          "output_type": "execute_result"
        }
      ],
      "source": [
        "#O output desse script é um data frame. Uma tabela com as informações da efeméride diretamente vinculada à variável 'efem' que criamos\n",
        "efem.fetch_ephemerides_dataframe()"
      ]
    },
    {
      "cell_type": "markdown",
      "metadata": {
        "id": "RKtHPTv8CC1n"
      },
      "source": [
        "- calcular a correção de tempo (tau) entre um observador e um alvo celeste considerando a relatividade geral, utilizando as rotinas fornecidas pelo SPICE toolkit através do \"spiceypy\""
      ]
    },
    {
      "cell_type": "code",
      "execution_count": 13,
      "metadata": {
        "id": "lfirPdiV3NKM"
      },
      "outputs": [],
      "source": [
        "def TAU(etobs, targ, tp):\n",
        "    #spkez: Rotina do SPICE para obter a posição e velocidade de um corpo em relação a outro.\n",
        "    #399: ID da Terra.\n",
        "    #10: ID do Sol.\n",
        "\n",
        "    eb, ltim = spkez(399, etobs, 'J2000', 'NONE', 0)\n",
        "    sb, ltim = spkez(10, etobs, 'J2000', 'NONE', 0)\n",
        "\n",
        "    tau = 0\n",
        "    cont = 0\n",
        "    aux = 1\n",
        "\n",
        "    while np.abs(tau - aux) > 1e-14:\n",
        "    #while cont < 5:\n",
        "      sbtau, ltim = spkez(10, etobs-tau, 'J2000', 'NONE', 0)\n",
        "      qb, ltim = spkez(targ, etobs-tau, 'J2000', 'NONE', 0)\n",
        "\n",
        "      p = qb[:3] - (eb[:3]+tp)\n",
        "      e = (eb[:3]+tp) - sb[:3]\n",
        "      q = qb[:3] - sbtau[:3]\n",
        "\n",
        "      pn = np.linalg.norm(p)\n",
        "      en = np.linalg.norm(e)\n",
        "      qn = np.linalg.norm(q)\n",
        "\n",
        "      aux = tau\n",
        "      tau = (pn + (2*(G*M)/c**2)*np.log((en+pn+qn)/(en-pn+qn)))/c\n",
        "      cont +=1\n",
        "\n",
        "    return tau, sbtau\n",
        "\n",
        "    #tau: Correção de tempo final.\n",
        "    #sbtau: Posição do Sol no tempo corrigido por tau."
      ]
    },
    {
      "cell_type": "markdown",
      "metadata": {
        "id": "ZCpvGyAoCOmw"
      },
      "source": [
        "Abaixo temos o código principal. Ele que usará as funções criadas anteriormente para fazer o calculo da posição e velocidade do objeto celeste em uma data específica considerando diversas correções astronômicas como a deflexão da luz pelo Sol e a aberração diurna (causada pela velocidade do observador na superfície da Terra em rotação)."
      ]
    },
    {
      "cell_type": "markdown",
      "metadata": {},
      "source": [
        "No código está sendo aplicado a correção pela **Deflexão** a partir de $\\vec{p_1} = \\vec{p} + (2 G M_{sol} / c^2 E)((\\vec{p}\\vec{q})\\vec{e} - (\\vec{e}\\vec{p})\\vec{q})/(1 + \\vec{q}\\vec{e})$, após o cáluclo do tempo luz ($\\tau$) que inclui o efeito gravitacional de retardamento devido ao sol.\n",
        "\n",
        "Após isso é aplicado a correção pela **Aberração** pela formulação relativística, que é dada considerando a direção do objeto que se move numa velocidade $v$ (que segundo as relaçõs de Lorentz $\\gamma = (1 - v^2)^{-1/2}$). Temos que a velocidade da luz observada (pós aberração e deflexão) é:\n",
        "\n",
        "$\\vec{U} = -c \\cdot \\vec{p}$\n",
        "\n",
        "$\\vec{U} = \\frac{1}{(1 - \\frac{\\vec{u} \\vec{v}}{c^2})} [\\gamma^{-1} \\vec{u} - \\vec{v} + \\frac{\\vec{u} \\cdot \\vec{v} \\cdot \\vec{v}}{(\\gamma^{-1} + 1) c^2}]$\n",
        "\n",
        "Logo:\n",
        "\n",
        "$-c \\vec{p_2} = \\frac{1}{(1 + \\frac{\\vec{p} \\vec{v}}{c})}[-c\\vec{p} \\gamma^{-1} + (1 + \\frac{\\gamma}{1 + \\gamma} \\frac{c \\vec{p}\\vec{v}\\vec{v}}{c^3})]$\n",
        "\n",
        "$\\vec{p_2} = \\frac{1}{1 + \\vec{p}\\vec{v}/c}[\\gamma^{-1} \\vec{p} + (1 + \\frac{\\gamma}{\\gamma + 1} \\frac{\\vec{p}\\vec{v}}{c})\\frac{\\vec{v}}{c}]$\n",
        "\n",
        "As correções feitas nesse código seguem essa ordem pois ao longo do processo o referencial muda (ICRS para geocentro, geocentro para topocentro), e é importante manter um referencial comum."
      ]
    },
    {
      "cell_type": "code",
      "execution_count": 54,
      "metadata": {
        "id": "EbDer53iNPlS"
      },
      "outputs": [],
      "source": [
        "#Reorganizei o código para ficar mais user friendly e mais organizado\n",
        "\n",
        "getcontext().prec = 50  # Tentativa de aumentar a precisão dos cálculos\n",
        "\n",
        "# Constantes\n",
        "AU = 149597870.7  # Unidade Astronômica (km)\n",
        "D2S = 86400.0  # Segundos em um dia\n",
        "F = 4.84813681109536e-9\n",
        "K = 0.210949526569699\n",
        "DPI = np.pi\n",
        "C = 299792.458  # Velocidade da luz (km/s)\n",
        "G = 6.67430e-20  # Constante gravitacional em km^3 x kg^-1 x s^-2\n",
        "M = 1.98847e+30  # Massa do Sol em kg\n",
        "J2000 = 2451545.0  # Data Juliana para J2000\n",
        "\n",
        "def convert_to_et(date):\n",
        "    \"\"\"\n",
        "    Converte uma data em formato legível para o tempo ephemeris (ET).\n",
        "    \"\"\"\n",
        "    et = str2et(date)\n",
        "    return et\n",
        "\n",
        "def alpha_decimal_hours_to_hms(decimal_hours):\n",
        "      decimal_hours = (decimal_hours*180./np.pi) / 15.\n",
        "      hours = int(decimal_hours)\n",
        "      minutes = int((decimal_hours - hours) * 60.)\n",
        "      seconds = (decimal_hours - hours - minutes / 60.) * 3600.\n",
        "      int_sec = int(seconds)\n",
        "      frc_sec = int(round(100000.*(seconds-int_sec),0))\n",
        "      return hours, minutes, int_sec, frc_sec\n",
        "\n",
        "def delta_decimal_hours_to_hms(decimal_hours):\n",
        "      sinal = '+'\n",
        "      if (decimal_hours < 0.):\n",
        "        decimal_hours = abs(decimal_hours)\n",
        "        sinal = '-'\n",
        "      decimal_hours = (decimal_hours*180./np.pi)\n",
        "      hours = int(decimal_hours)\n",
        "      minutes = int((decimal_hours - hours) * 60.)\n",
        "      seconds = (decimal_hours - hours - minutes / 60.) * 3600.\n",
        "      int_sec = int(seconds)\n",
        "      frc_sec = int(round(10000.*(seconds-int_sec),0))\n",
        "      return sinal,hours, minutes, int_sec, frc_sec\n",
        "\n",
        "def position_predict(date, leap, de, eph, glon, glat, ht):\n",
        "    \"\"\"\n",
        "    Função principal para calcular a posição e velocidade do corpo celeste.\n",
        "    \"\"\"\n",
        "    furnsh(leap)\n",
        "    furnsh(de)\n",
        "    furnsh(eph)\n",
        "\n",
        "    etobs = convert_to_et(date)  \n",
        "    # Converte a data de entrada para tempo ephemeris (ET)\n",
        "\n",
        "    # Cálculo do Tempo Sideral\n",
        "    jdtt = float(etobs / D2S) + J2000\n",
        "    jdutc = jdtt - (+32.184 + 37.0) / D2S\n",
        "\n",
        "    tta = J2000\n",
        "    ttb = jdtt - tta\n",
        "    uta = J2000\n",
        "    utb = jdutc - uta\n",
        "\n",
        "    gast =  erfa.gst06a(uta, utb, tta, ttb)  \n",
        "    # Calcular o tempo sideral aparente em Greenwich (GAST)\n",
        "    last = (gast + glon * DPI / 180.0) % (2.0 * DPI)\n",
        "    if last < 0.0:\n",
        "        last += 2.0 * DPI\n",
        "    last = last * 180.0 / DPI / 15.0\n",
        "\n",
        "    gast = gast % (2.0 * DPI)\n",
        "    if gast < 0.0:\n",
        "        gast += 2.0 * DPI\n",
        "    gast = gast * 180.0 / DPI / 15.0\n",
        "\n",
        "    # Calcula a posição e velocidade da Terra no ICRF \n",
        "    # (International Celestial Reference Frame)\n",
        "    pos, vel = terra(glon, glat, ht, gast)\n",
        "    rbpn = erfa.pnm06a(tta, ttb)\n",
        "    pos_icrf = np.dot(np.linalg.inv(rbpn), pos)\n",
        "    vel_icrf = np.dot(np.linalg.inv(rbpn), vel)\n",
        "\n",
        "    SPKID = int(get_spkid(eph))  # Obtém o SPKID do arquivo de efemérides\n",
        "\n",
        "    tau, sbt = TAU(etobs, SPKID, AU * pos_icrf)\n",
        "    bb, _ = spkez(SPKID, etobs - tau, 'J2000', 'NONE', 0)\n",
        "    eb, _ = spkez(399, etobs, 'J2000', 'NONE', 0)\n",
        "    sb, _ = spkez(10, etobs, 'J2000', 'NONE', 0)\n",
        "\n",
        "    unload(leap)\n",
        "    unload(de)\n",
        "    unload(eph)\n",
        "\n",
        "    # Calcula posição astrométrica do corpo\n",
        "    pos1 = -pos_icrf * AU - eb[:3] + bb[:3]\n",
        "    vel_tot_icrf = vel_icrf * AU / D2S + eb[3:]\n",
        "\n",
        "#####Correções Astrométricas\n",
        "    # Correção pela deflexão da luz pelo Sol\n",
        "    p = pos1\n",
        "    e = eb - sb\n",
        "    q = bb - sbt\n",
        "\n",
        "    norm_p = np.linalg.norm(p)\n",
        "    pn = p / norm_p\n",
        "\n",
        "    norm_q = np.linalg.norm(q)\n",
        "    qn = q / norm_q\n",
        "\n",
        "    norm_e = np.linalg.norm(e)\n",
        "    en = e / norm_e\n",
        "\n",
        "    pq = np.dot(pn[:3], qn[:3])\n",
        "    ep = np.dot(en[:3], pn[:3])\n",
        "    qe = np.dot(qn[:3], en[:3])\n",
        "    p1 = np.zeros(3)\n",
        "\n",
        "    for i in range(3):\n",
        "        p1[i] = pn[i] + (2.0 * G * M / (C * C * norm_p)) *\n",
        "        (pq * en[i] - ep * qn[i]) / (1.0 + qe)\n",
        "\n",
        "    # Correção pela aberração\n",
        "    p2 = np.zeros(3)\n",
        "    pv = np.dot(p1, vel_tot_icrf)\n",
        "    v2 = np.dot(vel_tot_icrf, vel_tot_icrf)\n",
        "    gamma = 1 / np.sqrt(1 - v2 / (C * C))\n",
        "    for i in range(3):\n",
        "        p2[i] = 1.0 / (1.0 + pv / C) * (p1[i] / gamma +\n",
        "             (1.0 + (gamma / (1.0 + gamma)) * pv / C) * vel_tot_icrf[i] / C)\n",
        "\n",
        "    # Determinado a posição com respeito ao equador e equinócio verdadeiros\n",
        "    p3 = np.dot(rbpn, p2)\n",
        "\n",
        "    # Mudança para\n",
        "    al = np.arctan2(p3[1], p3[0])\n",
        "    de = np.arctan2(p3[2], np.sqrt(p3[0] * p3[0] + p3[1] * p3[1]))\n",
        "\n",
        "    # Calcula a posição astrométrica final do corpo celeste considerando todas \n",
        "    # as correções anteriores\n",
        "    # Conversão de Coordenadas para Horas, Minutos e Segundos\n",
        "    hours, minutes, int_sec, frc_sec = alpha_decimal_hours_to_hms(al)\n",
        "    alpha = f\"{hours:02}h {minutes:02}m {int_sec:02}.{frc_sec:05}s\"\n",
        "\n",
        "    sinal, hours, minutes, int_sec, frc_sec = delta_decimal_hours_to_hms(de)\n",
        "    delta = f\"{sinal}{hours:02}° {minutes:02}' {int_sec:02}.{frc_sec:04}\"\n",
        "\n",
        "    return alpha, delta\n",
        "\n",
        "def get_spkid(eph_path):\n",
        "    \"\"\"\n",
        "    Função auxiliar para obter o SPKID a partir do arquivo de efemérides.\n",
        "    \"\"\"\n",
        "    import os\n",
        "    os.system(f\"./commnt -r {eph_path} | grep 'Target SPK ID   :' | awk '{{print $5}}' > spkid\")\n",
        "    with open('spkid', 'r') as file:\n",
        "        SPKID = file.read().strip()\n",
        "    return SPKID\n"
      ]
    },
    {
      "cell_type": "code",
      "execution_count": 55,
      "metadata": {
        "colab": {
          "base_uri": "https://localhost:8080/"
        },
        "id": "NXX6UCy_Ou8E",
        "outputId": "452766f7-3c78-464f-e7a7-9007587c3506"
      },
      "outputs": [
        {
          "name": "stdout",
          "output_type": "stream",
          "text": [
            "alpha: 01h 50m 59.28935s\n",
            "delta: +00° 36' 22.0426\n"
          ]
        }
      ],
      "source": [
        "# Utilizando a função position_predict para calcular a posição de Eris\n",
        "if __name__ == \"__main__\":\n",
        "    date = \"2028-OCT-07 03:00:59.884\"\n",
        "    leap = 'naif0012.tls'\n",
        "    de = 'de440.bsp'\n",
        "    eph = path_eris\n",
        "    glon = 314.4173\n",
        "    glat = -22.5354318\n",
        "    ht = 1817.54\n",
        "\n",
        "    alpha, delta = position_predict(date, leap, de, eph, glon, glat, ht)\n",
        "    print(f\"alpha: {alpha}\")\n",
        "    print(f\"delta: {delta}\")"
      ]
    },
    {
      "cell_type": "code",
      "execution_count": 1,
      "metadata": {
        "colab": {
          "base_uri": "https://localhost:8080/"
        },
        "id": "SvsUBU8ZGfwm",
        "outputId": "a1d0a406-40df-4fbd-a66a-603b195288c7"
      },
      "outputs": [
        {
          "name": "stderr",
          "output_type": "stream",
          "text": [
            "[NbConvertApp] Converting notebook TrabalhoPosicao_ThiagoLaidler.ipynb to webpdf\n",
            "[NbConvertApp] Building PDF\n",
            "[NbConvertApp] PDF successfully created\n",
            "[NbConvertApp] Writing 170169 bytes to TrabalhoPosicao_ThiagoLaidler.pdf\n"
          ]
        }
      ],
      "source": [
        "######## Conversor para PDF #################\n",
        "!jupyter nbconvert --to webpdf --allow-chromium-download TrabalhoPosicao_ThiagoLaidler.ipynb"
      ]
    },
    {
      "cell_type": "code",
      "execution_count": null,
      "metadata": {},
      "outputs": [],
      "source": []
    }
  ],
  "metadata": {
    "colab": {
      "provenance": []
    },
    "kernelspec": {
      "display_name": "Python 3",
      "name": "python3"
    },
    "language_info": {
      "codemirror_mode": {
        "name": "ipython",
        "version": 3
      },
      "file_extension": ".py",
      "mimetype": "text/x-python",
      "name": "python",
      "nbconvert_exporter": "python",
      "pygments_lexer": "ipython3",
      "version": "3.12.3"
    }
  },
  "nbformat": 4,
  "nbformat_minor": 0
}
